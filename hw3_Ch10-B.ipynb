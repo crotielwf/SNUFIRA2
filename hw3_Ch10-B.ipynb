{
 "cells": [
  {
   "cell_type": "markdown",
   "metadata": {},
   "source": [
    "# (Ch 10-B) Python Looping and Matrix Practice with Sophistication"
   ]
  },
  {
   "cell_type": "markdown",
   "metadata": {},
   "source": [
    "## 1번 문제.\n",
    "Write a function f1(n) that prints the following triangle.  \n",
    ">*f1(5)*  \n",
    ">1  \n",
    ">1 2  \n",
    ">1 2 3  "
   ]
  },
  {
   "cell_type": "code",
   "execution_count": 21,
   "metadata": {},
   "outputs": [],
   "source": [
    "def f1(n):\n",
    "    for i in range(1,n+1):\n",
    "        print(*list(range(1,i+1)))"
   ]
  },
  {
   "cell_type": "code",
   "execution_count": 22,
   "metadata": {},
   "outputs": [
    {
     "name": "stdout",
     "output_type": "stream",
     "text": [
      "1\n",
      "1 2\n",
      "1 2 3\n",
      "1 2 3 4\n",
      "1 2 3 4 5\n"
     ]
    }
   ],
   "source": [
    "f1(5)"
   ]
  },
  {
   "cell_type": "markdown",
   "metadata": {},
   "source": [
    "## 2번문제\n",
    "Write a function f2(n) that prints the following triangle.\n",
    ">*f2(3)*  \n",
    ">1  \n",
    ">2 3  \n",
    ">4 5 6  "
   ]
  },
  {
   "cell_type": "code",
   "execution_count": 23,
   "metadata": {},
   "outputs": [],
   "source": [
    "def f2(n):\n",
    "    for i in range(1,n+1):\n",
    "        print(*list(range(int((i-1)*i/2+1), int(i*(i+1)/2+1))))"
   ]
  },
  {
   "cell_type": "code",
   "execution_count": 24,
   "metadata": {},
   "outputs": [
    {
     "name": "stdout",
     "output_type": "stream",
     "text": [
      "1\n",
      "2 3\n",
      "4 5 6\n"
     ]
    }
   ],
   "source": [
    "f2(3)"
   ]
  },
  {
   "cell_type": "markdown",
   "metadata": {},
   "source": [
    "## 3번문제\n",
    "Write a function f3(n) that prints the following triangle.\n",
    ">*f3(3)*  \n",
    ">1  \n",
    ">2 3  \n",
    ">4 5 6  \n",
    ">2 3  \n",
    ">1"
   ]
  },
  {
   "cell_type": "code",
   "execution_count": 25,
   "metadata": {
    "scrolled": true
   },
   "outputs": [],
   "source": [
    "def f3(n):\n",
    "    for i in range(1,n+1):\n",
    "        print(*list(range(int((i-1)*i/2+1), int(i*(i+1)/2+1))))\n",
    "    for i in range(n-1,0,-1):\n",
    "        print(*list(range(int((i-1)*i/2+1), int(i*(i+1)/2+1))))"
   ]
  },
  {
   "cell_type": "code",
   "execution_count": 26,
   "metadata": {},
   "outputs": [
    {
     "name": "stdout",
     "output_type": "stream",
     "text": [
      "1\n",
      "2 3\n",
      "4 5 6\n",
      "2 3\n",
      "1\n"
     ]
    }
   ],
   "source": [
    "f3(3)"
   ]
  },
  {
   "cell_type": "markdown",
   "metadata": {},
   "source": [
    "## 4번 문제\n",
    "Write a function f4(n) that prints the followiing triangle."
   ]
  },
  {
   "cell_type": "code",
   "execution_count": 41,
   "metadata": {},
   "outputs": [],
   "source": [
    "def f4(n):\n",
    "    count=1\n",
    "    for i in range(1,n+1):\n",
    "        count=i\n",
    "        print(*list(range(int((count-1)*count/2+1), int(count*(count+1)/2+1))))\n",
    "    count=int(i*(i+1)/2)+1\n",
    "    for i in range(n-1,0,-1):\n",
    "        print(*list( range(count,count+i)))\n",
    "        count=count+i"
   ]
  },
  {
   "cell_type": "code",
   "execution_count": 42,
   "metadata": {
    "scrolled": true
   },
   "outputs": [
    {
     "name": "stdout",
     "output_type": "stream",
     "text": [
      "1\n",
      "2 3\n",
      "4 5 6\n",
      "7 8 9 10\n",
      "11 12 13 14 15\n",
      "16 17 18 19 20 21\n",
      "22 23 24 25 26 27 28\n",
      "29 30 31 32 33 34 35 36\n",
      "37 38 39 40 41 42 43 44 45\n",
      "46 47 48 49 50 51 52 53 54 55\n",
      "56 57 58 59 60 61 62 63 64\n",
      "65 66 67 68 69 70 71 72\n",
      "73 74 75 76 77 78 79\n",
      "80 81 82 83 84 85\n",
      "86 87 88 89 90\n",
      "91 92 93 94\n",
      "95 96 97\n",
      "98 99\n",
      "100\n"
     ]
    }
   ],
   "source": [
    "f4(10)"
   ]
  },
  {
   "cell_type": "code",
   "execution_count": 45,
   "metadata": {},
   "outputs": [
    {
     "data": {
      "text/plain": [
       "[1, 2, 3, 4, 5, 6, 7, 8, 9]"
      ]
     },
     "execution_count": 45,
     "metadata": {},
     "output_type": "execute_result"
    }
   ],
   "source": [
    "list(range(1,(3**2+1),1))"
   ]
  },
  {
   "cell_type": "markdown",
   "metadata": {},
   "source": [
    "## 5번문제\n",
    "Write a function f5(matrix) that prints the sum of every row in the matrix."
   ]
  },
  {
   "cell_type": "code",
   "execution_count": 99,
   "metadata": {},
   "outputs": [],
   "source": [
    "def f5(matrix):\n",
    "    for i in range(0,len(matrix)) :\n",
    "        print(sum(matrix[i]))"
   ]
  },
  {
   "cell_type": "code",
   "execution_count": 100,
   "metadata": {},
   "outputs": [
    {
     "name": "stdout",
     "output_type": "stream",
     "text": [
      "6\n",
      "15\n"
     ]
    }
   ],
   "source": [
    "f5([[1,2,3],[4,5,6]])"
   ]
  },
  {
   "cell_type": "markdown",
   "metadata": {},
   "source": [
    "## 6번 문제\n",
    "Write a function f6(matrix) that returns the sum of all the elements in the matrix."
   ]
  },
  {
   "cell_type": "code",
   "execution_count": 101,
   "metadata": {},
   "outputs": [],
   "source": [
    "def f6(matrix):\n",
    "    return sum(map(sum,matrix))"
   ]
  },
  {
   "cell_type": "code",
   "execution_count": 102,
   "metadata": {},
   "outputs": [
    {
     "data": {
      "text/plain": [
       "2"
      ]
     },
     "execution_count": 102,
     "metadata": {},
     "output_type": "execute_result"
    }
   ],
   "source": [
    "f6([[1,0],[0,1]])"
   ]
  },
  {
   "cell_type": "markdown",
   "metadata": {},
   "source": [
    "## 7번 문제.\n",
    "Write a function f7(mat) that returns the product of all the elements in the matrix."
   ]
  },
  {
   "cell_type": "code",
   "execution_count": 46,
   "metadata": {},
   "outputs": [],
   "source": [
    "from functools import reduce\n",
    "\n",
    "def f7(mat):\n",
    "    fact=1\n",
    "    for i in range(len(mat)): fact*=reduce(lambda x,y: x*y, mat[i])\n",
    "    return fact"
   ]
  },
  {
   "cell_type": "code",
   "execution_count": 47,
   "metadata": {},
   "outputs": [
    {
     "data": {
      "text/plain": [
       "720"
      ]
     },
     "execution_count": 47,
     "metadata": {},
     "output_type": "execute_result"
    }
   ],
   "source": [
    "f7([[1,2,3],[4,5,6]])"
   ]
  },
  {
   "cell_type": "markdown",
   "metadata": {},
   "source": [
    "## 8번 문제.\n",
    "Write a function f8(mat) that will print the odd numbers in the matrix with each row on one line."
   ]
  },
  {
   "cell_type": "code",
   "execution_count": 105,
   "metadata": {},
   "outputs": [],
   "source": [
    "def f8(mat):\n",
    "    a=[]\n",
    "    for i in range(len(mat)):\n",
    "        a.append(list(filter(lambda x: x%2==1,mat[i])))\n",
    "    \n",
    "    for i in range(len(a)):\n",
    "        for j in range(len(a[i])):\n",
    "            print(a[i][j], end=' ')\n",
    "        print('')\n",
    "    "
   ]
  },
  {
   "cell_type": "code",
   "execution_count": 106,
   "metadata": {},
   "outputs": [
    {
     "name": "stdout",
     "output_type": "stream",
     "text": [
      "1 3 \n",
      "5 \n"
     ]
    }
   ],
   "source": [
    "f8([[1,2,3],[4,5,6]])"
   ]
  },
  {
   "cell_type": "code",
   "execution_count": 107,
   "metadata": {},
   "outputs": [
    {
     "name": "stdout",
     "output_type": "stream",
     "text": [
      "1 \n",
      "\n",
      "3 \n",
      "\n"
     ]
    }
   ],
   "source": [
    "f8([[1],[2],[3],[4]])"
   ]
  },
  {
   "cell_type": "markdown",
   "metadata": {},
   "source": [
    "## 9번 문제.\n",
    "Write a function f9(mat1,mat2) that will return the sum of |mat1| and |mat2|.  \n",
    "Assume |matrix1|and |mat2| have the same dimensions."
   ]
  },
  {
   "cell_type": "code",
   "execution_count": 1,
   "metadata": {},
   "outputs": [],
   "source": [
    "def f9(mat1,mat2):\n",
    "    b=mat1\n",
    "    for i in range(len(mat1)):\n",
    "        for j in range(len(mat2[0])):\n",
    "            a=list(zip(mat1[i],mat2[i]))[j]\n",
    "            b[i][j]=sum(a)\n",
    "    return b"
   ]
  },
  {
   "cell_type": "code",
   "execution_count": 2,
   "metadata": {},
   "outputs": [
    {
     "data": {
      "text/plain": [
       "[[0, 1, 2], [3, 4, 5]]"
      ]
     },
     "execution_count": 2,
     "metadata": {},
     "output_type": "execute_result"
    }
   ],
   "source": [
    "f9([[1,2,3],[4,5,6]],[[-1,-1,-1],[-1,-1,-1]])"
   ]
  },
  {
   "cell_type": "code",
   "execution_count": 3,
   "metadata": {},
   "outputs": [
    {
     "data": {
      "text/plain": [
       "[[0, 1, 2, 5], [3, 4, 5, 5]]"
      ]
     },
     "execution_count": 3,
     "metadata": {},
     "output_type": "execute_result"
    }
   ],
   "source": [
    "f9([[1,2,3,7],[4,5,6,7]],[[-1,-1,-1,-2],[-1,-1,-1,-2]])"
   ]
  },
  {
   "cell_type": "markdown",
   "metadata": {},
   "source": [
    "## 10번 문제.\n",
    "Write a function f10(mat1,mat2) that will return the product of |mat1| and |mat2|  \n",
    "Assume len(|mat1|)==len(|mat2[0]|)  "
   ]
  },
  {
   "cell_type": "code",
   "execution_count": 59,
   "metadata": {},
   "outputs": [],
   "source": [
    "def f10(mat1,mat2):\n",
    "    cols=len(mat2[0])\n",
    "    a,b=mat1,list(zip(*mat2))\n",
    "    sums=[[0]*cols for i in range(len(mat1))]\n",
    "    for i in range(len(mat1)):\n",
    "        for j in range(len(mat2[0])):\n",
    "            c=list(map(lambda x,y: x*y, a[i],b[j]))\n",
    "            sums[i][j]=sum(c)\n",
    "    return sums"
   ]
  },
  {
   "cell_type": "code",
   "execution_count": 60,
   "metadata": {},
   "outputs": [
    {
     "data": {
      "text/plain": [
       "[[34, 40], [79, 94]]"
      ]
     },
     "execution_count": 60,
     "metadata": {},
     "output_type": "execute_result"
    }
   ],
   "source": [
    "f10([[1,2,3],[4,5,6]] ,[[3,4],[5,6],[7,8]])"
   ]
  },
  {
   "cell_type": "code",
   "execution_count": null,
   "metadata": {},
   "outputs": [],
   "source": []
  },
  {
   "cell_type": "markdown",
   "metadata": {},
   "source": [
    "## 11번 문제.\n",
    "Write a function f11(matrix) that returns True if the matrix is the identity matrix,  \n",
    "and False otherwise.  \n",
    "Assume len(matrix)==len(matrix[0])"
   ]
  },
  {
   "cell_type": "code",
   "execution_count": 1,
   "metadata": {},
   "outputs": [],
   "source": [
    "def f11(matrix):\n",
    "    for i,num in enumerate(matrix):\n",
    "        for j in range(len(matrix)):\n",
    "            if (i!=j) and (num[j]>0):\n",
    "                return False\n",
    "            elif (i==j) and num[j]!=1:\n",
    "                return False\n",
    "    return  True"
   ]
  },
  {
   "cell_type": "code",
   "execution_count": 4,
   "metadata": {},
   "outputs": [
    {
     "data": {
      "text/plain": [
       "False"
      ]
     },
     "execution_count": 4,
     "metadata": {},
     "output_type": "execute_result"
    }
   ],
   "source": [
    "f11([[1,0,0],[0,1,0],[0,1,1]])"
   ]
  },
  {
   "cell_type": "code",
   "execution_count": 2,
   "metadata": {},
   "outputs": [
    {
     "data": {
      "text/plain": [
       "[(0, [1, 0, 0]), (1, [0, 1, 0]), (2, [0, 0, 1])]"
      ]
     },
     "execution_count": 2,
     "metadata": {},
     "output_type": "execute_result"
    }
   ],
   "source": [
    "list(enumerate([[1,0,0],[0,1,0],[0,0,1]]))"
   ]
  },
  {
   "cell_type": "markdown",
   "metadata": {},
   "source": [
    "## 12번 문제.\n",
    "Write a function f12(rows,cols) that returns a two dimensional list  \n",
    "where each element corresponds to how many adjacent neighbors it has.  \n",
    "Neighbors are defined as spaces above, below, to the left, and to the right"
   ]
  },
  {
   "cell_type": "code",
   "execution_count": 50,
   "metadata": {},
   "outputs": [],
   "source": [
    "def f12(rows,cols):\n",
    "    c=[[0]*cols for i in range(rows)]\n",
    "    for i in range(rows):\n",
    "        for j in range(cols):\n",
    "            k=[i-1,i+1,j-1,j+1]\n",
    "            c[i][j]=sum([k[0] in range(rows), k[1] in range(rows), k[2] in range(cols),k[3] in range(cols)])\n",
    "    return c\n",
    "\n"
   ]
  },
  {
   "cell_type": "code",
   "execution_count": 51,
   "metadata": {},
   "outputs": [],
   "source": [
    "def f12(rows,cols):\n",
    "    c=[[0]*cols for i in range(rows)]\n",
    "    for i in range(rows):\n",
    "        for j in range(cols):\n",
    "            k=[i-1,i+1,j-1,j+1]\n",
    "            c[i][j]=sum(map(lambda x: x in range(rows), k[0:2]))+ sum(map(lambda x: x in range(cols),k[2:4]))\n",
    "    return c\n"
   ]
  },
  {
   "cell_type": "code",
   "execution_count": 52,
   "metadata": {},
   "outputs": [
    {
     "data": {
      "text/plain": [
       "[[2, 3, 3, 2], [2, 3, 3, 2]]"
      ]
     },
     "execution_count": 52,
     "metadata": {},
     "output_type": "execute_result"
    }
   ],
   "source": [
    "f12(2,4)"
   ]
  },
  {
   "cell_type": "code",
   "execution_count": 243,
   "metadata": {},
   "outputs": [],
   "source": [
    "rows=3\n",
    "cols=4\n",
    "\n",
    "row=1\n",
    "col=1"
   ]
  },
  {
   "cell_type": "code",
   "execution_count": 244,
   "metadata": {},
   "outputs": [],
   "source": [
    "k=[row-1,row+1,col-1,col+1]"
   ]
  },
  {
   "cell_type": "code",
   "execution_count": 219,
   "metadata": {},
   "outputs": [
    {
     "data": {
      "text/plain": [
       "2"
      ]
     },
     "execution_count": 219,
     "metadata": {},
     "output_type": "execute_result"
    }
   ],
   "source": [
    "sum( [k[0] in range(row), k[1] in range(row), k[2] in range(col),k[3] in range(col)])"
   ]
  },
  {
   "cell_type": "code",
   "execution_count": 246,
   "metadata": {},
   "outputs": [
    {
     "data": {
      "text/plain": [
       "4"
      ]
     },
     "execution_count": 246,
     "metadata": {},
     "output_type": "execute_result"
    }
   ],
   "source": [
    "sum([k[0] in range(rows), k[1] in range(rows), k[2] in range(cols),k[3] in range(cols)])"
   ]
  },
  {
   "cell_type": "code",
   "execution_count": null,
   "metadata": {},
   "outputs": [],
   "source": []
  }
 ],
 "metadata": {
  "kernelspec": {
   "display_name": "Python 3",
   "language": "python",
   "name": "python3"
  },
  "language_info": {
   "codemirror_mode": {
    "name": "ipython",
    "version": 3
   },
   "file_extension": ".py",
   "mimetype": "text/x-python",
   "name": "python",
   "nbconvert_exporter": "python",
   "pygments_lexer": "ipython3",
   "version": "3.6.5"
  }
 },
 "nbformat": 4,
 "nbformat_minor": 2
}
