{
 "cells": [
  {
   "cell_type": "markdown",
   "metadata": {},
   "source": [
    "# Ch5 Matrix and Tree using List"
   ]
  },
  {
   "cell_type": "code",
   "execution_count": 6,
   "metadata": {},
   "outputs": [
    {
     "name": "stdout",
     "output_type": "stream",
     "text": [
      "This is Ok. At first:\n",
      "   a = [[0, 0, 0], [0, 0, 0]]\n"
     ]
    }
   ],
   "source": [
    "\"\"\"\n",
    "매트릭스와 트리구조 데이터는 리스트를 가지고 표현할수있다.\n",
    "행렬: 개념적이해, 논리적이해, logical한 상태의 데이터\n",
    "\n",
    "matrix, 2d-array, table 다 같은 말인데 Python안에서 리스트로 표현한단 말이에요.\n",
    "파이썬에서 파이썬이 제공하는 데이터 타입인 리스트를 가지고\n",
    "이 논리적인 구조를 파이썬 프로그래밍 언어안에서 리스트라는  데이터 타입을 가지고 표현한겁니다\n",
    "그래서 이런 [[3,7,],[4,2]]는 physical하다 할수있어요\n",
    "리스트로 구현했지요 다양한 방법으로 구현가능합니다\n",
    "리스트로 하는건 파이썬 초보에선 리스트 쓰임이 워낙에 광범위함 리스트로 트리도 매트릭스도 표현해볼까 라는것때문에 이 챕터가 있지요.\n",
    "logical하다와 physical하다의 차이는 뭘까요\n",
    "logical 하다, logical interpretation은\n",
    "논리적으로 내 머릿속에서 우리 개념속에서 이해하는것\n",
    "physical하다는 일반적으로 프로그램 랭귀지로 구현한 상황에 있는 것을\n",
    "physical implementation이다 라고 합니다.\n",
    "\n",
    "#엔지니어링과목에서 배우는 관계형 데이터 베이스에서는(Realational database) \n",
    "테이블 형식의 데이터 라고 하죠, 혹은 relation이라고 합니다\n",
    "파이썬에서의 테이블은 다른 의미입니다. Heading이 들어가지요. 데이터베이스에서는 스키마 라고 합니다. logical합니다\n",
    "우리 눈으로 데이터를 이렇게 보자 데이터가 이렇게 테이블에 있는걸로 보자\n",
    "이걸 logical하다 logical한 데이터 view를 본다 라고 이렇게 이야기합니다\n",
    "\n",
    "그런데 DBMS안에서 어떻게 구현되어있을까? 화면에서는 logical하게 보길원하는데\n",
    "DBMS안에서는 운영체제 안에있는 oprating system 안에있는 file에다가 집어넣어요 굉장히 원시적입니다 \n",
    "os위에 그런걸 하는겁니다.\n",
    "list = 2D array = matrix\n",
    "\n",
    "\n",
    "#static allocation (정적 메모리 할당 굳이? 몰라도됨)\n",
    "a=[[2,3,4],[5,6,7]] #nested list구조, 리스트 안에 리스트를 가지고 있는 것을 이렇게 부른다.\n",
    "print(a)\n",
    "\n",
    "메모리 안에 2,3,4,5,6,7이 있는 매트릭스를 저장하고 a로 그 주소를 가리키는 겁니다.\n",
    "이렇게 생성되는 것을 static allocation이라고 합니다\n",
    "만들고자 하는 데이터의 양만큼 필요한 데이터의 공간을 확 잡아서 집어 넣어버리는 것을\n",
    "static allocation이라고 합니다.\n",
    "\"\"\"\n",
    "#dynamic allocation(동적 메모리 할당 굳이 알지 않아도됨.)\n",
    "rows=2\n",
    "cols=3\n",
    "\"\"\"\n",
    "dynamic allocation은 빈리스트를 집어넣은다음에 필요하다면 \n",
    "a=[[2]]\n",
    "a=[[2,3]]\n",
    "a=[[2,3,4,]] 조금씩 빈칸으로 시작해서 조금씩 추가하는 식으로하면\n",
    "처음에 고정된 공간에서 확 만들어버리는게아니라\n",
    "조금의 공간을 만들고 필요한 데이터를 집어넣는 형식\n",
    "결국에 다 똑같이 [[2,3,4],[5,6,7]] 라고 할수 있다. \n",
    "\"\"\"\n",
    "a=[]\n",
    "for row in range(rows): a += [[0]*cols]\n",
    "print(\"This is Ok. At first:\")\n",
    "print(\"   a =\",a)"
   ]
  },
  {
   "cell_type": "code",
   "execution_count": 7,
   "metadata": {},
   "outputs": [
    {
     "name": "stdout",
     "output_type": "stream",
     "text": [
      "a[0][0][0]= 1\n",
      "a[0][0][1]= 2\n",
      "a[0][1][0]= 3\n",
      "a[0][1][1]= 4\n",
      "a[1][0][0]= 5\n",
      "a[1][0][1]= 6\n",
      "a[1][0][2]= 7\n",
      "a[1][1][0]= 8\n",
      "a[1][1][1]= 9\n",
      "a[2][0][0]= 10\n"
     ]
    }
   ],
   "source": [
    "#3D-Array \n",
    "a=[[[1,2],[3,4]],\n",
    "  [[5,6,7],[8,9]],\n",
    "  [[10]]]\n",
    "for i in range(len(a)):\n",
    "    for j in range(len(a[i])):\n",
    "        for k in range(len(a[i][j])):\n",
    "            print(\"a[%d][%d][%d]= %d\"%(i,j,k,a[i][j][k]))\n"
   ]
  },
  {
   "cell_type": "code",
   "execution_count": 8,
   "metadata": {},
   "outputs": [
    {
     "data": {
      "text/plain": [
       "[45, [31, [19, [], []], [38, [], []], [70, [], [86, [], []]]]]"
      ]
     },
     "execution_count": 8,
     "metadata": {},
     "output_type": "execute_result"
    }
   ],
   "source": [
    "\"\"\"\n",
    "Array Module and Numpy Module\n",
    "리스트로 표현할수있다를 알수있지만\n",
    "실제로 선형대수의 연산하려면 \n",
    "리스트로 표현하면 표현도 어렵다\n",
    "그래서 이렇게 안내비두고\n",
    "library중에 array라는 library와\n",
    "numpy라는 library가 존재한다\n",
    "\"\"\"\n",
    "\"\"\"\n",
    "hierarchical data structure\n",
    "세상에 존재하는 많은 구조들이 트리형식으로 되어있지요\n",
    "family's tree 성경의 족보같은것들\n",
    "\n",
    "이걸 구현을 어떻게하느냐?\n",
    "여러가지로 할수있습니다.\n",
    "linked list라는 데이터 타입도 존재합니다\n",
    "5~6주 뒤에 배울건데요\n",
    "쟤네들 챡챡챡 만들수있어요 family's tree 같은거\n",
    "근데 굳이 list로 표현할수 있다를 이 챕터에서 보여주는거에요\n",
    "\"\"\"\n",
    "\"\"\"\n",
    "트리라는 논리적 구조는 하이러리칼한 데이터 스트럭쳔데\n",
    "맨꼭대기에 있는 노드를 root라고 합니다.\n",
    "\n",
    "root 맨꼭대기\n",
    "node 그냥 각각 하나의 노드\n",
    "edge 연결선\n",
    "leaf 맨끝에 남아있는 이파리들 ( leaf-node )\n",
    "\n",
    "트리구조에서 위에있으면 조상 ancestor 아래있으면 자손 descendant 라고합니다\n",
    "\n",
    "트리구조에서 모든 노드에서 자손이 2마리 이하이면 이진 트리라고합니다(binary tree)\n",
    "이런 트리를 리스트로 표현해보겠다! \n",
    "\n",
    "\"\"\"\n",
    "\n",
    "[3,[],[]] # 3혼자 있는 binary tree\n",
    "\n",
    "['Bob',['John',[],[]],\n",
    "       ['Sam',[],['Jim',[],[]]]]#밥의 자손은 존과 샘이 있고 샘에게 짐이라는 자손이 있다.\n",
    "\n",
    "['Bob',['John',[],[]], ['Sam',[],[]]]\n",
    "\n",
    "\"\"\"\n",
    "저렇게 표현 한다음에 무슨 일을 할까요?\n",
    "노아의 모든 자손을 찍어라\n",
    "회사에 전무가 몇명인가? \n",
    "트리에서 이노드 저노드를 막뛰다니는거여, 원하는 데이터를 찾거나 화면에 프린트하거나\n",
    "그런것들이 트리라는 논리적인 구조위에서 operation하는거에요 연산자 구상하는겁니다\n",
    "데이터 타입이있으면 데이터타입에 맞는, 필요한 연산이 들어와야합니다\n",
    "데이터 타입으로 우리가 풀려는 문제를 표현하고\n",
    "필요한 연산을 만들어내면\n",
    "프로그램이 끝난겁니다.\n",
    "\n",
    "찾아가는 것을 tree- nevagation이라고 합니다\n",
    "트리는 데이터 타입이거나 구조이거나 입니다\n",
    "\n",
    "이러면 너무 귀찮아\n",
    "그래서 linked 데이터 리스트 타입 등을 정의합니다. 한달뒤에 배울듯요\n",
    "\"\"\"\n",
    "\n",
    "\"\"\"\n",
    "노드에 규칙을 주면요\n",
    "38을 찾는다 하면 맨 위에있는 것과 비교해서 작으면 무조건 왼쪽으로 가고 크면 오른쪽으로 간다 하는 비교를 합니다.\n",
    "노드를 세번만 비교하면 원하는것을 찾습니다\n",
    "root로부터 몇번만 비교하면 찾을수가있다.\n",
    "data structure가 문제에 맞춰서 만들어지는 것도 중요하고, 프로그램에서 뭔가 작업을 할 적에\n",
    "효율적으로 시간을 조금 들이면서 찾거나\n",
    "쭉 순서를 매기거나 여러가지 일들을 빨리해주면 내게 도움이 되는구나!\n",
    "structure 잘 만들면 개꿀!\n",
    "\"\"\"\n",
    "\"\"\"\"\"\"\n",
    "[45,[31,[19,[],[]],[38,[],[]],[70,[],[86,[],[]]]]]"
   ]
  },
  {
   "cell_type": "markdown",
   "metadata": {},
   "source": [
    "# Ch6. Prime Number"
   ]
  },
  {
   "cell_type": "code",
   "execution_count": 9,
   "metadata": {},
   "outputs": [
    {
     "name": "stdout",
     "output_type": "stream",
     "text": [
      "2\n",
      "3\n",
      "5\n",
      "7\n",
      "11\n",
      "13\n",
      "17\n",
      "19\n",
      "23\n",
      "29\n",
      "31\n",
      "37\n",
      "41\n",
      "43\n",
      "47\n",
      "53\n",
      "59\n",
      "61\n",
      "67\n",
      "71\n",
      "73\n",
      "79\n",
      "83\n",
      "89\n",
      "97\n",
      "101\n",
      "103\n",
      "107\n",
      "109\n",
      "113\n",
      "127\n",
      "131\n",
      "137\n",
      "139\n",
      "149\n",
      "151\n",
      "157\n",
      "163\n",
      "167\n",
      "173\n",
      "179\n",
      "181\n",
      "191\n",
      "193\n",
      "197\n",
      "199\n",
      "211\n",
      "223\n",
      "227\n",
      "229\n",
      "233\n",
      "239\n",
      "241\n",
      "251\n",
      "257\n",
      "263\n",
      "269\n",
      "271\n",
      "277\n",
      "281\n",
      "283\n",
      "293\n",
      "307\n",
      "311\n",
      "313\n",
      "317\n",
      "331\n",
      "337\n",
      "347\n",
      "349\n",
      "353\n",
      "359\n",
      "367\n",
      "373\n",
      "379\n",
      "383\n",
      "389\n",
      "397\n",
      "401\n",
      "409\n",
      "419\n",
      "421\n",
      "431\n",
      "433\n",
      "439\n",
      "443\n",
      "449\n",
      "457\n",
      "461\n",
      "463\n",
      "467\n",
      "479\n",
      "487\n",
      "491\n",
      "499\n",
      "503\n",
      "509\n",
      "521\n",
      "523\n",
      "541\n",
      "547\n",
      "557\n",
      "563\n",
      "569\n",
      "571\n",
      "577\n",
      "587\n",
      "593\n",
      "599\n",
      "601\n",
      "607\n",
      "613\n",
      "617\n",
      "619\n",
      "631\n",
      "641\n",
      "643\n",
      "647\n",
      "653\n",
      "659\n",
      "661\n",
      "673\n",
      "677\n",
      "683\n",
      "691\n",
      "701\n",
      "709\n",
      "719\n",
      "727\n",
      "733\n",
      "739\n",
      "743\n",
      "751\n",
      "757\n",
      "761\n",
      "769\n",
      "773\n",
      "787\n",
      "797\n",
      "809\n",
      "811\n",
      "821\n",
      "823\n",
      "827\n",
      "829\n",
      "839\n",
      "853\n",
      "857\n",
      "859\n",
      "863\n",
      "877\n",
      "881\n",
      "883\n",
      "887\n",
      "907\n",
      "911\n",
      "919\n",
      "929\n",
      "937\n",
      "941\n",
      "947\n",
      "953\n",
      "967\n",
      "971\n",
      "977\n",
      "983\n",
      "991\n",
      "997\n"
     ]
    }
   ],
   "source": [
    "#IsPrume():dumb version\n",
    "\n",
    "def IsPrime_dumb(n):\n",
    "    if(n<2):\n",
    "        return False\n",
    "    for factor in range(2,n):\n",
    "        if(n%factor==0):          #모든 숫자 n에 대해서 n번의 modulo 계산 필요\n",
    "            return False\n",
    "    return True\n",
    "\"\"\"\n",
    "여기서 제일 빈번한 연산자는 %이다\n",
    "\n",
    "\"\"\"\n",
    "\n",
    "for i in range(1,1000):\n",
    "    if IsPrime_dumb(i):\n",
    "        print(i)"
   ]
  },
  {
   "cell_type": "code",
   "execution_count": 10,
   "metadata": {},
   "outputs": [
    {
     "name": "stdout",
     "output_type": "stream",
     "text": [
      "[1, 3]\n",
      "[1, None, 3]\n"
     ]
    }
   ],
   "source": [
    "#\"sieve\" or \"sifter\" 체를 치다\n",
    "\"\"\"\n",
    "pseudo code\n",
    "에라토스테네스의 알고리즘\n",
    "1. create a list numlist with every integer from 2 to n, in order. (assume n>1)\n",
    "2. create an empty list primes.\n",
    "3. for each element in numlist\n",
    "    a. if element is not marked, copy it to the end of primes\n",
    "    b. mark every number that is a multiple of the most recently discovered prime number\n",
    "output: The list of all prime numbers less than or equal to n\n",
    "\"\"\"\n",
    "\"\"\"\n",
    "None이라는 값이 있는데, 의미가 존재하지 않는 reserved word가 있다.\n",
    "\"\"\"\n",
    "a=[1,2,3]\n",
    "a.remove(2)\n",
    "print(a)\n",
    "\"\"\"\n",
    "#근데 2라는 자리를 제거했는데 2가 빠지면서 자리가 허물어져버립니다. \n",
    "#그래서 뭘 없앤다 했을적에 그냥 빼버리면 index라는 판이 위험해집니다.\n",
    "#죽은애들 건너뛰고 가야되는데 아예없으면 그다음으로 가면 알고리즘이 유지가안되\n",
    "#그래서 remove가 아니라 None을 사용합니다.\n",
    "\"\"\"\n",
    "a=[1,2,3]\n",
    "a[1]=None #값이 존재하지 않는다를 표현합니다. 개꿀!\n",
    "print(a)\n"
   ]
  },
  {
   "cell_type": "code",
   "execution_count": 16,
   "metadata": {},
   "outputs": [
    {
     "data": {
      "text/plain": [
       "[1, 2, 3, None]"
      ]
     },
     "execution_count": 16,
     "metadata": {},
     "output_type": "execute_result"
    }
   ],
   "source": [
    "import math\n",
    "def sift(lst,k):\n",
    "    #marks multiples of k with None\n",
    "    i=0\n",
    "    while i < len(lst):\n",
    "        if (lst[i] != None) and (lst[i]%k==0):\n",
    "            lst[i]=None\n",
    "        i+=1\n",
    "    return lst\n",
    "\"\"\"\n",
    "def sift2(lst,k):\n",
    "    i=0\n",
    "    while i < len(lst):\n",
    "        if lst[i] %k ==0:\n",
    "            lst.remove(lst[i])\n",
    "        else:\n",
    "            i +=1\n",
    "    return lst\n",
    "#이렇게 하면 안되는데, 위치정보 index가 사라져버려\n",
    "\"\"\"\n",
    "sift([1,2,3,4],4)"
   ]
  },
  {
   "cell_type": "code",
   "execution_count": 17,
   "metadata": {},
   "outputs": [
    {
     "data": {
      "text/plain": [
       "[2, 3, 5, 7]"
      ]
     },
     "execution_count": 17,
     "metadata": {},
     "output_type": "execute_result"
    }
   ],
   "source": [
    "def sieve(n):\n",
    "    numlist=list(range(2,n+1))\n",
    "    primes=[]\n",
    "    \n",
    "    for i in range(0,len(numlist)):\n",
    "        if numlist[i] != None:\n",
    "            primes.append(numlist[i])\n",
    "        \n",
    "            sift(numlist,numlist[i]) #helper function sift function가 helper function이었다.\n",
    "\n",
    "    return primes\n",
    "sieve(10)"
   ]
  },
  {
   "cell_type": "code",
   "execution_count": 18,
   "metadata": {},
   "outputs": [
    {
     "data": {
      "text/plain": [
       "[2, 3, 5, 7]"
      ]
     },
     "execution_count": 18,
     "metadata": {},
     "output_type": "execute_result"
    }
   ],
   "source": [
    "#better_sieve\n",
    "def better_sieve(n):\n",
    "    numlist=list(range(2,n+1))\n",
    "    primes=[]\n",
    "    i=0#index 0 contains number 2\n",
    "    while ( i+2) <=math.sqrt(n):\n",
    "        if numlist[i]!= None:\n",
    "            primes.append(numlist[i])\n",
    "            sift(numlist,numlist[i])\n",
    "        i+=1\n",
    "    temp_list=[]\n",
    "    for i in range(0,len(numlist)):\n",
    "        if numlist[i]!=None:\n",
    "            temp_list.append(numlist[i])\n",
    "    numlist=temp_list\n",
    "    return primes+numlist\n",
    "better_sieve(10)"
   ]
  },
  {
   "cell_type": "code",
   "execution_count": 19,
   "metadata": {
    "collapsed": true
   },
   "outputs": [],
   "source": [
    "#2의 배수만 제껴줘도 dumb프로그램이 좋아지겠지\n",
    "def IsPrime_better(n):\n",
    "    if(n<2):\n",
    "        return False\n",
    "#그다음 프로그램은 maxFactor에다가 루트씌운거 하나만해서 범위내에서 하게되면, 계산양이 또 줄어들지요."
   ]
  },
  {
   "cell_type": "code",
   "execution_count": 20,
   "metadata": {},
   "outputs": [
    {
     "data": {
      "text/plain": [
       "0.0005931854248046875"
      ]
     },
     "execution_count": 20,
     "metadata": {},
     "output_type": "execute_result"
    }
   ],
   "source": [
    "#과제\n",
    "import time\n",
    "start=time.time()\n",
    "sieve(100)\n",
    "end=time.time()\n",
    "duration= end- start\n",
    "duration"
   ]
  },
  {
   "cell_type": "markdown",
   "metadata": {},
   "source": [
    "# Ch7. Recursion Function"
   ]
  },
  {
   "cell_type": "markdown",
   "metadata": {},
   "source": [
    "## Concept of Recursion"
   ]
  },
  {
   "cell_type": "code",
   "execution_count": 21,
   "metadata": {
    "collapsed": true
   },
   "outputs": [],
   "source": [
    "\"\"\"\n",
    "재귀함수란? 자기 함수안에서 자기를 한번 더 호출하는 것.\n",
    "코딩이 많이 간소해질수 있습니다\n",
    "프로그램을 효과적으로 빨리 돌리는 것과는 다른겁니다\n",
    "그럴수도있고 아닐수도있는지만\n",
    "\n",
    "그리고 우리가 재귀적으로 생각할수있으면\n",
    "코딩이 이쁘게 쌈빡하게 잘 나옵니다 ㅋㅋ\n",
    "더 잘 읽을수있습니다. 가독성 업업\n",
    "\n",
    "\"\"\"\n",
    "#factorial 예제\n",
    "\n",
    "#0!=1\n",
    "#n! = n*(n-1)!\n",
    "def factorial(n):\n",
    "    if n==0:            #base case ( non - recursive case)\n",
    "        return 1\n",
    "    else:               #recursive case\n",
    "        return n*factorial(n-1)\n",
    "\"\"\"\n",
    "모든 iterative 한 함수는 재귀적으로 변환시켜줄수있다!\n",
    "iterative는 for loop이나 while loop을 말한다.\n",
    "이거는 우리가 언제까지 돌려라를 명시해야한다.\n",
    "\n",
    "recursive는\n",
    "자기자신을 base case를 만날때까지 한다.\n",
    "함수에 for loop이 베어있는거다\n",
    "\n",
    "모든 리커젼한 함수는 이터러티브하게 짤수있다.\n",
    "\"\"\"\n",
    "def factorial(n):\n",
    "    result=1 #initialize accumulator var\n",
    "    for i in range(1,n+1):\n",
    "        result=result*i\n",
    "    return result"
   ]
  },
  {
   "cell_type": "code",
   "execution_count": 22,
   "metadata": {},
   "outputs": [
    {
     "data": {
      "text/plain": [
       "3628800"
      ]
     },
     "execution_count": 22,
     "metadata": {},
     "output_type": "execute_result"
    }
   ],
   "source": [
    "factorial(10)"
   ]
  },
  {
   "cell_type": "code",
   "execution_count": 23,
   "metadata": {
    "collapsed": true
   },
   "outputs": [],
   "source": [
    "def sumlist(items):\n",
    "    if items ==[]:\n",
    "        return 0\n",
    "    else:\n",
    "        return items[0] + sumlist(items[1:]) #더한건 빠지죠? 신기하다!!"
   ]
  },
  {
   "cell_type": "code",
   "execution_count": 24,
   "metadata": {},
   "outputs": [
    {
     "data": {
      "text/plain": [
       "12345"
      ]
     },
     "execution_count": 24,
     "metadata": {},
     "output_type": "execute_result"
    }
   ],
   "source": [
    "b=[1,11,111,1111,11111]\n",
    "sumlist(b)"
   ]
  },
  {
   "cell_type": "code",
   "execution_count": 25,
   "metadata": {
    "collapsed": true
   },
   "outputs": [],
   "source": [
    "def sumlist(items):\n",
    "    if items ==[]:\n",
    "        return 0\n",
    "    else:\n",
    "        return items[0] + sumlist(items[1:])"
   ]
  },
  {
   "cell_type": "code",
   "execution_count": 26,
   "metadata": {},
   "outputs": [
    {
     "data": {
      "text/plain": [
       "12345"
      ]
     },
     "execution_count": 26,
     "metadata": {},
     "output_type": "execute_result"
    }
   ],
   "source": [
    "sumlist(b)"
   ]
  },
  {
   "cell_type": "code",
   "execution_count": 27,
   "metadata": {
    "collapsed": true
   },
   "outputs": [],
   "source": [
    "#피보나치 수열\n",
    "#자기자신을 두번 불러요\n",
    "#굳이 이름을 주자면 multi recursive function\n",
    "\n",
    "def fib(n):\n",
    "    if n==0 or n==1:                       #base case\n",
    "        return n\n",
    "    else:                                  #recursive case\n",
    "        return fib(n-1)+fib(n-2)"
   ]
  },
  {
   "cell_type": "code",
   "execution_count": 28,
   "metadata": {},
   "outputs": [
    {
     "data": {
      "text/plain": [
       "5"
      ]
     },
     "execution_count": 28,
     "metadata": {},
     "output_type": "execute_result"
    }
   ],
   "source": [
    "fib(5)"
   ]
  },
  {
   "cell_type": "code",
   "execution_count": 29,
   "metadata": {
    "collapsed": true
   },
   "outputs": [],
   "source": [
    "\"\"\"\n",
    "피보나치 수열은 리커젼으로하면 중복으로 계산하는게 많다\n",
    "for loop이 더 좋아\n",
    "보기 좋은건 리커젼, 계산 간단한건 for loop\n",
    "\"\"\"\n",
    "def fib(n):\n",
    "    x=0\n",
    "    next_x=1\n",
    "    for i in range(1,n+1):\n",
    "        x, next_x = next_x, x+ next_x\n",
    "    return x"
   ]
  },
  {
   "cell_type": "code",
   "execution_count": 30,
   "metadata": {},
   "outputs": [
    {
     "ename": "RecursionError",
     "evalue": "maximum recursion depth exceeded",
     "output_type": "error",
     "traceback": [
      "\u001b[0;31m---------------------------------------------------------------------------\u001b[0m",
      "\u001b[0;31mRecursionError\u001b[0m                            Traceback (most recent call last)",
      "\u001b[0;32m<ipython-input-30-35d1b6708628>\u001b[0m in \u001b[0;36m<module>\u001b[0;34m()\u001b[0m\n\u001b[1;32m     16\u001b[0m     \u001b[0;32mreturn\u001b[0m \u001b[0mreverse\u001b[0m\u001b[0;34m(\u001b[0m\u001b[0ms\u001b[0m\u001b[0;34m[\u001b[0m\u001b[0;36m1\u001b[0m\u001b[0;34m:\u001b[0m\u001b[0;34m]\u001b[0m\u001b[0;34m)\u001b[0m \u001b[0;34m+\u001b[0m \u001b[0ms\u001b[0m\u001b[0;34m[\u001b[0m\u001b[0;36m0\u001b[0m\u001b[0;34m]\u001b[0m\u001b[0;34m\u001b[0m\u001b[0m\n\u001b[1;32m     17\u001b[0m \u001b[0;34m\u001b[0m\u001b[0m\n\u001b[0;32m---> 18\u001b[0;31m \u001b[0mreverse\u001b[0m\u001b[0;34m(\u001b[0m\u001b[0;34m\"Hello\"\u001b[0m\u001b[0;34m)\u001b[0m\u001b[0;34m\u001b[0m\u001b[0m\n\u001b[0m",
      "\u001b[0;32m<ipython-input-30-35d1b6708628>\u001b[0m in \u001b[0;36mreverse\u001b[0;34m(s)\u001b[0m\n\u001b[1;32m     14\u001b[0m \u001b[0;34m\u001b[0m\u001b[0m\n\u001b[1;32m     15\u001b[0m \u001b[0;32mdef\u001b[0m \u001b[0mreverse\u001b[0m\u001b[0;34m(\u001b[0m\u001b[0ms\u001b[0m\u001b[0;34m)\u001b[0m\u001b[0;34m:\u001b[0m\u001b[0;34m\u001b[0m\u001b[0m\n\u001b[0;32m---> 16\u001b[0;31m     \u001b[0;32mreturn\u001b[0m \u001b[0mreverse\u001b[0m\u001b[0;34m(\u001b[0m\u001b[0ms\u001b[0m\u001b[0;34m[\u001b[0m\u001b[0;36m1\u001b[0m\u001b[0;34m:\u001b[0m\u001b[0;34m]\u001b[0m\u001b[0;34m)\u001b[0m \u001b[0;34m+\u001b[0m \u001b[0ms\u001b[0m\u001b[0;34m[\u001b[0m\u001b[0;36m0\u001b[0m\u001b[0;34m]\u001b[0m\u001b[0;34m\u001b[0m\u001b[0m\n\u001b[0m\u001b[1;32m     17\u001b[0m \u001b[0;34m\u001b[0m\u001b[0m\n\u001b[1;32m     18\u001b[0m \u001b[0mreverse\u001b[0m\u001b[0;34m(\u001b[0m\u001b[0;34m\"Hello\"\u001b[0m\u001b[0;34m)\u001b[0m\u001b[0;34m\u001b[0m\u001b[0m\n",
      "... last 1 frames repeated, from the frame below ...\n",
      "\u001b[0;32m<ipython-input-30-35d1b6708628>\u001b[0m in \u001b[0;36mreverse\u001b[0;34m(s)\u001b[0m\n\u001b[1;32m     14\u001b[0m \u001b[0;34m\u001b[0m\u001b[0m\n\u001b[1;32m     15\u001b[0m \u001b[0;32mdef\u001b[0m \u001b[0mreverse\u001b[0m\u001b[0;34m(\u001b[0m\u001b[0ms\u001b[0m\u001b[0;34m)\u001b[0m\u001b[0;34m:\u001b[0m\u001b[0;34m\u001b[0m\u001b[0m\n\u001b[0;32m---> 16\u001b[0;31m     \u001b[0;32mreturn\u001b[0m \u001b[0mreverse\u001b[0m\u001b[0;34m(\u001b[0m\u001b[0ms\u001b[0m\u001b[0;34m[\u001b[0m\u001b[0;36m1\u001b[0m\u001b[0;34m:\u001b[0m\u001b[0;34m]\u001b[0m\u001b[0;34m)\u001b[0m \u001b[0;34m+\u001b[0m \u001b[0ms\u001b[0m\u001b[0;34m[\u001b[0m\u001b[0;36m0\u001b[0m\u001b[0;34m]\u001b[0m\u001b[0;34m\u001b[0m\u001b[0m\n\u001b[0m\u001b[1;32m     17\u001b[0m \u001b[0;34m\u001b[0m\u001b[0m\n\u001b[1;32m     18\u001b[0m \u001b[0mreverse\u001b[0m\u001b[0;34m(\u001b[0m\u001b[0;34m\"Hello\"\u001b[0m\u001b[0;34m)\u001b[0m\u001b[0;34m\u001b[0m\u001b[0m\n",
      "\u001b[0;31mRecursionError\u001b[0m: maximum recursion depth exceeded"
     ]
    }
   ],
   "source": [
    "#무한 루프\n",
    "\n",
    "\"\"\"\n",
    "Recursive를 할때는 내부에 파이썬 엔진 속에 볼때\n",
    "리커젼을 가능하게 해주는 Recursion 스택이 있습니다\n",
    "스택에 돌면서 쌓입니다. 밑층부터\n",
    "reverse(\"hello\")가 들어오고 쭉쭉 쌓입니다. \n",
    "근데 이 리커젼 스택이라고 하는것도 memory의 일부분입니다.\n",
    "무한루프를 돌게되면 스택에 계속 쌓이죠.\n",
    "파이썬이 쓸수있는 공간이있는데\n",
    "메모리 스택이 미친듯이 커지면 파이썬에서는 일단은, 리커젼을 할적에는\n",
    "리커젼 함수들을 1000번까지로 제한을 해두었습니다\n",
    "그거 이상하고싶으면 조건을 더줘야합니다.\n",
    "\n",
    "\"\"\"\n",
    "\n",
    "def reverse(s):\n",
    "    return reverse(s[1:]) + s[0]\n",
    "\n",
    "reverse(\"Hello\")"
   ]
  },
  {
   "cell_type": "code",
   "execution_count": 31,
   "metadata": {},
   "outputs": [
    {
     "data": {
      "text/plain": [
       "'olleh'"
      ]
     },
     "execution_count": 31,
     "metadata": {},
     "output_type": "execute_result"
    }
   ],
   "source": [
    "def reverse(s):\n",
    "    if s==\"\":                          #그래서 베이스케이스를 줘야합니다\n",
    "        return s\n",
    "    else:\n",
    "        return reverse(s[1:]) + s[0]\n",
    "    \n",
    "reverse(\"hello\")"
   ]
  },
  {
   "cell_type": "code",
   "execution_count": null,
   "metadata": {
    "collapsed": true
   },
   "outputs": [],
   "source": []
  }
 ],
 "metadata": {
  "kernelspec": {
   "display_name": "Python 3",
   "language": "python",
   "name": "python3"
  },
  "language_info": {
   "codemirror_mode": {
    "name": "ipython",
    "version": 3
   },
   "file_extension": ".py",
   "mimetype": "text/x-python",
   "name": "python",
   "nbconvert_exporter": "python",
   "pygments_lexer": "ipython3",
   "version": "3.6.3"
  }
 },
 "nbformat": 4,
 "nbformat_minor": 2
}
