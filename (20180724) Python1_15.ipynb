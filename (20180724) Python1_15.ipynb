{
 "cells": [
  {
   "cell_type": "markdown",
   "metadata": {},
   "source": [
    "# Ch 17. Python Modules and Packages"
   ]
  },
  {
   "cell_type": "markdown",
   "metadata": {},
   "source": [
    "## Utilizing Modules"
   ]
  },
  {
   "cell_type": "markdown",
   "metadata": {},
   "source": [
    "라이브러리와 모듈은 우리가 혼용하는 같은 단어입니다   \n",
    "우리가 만들어 놓은 새로운 모듈, 함수를 불러오고 싶으면..  \n",
    "우리가 만들어놓은 새로운 함수를 어디에 깔아놓았는지 알아야합니다.  \n",
    "\n",
    "System: Python File  \n",
    "O/S : Window  \n",
    "를 이야기합니다 이들로부터 도움을 받고싶고 요구하려면 이들과 명령어를 통해서 소통해야해요"
   ]
  },
  {
   "cell_type": "code",
   "execution_count": 1,
   "metadata": {},
   "outputs": [],
   "source": [
    "#mod1,py로 저장한후\n",
    "#def sum(a,b):\n",
    "#    return a+b\n",
    "#저장위치로 이동한다음 import mod1을 하면 sum이 그냥 리콜된다."
   ]
  },
  {
   "cell_type": "markdown",
   "metadata": {},
   "source": [
    "def safe_sum(a,b):    \n",
    "from mod1 import sum, safe_sum  \n",
    "from mod1 import *  \n",
    "두개는 차이가 있습니다. 대충 불러오는건지 아니면 특정하게 불러오는지입니다.  \n",
    "특정하게 불러올시에는 이름을 즉각적으로 사용가능하나  \n",
    "전체적으로 불러올때는 mod1.function 식으로 함수를 불러와야합니다.  "
   ]
  },
  {
   "cell_type": "markdown",
   "metadata": {},
   "source": [
    "__테스트 하기 귀찮으면 쓰는 방법__"
   ]
  },
  {
   "cell_type": "code",
   "execution_count": 2,
   "metadata": {},
   "outputs": [
    {
     "name": "stdout",
     "output_type": "stream",
     "text": [
      "더할 수 있는 게 아닙니다.\n",
      "None\n",
      "5\n",
      "20.4\n"
     ]
    }
   ],
   "source": [
    "def sum(a,b):\n",
    "    return a+b\n",
    "def safe_sum(a,b):\n",
    "    if type(a) !=type(b):\n",
    "        print(\"더할 수 있는 게 아닙니다.\")\n",
    "        return\n",
    "    else:\n",
    "        result=sum(a,b)\n",
    "    return result\n",
    "if __name__ ==\"__main__\":#지금 수행하는 프로그램의 이름\n",
    "    \"\"\"\n",
    "    지금 돌리는 프로그램이 메인 프로그램이면 이라고 해석해도 좋고\n",
    "    이 프로그램이 내 쉘에서 돌아간다면 이라는 뜻입니다.\n",
    "    이 안에 있는 함수에 해당하는 것들을 연습하는게 실행됩니다\n",
    "    이 프로그램이 내가 만든 쉘에서 돌아간다면 얘가 돌아갑니다\n",
    "    내가 만든 함수들의 테스트를 해줍니다.\n",
    "    그런데 요부분이 옆에 친구한테 주고 사용하게 하려면\n",
    "    다른 shell에서 혹은 python에서 import해서 써야합니다.\n",
    "    라이브러리로 쓰게 되는 얘는 이 쉘의 입장에서는 main이 아닙니다.\n",
    "    그래서 if문은 실행이 안됩니다. 메인이 아니니까요!!\n",
    "    \"\"\"\n",
    "    print(safe_sum('a',1))\n",
    "    print(safe_sum(1,4))\n",
    "    print(sum(10,10.4))"
   ]
  },
  {
   "cell_type": "code",
   "execution_count": 6,
   "metadata": {},
   "outputs": [
    {
     "name": "stdout",
     "output_type": "stream",
     "text": [
      "3.141582\n",
      "31.005961241219392\n",
      "7.541582\n"
     ]
    }
   ],
   "source": [
    "PI=3.141582\n",
    "#Numpy안에도 다양한 클래스들이 존재합니다.\n",
    "class Math:\n",
    "    def solv(self,r):\n",
    "        return PI*(r**2)\n",
    "def sum(a,b):\n",
    "    return a+b\n",
    "if __name__==\"__main__\":\n",
    "    print(PI)\n",
    "    a=Math()\n",
    "    print(a.solv(PI))\n",
    "    print(sum(PI,4.4))\n",
    "\n",
    "#import mod2\n",
    "#result=mod2.sum(3,4)\n",
    "#print(result)"
   ]
  },
  {
   "cell_type": "code",
   "execution_count": 9,
   "metadata": {},
   "outputs": [
    {
     "data": {
      "text/plain": [
       "['',\n",
       " 'C:\\\\ProgramData\\\\Anaconda3\\\\python36.zip',\n",
       " 'C:\\\\ProgramData\\\\Anaconda3\\\\DLLs',\n",
       " 'C:\\\\ProgramData\\\\Anaconda3\\\\lib',\n",
       " 'C:\\\\ProgramData\\\\Anaconda3',\n",
       " 'C:\\\\Users\\\\renz\\\\AppData\\\\Roaming\\\\Python\\\\Python36\\\\site-packages',\n",
       " 'C:\\\\ProgramData\\\\Anaconda3\\\\lib\\\\site-packages',\n",
       " 'C:\\\\ProgramData\\\\Anaconda3\\\\lib\\\\site-packages\\\\win32',\n",
       " 'C:\\\\ProgramData\\\\Anaconda3\\\\lib\\\\site-packages\\\\win32\\\\lib',\n",
       " 'C:\\\\ProgramData\\\\Anaconda3\\\\lib\\\\site-packages\\\\Pythonwin',\n",
       " 'C:\\\\ProgramData\\\\Anaconda3\\\\lib\\\\site-packages\\\\IPython\\\\extensions',\n",
       " 'C:\\\\Users\\\\renz\\\\.ipython',\n",
       " 'C:/Users/renz/SNU_Python']"
      ]
     },
     "execution_count": 9,
     "metadata": {},
     "output_type": "execute_result"
    }
   ],
   "source": [
    "#모듈을 불러오는 또 다른 방법\n",
    "import sys\n",
    "\"\"\"\n",
    "찾아달라고하면 찾아보는 path들 입니다\n",
    "우리가 또필요하면요 py파일이 있는 곳까지의 주소를 append 해야합니다\n",
    "이거 자체들이 리스트인데, 내가 짜는 프로그램들이 있는 곳을 append 해주면 됩니다.\n",
    "\"\"\"\n",
    "#sys.path.appenc(\"C:/Python/SNU_Python\") 이런식으로 추가가능합니다\n",
    "sys.path.append(\"C:/Users/renz/SNU_Python\")\n",
    "#sys.path.remove(\"C:/Users/renz/SNU_Python\")\n",
    "sys.path"
   ]
  },
  {
   "cell_type": "markdown",
   "metadata": {},
   "source": [
    "## Python Package"
   ]
  },
  {
   "cell_type": "markdown",
   "metadata": {},
   "source": [
    "가상의 게임 패키지의 예  \n",
    "game /  \n",
    ">_ _ init _ _ .py  #게임 밑에있는 아이들 사운드, 그래픽, 플레이가 얘네들의 구성원들이야 하는 겁니다.  \n",
    ">sound/  \n",
    ">>_ _ init _ _ .py #같은게 있기만하면, 같은 레벨에 있는 아이들은 서로 의미가 있는 아이들이야 play밑의 구성원들이야  \n",
    ">>echo.py  \n",
    ">>wav.py\n",
    "\n",
    ">graphic/  \n",
    ">>_ _ init _ _ .py  \n",
    ">>screen.py  \n",
    ">>render.py  \n",
    "\n",
    "> play/  \n",
    ">>_ _ init _ _ .py   \n",
    ">>run,py  \n",
    ">>test.py  \n",
    "        "
   ]
  },
  {
   "cell_type": "markdown",
   "metadata": {},
   "source": [
    "_ _ init _ _ .py로 구분하지 않아도 파이썬 버전이 올라감에 따라 알아서 처리해주고 불러와주지만,  \n",
    ".py로 구분하여 패키지안에 배치하는 것에 유익함이 있습니다."
   ]
  },
  {
   "cell_type": "markdown",
   "metadata": {},
   "source": [
    "from Library import * 이 라이브러리 속에있는 모듈 전부다 임포트 할테야! 입니다  \n",
    "impoort game.sound.echo  \n",
    "game.sound.echo.echo_test()  \n",
    "_ _ all _ _ "
   ]
  },
  {
   "cell_type": "markdown",
   "metadata": {},
   "source": [
    "## PyPI and Pip: Automatic Installation"
   ]
  },
  {
   "cell_type": "markdown",
   "metadata": {},
   "source": [
    "Pandas, Numpy 만 가지고 데이터 분석하는데 왜 이게 기본 라이브러리가 아닐까..   \n",
    "이제 Numpy, Pandas, matplotlib 등등 전부다 Standard Library가 아닌데, 반드시 해야해    \n",
    "기본 라이브러리는 모든 사람이 사용할수있는 것이 중요해요    \n",
    "데이터분석가들에게 필요한것말고요.    \n",
    "\n",
    "#IDLE - Standard Lib   \n",
    "뚱뚱한 파이썬이 만들고 싶어서 아나콘다가 됬어요   \n",
    "  \n",
    "Graphical User Interface 이지요    \n",
    "기본 파이썬에 인기있는 여러모듈을 수십개를 만들어 놓은 Anaconda 가 있어요    \n",
    "얘의 기본 IDE 는 Spyder 에요   \n",
    "\n",
    "파이썬 개발자들은 자신들의 개발한 파이썬 모듈들을 PyPI에 업로드합니다  \n",
    "홈페이지에 접속하지 않고도 pip를 통해서 원하는 모듈을 다운로드 할수 있어요.  \n",
    "\n",
    "pip 도 옛날에는 설치했었어야했어요. 요즘에는 디폴트로 다 깔아줍니다.  "
   ]
  },
  {
   "cell_type": "markdown",
   "metadata": {},
   "source": [
    "# The Python Standard Library"
   ]
  },
  {
   "cell_type": "markdown",
   "metadata": {},
   "source": [
    "__The Python Language Reference__"
   ]
  },
  {
   "cell_type": "markdown",
   "metadata": {},
   "source": [
    "__Python Standard Library Reference Manual__\n"
   ]
  },
  {
   "cell_type": "markdown",
   "metadata": {},
   "source": [
    "# Numpy"
   ]
  },
  {
   "cell_type": "code",
   "execution_count": 18,
   "metadata": {},
   "outputs": [],
   "source": [
    "data=[[1,2,3,4],[5,6,7,8],[9,10,11,12]]"
   ]
  },
  {
   "cell_type": "code",
   "execution_count": 19,
   "metadata": {},
   "outputs": [],
   "source": [
    "def sum_matrix(table):\n",
    "    for row in range(0,len(table)):\n",
    "        for col in range(0,len(table[row])):\n",
    "            sum +=table[row][col]\n",
    "    return sum"
   ]
  },
  {
   "cell_type": "code",
   "execution_count": 20,
   "metadata": {},
   "outputs": [
    {
     "name": "stdout",
     "output_type": "stream",
     "text": [
      "9.333333333333334\n"
     ]
    }
   ],
   "source": [
    "from statistics import *\n",
    "print(mean([2,6,20]))"
   ]
  },
  {
   "cell_type": "code",
   "execution_count": 21,
   "metadata": {},
   "outputs": [],
   "source": [
    "import numpy as np"
   ]
  },
  {
   "cell_type": "code",
   "execution_count": 22,
   "metadata": {},
   "outputs": [
    {
     "data": {
      "text/plain": [
       "array([[6.23042070e-307, 0.00000000e+000, 1.72451033e-307,\n",
       "        1.44635488e-307, 1.37962320e-306],\n",
       "       [1.29060871e-306, 7.56603881e-307, 7.56599807e-307,\n",
       "        8.90104239e-307, 1.24610383e-306],\n",
       "       [1.69118108e-306, 8.06632139e-308, 1.20160711e-306,\n",
       "        1.69119330e-306, 1.29062229e-306],\n",
       "       [1.29060531e-306, 6.89805151e-307, 7.56592338e-307,\n",
       "        6.89807188e-307, 1.37961302e-306],\n",
       "       [8.45559303e-307, 1.06811422e-306, 1.05694828e-307,\n",
       "        2.22522596e-306, 2.10081501e-312]])"
      ]
     },
     "execution_count": 22,
     "metadata": {},
     "output_type": "execute_result"
    }
   ],
   "source": [
    "np.ndarray([5,5])"
   ]
  },
  {
   "cell_type": "markdown",
   "metadata": {},
   "source": [
    "## Numpy Array Creation\n",
    "Numpy Array data type"
   ]
  },
  {
   "cell_type": "code",
   "execution_count": 23,
   "metadata": {},
   "outputs": [
    {
     "name": "stdout",
     "output_type": "stream",
     "text": [
      "[1. 4. 5. 8.]\n"
     ]
    },
    {
     "data": {
      "text/plain": [
       "numpy.ndarray"
      ]
     },
     "execution_count": 23,
     "metadata": {},
     "output_type": "execute_result"
    }
   ],
   "source": [
    "a=np.array([1,4,5,8],float)\n",
    "print(a)\n",
    "type(a)"
   ]
  },
  {
   "cell_type": "code",
   "execution_count": 24,
   "metadata": {},
   "outputs": [
    {
     "data": {
      "text/plain": [
       "array([[1, 2, 1, 3],\n",
       "       [5, 3, 1, 8]])"
      ]
     },
     "execution_count": 24,
     "metadata": {},
     "output_type": "execute_result"
    }
   ],
   "source": [
    "a=np.array([[1,2,1,3],[5,3,1,8]])\n",
    "a"
   ]
  },
  {
   "cell_type": "code",
   "execution_count": 25,
   "metadata": {},
   "outputs": [
    {
     "data": {
      "text/plain": [
       "array([[1.        , 0.72870505],\n",
       "       [0.72870505, 1.        ]])"
      ]
     },
     "execution_count": 25,
     "metadata": {},
     "output_type": "execute_result"
    }
   ],
   "source": [
    "c=np.corrcoef(a)\n",
    "c"
   ]
  },
  {
   "cell_type": "code",
   "execution_count": 26,
   "metadata": {},
   "outputs": [
    {
     "data": {
      "text/plain": [
       "array([[1., 2., 3.],\n",
       "       [4., 5., 6.]])"
      ]
     },
     "execution_count": 26,
     "metadata": {},
     "output_type": "execute_result"
    }
   ],
   "source": [
    "a=np.array([[1,2,3],[4,5,6]],float)\n",
    "a"
   ]
  }
 ],
 "metadata": {
  "kernelspec": {
   "display_name": "Python 3",
   "language": "python",
   "name": "python3"
  },
  "language_info": {
   "codemirror_mode": {
    "name": "ipython",
    "version": 3
   },
   "file_extension": ".py",
   "mimetype": "text/x-python",
   "name": "python",
   "nbconvert_exporter": "python",
   "pygments_lexer": "ipython3",
   "version": "3.6.5"
  },
  "varInspector": {
   "cols": {
    "lenName": 16,
    "lenType": 16,
    "lenVar": 40
   },
   "kernels_config": {
    "python": {
     "delete_cmd_postfix": "",
     "delete_cmd_prefix": "del ",
     "library": "var_list.py",
     "varRefreshCmd": "print(var_dic_list())"
    },
    "r": {
     "delete_cmd_postfix": ") ",
     "delete_cmd_prefix": "rm(",
     "library": "var_list.r",
     "varRefreshCmd": "cat(var_dic_list()) "
    }
   },
   "types_to_exclude": [
    "module",
    "function",
    "builtin_function_or_method",
    "instance",
    "_Feature"
   ],
   "window_display": false
  }
 },
 "nbformat": 4,
 "nbformat_minor": 2
}
