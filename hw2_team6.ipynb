{
 "cells": [
  {
   "cell_type": "code",
   "execution_count": 4,
   "metadata": {},
   "outputs": [],
   "source": [
    "#Ch 6-A Looping and Matrix Practice\n",
    "#6조 이희준, 이윤주, 백경아\n",
    "#함수제한 print(), range(), len(), append() 까지만 쓸것\n",
    "\n",
    "\n",
    "#1.\n",
    "#Write a function f1(n) that prints the following triangle\n",
    "\"\"\"\n",
    ">>>f1(5)\n",
    "1\n",
    "1 2\n",
    "1 2 3\n",
    "1 2 3 4 5\n",
    "\n",
    "\"\"\"\n",
    "def f1(number):\n",
    "    for i in range(number):\n",
    "        for j in range(i+1):\n",
    "            print(j+1, end=\" \")\n",
    "        print(\" \")\n",
    "\n",
    "\n",
    "\n",
    "#2\n",
    "#Write a function f2(n) that prints the following triangle.\n",
    "\"\"\"\n",
    ">>>f2(3)\n",
    "1\n",
    "2 3\n",
    "4 5 6\n",
    "\"\"\"\n",
    "def f2(num):\n",
    "    count=1\n",
    "    for i in range(num):\n",
    "        for j in range(i+1):\n",
    "             print(count,end=\" \")\n",
    "             count+=1\n",
    "        print()\n",
    "\n",
    "\n",
    "\n",
    "#3\n",
    "#Write a function f3(n) that prints the following triangle.\n",
    "\"\"\"\n",
    ">>>f3(4)\n",
    "1\n",
    "2 3\n",
    "4 5 6\n",
    "7 8 9 10\n",
    "4 5 6\n",
    "2 3\n",
    "1\n",
    "\"\"\"\n",
    "def f3(number):\n",
    "    def sumnum(number):\n",
    "        sum=0\n",
    "        for i in range(number):\n",
    "            sum +=i+1\n",
    "        return sum\n",
    "    #sumnum의 의미는 각 줄별로 최대크기 \n",
    "    #첫번째줄: sumnum(1)-sumnum(0) 만큼 간    1개 출력         sumnum(0)+1부터 출력\n",
    "    #두번째줄: sumnum(2)-sumnum(1) 3 - 1      2개만큼 출력 근데 sumnum(1) +1 부터 sumnum(2)까지 출력\n",
    "    #세번째줄: sumnum(3)-sumnum(2) 6- 3       3개만큼 출력 근데 sumnum(2)+1 부터  sumnum(3)까지 출력\n",
    "    for row in range(0,number):\n",
    "        for i in range(sumnum(row),sumnum(row+1)):\n",
    "            print(i+1, end=\" \")\n",
    "        print(\" \")\n",
    "    for row2 in range(number-2,-1,-1):\n",
    "        for i in range(sumnum(row2),sumnum(row2+1)):\n",
    "            print(i+1,end=\" \")\n",
    "        print(\" \")\n",
    "\n",
    "    \n",
    "\n",
    "#4\n",
    "#Write a function f4(n) that prints the following triangle.\n",
    "\"\"\"\n",
    ">>>f4(3)\n",
    "1\n",
    "2 3\n",
    "4 5 6\n",
    "7 8 \n",
    "9\n",
    "\"\"\"\n",
    "def f4(number):\n",
    "    count=1\n",
    "    for i in range(number):\n",
    "        for j in range(i+1):\n",
    "            print(count,end=\" \")\n",
    "            count +=1\n",
    "        print(\" \")\n",
    "    \n",
    "    for i in range(number-2,-1,-1):\n",
    "        for j in range(i+1):\n",
    "            print(count, end=\" \")\n",
    "            count +=1\n",
    "        print(\" \")\n",
    "\n",
    "\n",
    "\n",
    "#5\n",
    "#Write a function f5(matrix) that will print the sum of each row of the matrix.\n",
    "def f5(matrix):\n",
    "    for row in matrix:\n",
    "        sum = 0\n",
    "        for ele in row:\n",
    "             sum += ele\n",
    "        print(sum)\n",
    "\n",
    "\n",
    "\n",
    "#6\n",
    "#Write a function f6(matrix) that will print the diagonals of the matrix.\n",
    "#Assume the matrix is a square.\n",
    "def f6(matrix):\n",
    "    for row in range(len(matrix)):\n",
    "        print(matrix[row][row])\n",
    "        \n",
    "\n",
    "\n",
    "#7\n",
    "#Write a function f7(matrix) that prints the sum of every row in the matrix.\n",
    "def f7(matrix): #5번과 동일합니다.\n",
    "    for row in matrix:\n",
    "        sum=0\n",
    "        for ele in row:\n",
    "            sum+=ele\n",
    "        print(sum)\n",
    "\n",
    "\n",
    "\n",
    "#8\n",
    "#Write a function f8(matrix) that returns the sum of all the elements in the matrix.\n",
    "def f8(matrix):\n",
    "    total=0\n",
    "    for row in matrix:\n",
    "        for col in row:\n",
    "            total= total+col\n",
    "    return total\n",
    "\n",
    "\n",
    "\n",
    "#9\n",
    "#Write a function f9(matrix) that returns the product of all the elements in the matrix.\n",
    "def f9(matrix):\n",
    "    total=1\n",
    "    for row in matrix:\n",
    "        for col in row:\n",
    "            total=total*col\n",
    "    return total\n",
    "\n",
    "\n",
    "\n",
    "#10\n",
    "#Write a function f10(matrix) \n",
    "#that will print the odd numbers in the matrix with each row on one line.\n",
    "def f10(matrix):\n",
    "    for row in matrix:\n",
    "        for col in row:\n",
    "            if col%2==1 :\n",
    "                print(col,end=\" \")\n",
    "        print() \n",
    "\n",
    "\n",
    "\n",
    "#11\n",
    "#Write a function f11(mat1,mat2) that will return the sum of mat1 and mat2\n",
    "#Assume mat1 and mat2 have the same dimensions.\n",
    "def f11(matrix1, matrix2):\n",
    "    result=matrix1\n",
    "    for i in range(len(matrix1)):\n",
    "        for j in range(len(matrix1[i])):\n",
    "            result[i][j]+=matrix2[i][j]\n",
    "    return result \n",
    "\n",
    "\n",
    "\n",
    "#12\n",
    "#Write a function f12(mat1,mat2) that will return the product of mat 1 and mat2. \n",
    "#Assume len(matrix1[0])==len(matrix2)\n",
    "def f12(mat1,mat2):\n",
    "    samecol=len(mat1[0])\n",
    "    row=len(mat1)\n",
    "    col=len(mat2[0])\n",
    "    c=[([0]*col) for row in range(row)]\n",
    "    \n",
    "    for i in range(row):\n",
    "        for j in range(samecol):\n",
    "            for k in range(col):\n",
    "                c[i][k]+= mat1[i][j]*mat2[j][k]\n",
    "    if len(c)==1 & len(c[0])==1:\n",
    "        c=c[0]\n",
    "    print(c)\n",
    "\n",
    "\n",
    "\n",
    "#13\n",
    "#Write a function f13(mat) that returns True \n",
    "#if the mat is the identity matrix, and False otherwise.\n",
    "#Assume len(matrix1[0])==len(matrix2)\n",
    "def f13(matrix):\n",
    "    n=len(matrix)\n",
    "    solution=True\n",
    "    \n",
    "    for i in range(n):\n",
    "        if matrix[i][i]!=1 :\n",
    "            solution = False\n",
    "        else :\n",
    "            for j in range(n):\n",
    "                if j==i :\n",
    "                    continue\n",
    "                else :\n",
    "                    if matrix[i][j]!=0 :\n",
    "                        solution = False\n",
    "    return solution   \n",
    "\n",
    "\n",
    "\n",
    "#14\n",
    "#Write a function f14(rows,cols) that returns a two dimensional list \n",
    "#where each element corresponds to how many adjacent neighbors it has.\n",
    "#Neighbors are defined as spaces above, below, to the left, and to the right.\n",
    "def f14(rows, cols):\n",
    "    ad=[]  #초기화\n",
    "    for i in range(rows): \n",
    "        temp=[]\n",
    "        for j in range(cols):\n",
    "            temp.append(0)\n",
    "        ad.append(temp)\n",
    "        \n",
    "    for i in range(rows):\n",
    "        for j in range(cols):\n",
    "            count=0\n",
    "            if i-1>=0 :  #above test\n",
    "                count+=1\n",
    "            if i+1<rows : # below test\n",
    "                count+=1\n",
    "            if j-1 >=0 : #left test\n",
    "                count+=1\n",
    "            if j+1 <cols : #right test\n",
    "                count+=1\n",
    "            ad[i][j] = count\n",
    "    return ad\n"
   ]
  },
  {
   "cell_type": "code",
   "execution_count": 5,
   "metadata": {},
   "outputs": [
    {
     "name": "stdout",
     "output_type": "stream",
     "text": [
      "1  \n",
      "1 2  \n",
      "1 2 3  \n",
      "1 2 3 4  \n",
      "1 2 3 4 5  \n"
     ]
    }
   ],
   "source": [
    "f1(5)"
   ]
  },
  {
   "cell_type": "code",
   "execution_count": 6,
   "metadata": {},
   "outputs": [],
   "source": [
    "f1(0)"
   ]
  },
  {
   "cell_type": "code",
   "execution_count": 7,
   "metadata": {},
   "outputs": [
    {
     "name": "stdout",
     "output_type": "stream",
     "text": [
      "1  \n"
     ]
    }
   ],
   "source": [
    "f1(1)"
   ]
  },
  {
   "cell_type": "code",
   "execution_count": 8,
   "metadata": {},
   "outputs": [
    {
     "name": "stdout",
     "output_type": "stream",
     "text": [
      "1 \n",
      "2 3 \n",
      "4 5 6 \n"
     ]
    }
   ],
   "source": [
    "f2(3)"
   ]
  },
  {
   "cell_type": "code",
   "execution_count": 9,
   "metadata": {},
   "outputs": [],
   "source": [
    "f2(0)"
   ]
  },
  {
   "cell_type": "code",
   "execution_count": 10,
   "metadata": {},
   "outputs": [
    {
     "name": "stdout",
     "output_type": "stream",
     "text": [
      "1 \n"
     ]
    }
   ],
   "source": [
    "f2(1)"
   ]
  },
  {
   "cell_type": "code",
   "execution_count": 11,
   "metadata": {},
   "outputs": [
    {
     "name": "stdout",
     "output_type": "stream",
     "text": [
      "1 \n",
      "2 3 \n",
      "4 5 6 \n",
      "7 8 9 10 \n",
      "11 12 13 14 15 \n"
     ]
    }
   ],
   "source": [
    "f2(5)"
   ]
  },
  {
   "cell_type": "code",
   "execution_count": 12,
   "metadata": {},
   "outputs": [
    {
     "name": "stdout",
     "output_type": "stream",
     "text": [
      "1  \n",
      "2 3  \n",
      "4 5 6  \n",
      "2 3  \n",
      "1  \n"
     ]
    }
   ],
   "source": [
    "f3(3)"
   ]
  },
  {
   "cell_type": "code",
   "execution_count": 13,
   "metadata": {},
   "outputs": [
    {
     "name": "stdout",
     "output_type": "stream",
     "text": [
      "1  \n",
      "2 3  \n",
      "4 5 6  \n",
      "7 8 9 10  \n",
      "4 5 6  \n",
      "2 3  \n",
      "1  \n"
     ]
    }
   ],
   "source": [
    "f3(4)"
   ]
  },
  {
   "cell_type": "code",
   "execution_count": 14,
   "metadata": {},
   "outputs": [],
   "source": [
    "f3(0)"
   ]
  },
  {
   "cell_type": "code",
   "execution_count": 15,
   "metadata": {},
   "outputs": [
    {
     "name": "stdout",
     "output_type": "stream",
     "text": [
      "1  \n"
     ]
    }
   ],
   "source": [
    "f3(1)"
   ]
  },
  {
   "cell_type": "code",
   "execution_count": 16,
   "metadata": {},
   "outputs": [
    {
     "name": "stdout",
     "output_type": "stream",
     "text": [
      "1  \n",
      "2 3  \n",
      "4 5 6  \n",
      "7 8  \n",
      "9  \n"
     ]
    }
   ],
   "source": [
    "f4(3)"
   ]
  },
  {
   "cell_type": "code",
   "execution_count": 17,
   "metadata": {},
   "outputs": [],
   "source": [
    "f4(0)"
   ]
  },
  {
   "cell_type": "code",
   "execution_count": 18,
   "metadata": {},
   "outputs": [
    {
     "name": "stdout",
     "output_type": "stream",
     "text": [
      "1  \n"
     ]
    }
   ],
   "source": [
    "f4(1)"
   ]
  },
  {
   "cell_type": "code",
   "execution_count": 19,
   "metadata": {},
   "outputs": [
    {
     "name": "stdout",
     "output_type": "stream",
     "text": [
      "1\n",
      "1\n"
     ]
    }
   ],
   "source": [
    "f5([[1,0],[0,1]])"
   ]
  },
  {
   "cell_type": "code",
   "execution_count": 20,
   "metadata": {},
   "outputs": [
    {
     "name": "stdout",
     "output_type": "stream",
     "text": [
      "6\n",
      "15\n"
     ]
    }
   ],
   "source": [
    "f5([[1,2,3],[4,5,6]])"
   ]
  },
  {
   "cell_type": "code",
   "execution_count": 22,
   "metadata": {},
   "outputs": [
    {
     "name": "stdout",
     "output_type": "stream",
     "text": [
      "1\n",
      "2\n",
      "3\n",
      "4\n"
     ]
    }
   ],
   "source": [
    "f5([[1],[2],[3],[4]])"
   ]
  },
  {
   "cell_type": "code",
   "execution_count": 23,
   "metadata": {},
   "outputs": [
    {
     "name": "stdout",
     "output_type": "stream",
     "text": [
      "1\n",
      "1\n"
     ]
    }
   ],
   "source": [
    "f6([[1,0],[0,1]])"
   ]
  },
  {
   "cell_type": "code",
   "execution_count": 24,
   "metadata": {},
   "outputs": [
    {
     "name": "stdout",
     "output_type": "stream",
     "text": [
      "1\n",
      "5\n",
      "9\n"
     ]
    }
   ],
   "source": [
    "f6([[1,2,3],[4,5,6],[7,8,9]])"
   ]
  },
  {
   "cell_type": "code",
   "execution_count": 25,
   "metadata": {},
   "outputs": [
    {
     "name": "stdout",
     "output_type": "stream",
     "text": [
      "1\n"
     ]
    }
   ],
   "source": [
    "f6([[1]])"
   ]
  },
  {
   "cell_type": "code",
   "execution_count": 26,
   "metadata": {},
   "outputs": [
    {
     "name": "stdout",
     "output_type": "stream",
     "text": [
      "1\n",
      "1\n"
     ]
    }
   ],
   "source": [
    "f7([[1,0],[0,1]])"
   ]
  },
  {
   "cell_type": "code",
   "execution_count": 27,
   "metadata": {},
   "outputs": [
    {
     "name": "stdout",
     "output_type": "stream",
     "text": [
      "6\n",
      "15\n"
     ]
    }
   ],
   "source": [
    "f7([[1,2,3],[4,5,6]])"
   ]
  },
  {
   "cell_type": "code",
   "execution_count": 28,
   "metadata": {},
   "outputs": [
    {
     "name": "stdout",
     "output_type": "stream",
     "text": [
      "1\n",
      "2\n",
      "3\n",
      "4\n"
     ]
    }
   ],
   "source": [
    "f7([[1],[2],[3],[4]])"
   ]
  },
  {
   "cell_type": "code",
   "execution_count": 29,
   "metadata": {},
   "outputs": [
    {
     "data": {
      "text/plain": [
       "2"
      ]
     },
     "execution_count": 29,
     "metadata": {},
     "output_type": "execute_result"
    }
   ],
   "source": [
    "f8([[1,0],[0,1]])"
   ]
  },
  {
   "cell_type": "code",
   "execution_count": 30,
   "metadata": {},
   "outputs": [
    {
     "data": {
      "text/plain": [
       "21"
      ]
     },
     "execution_count": 30,
     "metadata": {},
     "output_type": "execute_result"
    }
   ],
   "source": [
    "f8([[1,2,3],[4,5,6]])"
   ]
  },
  {
   "cell_type": "code",
   "execution_count": 31,
   "metadata": {},
   "outputs": [
    {
     "data": {
      "text/plain": [
       "10"
      ]
     },
     "execution_count": 31,
     "metadata": {},
     "output_type": "execute_result"
    }
   ],
   "source": [
    "f8([[1],[2],[3],[4]])"
   ]
  },
  {
   "cell_type": "code",
   "execution_count": 32,
   "metadata": {},
   "outputs": [
    {
     "data": {
      "text/plain": [
       "0"
      ]
     },
     "execution_count": 32,
     "metadata": {},
     "output_type": "execute_result"
    }
   ],
   "source": [
    "f9([[1,0],[0,1]])"
   ]
  },
  {
   "cell_type": "code",
   "execution_count": 33,
   "metadata": {},
   "outputs": [
    {
     "data": {
      "text/plain": [
       "720"
      ]
     },
     "execution_count": 33,
     "metadata": {},
     "output_type": "execute_result"
    }
   ],
   "source": [
    "f9([[1,2,3],[4,5,6]])"
   ]
  },
  {
   "cell_type": "code",
   "execution_count": 34,
   "metadata": {},
   "outputs": [
    {
     "data": {
      "text/plain": [
       "24"
      ]
     },
     "execution_count": 34,
     "metadata": {},
     "output_type": "execute_result"
    }
   ],
   "source": [
    "f9([[1],[2],[3],[4]])"
   ]
  },
  {
   "cell_type": "code",
   "execution_count": 40,
   "metadata": {},
   "outputs": [
    {
     "name": "stdout",
     "output_type": "stream",
     "text": [
      "1 \n",
      "1 \n"
     ]
    }
   ],
   "source": [
    "f10([[1,0],[0,1]])"
   ]
  },
  {
   "cell_type": "code",
   "execution_count": 37,
   "metadata": {},
   "outputs": [
    {
     "name": "stdout",
     "output_type": "stream",
     "text": [
      "1 3 \n",
      "5 \n"
     ]
    }
   ],
   "source": [
    "f10([[1,2,3],[4,5,6]])"
   ]
  },
  {
   "cell_type": "code",
   "execution_count": 39,
   "metadata": {},
   "outputs": [
    {
     "name": "stdout",
     "output_type": "stream",
     "text": [
      "1 \n",
      "\n",
      "3 \n",
      "\n"
     ]
    }
   ],
   "source": [
    "f10([[1],[2],[3],[4]])"
   ]
  },
  {
   "cell_type": "code",
   "execution_count": 41,
   "metadata": {},
   "outputs": [
    {
     "data": {
      "text/plain": [
       "[[2, 0], [0, 2]]"
      ]
     },
     "execution_count": 41,
     "metadata": {},
     "output_type": "execute_result"
    }
   ],
   "source": [
    "f11([[1,0],[0,1]],[[1,0],[0,1]])"
   ]
  },
  {
   "cell_type": "code",
   "execution_count": 42,
   "metadata": {},
   "outputs": [
    {
     "data": {
      "text/plain": [
       "[[0, 1, 2], [3, 4, 5]]"
      ]
     },
     "execution_count": 42,
     "metadata": {},
     "output_type": "execute_result"
    }
   ],
   "source": [
    "f11([[1,2,3],[4,5,6]],[[-1,-1,-1],[-1,-1,-1]])"
   ]
  },
  {
   "cell_type": "code",
   "execution_count": 46,
   "metadata": {},
   "outputs": [
    {
     "data": {
      "text/plain": [
       "[[5], [5], [5], [5]]"
      ]
     },
     "execution_count": 46,
     "metadata": {},
     "output_type": "execute_result"
    }
   ],
   "source": [
    "f11([[1],[2],[3],[4]],[[4],[3],[2],[1]])"
   ]
  },
  {
   "cell_type": "code",
   "execution_count": 47,
   "metadata": {},
   "outputs": [
    {
     "name": "stdout",
     "output_type": "stream",
     "text": [
      "[[1, 0], [0, 1]]\n"
     ]
    }
   ],
   "source": [
    "f12([[1,0],[0,1]],[[1,0],[0,1]])"
   ]
  },
  {
   "cell_type": "code",
   "execution_count": 48,
   "metadata": {},
   "outputs": [
    {
     "name": "stdout",
     "output_type": "stream",
     "text": [
      "[[-6, -6], [-15, -15]]\n"
     ]
    }
   ],
   "source": [
    "f12([[1,2,3],[4,5,6]],[[-1,-1],[-1,-1],[-1,-1]])"
   ]
  },
  {
   "cell_type": "code",
   "execution_count": 49,
   "metadata": {},
   "outputs": [
    {
     "name": "stdout",
     "output_type": "stream",
     "text": [
      "[20]\n"
     ]
    }
   ],
   "source": [
    "f12([[4,3,2,1]],[[1],[2],[3],[4]])"
   ]
  },
  {
   "cell_type": "code",
   "execution_count": 50,
   "metadata": {},
   "outputs": [
    {
     "data": {
      "text/plain": [
       "True"
      ]
     },
     "execution_count": 50,
     "metadata": {},
     "output_type": "execute_result"
    }
   ],
   "source": [
    "f13([[1]])"
   ]
  },
  {
   "cell_type": "code",
   "execution_count": 51,
   "metadata": {},
   "outputs": [
    {
     "data": {
      "text/plain": [
       "True"
      ]
     },
     "execution_count": 51,
     "metadata": {},
     "output_type": "execute_result"
    }
   ],
   "source": [
    "f13([[1,0,0],[0,1,0],[0,0,1]])"
   ]
  },
  {
   "cell_type": "code",
   "execution_count": 52,
   "metadata": {},
   "outputs": [
    {
     "data": {
      "text/plain": [
       "False"
      ]
     },
     "execution_count": 52,
     "metadata": {},
     "output_type": "execute_result"
    }
   ],
   "source": [
    "f13([[1,0,0],[0,1,5],[0,0,1]])"
   ]
  },
  {
   "cell_type": "code",
   "execution_count": 53,
   "metadata": {},
   "outputs": [
    {
     "data": {
      "text/plain": [
       "[[2, 3, 2], [3, 4, 3], [2, 3, 2]]"
      ]
     },
     "execution_count": 53,
     "metadata": {},
     "output_type": "execute_result"
    }
   ],
   "source": [
    "f14(3,3)"
   ]
  },
  {
   "cell_type": "code",
   "execution_count": 54,
   "metadata": {},
   "outputs": [
    {
     "data": {
      "text/plain": [
       "[[1], [2], [2], [2], [1]]"
      ]
     },
     "execution_count": 54,
     "metadata": {},
     "output_type": "execute_result"
    }
   ],
   "source": [
    "f14(5,1)"
   ]
  },
  {
   "cell_type": "code",
   "execution_count": 55,
   "metadata": {},
   "outputs": [
    {
     "data": {
      "text/plain": [
       "[[], [], [], [], []]"
      ]
     },
     "execution_count": 55,
     "metadata": {},
     "output_type": "execute_result"
    }
   ],
   "source": [
    "f14(5,0)"
   ]
  },
  {
   "cell_type": "code",
   "execution_count": 56,
   "metadata": {},
   "outputs": [
    {
     "data": {
      "text/plain": [
       "[]"
      ]
     },
     "execution_count": 56,
     "metadata": {},
     "output_type": "execute_result"
    }
   ],
   "source": [
    "f14(0,5)"
   ]
  },
  {
   "cell_type": "code",
   "execution_count": 57,
   "metadata": {},
   "outputs": [
    {
     "data": {
      "text/plain": [
       "[[2, 2], [2, 2]]"
      ]
     },
     "execution_count": 57,
     "metadata": {},
     "output_type": "execute_result"
    }
   ],
   "source": [
    "f14(2,2)"
   ]
  },
 "metadata": {
  "kernelspec": {
   "display_name": "Python 3",
   "language": "python",
   "name": "python3"
  },
  "language_info": {
   "codemirror_mode": {
    "name": "ipython",
    "version": 3
   },
   "file_extension": ".py",
   "mimetype": "text/x-python",
   "name": "python",
   "nbconvert_exporter": "python",
   "pygments_lexer": "ipython3",
   "version": "3.6.5"
  }
 },
 "nbformat": 4,
 "nbformat_minor": 2
}
