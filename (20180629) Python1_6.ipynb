{
 "cells": [
  {
   "cell_type": "markdown",
   "metadata": {},
   "source": [
    "# Ch7.Recursion in Python"
   ]
  },
  {
   "cell_type": "markdown",
   "metadata": {},
   "source": [
    "## Recursion Practices"
   ]
  },
  {
   "cell_type": "code",
   "execution_count": 6,
   "metadata": {
    "collapsed": true
   },
   "outputs": [],
   "source": [
    "def factorial(n):\n",
    "    factorial =1\n",
    "    for i in range(2,n+1):\n",
    "        factorial *=i\n",
    "    return factorial"
   ]
  },
  {
   "cell_type": "code",
   "execution_count": 7,
   "metadata": {
    "collapsed": true
   },
   "outputs": [],
   "source": [
    "#recursive solution \n",
    "def factorial(n):\n",
    "    if(n<2):\n",
    "        return 1\n",
    "    else:\n",
    "        return n*factorial(n-1)"
   ]
  },
  {
   "cell_type": "code",
   "execution_count": 8,
   "metadata": {
    "collapsed": true
   },
   "outputs": [],
   "source": [
    "#recursive solution depth 시각화\n",
    "def factorial_rsd(n,depth=0):\n",
    "    print(\" \"*depth, \"factorial(\", n, \"):\")\n",
    "    if(n<2):\n",
    "        result=1\n",
    "    else:\n",
    "        result=n*factorial_rse(n-1,depth+1)\n",
    "    print(\" \"*depth,\"->\", result)\n",
    "    return result\n",
    "#Recursion call할때마다 depth가 깊어지는 것을 보여주는 print 문"
   ]
  },
  {
   "cell_type": "code",
   "execution_count": 9,
   "metadata": {},
   "outputs": [
    {
     "name": "stdout",
     "output_type": "stream",
     "text": [
      "120\n"
     ]
    }
   ],
   "source": [
    "print(factorial(5))"
   ]
  },
  {
   "cell_type": "code",
   "execution_count": 10,
   "metadata": {},
   "outputs": [
    {
     "name": "stdout",
     "output_type": "stream",
     "text": [
      "dcba\n"
     ]
    }
   ],
   "source": [
    "def reverse(s):\n",
    "    reverse=\"\"\n",
    "    for ch in s:\n",
    "        reverse=ch+reverse\n",
    "    return reverse\n",
    "print(reverse(\"abcd\"))"
   ]
  },
  {
   "cell_type": "code",
   "execution_count": 11,
   "metadata": {},
   "outputs": [
    {
     "name": "stdout",
     "output_type": "stream",
     "text": [
      "dcba\n"
     ]
    }
   ],
   "source": [
    "#recursive solution \n",
    "def reverse_r(s):           \n",
    "    if(s==\"\"):\n",
    "        return \"\"\n",
    "    else:\n",
    "        return reverse(s[1:]) +s[0]\n",
    "\n",
    "print(reverse_r(\"abcd\"))"
   ]
  },
  {
   "cell_type": "code",
   "execution_count": 12,
   "metadata": {},
   "outputs": [
    {
     "name": "stdout",
     "output_type": "stream",
     "text": [
      " reverse( abcd )\n",
      "  reverse( bcd )\n",
      "   reverse( cd )\n",
      "    reverse( d )\n",
      "     reverse(  )\n",
      "dcba\n"
     ]
    }
   ],
   "source": [
    "#recursive solution depth 시각화\n",
    "def reverse_rsd(s,depth=0):\n",
    "    print(\" \"*depth, \"reverse(\", s,\")\")\n",
    "    if ( s==\"\"):\n",
    "        return \"\"\n",
    "    else:\n",
    "        return reverse_rsd( s[1:], depth+1) +s[0]\n",
    "    print(\" \"*depth, \"-->\", result)\n",
    "    return result\n",
    "\n",
    "print(reverse_rsd(\"abcd\"))"
   ]
  },
  {
   "cell_type": "code",
   "execution_count": 13,
   "metadata": {},
   "outputs": [
    {
     "name": "stdout",
     "output_type": "stream",
     "text": [
      "4\n"
     ]
    }
   ],
   "source": [
    "#GCD\n",
    "def gcd(x,y):\n",
    "    while(y>0):\n",
    "        oldX=x\n",
    "        x=y\n",
    "        y=oldX%y\n",
    "    return x\n",
    "\"\"\"\n",
    "20=12*1+8\n",
    "12=8*1+4\n",
    "8=4*2 + 0\n",
    "나머지가 0이면 x를 리턴한다.\n",
    "while Loop를 먼저 이해한다음에 recursive solution으로 표현하자\n",
    "\"\"\"\n",
    "print(gcd(20,12))"
   ]
  },
  {
   "cell_type": "code",
   "execution_count": 14,
   "metadata": {},
   "outputs": [
    {
     "name": "stdout",
     "output_type": "stream",
     "text": [
      "4\n"
     ]
    }
   ],
   "source": [
    "#recursive solution\n",
    "def gcd_r(x,y):\n",
    "    if(y==0):                  #base case\n",
    "        return x\n",
    "    else:                      #recursive case\n",
    "        return gcd(y,x%y) \n",
    "print(gcd_r(20,12))"
   ]
  },
  {
   "cell_type": "code",
   "execution_count": 15,
   "metadata": {},
   "outputs": [
    {
     "name": "stdout",
     "output_type": "stream",
     "text": [
      " gcd( 20 , 12 ):\n",
      "  gcd( 12 , 8 ):\n",
      "   gcd( 8 , 4 ):\n",
      "    gcd( 4 , 0 ):\n",
      "   --> 4\n",
      "  --> 4\n",
      " --> 4\n",
      "4\n"
     ]
    }
   ],
   "source": [
    "#recursive solution depth 시각화\n",
    "def gcd_rsd(x,y,depth=0):\n",
    "    print(\" \"*depth,\"gcd(\", x,\",\", y,\"):\")\n",
    "    if(y==0):\n",
    "        result= x\n",
    "    else:\n",
    "        result=gcd_rsd(y, x%y ,depth+1)\n",
    "        print(\" \"*depth,\"-->\",result)\n",
    "    return result\n",
    "\n",
    "print(gcd_rsd(20,12))"
   ]
  },
  {
   "cell_type": "code",
   "execution_count": 16,
   "metadata": {
    "collapsed": true
   },
   "outputs": [],
   "source": [
    "#PI\n",
    "def pi_series_iter(n):\n",
    "    result =0\n",
    "    for i in range(1,n+1):\n",
    "        result= result+ 1/(i**2)\n",
    "    return result\n",
    "\n",
    "def pi_approx_iter(n):\n",
    "    x=pi_series_iter(n)\n",
    "    return (6*x)**(.5)"
   ]
  },
  {
   "cell_type": "code",
   "execution_count": 17,
   "metadata": {},
   "outputs": [
    {
     "data": {
      "text/plain": [
       "1.6359655170976268"
      ]
     },
     "execution_count": 17,
     "metadata": {},
     "output_type": "execute_result"
    }
   ],
   "source": [
    "pi_series_iter(111)"
   ]
  },
  {
   "cell_type": "code",
   "execution_count": 18,
   "metadata": {},
   "outputs": [
    {
     "data": {
      "text/plain": [
       "3.04936163598207"
      ]
     },
     "execution_count": 18,
     "metadata": {},
     "output_type": "execute_result"
    }
   ],
   "source": [
    "pi_approx_iter(10)"
   ]
  },
  {
   "cell_type": "code",
   "execution_count": 19,
   "metadata": {
    "collapsed": true
   },
   "outputs": [],
   "source": [
    "def pi_series_r(i):\n",
    "    assert(i>=0)\n",
    "    #base case\n",
    "    if i==0:\n",
    "        return 0\n",
    "    #recursive case\n",
    "    else:\n",
    "        return pi_series_r(i-1) +1/i**2\n",
    "    \n",
    "def pi_approx_r(n):\n",
    "    x=pi_series_r(n)\n",
    "    return (6*x)**(.5)\n",
    "\n",
    "#assert function은\n",
    "\n",
    "def test_pi_approx():\n",
    "    #assert문은 내가 알고있는 값대로 나오지 않으면, True가 나오지않으면 뻥하고 프로그램 터뜨리긔\n",
    "    #assert error 반환합니다.\n",
    "    \n",
    "    assert(pi_approx_iter(10)==3.04936163598207)\n",
    "    assert(pi_approx_iter(100)==3.1320765318091053)\n",
    "    assert(pi_approx_iter(1000)==3.1406380562059946)\n",
    "    assert(pi_approx_iter(10000)==3.1414971639472147)\n",
    "    \n",
    "    #왜 996까지냐면, 파이썬에서는 recursion이 1000이 넘어가면 뻥하고 터지게되어있기때문 그게 디폴트야!\n",
    "    for i in range(996): \n",
    "        assert(pi_approx_r(i)==pi_approx_iter(i))\n",
    "    print(\"Done testing pi approximations\")"
   ]
  },
  {
   "cell_type": "code",
   "execution_count": 20,
   "metadata": {},
   "outputs": [
    {
     "name": "stdout",
     "output_type": "stream",
     "text": [
      "Done testing pi approximations\n"
     ]
    }
   ],
   "source": [
    "test_pi_approx()"
   ]
  },
  {
   "cell_type": "markdown",
   "metadata": {},
   "source": [
    "## Divide and Conquer"
   ]
  },
  {
   "cell_type": "markdown",
   "metadata": {},
   "source": [
    "### Divide and Conquer"
   ]
  },
  {
   "cell_type": "code",
   "execution_count": 21,
   "metadata": {
    "collapsed": true
   },
   "outputs": [],
   "source": [
    "\"\"\"\n",
    "알고리즘의 가족들중에\n",
    "DIvide and Conquer\n",
    "\"\"\"\n",
    "\n",
    "\"\"\"\n",
    "문제를 작은문제들로 나눈다음에, 정복한다\n",
    "부셔서 작은문제로 나누어서 정복한다아!!\n",
    "문제를 하나의 패러다임이 되겠지요\n",
    "나누고 풀고, 합쳐야합니다\n",
    "\"\"\"\n",
    "\n",
    "def loopPower(a,n):\n",
    "    ans=1\n",
    "    for i in range(n):\n",
    "        ans*=a\n",
    "    return ans\n",
    "\"\"\"\n",
    "근데 굳이 이 방법보다는 \n",
    "a^5을 한번 구해서 같은걸 두번 곱하면 a의 10승이 된다\n",
    "이렇게하면 지혜롭게할수있다. 문제를 더 잘 나눠서 할수있당!\n",
    "\"\"\"\n",
    "\n",
    "\n",
    "def recursivePower(a,n):\n",
    "    #raises a to the int power n\n",
    "    if n==0:\n",
    "        return 1\n",
    "    else:\n",
    "        factor = recursivePower(a,n//3)\n",
    "        #n is even\n",
    "        if n%2==0:\n",
    "            return factor*factor\n",
    "        #n is odd\n",
    "        else:\n",
    "            return factor *factor *a"
   ]
  },
  {
   "cell_type": "code",
   "execution_count": 22,
   "metadata": {},
   "outputs": [
    {
     "name": "stdout",
     "output_type": "stream",
     "text": [
      "6.199999999978445e-05\n"
     ]
    }
   ],
   "source": [
    "import time\n",
    "start=time.clock()\n",
    "loopPower(2,50)\n",
    "end=time.clock()\n",
    "\n",
    "duration=end-start\n",
    "print(duration)"
   ]
  },
  {
   "cell_type": "code",
   "execution_count": 23,
   "metadata": {},
   "outputs": [
    {
     "name": "stdout",
     "output_type": "stream",
     "text": [
      "7.300000000043383e-05\n"
     ]
    }
   ],
   "source": [
    "start=time.clock()\n",
    "recursivePower(2,50)\n",
    "end=time.clock()\n",
    "\n",
    "duration=end-start\n",
    "print(duration)\n",
    "#시간이 반이상 줄었어 짱신기하다!!!"
   ]
  },
  {
   "cell_type": "markdown",
   "metadata": {},
   "source": [
    "### Sorting Algorithms"
   ]
  },
  {
   "cell_type": "code",
   "execution_count": 24,
   "metadata": {
    "collapsed": true
   },
   "outputs": [],
   "source": [
    "\"\"\"\n",
    "우리가 왜 sorting을 해야하느뇨\n",
    "Sorting된 데이터는 binary Tree로 데이터를 찾아내기가 쉬워진다\n",
    "크기순서대로 되어있으면 기준을 잡고 찾는속도가 획기적으로 줄어들지요!\n",
    "5가지 배울건데\n",
    "3가지는 바보같고\n",
    "2가지는 괜찮앙\n",
    "\n",
    "\n",
    "\"\"\"\n",
    "\"\"\"\n",
    "#selection sort\n",
    "#naive sorting이다 라고합니다\n",
    "#굉장히 별로인 sorting방식\n",
    "#리스트안에있는 제일 작은 놈을 bottom으로 두고\n",
    "#제일 작은놈을 찾았으면 제일 앞에 두고 맨앞에 있던 놈은 뽑힌놈 자리로 바꿔준다 swap 한다\n",
    "#리스트에서 제일 작은놈 맨앞이니까 죽어도 작은놈이에요\n",
    "#맨앞에 bottom은 이제 신경쓸 필요없으니까\n",
    "#두번째칸부터 다시 제일 작은놈을 찾아서\n",
    "#제일 작은 아이를 찾아서 새로운 bottom이랑 자리를 바꿔줍니다\n",
    "#이런식으로 반복!!!\n",
    "\"\"\"\n",
    "\n",
    "def selSort(nums): #sort nums into ascending order\n",
    "    \n",
    "    n=len(nums)\n",
    "    #For each position in the list(except the very last)\n",
    "    for bottom in range(n-1):\n",
    "        #find the smallest item in nums[bottom]....nums[n-1]\n",
    "        \n",
    "        mp=bottom #bottom is smallest initially\n",
    "        \n",
    "        for i in range(bottom+1,n): #look at each position\n",
    "            \n",
    "            if nums[i] <nums[mp]: # this one is smaller\n",
    "                \n",
    "                #제일 작은 위치 찾아서 index를 bottom에 넣기\n",
    "                mp=i\n",
    "                \n",
    "                \n",
    "        #swap the smallest item to the bottom\n",
    "        nums[bottom], nums[mp]= nums[mp],nums[bottom]\n",
    "        print(nums)\n",
    "    print(\"최종본: \",nums )"
   ]
  },
  {
   "cell_type": "code",
   "execution_count": 25,
   "metadata": {
    "scrolled": false
   },
   "outputs": [
    {
     "name": "stdout",
     "output_type": "stream",
     "text": [
      "[1, 4, 6, 2, 10, 11, 12, 7, 5]\n",
      "[1, 2, 6, 4, 10, 11, 12, 7, 5]\n",
      "[1, 2, 4, 6, 10, 11, 12, 7, 5]\n",
      "[1, 2, 4, 5, 10, 11, 12, 7, 6]\n",
      "[1, 2, 4, 5, 6, 11, 12, 7, 10]\n",
      "[1, 2, 4, 5, 6, 7, 12, 11, 10]\n",
      "[1, 2, 4, 5, 6, 7, 10, 11, 12]\n",
      "[1, 2, 4, 5, 6, 7, 10, 11, 12]\n",
      "최종본:  [1, 2, 4, 5, 6, 7, 10, 11, 12]\n"
     ]
    }
   ],
   "source": [
    "selSort([6,4,1,2,10,11,12,7,5])"
   ]
  },
  {
   "cell_type": "code",
   "execution_count": 26,
   "metadata": {},
   "outputs": [
    {
     "data": {
      "text/plain": [
       "'\\n\\nSelection Sort   naive      n**2승만큼 계산함\\n\\nInsertion Sort   naive\\n\\nBubble Sort      naive\\n\\nMerge Sort       세련됨     n*log(n)만큼 계산함 개꿀!\\n\\nQuick Sort       세련됨\\n\\n'"
      ]
     },
     "execution_count": 26,
     "metadata": {},
     "output_type": "execute_result"
    }
   ],
   "source": [
    "\"\"\"\n",
    "\n",
    "Selection Sort   naive      n**2승만큼 계산함\n",
    "\n",
    "Insertion Sort   naive\n",
    "\n",
    "Bubble Sort      naive\n",
    "\n",
    "Merge Sort       세련됨     n*log(n)만큼 계산함 개꿀!\n",
    "\n",
    "Quick Sort       세련됨\n",
    "\n",
    "\"\"\""
   ]
  },
  {
   "cell_type": "code",
   "execution_count": null,
   "metadata": {
    "collapsed": true
   },
   "outputs": [],
   "source": []
  },
  {
   "cell_type": "code",
   "execution_count": null,
   "metadata": {
    "collapsed": true
   },
   "outputs": [],
   "source": []
  },
  {
   "cell_type": "code",
   "execution_count": 27,
   "metadata": {
    "collapsed": true
   },
   "outputs": [],
   "source": [
    "#Merge-Sort: Conquer Step\n",
    "\n",
    "\"\"\"\n",
    "예제, 리스트 안의 원소가 8개라면\n",
    "리스트안의 모든 것들을 다 하나하나씩 나눠버린다.\n",
    "한개씩 나눠진 각각의 리스트를 앞에부터 두개씩 비교하면서 합친다\n",
    "그럼 두개씩 쏘팅되어있는 리스트를 4개 가지고있게 된다.\n",
    "\n",
    "input: list(a)\n",
    "output:\n",
    "\n",
    "1.전부다 복사해서 하나씩 나눠버린다 base케이스가 뭐냐면 하나씩 남은 상태겠지 \n",
    "2.\n",
    "\n",
    "\"\"\"\n",
    "\n",
    "def msort(list):\n",
    "    #base case\n",
    "    if len(list)==0 or len(list) ==1:\n",
    "        return list[:len(list)]\n",
    "    \n",
    "    #recursive case\n",
    "    halfway=len(list)//2\n",
    "    list1=list[0:halfway]\n",
    "    list2=list[halfway:len(list)]\n",
    "    \n",
    "    newlist1=msort(list1)           #recursively sort left half\n",
    "    newlist2=msort(list2)           #recursively sort right half\n",
    "    newlist=merge(newlist1,newlist2)\n",
    "    return newlist\n",
    "\n",
    "\n",
    "def merge(a,b):\n",
    "    index_a=0\n",
    "    index_b=0\n",
    "    c=[] \n",
    "    while index_a < len(a) and index_b < len(b):\n",
    "        if a[index_a]<=b[index_b]:\n",
    "            c.append(a[index_a])\n",
    "            index_a +=1\n",
    "        else:\n",
    "            c.append(b[index_b])\n",
    "            index_b +=1\n",
    "            \n",
    "    #when we exit the loop\n",
    "    #we are at the end of at least one of the lists\n",
    "    #merge된 리스트가 붙는거다 c에\n",
    "    \n",
    "    #왜 extend하냐면, 위에 merge while문에서 전부다 돌고나서 맨 마지막 하나는 남거든\n",
    "    #그거 붙여줄라고 하는거야.\n",
    "    c.extend(a[index_a:])\n",
    "    c.extend(b[index_b:])\n",
    "    return c            "
   ]
  },
  {
   "cell_type": "code",
   "execution_count": 28,
   "metadata": {
    "collapsed": true
   },
   "outputs": [],
   "source": [
    "a=msort([5,4,3,7,8,10,1,2])"
   ]
  },
  {
   "cell_type": "code",
   "execution_count": 29,
   "metadata": {},
   "outputs": [
    {
     "data": {
      "text/plain": [
       "[1, 2, 3, 4, 5, 7, 8, 10]"
      ]
     },
     "execution_count": 29,
     "metadata": {},
     "output_type": "execute_result"
    }
   ],
   "source": [
    "sorted([5,4,3,7,8,10,1,2]) #이런게 있어요. quick sort의 사촌쯤 되는 거다."
   ]
  },
  {
   "cell_type": "code",
   "execution_count": 30,
   "metadata": {},
   "outputs": [
    {
     "data": {
      "text/plain": [
       "[1, 2, 3, 4, 5, 7, 8, 10]"
      ]
     },
     "execution_count": 30,
     "metadata": {},
     "output_type": "execute_result"
    }
   ],
   "source": [
    "a.extend([])\n",
    "a"
   ]
  },
  {
   "cell_type": "code",
   "execution_count": 31,
   "metadata": {},
   "outputs": [
    {
     "data": {
      "text/plain": [
       "[1, 2, 3, 4, 5, 7, 8, 10, 1, 2, 3]"
      ]
     },
     "execution_count": 31,
     "metadata": {},
     "output_type": "execute_result"
    }
   ],
   "source": [
    "a.extend([1,2,3])\n",
    "a"
   ]
  },
  {
   "cell_type": "markdown",
   "metadata": {},
   "source": [
    "# Advanced Data Types in Python"
   ]
  },
  {
   "cell_type": "markdown",
   "metadata": {},
   "source": [
    "## Tuple"
   ]
  },
  {
   "cell_type": "code",
   "execution_count": 32,
   "metadata": {},
   "outputs": [
    {
     "name": "stdout",
     "output_type": "stream",
     "text": [
      "() \t (1,) \t (1, 2, 3) \t (1, 2, 3) \t ('a', 'b', ('ab', 'cd'))\n"
     ]
    }
   ],
   "source": [
    "\"\"\"\n",
    "튜플은 리스트와 비슷한데 이거는 변경이 안된다\n",
    "immutable\n",
    "\"\"\"\n",
    "t1=()\n",
    "t2=(1,)   #하나가 들어있는 튜플은 뒤에다가 ,찍어줘야한다 ,안 찍어주면 정수형으로 변환해버립니다.\n",
    "t3=(1,2,3)\n",
    "t4=1,2,3\n",
    "t5=('a','b',('ab','cd'))\n",
    "print(t1,\"\\t\", t2,\"\\t\", t3,\"\\t\", t4,\"\\t\", t5)"
   ]
  },
  {
   "cell_type": "code",
   "execution_count": 33,
   "metadata": {},
   "outputs": [
    {
     "ename": "TypeError",
     "evalue": "'tuple' object doesn't support item deletion",
     "output_type": "error",
     "traceback": [
      "\u001b[0;31m---------------------------------------------------------------------------\u001b[0m",
      "\u001b[0;31mTypeError\u001b[0m                                 Traceback (most recent call last)",
      "\u001b[0;32m<ipython-input-33-4662585b5ccb>\u001b[0m in \u001b[0;36m<module>\u001b[0;34m()\u001b[0m\n\u001b[1;32m      1\u001b[0m \u001b[0;31m#튜플 요소 값 삭제 시 오류\u001b[0m\u001b[0;34m\u001b[0m\u001b[0;34m\u001b[0m\u001b[0m\n\u001b[1;32m      2\u001b[0m \u001b[0mt1\u001b[0m\u001b[0;34m=\u001b[0m\u001b[0;34m(\u001b[0m\u001b[0;36m1\u001b[0m\u001b[0;34m,\u001b[0m\u001b[0;36m2\u001b[0m\u001b[0;34m,\u001b[0m\u001b[0;34m'a'\u001b[0m\u001b[0;34m,\u001b[0m\u001b[0;34m'b'\u001b[0m\u001b[0;34m)\u001b[0m\u001b[0;34m\u001b[0m\u001b[0m\n\u001b[0;32m----> 3\u001b[0;31m \u001b[0;32mdel\u001b[0m \u001b[0mt1\u001b[0m\u001b[0;34m[\u001b[0m\u001b[0;36m0\u001b[0m\u001b[0;34m]\u001b[0m\u001b[0;34m\u001b[0m\u001b[0m\n\u001b[0m",
      "\u001b[0;31mTypeError\u001b[0m: 'tuple' object doesn't support item deletion"
     ]
    }
   ],
   "source": [
    "#튜플 요소 값 삭제 시 오류\n",
    "t1=(1,2,'a','b')\n",
    "del t1[0]"
   ]
  },
  {
   "cell_type": "code",
   "execution_count": 34,
   "metadata": {},
   "outputs": [
    {
     "ename": "TypeError",
     "evalue": "'tuple' object does not support item assignment",
     "output_type": "error",
     "traceback": [
      "\u001b[0;31m---------------------------------------------------------------------------\u001b[0m",
      "\u001b[0;31mTypeError\u001b[0m                                 Traceback (most recent call last)",
      "\u001b[0;32m<ipython-input-34-d8da717ec9a0>\u001b[0m in \u001b[0;36m<module>\u001b[0;34m()\u001b[0m\n\u001b[1;32m      1\u001b[0m \u001b[0;31m#튜플 요소 값 변경시 오류\u001b[0m\u001b[0;34m\u001b[0m\u001b[0;34m\u001b[0m\u001b[0m\n\u001b[0;32m----> 2\u001b[0;31m \u001b[0mt1\u001b[0m\u001b[0;34m[\u001b[0m\u001b[0;36m0\u001b[0m\u001b[0;34m]\u001b[0m\u001b[0;34m=\u001b[0m\u001b[0;34m'c'\u001b[0m\u001b[0;34m\u001b[0m\u001b[0m\n\u001b[0m",
      "\u001b[0;31mTypeError\u001b[0m: 'tuple' object does not support item assignment"
     ]
    }
   ],
   "source": [
    "#튜플 요소 값 변경시 오류\n",
    "t1[0]='c'"
   ]
  },
  {
   "cell_type": "code",
   "execution_count": 35,
   "metadata": {},
   "outputs": [
    {
     "name": "stdout",
     "output_type": "stream",
     "text": [
      "3\n",
      "(1, 2, 3, 4, 5, 6)\n",
      "('Hi', 'Hi', 'Hi')\n",
      "True\n",
      "1\n",
      "2\n",
      "3\n"
     ]
    }
   ],
   "source": [
    "print(len((1,2,3)))\n",
    "print((1,2,3)+(4,5,6))\n",
    "print(('Hi',)*3)\n",
    "print( 3 in (1,2,3))\n",
    "for x in(1,2,3) : print(x)"
   ]
  },
  {
   "cell_type": "code",
   "execution_count": 36,
   "metadata": {},
   "outputs": [
    {
     "name": "stdout",
     "output_type": "stream",
     "text": [
      "Spam!\n",
      "Spam\n",
      "('Spam', 'Spam!')\n"
     ]
    }
   ],
   "source": [
    "L=('span','Spam','Spam!')\n",
    "print(L[2])  #인덱싱\n",
    "print(L[-2]) #인덱싱\n",
    "print(L[1:]) #슬라이싱"
   ]
  },
  {
   "cell_type": "markdown",
   "metadata": {},
   "source": [
    "## Set"
   ]
  },
  {
   "cell_type": "code",
   "execution_count": 37,
   "metadata": {},
   "outputs": [
    {
     "data": {
      "text/plain": [
       "{3}"
      ]
     },
     "execution_count": 37,
     "metadata": {},
     "output_type": "execute_result"
    }
   ],
   "source": [
    "s=set((3,))\n",
    "s\n",
    "#s= set(3) 이건 오류난다"
   ]
  },
  {
   "cell_type": "code",
   "execution_count": 38,
   "metadata": {},
   "outputs": [
    {
     "data": {
      "text/plain": [
       "set()"
      ]
     },
     "execution_count": 38,
     "metadata": {},
     "output_type": "execute_result"
    }
   ],
   "source": [
    "s={} #이거는 empty dictionary입니다 empty set아니므로 주의해야합니다!\n",
    "s=set() #이렇게 해야 empty set이 됩니다\n",
    "s"
   ]
  },
  {
   "cell_type": "code",
   "execution_count": 39,
   "metadata": {},
   "outputs": [
    {
     "name": "stdout",
     "output_type": "stream",
     "text": [
      "True\n",
      "False\n",
      "0\n",
      "1\n",
      "4\n",
      "6\n"
     ]
    }
   ],
   "source": [
    "s=set([2,3,5])#{2,3,5}라고 표기해도 되고, 안에 순서는 전혀 상관이 없습니다\n",
    "print( 3 in s) #set containment test  셋 안에 포함하고있는가 테스트 할때가 우리가 많지요\n",
    "print( 4 in s)\n",
    "for x in range(7):\n",
    "    if ( x not in s): #안들어있는거 출력해주는 함수다\n",
    "        print(x)"
   ]
  },
  {
   "cell_type": "code",
   "execution_count": 40,
   "metadata": {},
   "outputs": [
    {
     "name": "stdout",
     "output_type": "stream",
     "text": [
      "{'h', 'w', 'o', 'a'}\n"
     ]
    }
   ],
   "source": [
    "s=set(\"wahoo\")\n",
    "print(s)"
   ]
  },
  {
   "cell_type": "code",
   "execution_count": 41,
   "metadata": {},
   "outputs": [
    {
     "name": "stdout",
     "output_type": "stream",
     "text": [
      "{2, 3, 5}\n"
     ]
    }
   ],
   "source": [
    "#같은값이 여러개 나타날수있는 집합\n",
    "#그럴경우는 multiset선언해야하는데 python에는 그런게 없다\n",
    "s={2,3,5}\n",
    "print(s)"
   ]
  },
  {
   "cell_type": "code",
   "execution_count": 42,
   "metadata": {},
   "outputs": [
    {
     "ename": "SyntaxError",
     "evalue": "unexpected EOF while parsing (<ipython-input-42-3b69a018f157>, line 3)",
     "output_type": "error",
     "traceback": [
      "\u001b[0;36m  File \u001b[0;32m\"<ipython-input-42-3b69a018f157>\"\u001b[0;36m, line \u001b[0;32m3\u001b[0m\n\u001b[0;31m    print(type(s)\u001b[0m\n\u001b[0m                 ^\u001b[0m\n\u001b[0;31mSyntaxError\u001b[0m\u001b[0;31m:\u001b[0m unexpected EOF while parsing\n"
     ]
    }
   ],
   "source": [
    "s={ }\n",
    "print(type(s)== set) #False\n",
    "print(type(s)"
   ]
  },
  {
   "cell_type": "code",
   "execution_count": 43,
   "metadata": {},
   "outputs": [
    {
     "data": {
      "text/plain": [
       "set"
      ]
     },
     "execution_count": 43,
     "metadata": {},
     "output_type": "execute_result"
    }
   ],
   "source": [
    "type(s)"
   ]
  },
  {
   "cell_type": "code",
   "execution_count": 44,
   "metadata": {},
   "outputs": [
    {
     "name": "stdout",
     "output_type": "stream",
     "text": [
      "{2}\n",
      "1\n"
     ]
    }
   ],
   "source": [
    "s=set([2,2,2])\n",
    "print(s)\n",
    "print(len(s))\n",
    "#중복 사라진다"
   ]
  },
  {
   "cell_type": "code",
   "execution_count": 45,
   "metadata": {},
   "outputs": [
    {
     "ename": "TypeError",
     "evalue": "unhashable type: 'set'",
     "output_type": "error",
     "traceback": [
      "\u001b[0;31m---------------------------------------------------------------------------\u001b[0m",
      "\u001b[0;31mTypeError\u001b[0m                                 Traceback (most recent call last)",
      "\u001b[0;32m<ipython-input-45-b6f132c0556c>\u001b[0m in \u001b[0;36m<module>\u001b[0;34m()\u001b[0m\n\u001b[1;32m     35\u001b[0m \u001b[0;34m\u001b[0m\u001b[0m\n\u001b[1;32m     36\u001b[0m \u001b[0ms1\u001b[0m\u001b[0;34m=\u001b[0m\u001b[0mset\u001b[0m\u001b[0;34m(\u001b[0m\u001b[0;34m[\u001b[0m\u001b[0;34m\"sets\"\u001b[0m\u001b[0;34m,\u001b[0m\u001b[0;34m\"are\"\u001b[0m\u001b[0;34m,\u001b[0m\u001b[0;34m\"mutable\"\u001b[0m\u001b[0;34m,\u001b[0m\u001b[0;34m\"too\"\u001b[0m\u001b[0;34m]\u001b[0m\u001b[0;34m)\u001b[0m\u001b[0;34m\u001b[0m\u001b[0m\n\u001b[0;32m---> 37\u001b[0;31m \u001b[0ms2\u001b[0m\u001b[0;34m=\u001b[0m\u001b[0mset\u001b[0m\u001b[0;34m(\u001b[0m\u001b[0;34m[\u001b[0m\u001b[0ms1\u001b[0m\u001b[0;34m]\u001b[0m\u001b[0;34m)\u001b[0m\u001b[0;34m\u001b[0m\u001b[0m\n\u001b[0m",
      "\u001b[0;31mTypeError\u001b[0m: unhashable type: 'set'"
     ]
    }
   ],
   "source": [
    "\"\"\"\n",
    "hash function\n",
    "hashy function\n",
    "h(x) 얘는 numeric value를 우리에게 돌려주는 함수인데요\n",
    "hash내부에서는 복잡한 계산한 결과를 우리에게 줍니다\n",
    "여기에 들어가는 input값이\n",
    "숫자, string 이런것들은 x에 들어갈수 있어요. 적합합니다\n",
    "그런데 여기에, [3,4] 리스트나, (3,5) 튜플이나 또다른 {3,5}가 들어가면\n",
    "아 나 계산못해 하고 뱉어요\n",
    "x에 들어가는 파라미터 값을 hashable data\n",
    "혹은 hashable object라는 표현을 씁니다.\n",
    "{3,4,\"finn\"} 이라는 데이터를 파이썬이 어떻게 보관하면\n",
    "3이 들어오면 h(3)을 넣으면 257 이라는 숫자가 나와요\n",
    "h(4)하면 또 347 숫자가 나오고\n",
    "finn을 집어넣어도 또 824 같은 숫자가 나와요\n",
    "숫자가 뭐냐면 컴퓨터 메모리 안에서 어떤 공간의 주소입니다\n",
    "257번지! 347번지! 824번지! 이렇게나와요\n",
    "x를 set에 만들었다면 hash를 적용해서 숫자에 맞는 주소에 다가 저장을 해요\n",
    "이런식으로 저장을 하기때문에\n",
    "x 안에 3이 있냐? 라는 계산을 할때 뭐\n",
    "3 in x 할때,\n",
    "3을 hash로 해서 주소에 가봐요, 봤더니 3이 있어요\n",
    "그러면 이거 true다! 명쾌하게 이야기할수가 있는거에요\n",
    "기가막힌 방법이죠\n",
    "어떤놈이 있는지 없는지를 볼때도 h(3), h(4),h(\"finn\")만 해버리면 되는거에요 개꿀!\n",
    "찾아서 나오는 hashfunc의 주소가 있느냐만 보면 되요\n",
    "근데 컴퓨터는 수식계산하는건 일도 아니거든요\n",
    "집합을 왜 그렇게 하냐면요\n",
    "3 in x가 뭐냐면 set containment test를 자주하기때문에요\n",
    "sorting도 searching도 set containment 하는게 우리 프로그램 짤때 많이써요\n",
    "많이 필요해요!\n",
    "\n",
    "이 hash function의 파라미터로 들어갈수있는 놈만 set안에 들어갈수 있어요\n",
    "\"\"\"\n",
    "\n",
    "s1=set([\"sets\",\"are\",\"mutable\",\"too\"])\n",
    "s2=set([s1])"
   ]
  },
  {
   "cell_type": "code",
   "execution_count": 46,
   "metadata": {},
   "outputs": [
    {
     "name": "stdout",
     "output_type": "stream",
     "text": [
      "Using a list... count= 500  and time = 6.6199 seconds\n"
     ]
    }
   ],
   "source": [
    "\"\"\"\n",
    "searching function은 set 이 훨씬 유리하다\n",
    "list는 순서대로 다 찾아가서 있냐없냐를 찾아야한다\n",
    "\n",
    "set은 hash function이용해서 어떤 element가 포함하는지 아닌지를 순식간에 찾아낼수가 있어\n",
    "개꿀!\n",
    "\"\"\"\n",
    "import time\n",
    "n=1000\n",
    "\n",
    "a= list(range(2,n+1,2))\n",
    "print(\"Using a list...\",end=\" \")\n",
    "start= time.time()\n",
    "count =0\n",
    "for x in range(n+1):\n",
    "    count = 0\n",
    "    for x in range(n+1):\n",
    "        if x in a:\n",
    "            count += 1\n",
    "end = time.time()\n",
    "elapsed1 = end - start\n",
    "print(\"count=\", count,\" and time = %0.4f seconds\" % elapsed1)"
   ]
  },
  {
   "cell_type": "code",
   "execution_count": 47,
   "metadata": {},
   "outputs": [
    {
     "name": "stdout",
     "output_type": "stream",
     "text": [
      "Using a list... count= 1  and time = 0.00042796134948730469 seconds\n",
      "With n=1000, sets ran about 15468.38774 times faster than lists!\n",
      "Try a larger n to see an even greater savings!\n"
     ]
    }
   ],
   "source": [
    "print(\"Using a list...\",end=\" \")\n",
    "start= time.time()\n",
    "count =0\n",
    "for x in range(n+1):\n",
    "    if x in s:\n",
    "        count +=1\n",
    "end=time.time()\n",
    "elapsed2=end-start\n",
    "print(\"count=\", count,\" and time = %0.20f seconds\" % elapsed2)\n",
    "print(\"With n=%d, sets ran about %0.5f times faster than lists!\"%(n, elapsed1/elapsed2))\n",
    "print(\"Try a larger n to see an even greater savings!\")"
   ]
  },
  {
   "cell_type": "code",
   "execution_count": null,
   "metadata": {
    "collapsed": true
   },
   "outputs": [],
   "source": []
  }
 ],
 "metadata": {
  "kernelspec": {
   "display_name": "Python 3",
   "language": "python",
   "name": "python3"
  },
  "language_info": {
   "codemirror_mode": {
    "name": "ipython",
    "version": 3
   },
   "file_extension": ".py",
   "mimetype": "text/x-python",
   "name": "python",
   "nbconvert_exporter": "python",
   "pygments_lexer": "ipython3",
   "version": "3.6.3"
  }
 },
 "nbformat": 4,
 "nbformat_minor": 2
}
