{
 "cells": [
  {
   "cell_type": "markdown",
   "metadata": {},
   "source": [
    "# Ch14. Simulations in Python"
   ]
  },
  {
   "cell_type": "markdown",
   "metadata": {},
   "source": [
    "실제상황을 만들기 어려울 때, 구성요소가 Random하게 숫자를 생산을 해서 실험할때 이용을 해야해요.  \n",
    "랜덤하지 않으면, 그 데이터에 어떤 편향이나 데이터에 잘못된 트렌드 같은 것이 들어가 있으면, 객관적인 결과를 알아내기 어렵기때문에  \n",
    "랜덤넘버를 만들어내는게 중요해요.\n",
    "random number의 기반은 어떠한가를 알면 시뮬레이션에 대해 좀더 알게되요.  \n",
    "  \n",
    "Monte Carlo Methods 몬테 카를로 메쏘드  \n",
    "실세계에 있는 문제를 컴퓨터 프로그램으로 표현 한 다음에   \n",
    "실제세계서 하기 어려운걸 컴퓨터에서 이해하기위해서   \n",
    "시뮬레이션 환경을 만들어서 러닝을 해보게되면, 거기로부터 알아내는 것들이 있습니다.  \n",
    "데이터 분석과도 많은 관련이 있어요\n",
    "\n",
    "randomness in computing 왜 중요할까요?  \n",
    "determinism이라는 개념은 함수를 짰을때, 함수에 들어갈수 있는 값이 나오면 output값이 똑바로 나오는가가 determinism이라고 해요  \n",
    "오늘 10넣은거랑 내일 10넣은거랑 같은 결과 내야하는 겁니다.  \n",
    "근데 어떤 때는 예측을 할수없는 결과물, input data를 프로그램에서 붙잡아야할 때가 있어요  \n",
    "인터넷 게임이라던지, 프로그램들이 같은 input을 가져다가 준다는 것이 가능할때가있고 아닐때도있어요.  \n",
    "(세븐나이츠와 기타 비롯한 게임들중에서 뽑기 이벤트 게임같은 경우)  \n",
    "도박 게임에서 분명 비슷한 상황이었는데 뭔가 약간 다른점으로 결과가 달라지는 경우가 있지요  \n",
    "  \n",
    "unbiased   \n",
    "information-dense  \n",
    "incompressible  \n"
   ]
  },
  {
   "cell_type": "code",
   "execution_count": 5,
   "metadata": {},
   "outputs": [],
   "source": [
    "current_x=0#global internal state/seed\n",
    "def prng_seed(s):#seed the generator\n",
    "    global current_x\n",
    "    current_x=s\n",
    "def prng1(n):#LCG\n",
    "    return (n+7)%12\n",
    "def prng():#state updater\n",
    "    global current_x\n",
    "    current_x=prng1(current_x)\n",
    "    return current_x"
   ]
  },
  {
   "cell_type": "code",
   "execution_count": 6,
   "metadata": {},
   "outputs": [],
   "source": [
    "a,c,m=1,7,12\n",
    "prng_seed(1)"
   ]
  },
  {
   "cell_type": "code",
   "execution_count": 7,
   "metadata": {},
   "outputs": [
    {
     "data": {
      "text/plain": [
       "[8, 3, 10, 5, 0, 7, 2, 9, 4, 11]"
      ]
     },
     "execution_count": 7,
     "metadata": {},
     "output_type": "execute_result"
    }
   ],
   "source": [
    "#참고! for문 쓰는 다른 방법!\n",
    "[prng() for i in range(10)] "
   ]
  },
  {
   "cell_type": "code",
   "execution_count": 8,
   "metadata": {},
   "outputs": [
    {
     "name": "stdout",
     "output_type": "stream",
     "text": [
      "6 1 8 3 10 5 0 7 2 9 4 11 6 1 8 3 10 5 0 7 "
     ]
    }
   ],
   "source": [
    "for i in range(20):\n",
    "    print(prng(),end=\" \")"
   ]
  },
  {
   "cell_type": "code",
   "execution_count": 9,
   "metadata": {},
   "outputs": [
    {
     "data": {
      "text/plain": [
       "[8, 4, 0, 8, 4, 0, 8, 4, 0, 8, 4, 0]"
      ]
     },
     "execution_count": 9,
     "metadata": {},
     "output_type": "execute_result"
    }
   ],
   "source": [
    "current_x=0\n",
    "def prng():#state updater\n",
    "    global current_x\n",
    "    current_x=prng2(current_x)\n",
    "    return current_x\n",
    "def prng2(n):\n",
    "    return (n+8)%12 #a=1, c=8, m=12\n",
    "[prng() for n in range(12)]"
   ]
  },
  {
   "cell_type": "code",
   "execution_count": 10,
   "metadata": {},
   "outputs": [
    {
     "data": {
      "text/plain": [
       "3190"
      ]
     },
     "execution_count": 10,
     "metadata": {},
     "output_type": "execute_result"
    }
   ],
   "source": [
    "from random import randint\n",
    "import random\n",
    "randint(0,15110)"
   ]
  },
  {
   "cell_type": "code",
   "execution_count": 11,
   "metadata": {},
   "outputs": [
    {
     "data": {
      "text/plain": [
       "1095"
      ]
     },
     "execution_count": 11,
     "metadata": {},
     "output_type": "execute_result"
    }
   ],
   "source": [
    "randint(0,15110)"
   ]
  },
  {
   "cell_type": "code",
   "execution_count": 12,
   "metadata": {},
   "outputs": [
    {
     "data": {
      "text/plain": [
       "10240"
      ]
     },
     "execution_count": 12,
     "metadata": {},
     "output_type": "execute_result"
    }
   ],
   "source": [
    "randint(0,15110)"
   ]
  },
  {
   "cell_type": "code",
   "execution_count": 13,
   "metadata": {},
   "outputs": [
    {
     "data": {
      "text/plain": [
       "[42, 37, 21, 30, 31, 53, 58, 20, 0, 78]"
      ]
     },
     "execution_count": 13,
     "metadata": {},
     "output_type": "execute_result"
    }
   ],
   "source": [
    "[randint(0,99) for i in range(10)]"
   ]
  },
  {
   "cell_type": "code",
   "execution_count": 14,
   "metadata": {},
   "outputs": [
    {
     "data": {
      "text/plain": [
       "[43, 81, 15, 16, 50]"
      ]
     },
     "execution_count": 14,
     "metadata": {},
     "output_type": "execute_result"
    }
   ],
   "source": [
    "[randint(0,99) for i in range(5)]"
   ]
  },
  {
   "cell_type": "code",
   "execution_count": 15,
   "metadata": {},
   "outputs": [
    {
     "data": {
      "text/plain": [
       "[165, 129, 200, 159, 164]"
      ]
     },
     "execution_count": 15,
     "metadata": {},
     "output_type": "execute_result"
    }
   ],
   "source": [
    "[randint(101,200) for i in range(5)]"
   ]
  },
  {
   "cell_type": "code",
   "execution_count": 16,
   "metadata": {},
   "outputs": [
    {
     "data": {
      "text/plain": [
       "3.211659733074159"
      ]
     },
     "execution_count": 16,
     "metadata": {},
     "output_type": "execute_result"
    }
   ],
   "source": [
    "[random.random() for i in range(5)] #random 함수는 0부터 1사이에 있는 실수를 반환합니다.\n",
    "#소수점 아래 17자리까지 표현 앞에 숫자 더있으면 소수점 아래는 더 줄어들어요.\n",
    "(random.random()*10)"
   ]
  },
  {
   "cell_type": "code",
   "execution_count": 17,
   "metadata": {},
   "outputs": [
    {
     "data": {
      "text/plain": [
       "[2.849267378625604,\n",
       " 1.8822699197765287,\n",
       " 8.378661481115842,\n",
       " 2.769205613784628,\n",
       " 7.085549447158171]"
      ]
     },
     "execution_count": 17,
     "metadata": {},
     "output_type": "execute_result"
    }
   ],
   "source": [
    "[random.uniform(1,10)for i in range(5)] #1에서 10사이에있는 실수를 반환합니다."
   ]
  },
  {
   "cell_type": "code",
   "execution_count": 18,
   "metadata": {},
   "outputs": [
    {
     "data": {
      "text/plain": [
       "[6, 6, 3, 1, 9]"
      ]
     },
     "execution_count": 18,
     "metadata": {},
     "output_type": "execute_result"
    }
   ],
   "source": [
    "[random.randrange(10) for i in range(5)]#0과 9사이에 있는 숫자 아무거나 5개 줘 입니다. 복원 추출입니다."
   ]
  },
  {
   "cell_type": "code",
   "execution_count": 19,
   "metadata": {},
   "outputs": [
    {
     "data": {
      "text/plain": [
       "[98, 16, 38, 72, 2]"
      ]
     },
     "execution_count": 19,
     "metadata": {},
     "output_type": "execute_result"
    }
   ],
   "source": [
    "[random.randrange(0,101,2) for i in range(5)]#0과 100사이에 있는 0을 포함한 짝수들중 아무거나 5개 줘입니다."
   ]
  },
  {
   "cell_type": "code",
   "execution_count": 20,
   "metadata": {},
   "outputs": [
    {
     "data": {
      "text/plain": [
       "['black', 'green', 'black', 'green', 'black']"
      ]
     },
     "execution_count": 20,
     "metadata": {},
     "output_type": "execute_result"
    }
   ],
   "source": [
    "import random as r\n",
    "#랜덤 모듈의 주요 함수\n",
    "colors = ['red','blue','green','gray','black']\n",
    "[r.choice(colors) for i in range(5)] #choice함수는 이런 여러개중에 딱 한개만 고르는 겁니다. 복원 추출입니다."
   ]
  },
  {
   "cell_type": "code",
   "execution_count": 21,
   "metadata": {},
   "outputs": [
    {
     "data": {
      "text/plain": [
       "['blue', 'blue', 'black', 'red', 'blue']"
      ]
     },
     "execution_count": 21,
     "metadata": {},
     "output_type": "execute_result"
    }
   ],
   "source": [
    "[r.choice(colors) for i in range(5)]"
   ]
  },
  {
   "cell_type": "code",
   "execution_count": 22,
   "metadata": {},
   "outputs": [
    {
     "data": {
      "text/plain": [
       "['green', 'blue']"
      ]
     },
     "execution_count": 22,
     "metadata": {},
     "output_type": "execute_result"
    }
   ],
   "source": [
    "r.sample(colors,2) #비복원 같은데.. 확인해봐야할듯!"
   ]
  },
  {
   "cell_type": "code",
   "execution_count": 23,
   "metadata": {},
   "outputs": [
    {
     "data": {
      "text/plain": [
       "[['red', 'blue'], ['green', 'red'], ['gray', 'black']]"
      ]
     },
     "execution_count": 23,
     "metadata": {},
     "output_type": "execute_result"
    }
   ],
   "source": [
    "[r.sample(colors,2) for i in range(3)]"
   ]
  },
  {
   "cell_type": "code",
   "execution_count": 24,
   "metadata": {},
   "outputs": [],
   "source": [
    "r.shuffle(colors)# 순서 막 뒤집어버리기"
   ]
  },
  {
   "cell_type": "code",
   "execution_count": 25,
   "metadata": {},
   "outputs": [
    {
     "data": {
      "text/plain": [
       "['gray', 'red', 'black', 'blue', 'green']"
      ]
     },
     "execution_count": 25,
     "metadata": {},
     "output_type": "execute_result"
    }
   ],
   "source": [
    "colors"
   ]
  },
  {
   "cell_type": "markdown",
   "metadata": {},
   "source": [
    "randint(n1,n2) :n1~n2사이의 random integer.  \n",
    "randrange(n1,n2) n1와 n2사이의 random integer. but,(n2는 포함이 안됨, randrange(n1,n2,step))  \n",
    "\n",
    "random() 0~1사이의 랜덤 플롯넘버  \n",
    "uniform(n1,n2) n1~ n2사이의 random float number  \n",
    "  \n",
    "choice(L) L중에서 1개 선택  \n",
    "sample(L,n) L중에서 n개 선택  \n",
    "  \n",
    "shuffle(L) L을 shuffling  "
   ]
  },
  {
   "cell_type": "code",
   "execution_count": 26,
   "metadata": {},
   "outputs": [],
   "source": [
    "def roll_die():\n",
    "    roll=prng()%6+1\n",
    "    assert 1<=roll and roll<=6\n",
    "    return roll"
   ]
  },
  {
   "cell_type": "code",
   "execution_count": 27,
   "metadata": {},
   "outputs": [],
   "source": [
    "#미국 대통령선거는 4년에 한번씩 해요. 54~55번의 선거가 있었어요.\n",
    "#prng로 만들어봅시다! LCG 함수가 있다면요!\n",
    "#we want to pick a random presidential election year between 1788 and 2012\n",
    "def election_year():\n",
    "    year=r.randrange(1788,2013,4) #시작연도 마지막연도 \n",
    "    assert 1788 <=year and year<=2012 and year % 4==0 \n",
    "    #assert 함수 안에 있는 것들이 반드시 만족이 되어야 넘어갈수 있다!\n",
    "    #그런 문장을 assert함수의 조건으로 줍니다.\n",
    "    return year"
   ]
  },
  {
   "cell_type": "code",
   "execution_count": 28,
   "metadata": {},
   "outputs": [
    {
     "data": {
      "text/plain": [
       "1960"
      ]
     },
     "execution_count": 28,
     "metadata": {},
     "output_type": "execute_result"
    }
   ],
   "source": [
    "election_year()"
   ]
  },
  {
   "cell_type": "code",
   "execution_count": 29,
   "metadata": {},
   "outputs": [],
   "source": [
    "def election_year():\n",
    "    election_number = prng()%((2012-1788) //4 +1)\n",
    "    assert 0<=election_number and election_number <=56\n",
    "    year=election_number*4+1788\n",
    "    assert 1788 <= year and year <= 2012 and year %4 ==0\n",
    "    return year"
   ]
  },
  {
   "cell_type": "code",
   "execution_count": 30,
   "metadata": {},
   "outputs": [
    {
     "data": {
      "text/plain": [
       "[1820, 1804, 1788, 1820, 1804, 1788, 1820, 1804, 1788, 1820]"
      ]
     },
     "execution_count": 30,
     "metadata": {},
     "output_type": "execute_result"
    }
   ],
   "source": [
    "[election_year() for i in range(10)]"
   ]
  },
  {
   "cell_type": "code",
   "execution_count": 31,
   "metadata": {},
   "outputs": [
    {
     "data": {
      "text/plain": [
       "1792"
      ]
     },
     "execution_count": 31,
     "metadata": {},
     "output_type": "execute_result"
    }
   ],
   "source": [
    "random.randrange(1788,2012,4)"
   ]
  },
  {
   "cell_type": "markdown",
   "metadata": {},
   "source": [
    "## Monte Carlo Methods\n",
    "많은 횟수의 실험을 통해 평균을 이용하는 것이 Monte Carlo Methods 입니다.  \n",
    "Dice Statistics Problem  \n",
    "Hungry Dice Player Problem  \n",
    "Clueless Student Problem  \n",
    "Umbrella Quandary Problem"
   ]
  },
  {
   "cell_type": "markdown",
   "metadata": {},
   "source": [
    "### Dice Statistics Problem"
   ]
  },
  {
   "cell_type": "code",
   "execution_count": 32,
   "metadata": {},
   "outputs": [],
   "source": [
    "def DiceStat(trials):\n",
    "    count_list=[0,0,0,0,0,0,0,0,0,0,0,0]\n",
    "    count_prob=[0,0,0,0,0,0,0,0,0,0,0,0]\n",
    "    for i in range(trials):\n",
    "        value1=roll()\n",
    "        value2=roll()\n",
    "        dice_index=value1+value2-2\n",
    "        count_list[dice_index]=count_list[dice_index]+1\n",
    "    for j in range(0,11):\n",
    "        count_prob[j]=count_list[j]/trials\n",
    "        print(\"The probability for\",j+2,\":\",count_prob[j])\n",
    "        \n",
    "def roll():\n",
    "    from random import randint\n",
    "    return randint(1,6)\n",
    "\n",
    "\n",
    "#Fair Dice라고 Assume 하고있습니다."
   ]
  },
  {
   "cell_type": "code",
   "execution_count": 33,
   "metadata": {},
   "outputs": [
    {
     "name": "stdout",
     "output_type": "stream",
     "text": [
      "The probability for 2 : 0.027633\n",
      "The probability for 3 : 0.055447\n",
      "The probability for 4 : 0.083394\n",
      "The probability for 5 : 0.111116\n",
      "The probability for 6 : 0.138797\n",
      "The probability for 7 : 0.166733\n",
      "The probability for 8 : 0.139173\n",
      "The probability for 9 : 0.110956\n",
      "The probability for 10 : 0.083212\n",
      "The probability for 11 : 0.055696\n",
      "The probability for 12 : 0.027843\n"
     ]
    }
   ],
   "source": [
    "DiceStat(1000000)"
   ]
  },
  {
   "cell_type": "markdown",
   "metadata": {},
   "source": [
    "### Hungry Dice Player Problem"
   ]
  },
  {
   "cell_type": "code",
   "execution_count": 34,
   "metadata": {},
   "outputs": [],
   "source": [
    "def dice_game():\n",
    "    strikes =0\n",
    "    winnings=0\n",
    "    while strikes<3:\n",
    "        die1=roll()\n",
    "        die2=roll()\n",
    "        if die1==die2:\n",
    "            strikes +=1\n",
    "        else:\n",
    "            winnings= winnings+die1+die2\n",
    "    return winnings"
   ]
  },
  {
   "cell_type": "code",
   "execution_count": 35,
   "metadata": {},
   "outputs": [],
   "source": [
    "def average_winnings(runs):\n",
    "    total=0\n",
    "    for n in range(runs):\n",
    "        total+=dice_game()\n",
    "    return total/runs"
   ]
  },
  {
   "cell_type": "code",
   "execution_count": 36,
   "metadata": {},
   "outputs": [
    {
     "data": {
      "text/plain": [
       "[101.8, 84.8, 112.1, 112.9, 153.2]"
      ]
     },
     "execution_count": 36,
     "metadata": {},
     "output_type": "execute_result"
    }
   ],
   "source": [
    "[round(average_winnings(10),2) for i in range(5)]"
   ]
  },
  {
   "cell_type": "code",
   "execution_count": 37,
   "metadata": {},
   "outputs": [
    {
     "data": {
      "text/plain": [
       "[100.29, 107.16, 106.89, 106.69, 102.28]"
      ]
     },
     "execution_count": 37,
     "metadata": {},
     "output_type": "execute_result"
    }
   ],
   "source": [
    "[round(average_winnings(100),2) for i in range(5)]"
   ]
  },
  {
   "cell_type": "code",
   "execution_count": 38,
   "metadata": {},
   "outputs": [
    {
     "data": {
      "text/plain": [
       "[109.51, 105.02, 105.58, 102.73, 106.26]"
      ]
     },
     "execution_count": 38,
     "metadata": {},
     "output_type": "execute_result"
    }
   ],
   "source": [
    "[round(average_winnings(1000),2) for i in range(5)]"
   ]
  },
  {
   "cell_type": "code",
   "execution_count": 39,
   "metadata": {},
   "outputs": [
    {
     "data": {
      "text/plain": [
       "[104.27, 104.71, 105.11, 105.21, 105.36]"
      ]
     },
     "execution_count": 39,
     "metadata": {},
     "output_type": "execute_result"
    }
   ],
   "source": [
    "[round(average_winnings(10000),2) for i in range(5)]"
   ]
  },
  {
   "cell_type": "code",
   "execution_count": 40,
   "metadata": {},
   "outputs": [
    {
     "data": {
      "text/plain": [
       "[0, 1, 2, 3, 4, 5, 6, 7, 8, 9]"
      ]
     },
     "execution_count": 40,
     "metadata": {},
     "output_type": "execute_result"
    }
   ],
   "source": [
    "nums=list(range(10))\n",
    "nums"
   ]
  },
  {
   "cell_type": "code",
   "execution_count": 41,
   "metadata": {},
   "outputs": [
    {
     "data": {
      "text/plain": [
       "[4, 2, 0, 3, 6, 1, 9, 5, 7, 8]"
      ]
     },
     "execution_count": 41,
     "metadata": {},
     "output_type": "execute_result"
    }
   ],
   "source": [
    "import random as r\n",
    "r.shuffle(nums)\n",
    "nums"
   ]
  },
  {
   "cell_type": "code",
   "execution_count": 42,
   "metadata": {},
   "outputs": [
    {
     "data": {
      "text/plain": [
       "[4, 3, 5, 1]"
      ]
     },
     "execution_count": 42,
     "metadata": {},
     "output_type": "execute_result"
    }
   ],
   "source": [
    "LLL=[4,3,5,1]\n",
    "sorted(LLL) #인풋 먹은 데이터 휘집어 놓지 않은 sorted 함수. shuffle은 달라요! reversed 도 똑같아요.\n",
    "LLL"
   ]
  },
  {
   "cell_type": "markdown",
   "metadata": {},
   "source": [
    "### 찍기\n",
    "태종, 정조, 세종, 문종, 단종의 생일 맞추기 문제를 찍기로 푼다면 평균 몇 개의 생일을 맞출 수 있을까?  \n",
    "(선긋기 게임같은 경우)"
   ]
  },
  {
   "cell_type": "code",
   "execution_count": 45,
   "metadata": {},
   "outputs": [],
   "source": [
    "from random import shuffle\n",
    "\n",
    "def student(pairs,samples):\n",
    "    num_correct=0\n",
    "    matching=list(range(pairs))\n",
    "    for i in range(samples):\n",
    "        shuffle(matching)\n",
    "        for j in range(pairs):\n",
    "            if matching[j]==j:\n",
    "                num_correct += 1\n",
    "    return num_correct/samples\n"
   ]
  },
  {
   "cell_type": "code",
   "execution_count": 46,
   "metadata": {},
   "outputs": [
    {
     "data": {
      "text/plain": [
       "1.0184"
      ]
     },
     "execution_count": 46,
     "metadata": {},
     "output_type": "execute_result"
    }
   ],
   "source": [
    "student(24,10000) #대통령 24명 문제를 10000번을 돌린다음에 몇개를 맞추나 봤더니 0.99개. 1개맞추는겁니다."
   ]
  },
  {
   "cell_type": "code",
   "execution_count": 47,
   "metadata": {},
   "outputs": [
    {
     "data": {
      "text/plain": [
       "1.0226"
      ]
     },
     "execution_count": 47,
     "metadata": {},
     "output_type": "execute_result"
    }
   ],
   "source": [
    "student(10,10000)"
   ]
  },
  {
   "cell_type": "code",
   "execution_count": 48,
   "metadata": {},
   "outputs": [
    {
     "data": {
      "text/plain": [
       "0.9955"
      ]
     },
     "execution_count": 48,
     "metadata": {},
     "output_type": "execute_result"
    }
   ],
   "source": [
    "student(5,10000) #문제수에 관계없이 1개씩 맞추는거다. "
   ]
  },
  {
   "cell_type": "markdown",
   "metadata": {},
   "source": [
    "### The Umbrella Quandary Problem"
   ]
  },
  {
   "cell_type": "code",
   "execution_count": 49,
   "metadata": {},
   "outputs": [],
   "source": [
    "def umbrella(p):\n",
    "    import random as r\n",
    "    wet=False\n",
    "    trips=0\n",
    "    location=0\n",
    "    umbrellas=[1,1]\n",
    "    while(not wet):\n",
    "        if r.random() <p:\n",
    "            if umbrellas[location]==0:\n",
    "                wet=True\n",
    "            else:\n",
    "                trips+=1\n",
    "                umbrellas[location]-=1\n",
    "                location=1-location\n",
    "                umbrellas[location] +=1\n",
    "        else:\n",
    "            trips+=1\n",
    "            location=1-location\n",
    "    return trips\n",
    "#마코브 체인을 이용하면 풀수 있는 문제입니다.\n",
    "#시뮬레이션으로 풉시다 우리는.\n",
    "#프로그래밍이란 실제세계의 상황을 \n",
    "#컴퓨터언어로 문제를 표현하고 코드로 바꿔요\n",
    "#그아이디어가 알고리즘입니다."
   ]
  },
  {
   "cell_type": "code",
   "execution_count": 50,
   "metadata": {},
   "outputs": [
    {
     "data": {
      "text/plain": [
       "113"
      ]
     },
     "execution_count": 50,
     "metadata": {},
     "output_type": "execute_result"
    }
   ],
   "source": [
    "umbrella(0.03)"
   ]
  },
  {
   "cell_type": "code",
   "execution_count": 51,
   "metadata": {},
   "outputs": [],
   "source": [
    "def test():\n",
    "    results=[None]*99\n",
    "    p=.01\n",
    "    for i in range(99):\n",
    "        trips=0\n",
    "        for k in range(10000):\n",
    "            trips+=umbrella(p) \n",
    "        results[i]=trips/10000#비올확률 1~100%에 대해서,각각 %별로 보여주는겁니다!\n",
    "        p+=.01\n",
    "    return results"
   ]
  },
  {
   "cell_type": "code",
   "execution_count": 307,
   "metadata": {
    "collapsed": true
   },
   "outputs": [
    {
     "data": {
      "text/plain": [
       "[401.8788,\n",
       " 200.2301,\n",
       " 136.6615,\n",
       " 101.3529,\n",
       " 80.858,\n",
       " 67.4411,\n",
       " 57.3151,\n",
       " 51.4372,\n",
       " 45.4172,\n",
       " 41.0204,\n",
       " 37.404,\n",
       " 34.5323,\n",
       " 31.67,\n",
       " 29.2599,\n",
       " 28.1364,\n",
       " 26.5235,\n",
       " 24.9242,\n",
       " 23.6098,\n",
       " 22.5658,\n",
       " 21.7972,\n",
       " 20.4757,\n",
       " 19.8967,\n",
       " 18.9865,\n",
       " 18.305,\n",
       " 17.9026,\n",
       " 17.0597,\n",
       " 16.6013,\n",
       " 15.916,\n",
       " 15.4376,\n",
       " 15.1789,\n",
       " 15.0163,\n",
       " 14.4054,\n",
       " 14.1481,\n",
       " 13.9846,\n",
       " 13.4375,\n",
       " 13.1493,\n",
       " 13.0613,\n",
       " 12.6573,\n",
       " 12.6876,\n",
       " 12.3384,\n",
       " 12.0645,\n",
       " 11.8566,\n",
       " 11.857,\n",
       " 11.8258,\n",
       " 11.3743,\n",
       " 11.4239,\n",
       " 11.294,\n",
       " 11.1386,\n",
       " 11.1088,\n",
       " 11.1236,\n",
       " 11.0322,\n",
       " 10.7608,\n",
       " 10.7396,\n",
       " 10.7369,\n",
       " 10.7153,\n",
       " 10.75,\n",
       " 10.7754,\n",
       " 10.7192,\n",
       " 10.4321,\n",
       " 10.7496,\n",
       " 10.7101,\n",
       " 10.8505,\n",
       " 10.6576,\n",
       " 10.7393,\n",
       " 10.717,\n",
       " 10.821,\n",
       " 11.1142,\n",
       " 10.849,\n",
       " 11.0923,\n",
       " 11.3873,\n",
       " 11.6512,\n",
       " 11.7088,\n",
       " 11.7802,\n",
       " 12.1941,\n",
       " 12.2491,\n",
       " 12.7118,\n",
       " 12.76,\n",
       " 13.2464,\n",
       " 13.7862,\n",
       " 13.8942,\n",
       " 14.4302,\n",
       " 14.9982,\n",
       " 15.3779,\n",
       " 16.1795,\n",
       " 16.6564,\n",
       " 17.8496,\n",
       " 19.1092,\n",
       " 20.1745,\n",
       " 22.0648,\n",
       " 23.3027,\n",
       " 25.2467,\n",
       " 28.595,\n",
       " 32.1281,\n",
       " 36.7028,\n",
       " 43.1355,\n",
       " 52.3658,\n",
       " 68.5253,\n",
       " 103.442,\n",
       " 199.5836]"
      ]
     },
     "execution_count": 307,
     "metadata": {},
     "output_type": "execute_result"
    }
   ],
   "source": [
    "test()"
   ]
  },
  {
   "cell_type": "markdown",
   "metadata": {},
   "source": [
    "## Ch 13-A Recurssion on Tree Practice "
   ]
  },
  {
   "cell_type": "markdown",
   "metadata": {},
   "source": [
    "#### 21번 문제.\n",
    "tree의 깊이는?"
   ]
  },
  {
   "cell_type": "code",
   "execution_count": 53,
   "metadata": {},
   "outputs": [
    {
     "data": {
      "text/plain": [
       "1"
      ]
     },
     "execution_count": 53,
     "metadata": {},
     "output_type": "execute_result"
    }
   ],
   "source": [
    "def f21(tree):\n",
    "    if tree==[]:\n",
    "        return 0\n",
    "    else:\n",
    "        return 1+max(f21(tree[1]),f21(tree[2]))\n",
    "f21([1,[],[]])"
   ]
  },
  {
   "cell_type": "markdown",
   "metadata": {},
   "source": [
    "#### 22번 문제.\n",
    "노드 갯수구해줘"
   ]
  },
  {
   "cell_type": "code",
   "execution_count": 54,
   "metadata": {},
   "outputs": [],
   "source": [
    "def f22(tree):\n",
    "    if tree==[]:\n",
    "        return 0\n",
    "    else:\n",
    "        return 1 + f22(tree[1]) + f22(tree[2])"
   ]
  },
  {
   "cell_type": "code",
   "execution_count": 55,
   "metadata": {},
   "outputs": [
    {
     "data": {
      "text/plain": [
       "3"
      ]
     },
     "execution_count": 55,
     "metadata": {},
     "output_type": "execute_result"
    }
   ],
   "source": [
    "f22([1, [1, [ ], [] ], [1,[],[]]])"
   ]
  },
  {
   "cell_type": "markdown",
   "metadata": {},
   "source": [
    "#### 23번 문제\n",
    "모든 노드들의 합"
   ]
  },
  {
   "cell_type": "code",
   "execution_count": 343,
   "metadata": {},
   "outputs": [],
   "source": [
    "def f23(tree):\n",
    "    if tree==[]:\n",
    "        return 0\n",
    "    else:\n",
    "        return tree[0]+ f23(tree[1])+ f23(tree[2])\n"
   ]
  },
  {
   "cell_type": "code",
   "execution_count": 344,
   "metadata": {},
   "outputs": [
    {
     "data": {
      "text/plain": [
       "6"
      ]
     },
     "execution_count": 344,
     "metadata": {},
     "output_type": "execute_result"
    }
   ],
   "source": [
    "f23([1,[2,[],[]],[3,[],[]]])"
   ]
  },
  {
   "cell_type": "markdown",
   "metadata": {},
   "source": [
    "#### 24번 문제.\n",
    "오름차순 출력"
   ]
  },
  {
   "cell_type": "code",
   "execution_count": 348,
   "metadata": {},
   "outputs": [],
   "source": [
    "def f24(tree):\n",
    "    if tree==[]:\n",
    "        return\n",
    "    \n",
    "    f24(tree[1])\n",
    "    print(tree[0])\n",
    "    f24(tree[2])\n",
    "    "
   ]
  },
  {
   "cell_type": "code",
   "execution_count": 352,
   "metadata": {},
   "outputs": [
    {
     "name": "stdout",
     "output_type": "stream",
     "text": [
      "1\n",
      "2\n",
      "3\n",
      "4\n"
     ]
    }
   ],
   "source": [
    "f24( [2, [1, [], []],  [3,[],[4,[],[]] ]]) "
   ]
  },
  {
   "cell_type": "markdown",
   "metadata": {},
   "source": [
    "#### 25번 문제. \n",
    "Write a function f25(tree) that returns the smallest element in the tree.  \n",
    "The tree has the structure [value, left subtree, right subtree] and is a binary search tree  \n",
    "Return -1 if the tree is empty  \n",
    "이진 트리에서 제일 작은 애를 찾아라."
   ]
  },
  {
   "cell_type": "code",
   "execution_count": 56,
   "metadata": {},
   "outputs": [],
   "source": [
    "def f25(tree):\n",
    "    if tree==[]:\n",
    "        return -1\n",
    "    if tree[1] ==[]: #마지막 노드 끝 줄인지 확인\n",
    "        return tree[0]\n",
    "    return f25(tree[1])#왼쪽으로 계속해서 내려가자! 입니다."
   ]
  },
  {
   "cell_type": "code",
   "execution_count": 57,
   "metadata": {},
   "outputs": [
    {
     "data": {
      "text/plain": [
       "-1"
      ]
     },
     "execution_count": 57,
     "metadata": {},
     "output_type": "execute_result"
    }
   ],
   "source": [
    "f25([])"
   ]
  },
  {
   "cell_type": "code",
   "execution_count": 58,
   "metadata": {},
   "outputs": [
    {
     "data": {
      "text/plain": [
       "1"
      ]
     },
     "execution_count": 58,
     "metadata": {},
     "output_type": "execute_result"
    }
   ],
   "source": [
    "f25([1,[],[]])"
   ]
  },
  {
   "cell_type": "code",
   "execution_count": 59,
   "metadata": {},
   "outputs": [
    {
     "data": {
      "text/plain": [
       "1"
      ]
     },
     "execution_count": 59,
     "metadata": {},
     "output_type": "execute_result"
    }
   ],
   "source": [
    "f25     ( [2, [1,[],[]] ,[3,[],[4,[],[]]]  ] )"
   ]
  }
 ],
 "metadata": {
  "kernelspec": {
   "display_name": "Python 3",
   "language": "python",
   "name": "python3"
  },
  "language_info": {
   "codemirror_mode": {
    "name": "ipython",
    "version": 3
   },
   "file_extension": ".py",
   "mimetype": "text/x-python",
   "name": "python",
   "nbconvert_exporter": "python",
   "pygments_lexer": "ipython3",
   "version": "3.6.5"
  }
 },
 "nbformat": 4,
 "nbformat_minor": 2
}
