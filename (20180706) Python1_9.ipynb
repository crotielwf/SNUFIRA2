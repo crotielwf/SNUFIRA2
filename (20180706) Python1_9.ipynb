{
 "cells": [
  {
   "cell_type": "markdown",
   "metadata": {},
   "source": [
    "# (Ch 11) File IOs and Exception in Python"
   ]
  },
  {
   "cell_type": "markdown",
   "metadata": {},
   "source": [
    "## 파일 생성하기"
   ]
  },
  {
   "cell_type": "code",
   "execution_count": 1,
   "metadata": {},
   "outputs": [],
   "source": [
    "\"\"\"\n",
    "파일 열기모드 r: 읽기모드 - 파일을 읽기만 할 때 사용\n",
    "              w: 쓰기모드 - 파일을 쓰기만 할 때 사용\n",
    "              a: 추가모드 - 파일의 마지막에 새로운 내용을 추가\n",
    "\"\"\"\n",
    "myfile=open(\"foo.txt\",\"w+\")\n",
    "myfile.close()# 하면 파일이 닫혀요\n",
    "#근데 어디에 저장되는지, 저장디렉토리 잘 찾아야합니다.\n",
    "#기본설정으로 되어있었다면, 파이썬이 설치된 혹은 쥬피터노트가 설치된 곳에 생깁니다."
   ]
  },
  {
   "cell_type": "code",
   "execution_count": 2,
   "metadata": {},
   "outputs": [],
   "source": [
    "#writedata.py\n",
    "f=open('C:/Users/renz/Desktop/새파일.txt','w')\n",
    "for i in range(1,11):\n",
    "    data=\"%d번째 줄입니다.\\n\" %i\n",
    "    f.write(data)\n",
    "f.close()"
   ]
  },
  {
   "cell_type": "code",
   "execution_count": 3,
   "metadata": {},
   "outputs": [],
   "source": [
    "#adddata.py\n",
    "f=open('c:/Users/renz/Desktop/새파일.txt','a')\n",
    "for i in range(11,20):\n",
    "    data=\"%d번째 줄입니다.\\n\" %i\n",
    "    f.write(data)\n",
    "f.close()"
   ]
  },
  {
   "cell_type": "code",
   "execution_count": 4,
   "metadata": {},
   "outputs": [
    {
     "name": "stdout",
     "output_type": "stream",
     "text": [
      "1번째 줄입니다.\n",
      "\n"
     ]
    }
   ],
   "source": [
    "#readline.py\n",
    "f=open('c:/Users/renz/Desktop/새파일.txt','r')\n",
    "line=f.readline()\n",
    "print(line)\n",
    "f.close()"
   ]
  },
  {
   "cell_type": "code",
   "execution_count": 5,
   "metadata": {},
   "outputs": [
    {
     "name": "stdout",
     "output_type": "stream",
     "text": [
      "1번째 줄입니다.\n",
      "\n",
      "2번째 줄입니다.\n",
      "\n",
      "3번째 줄입니다.\n",
      "\n",
      "4번째 줄입니다.\n",
      "\n",
      "5번째 줄입니다.\n",
      "\n",
      "6번째 줄입니다.\n",
      "\n",
      "7번째 줄입니다.\n",
      "\n",
      "8번째 줄입니다.\n",
      "\n",
      "9번째 줄입니다.\n",
      "\n",
      "10번째 줄입니다.\n",
      "\n",
      "11번째 줄입니다.\n",
      "\n",
      "12번째 줄입니다.\n",
      "\n",
      "13번째 줄입니다.\n",
      "\n",
      "14번째 줄입니다.\n",
      "\n",
      "15번째 줄입니다.\n",
      "\n",
      "16번째 줄입니다.\n",
      "\n",
      "17번째 줄입니다.\n",
      "\n",
      "18번째 줄입니다.\n",
      "\n",
      "19번째 줄입니다.\n",
      "\n"
     ]
    }
   ],
   "source": [
    "#readline_all.py\n",
    "f=open('c:/Users/renz/Desktop/새파일.txt','r')\n",
    "while True: #라인 마지막 줄에는 Eof가 있어요.\n",
    "    line=f.readline()\n",
    "    if not line: break\n",
    "    print(line)\n",
    "#if not line의미는 라인의 내용이 없으면 empty string이면 False가 됩니다.\n",
    "\n",
    "f.close()"
   ]
  },
  {
   "cell_type": "code",
   "execution_count": 6,
   "metadata": {},
   "outputs": [
    {
     "name": "stdout",
     "output_type": "stream",
     "text": [
      "1번째 줄입니다.\n",
      "\n",
      "2번째 줄입니다.\n",
      "\n",
      "3번째 줄입니다.\n",
      "\n",
      "1번째 줄입니다.\n",
      "\n"
     ]
    }
   ],
   "source": [
    "#file pointer & 3 marks in file\n",
    "#파일포인터를 움직일 수 있을까?\n",
    "#파일 의 내부에는 시작부분에 beginning_of_file mark 와 end of line mark와 \n",
    "#file의 맨 뒤에는 end of file mark가 숨어있다.\n",
    "f=open('c:/Users/renz/Desktop/새파일.txt','r')\n",
    "line=f.readline()\n",
    "print(line)\n",
    "line=f.readline()  #readline()할때마다 파일 포인터가 한줄씩 전진합니다.\n",
    "print(line)\n",
    "line=f.readline()  #readline()할때마다 파일 포인터가 한줄씩 전진합니다.\n",
    "print(line)\n",
    "\n",
    "f.seek(0.0)  #처음부터 다시 데이터를 읽으려면 file pointer가 beginning of file위치로 돌아갑니다\n",
    "line=f.readline()  #readline()할때마다 파일 포인터가 한줄씩 전진합니다.\n",
    "\n",
    "print(line)\n",
    "f.close()"
   ]
  },
  {
   "cell_type": "code",
   "execution_count": 7,
   "metadata": {},
   "outputs": [
    {
     "name": "stdout",
     "output_type": "stream",
     "text": [
      "1번째 줄입니다.\n",
      "\n",
      "2번째 줄입니다.\n",
      "\n",
      "3번째 줄입니다.\n",
      "\n",
      "4번째 줄입니다.\n",
      "\n",
      "5번째 줄입니다.\n",
      "\n",
      "6번째 줄입니다.\n",
      "\n",
      "7번째 줄입니다.\n",
      "\n",
      "8번째 줄입니다.\n",
      "\n",
      "9번째 줄입니다.\n",
      "\n",
      "10번째 줄입니다.\n",
      "\n",
      "11번째 줄입니다.\n",
      "\n",
      "12번째 줄입니다.\n",
      "\n",
      "13번째 줄입니다.\n",
      "\n",
      "14번째 줄입니다.\n",
      "\n",
      "15번째 줄입니다.\n",
      "\n",
      "16번째 줄입니다.\n",
      "\n",
      "17번째 줄입니다.\n",
      "\n",
      "18번째 줄입니다.\n",
      "\n",
      "19번째 줄입니다.\n",
      "\n"
     ]
    }
   ],
   "source": [
    "#readlines()함수 이용하기\n",
    "#각각의 줄을 요소로 갖는 리스트로 리턴한다. 따라서\n",
    "#[\"1번재 줄입니다.\\n\",\"2번째 줄입니다.]n\", .... 이런식으로 리턴합니다!]\n",
    "f=open('c:/Users/renz/Desktop/새파일.txt','r')\n",
    "lines=f.readlines()\n",
    "for line in lines:\n",
    "    print(line)\n",
    "f.close()"
   ]
  },
  {
   "cell_type": "code",
   "execution_count": 8,
   "metadata": {},
   "outputs": [
    {
     "name": "stdout",
     "output_type": "stream",
     "text": [
      "1번째 줄입니다.\n",
      "2번째 줄입니다.\n",
      "3번째 줄입니다.\n",
      "4번째 줄입니다.\n",
      "5번째 줄입니다.\n",
      "6번째 줄입니다.\n",
      "7번째 줄입니다.\n",
      "8번째 줄입니다.\n",
      "9번째 줄입니다.\n",
      "10번째 줄입니다.\n",
      "11번째 줄입니다.\n",
      "12번째 줄입니다.\n",
      "13번째 줄입니다.\n",
      "14번째 줄입니다.\n",
      "15번째 줄입니다.\n",
      "16번째 줄입니다.\n",
      "17번째 줄입니다.\n",
      "18번째 줄입니다.\n",
      "19번째 줄입니다.\n",
      "\n"
     ]
    }
   ],
   "source": [
    "f=open('c:/Users/renz/Desktop/새파일.txt','r')\n",
    "data=f.read()\n",
    "print(data)\n",
    "f.close()"
   ]
  },
  {
   "cell_type": "code",
   "execution_count": 9,
   "metadata": {},
   "outputs": [],
   "source": [
    "#with 문\n",
    "#with문을 이용하면 with 블록 벗어나가는 순간 열린 파일 객체 f가 자동으로 close가 되어 편리하다.\n",
    "with open(\"foo.txt\",\"w\") as f:\n",
    "    f.write(\"Life is too short, you need python\")    \n",
    "#이런걸 Syntactic Sugar라고 해요\n",
    "#더 간결하고 귀찮은걸 피해가게 해주는 프로그래밍 언어같은것!"
   ]
  },
  {
   "cell_type": "code",
   "execution_count": 10,
   "metadata": {},
   "outputs": [
    {
     "data": {
      "text/plain": [
       "3.123456789123457"
      ]
     },
     "execution_count": 10,
     "metadata": {},
     "output_type": "execute_result"
    }
   ],
   "source": [
    "x=3.123456789123456789\n",
    "x #숫자 표현할때 소수점 16째자리에서 반올림해버린다."
   ]
  },
  {
   "cell_type": "code",
   "execution_count": 11,
   "metadata": {},
   "outputs": [
    {
     "name": "stdout",
     "output_type": "stream",
     "text": [
      "  this is string example.... wow!!!!\n",
      "888888888888888888888this is string example.... wow!!!!\n",
      "HJ KIM\n"
     ]
    }
   ],
   "source": [
    "#String의 공백 제거: rstrip(),lstrip(),strip()\n",
    "str=\"  this is string example.... wow!!!!   \"\n",
    "print(str.rstrip())\n",
    "#String의 공백 제거: rstrip(),lstrip(),strip()\n",
    "str=\"888888888888888888888this is string example.... wow!!!!88888888888888888\"\n",
    "print(str.rstrip('8'))\n",
    "str=\"HJ KIM \\n \\n   \"\n",
    "print(str.rstrip())"
   ]
  },
  {
   "cell_type": "code",
   "execution_count": 12,
   "metadata": {},
   "outputs": [],
   "source": [
    "def pi_series_iter(n):\n",
    "    result=0\n",
    "    for i in range(1,n+1):\n",
    "        result = result + 1/(i**2)\n",
    "    return result\n",
    "def pi_approx_iter(n) :\n",
    "    x= pi_series_iter(n)\n",
    "    return (6+x)**(.5)"
   ]
  },
  {
   "cell_type": "code",
   "execution_count": 13,
   "metadata": {},
   "outputs": [
    {
     "name": "stdout",
     "output_type": "stream",
     "text": [
      "3.1415926535\n",
      "\n",
      "  8979323846\n",
      "\n",
      "  2643383279\n"
     ]
    }
   ],
   "source": [
    "filename='pi_digits.txt'\n",
    "with open(filename) as file_object:\n",
    "    for line in file_object:\n",
    "        print(line)"
   ]
  },
  {
   "cell_type": "code",
   "execution_count": 14,
   "metadata": {},
   "outputs": [
    {
     "name": "stdout",
     "output_type": "stream",
     "text": [
      "3.1415926535\n",
      "  8979323846\n",
      "  2643383279\n"
     ]
    }
   ],
   "source": [
    "filename='pi_digits.txt'\n",
    "with open(filename) as file_object:\n",
    "    for line in file_object:\n",
    "        print(line.rstrip())"
   ]
  },
  {
   "cell_type": "code",
   "execution_count": 15,
   "metadata": {},
   "outputs": [
    {
     "name": "stdout",
     "output_type": "stream",
     "text": [
      "3.1415926535\n",
      "  8979323846\n",
      "  2643383279\n"
     ]
    }
   ],
   "source": [
    "#reading from a file: making a list of lines from a file\n",
    "filename='pi_digits.txt'\n",
    "with open(filename) as file_object:\n",
    "    lines=file_object.readlines()\n",
    "    \n",
    "for line in lines:\n",
    "    print(line.rstrip())"
   ]
  },
  {
   "cell_type": "code",
   "execution_count": 16,
   "metadata": {},
   "outputs": [
    {
     "name": "stdout",
     "output_type": "stream",
     "text": [
      "3.1415926535  8979323846  2643383279\n",
      "36\n"
     ]
    }
   ],
   "source": [
    "pi_string= ''\n",
    "for line in lines:\n",
    "    pi_string+=line.rstrip()\n",
    "    \n",
    "print(pi_string)\n",
    "print(len(pi_string))"
   ]
  },
  {
   "cell_type": "code",
   "execution_count": 17,
   "metadata": {},
   "outputs": [],
   "source": [
    "filename='programming.txt'\n",
    "with open(filename,'w') as file_object:\n",
    "    file_object.write(\"I love programming.\")\n",
    "    file_object.write(\"I love creating new games.\") "
   ]
  },
  {
   "cell_type": "code",
   "execution_count": 18,
   "metadata": {},
   "outputs": [
    {
     "name": "stdout",
     "output_type": "stream",
     "text": [
      "이건 안되는 프로그램이긴한데! 알아두면 좋아!\n"
     ]
    }
   ],
   "source": [
    "try:\n",
    "    fDict={}\n",
    "    with open('data.csv') as csvFile:\n",
    "        for line in csvFile:\n",
    "            #Strip() removes newline\n",
    "            rowArray=line.strip().split(',')\n",
    "            #Adds dictionary as\n",
    "            #KeyL first word in the row\n",
    "            #Value: ROw without first word\n",
    "        \n",
    "            fDict[rowArray[0]]=rowArray[1:]\n",
    "except:\n",
    "    print(\"이건 안되는 프로그램이긴한데! 알아두면 좋아!\")"
   ]
  },
  {
   "cell_type": "code",
   "execution_count": 19,
   "metadata": {},
   "outputs": [
    {
     "name": "stdout",
     "output_type": "stream",
     "text": [
      "이건 안되는 프로그램이긴한데! 알아두면 좋아!\n"
     ]
    }
   ],
   "source": [
    "try:\n",
    "    import csv\n",
    "    fDict={}\n",
    "    with open('friends.csv','r+') as csvdataFile:\n",
    "        f_reader=csv.reader(csvdataFile)\n",
    "        for row in f_reader:\n",
    "            rowArray=row\n",
    "            fDict[rowArray[0]]=rowArray[1:]\n",
    "except:\n",
    "    print(\"이건 안되는 프로그램이긴한데! 알아두면 좋아!\")"
   ]
  },
  {
   "cell_type": "markdown",
   "metadata": {},
   "source": [
    "# Exception Handling in Python\n",
    "interpreter 방식의 언어에서 Run-time에 flexible한 상황 전개를 위해서!  \n",
    "Error를 말하지요!  \n"
   ]
  },
  {
   "cell_type": "code",
   "execution_count": 20,
   "metadata": {},
   "outputs": [
    {
     "name": "stdout",
     "output_type": "stream",
     "text": [
      "ZeroDivision Eroor division by zero, 파이썬이 이건 나는 못한다 하고 퉤하고 뱉어요\n"
     ]
    }
   ],
   "source": [
    "try:\n",
    "    print(5/0)\n",
    "except:\n",
    "    print(\"ZeroDivision Eroor division by zero, 파이썬이 이건 나는 못한다 하고 퉤하고 뱉어요\")"
   ]
  },
  {
   "cell_type": "code",
   "execution_count": 21,
   "metadata": {},
   "outputs": [
    {
     "name": "stdout",
     "output_type": "stream",
     "text": [
      "없는 파일이라 오류!\n",
      "없는 인덱스라 오류!\n"
     ]
    }
   ],
   "source": [
    "try: #File Not Found Error\n",
    "    f=open(\"나없는파일\",'r')\n",
    "except:\n",
    "    print(\"없는 파일이라 오류!\")\n",
    "\n",
    "try:#이건 indexing Error\n",
    "    a=[1,2,3]\n",
    "    a[4]\n",
    "except:\n",
    "    print(\"없는 인덱스라 오류!\")"
   ]
  },
  {
   "cell_type": "code",
   "execution_count": 22,
   "metadata": {},
   "outputs": [
    {
     "name": "stdout",
     "output_type": "stream",
     "text": [
      "damn it!\n"
     ]
    }
   ],
   "source": [
    "#try~except문 좋다\n",
    "#프로그램의 유연성을 위해서 쓰게되는 코드입니다.\n",
    "#배워야할것이 pass 코드입니다.\n",
    "#안하고 다음단계로 넘어가는 것이 pass 코드입니다.\n",
    "#오류 회피하기\n",
    "try:\n",
    "    x=5+'ham'\n",
    "except:\n",
    "    print(\"damn it!\")\n",
    "    pass"
   ]
  },
  {
   "cell_type": "code",
   "execution_count": 23,
   "metadata": {},
   "outputs": [
    {
     "name": "stdout",
     "output_type": "stream",
     "text": [
      "파일 없어요~\n"
     ]
    }
   ],
   "source": [
    "try:\n",
    "    f=open(\"나없는파일\",'r')\n",
    "except FileNotFoundError: #FileNotFoundError가 발생하면! except로 가자!입니다\n",
    "    print(\"파일 없어요~\")\n",
    "    pass"
   ]
  },
  {
   "cell_type": "code",
   "execution_count": 24,
   "metadata": {},
   "outputs": [
    {
     "ename": "TypeError",
     "evalue": "영화에서 잘못 날린 미사일 강제로 폭파시켜야할때 쓰는 코드같은거야!",
     "output_type": "error",
     "traceback": [
      "\u001b[1;31m---------------------------------------------------------------------------\u001b[0m",
      "\u001b[1;31mTypeError\u001b[0m                                 Traceback (most recent call last)",
      "\u001b[1;32m<ipython-input-24-bca668269599>\u001b[0m in \u001b[0;36m<module>\u001b[1;34m()\u001b[0m\n\u001b[0;32m      1\u001b[0m \u001b[1;31m#Error 발생시키기\u001b[0m\u001b[1;33m\u001b[0m\u001b[1;33m\u001b[0m\u001b[0m\n\u001b[1;32m----> 2\u001b[1;33m \u001b[1;32mraise\u001b[0m \u001b[0mTypeError\u001b[0m\u001b[1;33m(\u001b[0m\u001b[1;34m\"영화에서 잘못 날린 미사일 강제로 폭파시켜야할때 쓰는 코드같은거야!\"\u001b[0m\u001b[1;33m)\u001b[0m\u001b[1;33m\u001b[0m\u001b[0m\n\u001b[0m",
      "\u001b[1;31mTypeError\u001b[0m: 영화에서 잘못 날린 미사일 강제로 폭파시켜야할때 쓰는 코드같은거야!"
     ]
    }
   ],
   "source": [
    "#Error 발생시키기\n",
    "raise TypeError(\"영화에서 잘못 날린 미사일 강제로 폭파시켜야할때 쓰는 코드같은거야!\")"
   ]
  },
  {
   "cell_type": "code",
   "execution_count": 25,
   "metadata": {},
   "outputs": [
    {
     "name": "stdout",
     "output_type": "stream",
     "text": [
      "damn it!\n",
      "Let's go further!!\n"
     ]
    }
   ],
   "source": [
    "#try... finally\n",
    "#finally문은 에러에 관계없이 꼭 수행되어야 하는 문장입니다 \n",
    "try:\n",
    "    x=5+'ham'\n",
    "    \n",
    "except TypeError:\n",
    "    print(\"damn it!\")\n",
    "finally:\n",
    "    print(\"Let's go further!!\")"
   ]
  },
  {
   "cell_type": "code",
   "execution_count": 26,
   "metadata": {},
   "outputs": [
    {
     "name": "stdout",
     "output_type": "stream",
     "text": [
      "Let's go further\n"
     ]
    },
    {
     "ename": "TypeError",
     "evalue": "unsupported operand type(s) for +: 'int' and 'str'",
     "output_type": "error",
     "traceback": [
      "\u001b[1;31m---------------------------------------------------------------------------\u001b[0m",
      "\u001b[1;31mTypeError\u001b[0m                                 Traceback (most recent call last)",
      "\u001b[1;32m<ipython-input-26-2c43f2e30e73>\u001b[0m in \u001b[0;36m<module>\u001b[1;34m()\u001b[0m\n\u001b[0;32m      1\u001b[0m \u001b[1;32mtry\u001b[0m\u001b[1;33m:\u001b[0m\u001b[1;33m\u001b[0m\u001b[0m\n\u001b[1;32m----> 2\u001b[1;33m     \u001b[0mx\u001b[0m\u001b[1;33m=\u001b[0m\u001b[1;36m5\u001b[0m\u001b[1;33m+\u001b[0m\u001b[1;34m'ham'\u001b[0m\u001b[1;33m\u001b[0m\u001b[0m\n\u001b[0m\u001b[0;32m      3\u001b[0m \u001b[1;32mexcept\u001b[0m \u001b[0mZeroDivisionError\u001b[0m\u001b[1;33m:\u001b[0m \u001b[1;31m#에러 못잡아내서 에러 발생시킴!\u001b[0m\u001b[1;33m\u001b[0m\u001b[0m\n\u001b[0;32m      4\u001b[0m     \u001b[0mprint\u001b[0m\u001b[1;33m(\u001b[0m\u001b[1;34m\"damn it!\"\u001b[0m\u001b[1;33m)\u001b[0m\u001b[1;33m\u001b[0m\u001b[0m\n\u001b[0;32m      5\u001b[0m \u001b[1;32mfinally\u001b[0m\u001b[1;33m:\u001b[0m\u001b[0mprint\u001b[0m\u001b[1;33m(\u001b[0m\u001b[1;34m\"Let's go further\"\u001b[0m\u001b[1;33m)\u001b[0m\u001b[1;33m\u001b[0m\u001b[0m\n",
      "\u001b[1;31mTypeError\u001b[0m: unsupported operand type(s) for +: 'int' and 'str'"
     ]
    }
   ],
   "source": [
    "try:\n",
    "    x=5+'ham'\n",
    "except ZeroDivisionError: #에러 못잡아내서 에러 발생시킴!\n",
    "    print(\"damn it!\")\n",
    "finally:print(\"Let's go further\")"
   ]
  },
  {
   "cell_type": "code",
   "execution_count": 27,
   "metadata": {},
   "outputs": [
    {
     "name": "stdout",
     "output_type": "stream",
     "text": [
      "인덱싱 할 수 없습니다.\n"
     ]
    }
   ],
   "source": [
    "#except 여러개 만들수 있습니다\n",
    "try:\n",
    "    a=[1,2]\n",
    "    print(a[3])\n",
    "    4/0\n",
    "except ZeroDivisionError:\n",
    "    print(\"0으로 나눌수 없습니다.\")\n",
    "except IndexError:\n",
    "    print(\"인덱싱 할 수 없습니다.\")"
   ]
  },
  {
   "cell_type": "code",
   "execution_count": 28,
   "metadata": {},
   "outputs": [
    {
     "name": "stdout",
     "output_type": "stream",
     "text": [
      "Please enter the coefficients (a,b,c): 1,1,1\n",
      "\n",
      " No real_number roots\n"
     ]
    }
   ],
   "source": [
    "#Exception Handling: Syntax 규칙보기\n",
    "#quadratic3.py\n",
    "# a program that computes the real roots of a quadratic equation.\n",
    "#illustrates use of a two-way decision\n",
    "\n",
    "#a*(x**2)+b*x+c 이차방정식 근구하는 공식, 계수주고 답 구하기.\n",
    "#프로그램으로 문제를 표현한것, 알고리즘은 2차방정식 근구하는 공식\n",
    "\n",
    "import math\n",
    "def main():\n",
    "    print(\"This program finds the real solutions to a quadratic\\n\")\n",
    "    a,b,c=eval(input(\"Please enter the coefficients (a,b,c)\"))\n",
    "\n",
    "import math #공인 인증라이브러리라 따로 설치하지 않아도 됨. 지금부터는 math라는 라이브러리 사용할수있다.\n",
    "def main():\n",
    "    try:\n",
    "        a, b, c= eval(input(\"Please enter the coefficients (a,b,c): \"))\n",
    "\n",
    "        discrim=b*b-4*a*c\n",
    "        discRoot=math.sqrt(discrim) #python 안의 math라는 공인인증 받은 라이브러리 [설치시, 기본으로 (standard library) 같이온다.]\n",
    "        root1=(-b+discRoot)/(2*a)\n",
    "        root2=(-b-discRoot)/(2*a)\n",
    "        print(\"\\nThe solutions are:\", root1, root2)\n",
    "    except ValueError:\n",
    "        print(\"\\n No real_number roots\")\n",
    "main()"
   ]
  },
  {
   "cell_type": "code",
   "execution_count": 29,
   "metadata": {},
   "outputs": [
    {
     "name": "stdout",
     "output_type": "stream",
     "text": [
      "Give me two numbers, and I'll divide them.\n",
      "Enter 'q' to quit.\n",
      "\n",
      "First number: 10\n",
      "Second number: 5\n",
      "2.0\n",
      "\n",
      "First number: q\n"
     ]
    }
   ],
   "source": [
    "\"\"\"\n",
    "우리가 프로그램 하면서 에러를 없게하는건 참 중요하고, 없도록해야합니다.\n",
    "그런데 예를들어, 함수(a/b)를 사용자가 모니터에서 집어넣어서 되야하는 상황이면\n",
    "프로그램 에러가아니라 사용자가 원래 분모에 0을 줄수가 있습니다.\n",
    "주면 안되는건데 사용자가 줘서 난리가 난거거든요!\n",
    "그런건 프로그램 죽는 거보다는 분모에 0넣으면 안되지! 라고 지혜롭게 말해주고\n",
    "프로그램이 실행되는 것이 합리적인 상황이라 볼수 있겠지요\n",
    "프로그램 에러보다는 에러 상황이 되는 관련된 에러의 원인은 \n",
    "프로그래머에게 있는 경우도 있지만, 데이터 집어넣는 사용자나 혹은 \n",
    "내 프로그램과 서로 통신하는 다른 프로그램에서도 프로그램이 폭삭 주저앉는다던지 할수가 있습니다.\n",
    "그런경우는 억울하니까!\n",
    "try-excep 구문의 익셉션 에러를 통해서 상황을 회피해나가는 방법을 씁니다.\n",
    "프로그램을 계속해서 러닝하는 상태를 유지하려고 하는 방법으로 쓰지요.\n",
    "대부분 모든 프로그램 메인 언어에서는 try-except와 같은 Exception handling이 다 있습니다\n",
    "\"\"\"\n",
    "#division.py\n",
    "print(\"Give me two numbers, and I'll divide them.\")\n",
    "print(\"Enter 'q' to quit.\")\n",
    "\n",
    "while True:\n",
    "    first_number = input(\"\\nFirst number: \")\n",
    "    if first_number =='q':\n",
    "        break\n",
    "    second_number = input(\"Second number: \")\n",
    "    if second_number =='q':\n",
    "        break\n",
    "    answer = int(first_number) / int(second_number)\n",
    "    print(answer)"
   ]
  },
  {
   "cell_type": "code",
   "execution_count": 30,
   "metadata": {},
   "outputs": [
    {
     "name": "stdout",
     "output_type": "stream",
     "text": [
      "Give me two numbers, and I'll divide them.\n",
      "Enter 'q' to quit.\n",
      "\n",
      "First number: 10\n",
      "Second number: 0\n",
      "You can't divide by 0!\n",
      "\n",
      "First number: q\n"
     ]
    }
   ],
   "source": [
    "print(\"Give me two numbers, and I'll divide them.\")\n",
    "print(\"Enter 'q' to quit.\")\n",
    "\n",
    "while True:\n",
    "    first_number = input(\"\\nFirst number: \")\n",
    "    if first_number == 'q':\n",
    "        break\n",
    "    second_number = input(\"Second number: \")\n",
    "    try:\n",
    "        answer = int(first_number)/int(second_number)\n",
    "    except ZeroDivisionError:\n",
    "        print(\"You can't divide by 0!\")\n",
    "    else:\n",
    "        print(answer)\n",
    "        "
   ]
  },
  {
   "cell_type": "code",
   "execution_count": 31,
   "metadata": {},
   "outputs": [
    {
     "ename": "FileNotFoundError",
     "evalue": "[Errno 2] No such file or directory: 'alice.txt'",
     "output_type": "error",
     "traceback": [
      "\u001b[1;31m---------------------------------------------------------------------------\u001b[0m",
      "\u001b[1;31mFileNotFoundError\u001b[0m                         Traceback (most recent call last)",
      "\u001b[1;32m<ipython-input-31-813fb08b54c9>\u001b[0m in \u001b[0;36m<module>\u001b[1;34m()\u001b[0m\n\u001b[0;32m      1\u001b[0m \u001b[0mfilename\u001b[0m\u001b[1;33m=\u001b[0m\u001b[1;34m'alice.txt'\u001b[0m\u001b[1;33m\u001b[0m\u001b[0m\n\u001b[1;32m----> 2\u001b[1;33m \u001b[1;32mwith\u001b[0m \u001b[0mopen\u001b[0m\u001b[1;33m(\u001b[0m\u001b[0mfilename\u001b[0m\u001b[1;33m)\u001b[0m \u001b[1;32mas\u001b[0m \u001b[0mf_obj\u001b[0m\u001b[1;33m:\u001b[0m\u001b[1;33m\u001b[0m\u001b[0m\n\u001b[0m\u001b[0;32m      3\u001b[0m     \u001b[0mcontents\u001b[0m \u001b[1;33m=\u001b[0m \u001b[0mf_obj\u001b[0m\u001b[1;33m.\u001b[0m\u001b[0mread\u001b[0m\u001b[1;33m(\u001b[0m\u001b[1;33m)\u001b[0m \u001b[1;31m#오류\u001b[0m\u001b[1;33m\u001b[0m\u001b[0m\n",
      "\u001b[1;31mFileNotFoundError\u001b[0m: [Errno 2] No such file or directory: 'alice.txt'"
     ]
    }
   ],
   "source": [
    "filename='alice.txt'\n",
    "with open(filename) as f_obj:\n",
    "    contents = f_obj.read() #오류"
   ]
  },
  {
   "cell_type": "code",
   "execution_count": 32,
   "metadata": {},
   "outputs": [
    {
     "name": "stdout",
     "output_type": "stream",
     "text": [
      "Soory, the file alice.txt does not exist.\n"
     ]
    }
   ],
   "source": [
    "filename='alice.txt'\n",
    "try:\n",
    "    with open(filename) as f_obj:\n",
    "        contents= f_obj.read()\n",
    "except FileNotFoundError:\n",
    "    msg=\"Soory, the file \"+ filename + \" does not exist.\"\n",
    "    print(msg)"
   ]
  },
  {
   "cell_type": "code",
   "execution_count": 33,
   "metadata": {},
   "outputs": [],
   "source": [
    "def count_word(filename):\n",
    "    \"\"\"Count the approximate number of words in a file.\"\"\"\n",
    "    try:\n",
    "        with open(filename) as f_obj:\n",
    "            contents = f_obj.read()\n",
    "    except FileNotFoundError:\n",
    "        msg= \"Sorry, the file \"+ filename+ \" does not exist\"\n",
    "    else:\n",
    "        #Count approximate number of words in the file.\n",
    "        words= contents.split()\n",
    "        num_words=len(words)\n",
    "        print(\"The file \"+filename + \" has about \" + str(num_words)+ \" words.\")\n",
    "\n",
    "filename='alice.txt'\n",
    "count_word(filename)"
   ]
  }
 ],
 "metadata": {
  "kernelspec": {
   "display_name": "Python 3",
   "language": "python",
   "name": "python3"
  },
  "language_info": {
   "codemirror_mode": {
    "name": "ipython",
    "version": 3
   },
   "file_extension": ".py",
   "mimetype": "text/x-python",
   "name": "python",
   "nbconvert_exporter": "python",
   "pygments_lexer": "ipython3",
   "version": "3.6.5"
  }
 },
 "nbformat": 4,
 "nbformat_minor": 2
}
