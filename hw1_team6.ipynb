{
 "cells": [
  {
   "cell_type": "code",
   "execution_count": 1,
   "metadata": {},
   "outputs": [],
   "source": [
    "#Ch 4-A Function Practice\n",
    "#6조 이희준, 이윤주, 백경아\n",
    "#함수제한 print(), range(), len(), append() 까지만 쓸것\n",
    "\n",
    "\n",
    "\n",
    "#f1\n",
    "#Write a function f1(list) that will return the number of odd elements in a given list.\n",
    "#주어진 리스트 안에 있는 홀수의 갯수를 구해라\n",
    "def f1(lst):\n",
    "    count=0\n",
    "    for i in lst:\n",
    "        if i%2!=0:\n",
    "            count+=1\n",
    "    return count        \n",
    "\n",
    "\n",
    "\n",
    "#f2\n",
    "#Write a function f2(list) that will print each odd element in a given list\n",
    "#리스트 안에 있는 홀수들을 프린트해라\n",
    "def f2(lst):\n",
    "    for i in lst:\n",
    "        if (i%2==1):\n",
    "            print(i)\n",
    "\n",
    "            \n",
    "\n",
    "#f3\n",
    "#Write a func f3(list) that will return the sum of all odd elements in a given list.\n",
    "#리스트 안에있는 홀수의 합을 구해라           \n",
    "def f3(lst):\n",
    "    result=0\n",
    "    for i in lst:\n",
    "        if(i%2 ==1):\n",
    "            result += i        \n",
    "    return result\n",
    "\n",
    "\n",
    "#f4\n",
    "#Write a func f4(list) that will return the sum of all the index positions\n",
    "#whose corresponding element is odd in a given list\n",
    "#홀수가 있는곳의 위치들의 합을 구해라 \n",
    "def f4(lst):\n",
    "    sums=0\n",
    "    j=0  \n",
    "    for i in lst:\n",
    "        if i%2!=0:\n",
    "            sums+=j\n",
    "        j+=1    \n",
    "    return sums\n",
    "\n",
    "\n",
    "\n",
    "#f5\n",
    "#Write a function f5(list) that will return the same list\n",
    "#where each element has been squared\n",
    "#리스트받아서 성분을 제곱한 리스트를 반환하라\n",
    "def f5(lst):\n",
    "    for i in range(len(lst)):\n",
    "        lst[i]*=lst[i]\n",
    "    return lst\n",
    "\n",
    "\n",
    "\n",
    "#f6\n",
    "#Write a function f6(list) that will return the largest number in a given list.\n",
    "#가장큰 number를 리턴해라\n",
    "def f6(lst):\n",
    "    maximum=lst[0]\n",
    "    for i in lst:\n",
    "        if i>maximum:\n",
    "            maximum=i\n",
    "    return maximum  \n",
    "\n",
    "\n",
    "\n",
    "#f7\n",
    "#Write a function f7(list) that will return the avg of all the numbers in a given list.\n",
    "def f7(lst):\n",
    "    sums=0\n",
    "    for i in lst:\n",
    "            sums+=i\n",
    "    return sums/len(lst)\n",
    "\n",
    "\n",
    "\n",
    "#f8\n",
    "#Write a function f8(a,b,n) that will print all the numbers divisible by n within\n",
    "#the range a and b inclusive. Assume n is positive\n",
    "#a부터 b까지 n으로 나눴을때 나머지가 0이되는숫자 프린트해라\n",
    "def f8(a,b,n):\n",
    "    for i in range(a,b+1):\n",
    "        if i%n==0:\n",
    "            print(i)\n",
    "\n",
    "\n",
    "            \n",
    "#f9\n",
    "#Write a function f9(width,height)\n",
    "#that will print an ASCII rectangle with the given width and height\n",
    "#*로 만든 직사각형 그림 그려라\n",
    "def f9(width,height):\n",
    "    if( width !=0) & (height !=0):\n",
    "        for i in range(height):\n",
    "            print('*'*width)\n",
    "\n",
    "\n",
    "            \n",
    "#f10\n",
    "#Write a function f10(n) that will print a triangle with the given height n.\n",
    "#Assume n is nonnegative\n",
    "#삼각형 그리기 n번째 줄까지 한줄당 1개씩 늘어나는 삼각형\n",
    "def f10(n):\n",
    "    for i in range(1,n+1):\n",
    "        print('*'*i)\n",
    "\n",
    "\n",
    "        \n",
    "#f11\n",
    "#Write a function f11(lst) that will return True if the list is sorted in descending order and False otherwise.\n",
    "#Return True for the empty list.\n",
    "#리스트를 받았을때, 원소순서가 전부 내림차순이면 트루 반환하는 함수\n",
    "def f11(lst):\n",
    "    sol=True\n",
    "    if lst!=[]:\n",
    "        index=0\n",
    "        for i in range(len(lst)):\n",
    "            if lst[i]>lst[index]:\n",
    "                sol=False\n",
    "                break\n",
    "            else:\n",
    "                index=i\n",
    "    return sol\n",
    "\n",
    "\n",
    "\n",
    "#f12\n",
    "#Write a function f12(list) that will return True if the list consists of all negative numbers and False otherwise.\n",
    "#Return True for the empty list.\n",
    "#리스트 받았을때 전부다 음수이면 트루, 하나라도 양수면 False 리턴하는 함수\n",
    "def f12(lst):\n",
    "    for i in lst:\n",
    "        if(i>0):\n",
    "            return False\n",
    "    return True\n",
    "\n",
    "\n",
    "\n",
    "#f13\n",
    "#Write a function f13(lst,target) that will return the index of the last occurrence of target in the list.\n",
    "#Assume the list is nonempty and always contains the target\n",
    "#입력받은 리스트 안에 타겟의 위치를 찾아라\n",
    "def f13(lst,target): \n",
    "    for i in range(len(lst)-1, -1, -1): \n",
    "        if target == lst[i]: \n",
    "            return i \n",
    "\n",
    "\n",
    "        \n",
    "#f14\n",
    "#Write a function f14(list that will return the index of the last negative number in the list.\n",
    "#Assume the list is nonempty and always contains a negative number\n",
    "#리스트를 받아서 가장 마지막에 있는 음수의 인덱스를 보여줘라\n",
    "def f14(lst): \n",
    "    for i in range(len(lst)-1, -1, -1): \n",
    "        if lst[i] < 0: \n",
    "            return i\n",
    "\n",
    "\n",
    "\n",
    "#f15\n",
    "#Write a function f15(list) that will return the sum of all the elements at even index positions.\n",
    "#짝수번째 인덱스에있는 리스트의 원소들의 합을 구해라\n",
    "def f15(lst):\n",
    "    sums=0\n",
    "    for i in range(len(lst)):\n",
    "        if(i%2==0):\n",
    "            sums+=lst[i]\n",
    "    return sums\n",
    "\n",
    "\n",
    "\n",
    "#f16\n",
    "#Write a function f16(n) that will print out an upside down triangle\n",
    "#정수 n을 입력받아 n만큼의 뒤집혀진 삼각형을 출력해라\n",
    "def f16(n):\n",
    "    star= '*'\n",
    "    for i in range(n,0,-1):\n",
    "        print(star*i)\n",
    "\n",
    "\n",
    "        \n",
    "#f17\n",
    "#Write a function f17(list) that will print out every other element in a list in reverse order.\n",
    "#리스트를 입력받아 리스트의 성분들은 뒤에서부터 하나건너뛰며 출력해라\n",
    "def f17(lst):\n",
    "    n=len(lst)-1\n",
    "    while(n>=0):\n",
    "        print(lst[n])\n",
    "        n-=2\n",
    "\n",
    "\n",
    "        \n",
    "#f18\n",
    "#Write a function f18(n) that will reurn n!\n",
    "#n입력받아서 n 팩토리얼 출력하라\n",
    "def f18(n):\n",
    "    factorial=1\n",
    "    for i in range(n,0,-1):\n",
    "        factorial*=i\n",
    "    return factorial    \n",
    "\n",
    "\n",
    "\n",
    "#f19\n",
    "#Write a function f19(list) that will print the factorial of each element of a given list\n",
    "#입력받은 리스트의 각 원소들의 팩토리얼 값을 출력해라\n",
    "def f19(lst):\n",
    "    for i in lst:\n",
    "        factorial=1\n",
    "        for j in range(i,0,-1):\n",
    "           factorial*=j\n",
    "        print(factorial)   \n",
    "\n",
    "        \n",
    "\n",
    "#f20\n",
    "#Write a function f20(list) that will print a countdown starting from each element to zero for a given list.\n",
    "#리스트를 입력받아서 각각 카운트다운하는 것을 프린트해라\n",
    "def f20(lst):\n",
    "    for i in lst:\n",
    "        j=i\n",
    "        while(j>=0):\n",
    "            print(j,end=' ')\n",
    "            j-=1\n",
    "        print()     \n",
    "\n",
    "        \n",
    "\n",
    "#f21\n",
    "#Write a function f21(list1, list2) that will return\n",
    "#a new list where each index in the new list corresponds to list1[index] + list2[index]\n",
    "#Assune list1 and list2 are the same length\n",
    "#두개의 같은 길이의 리스트를 입력받아 같은 인덱스끼리 합한 리스트 반환하라 \n",
    "def f21(lst1,lst2):\n",
    "    result=[]\n",
    "    length=len(lst1)\n",
    "    for i in range(length):\n",
    "        result.append(lst1[i]+lst2[i])\n",
    "    return result\n",
    "\n",
    "\n",
    "\n",
    "#f22\n",
    "#Write a function f22(n) that will print all the numbers from 1 to n inclusive that is a multiple of 2 or 3.\n",
    "#숫자 n을 받아들여서 숫자n까지 2또는 3의 약수를 프린트 하라.\n",
    "def f22(n):\n",
    "    for i in range(1,n+1):\n",
    "        if (i%2==0) | (i%3==0):\n",
    "            print(i)\n",
    "\n",
    "\n",
    "            \n",
    "#f23\n",
    "#Write a function f23(list) that will return the largest value in the list(of all the nested lists inside list).\n",
    "#Note that list is a nested list.\n",
    "#Assume list starts with a nonempty list.\n",
    "#리스트를  포함하는 리스트들의 원소들중 가장 큰원소 하나를 출력하라\n",
    "def f23(lst):\n",
    "    best=lst[0][0]\n",
    "    for i in range(len(lst)):\n",
    "        for j in lst[i]:\n",
    "            if j>best:\n",
    "                best=j\n",
    "    return best            \n",
    "\n",
    "\n",
    "\n",
    "#f24\n",
    "#Write a function f24(list) that will return the second largest value in the list.\n",
    "#Assume that the elements of list are all unique and it contains at least 2 elements\n",
    "#리스트를 받아서 리스트안에있는 애들중 두번째로 큰 숫자를 리턴한다\n",
    "#받는 list에 중복수는 없으며, 적어도 2개의 원소를 갖고있다.\n",
    "def f24(lst):\n",
    "    if(lst[0]<lst[1]):\n",
    "        first,second=lst[1],lst[0]\n",
    "    else:\n",
    "        first,second=lst[0],lst[1]         \n",
    "    for i in range(2,len(lst)):  #나머지 element 비교\n",
    "        if lst[i]>first:\n",
    "            first,second=lst[i],first\n",
    "        elif lst[i]>second:\n",
    "            second=lst[i]\n",
    "    return second        \n",
    "\n",
    "\n",
    "\n",
    "#f25\n",
    "#Write a function f25(n) that will return the leftmost digit in n.\n",
    "#Assume n is positive\n",
    "#숫자 n을 입력받아 가장 높은 자리에 있는 수를 리턴하라 \n",
    "def f25(n): \n",
    "    while(n > 9): \n",
    "        n //= 10 \n",
    "    print(n) \n",
    "\n",
    "\n",
    "    \n",
    "#f26\n",
    "#Write a function f25(list) that will print the largest value of each of the nested lists in the given list.\n",
    "#Note that list is a nested list. Assume each nested list in the given lilst is not empty\n",
    "#리스트안에 리스트있는건데 리스트 안에있는 각각의 리스트의 원소들중 제일 큰것들을 프린트해주어라.\n",
    "def f26(lst):\n",
    "    for i in range(len(lst)):\n",
    "        largest=lst[i][0]\n",
    "        for j in range(len(lst[i])):\n",
    "            if largest< lst[i][j]:\n",
    "                largest=lst[i][j]\n",
    "        print(largest)\n"
   ]
  },
  {
   "cell_type": "code",
   "execution_count": 2,
   "metadata": {},
   "outputs": [
    {
     "data": {
      "text/plain": [
       "2"
      ]
     },
     "execution_count": 2,
     "metadata": {},
     "output_type": "execute_result"
    }
   ],
   "source": [
    "f1([1,2,3,4])"
   ]
  },
  {
   "cell_type": "code",
   "execution_count": 3,
   "metadata": {},
   "outputs": [
    {
     "data": {
      "text/plain": [
       "3"
      ]
     },
     "execution_count": 3,
     "metadata": {},
     "output_type": "execute_result"
    }
   ],
   "source": [
    "f1([1,2,3,4,5])\n"
   ]
  },
  {
   "cell_type": "code",
   "execution_count": 4,
   "metadata": {},
   "outputs": [
    {
     "name": "stdout",
     "output_type": "stream",
     "text": [
      "1\n",
      "3\n"
     ]
    }
   ],
   "source": [
    "f2([1,2,3,4])"
   ]
  },
  {
   "cell_type": "code",
   "execution_count": 5,
   "metadata": {},
   "outputs": [
    {
     "name": "stdout",
     "output_type": "stream",
     "text": [
      "1\n",
      "3\n",
      "5\n"
     ]
    }
   ],
   "source": [
    "f2([1,2,3,4,5])"
   ]
  },
  {
   "cell_type": "code",
   "execution_count": 6,
   "metadata": {},
   "outputs": [
    {
     "data": {
      "text/plain": [
       "9"
      ]
     },
     "execution_count": 6,
     "metadata": {},
     "output_type": "execute_result"
    }
   ],
   "source": [
    "f3([1,2,3,4,5])"
   ]
  },
  {
   "cell_type": "code",
   "execution_count": 7,
   "metadata": {},
   "outputs": [
    {
     "data": {
      "text/plain": [
       "4"
      ]
     },
     "execution_count": 7,
     "metadata": {},
     "output_type": "execute_result"
    }
   ],
   "source": [
    "f3([1,2,3,4])"
   ]
  },
  {
   "cell_type": "code",
   "execution_count": 8,
   "metadata": {},
   "outputs": [
    {
     "data": {
      "text/plain": [
       "2"
      ]
     },
     "execution_count": 8,
     "metadata": {},
     "output_type": "execute_result"
    }
   ],
   "source": [
    "f4([1,2,3,4])"
   ]
  },
  {
   "cell_type": "code",
   "execution_count": 9,
   "metadata": {},
   "outputs": [
    {
     "data": {
      "text/plain": [
       "6"
      ]
     },
     "execution_count": 9,
     "metadata": {},
     "output_type": "execute_result"
    }
   ],
   "source": [
    "f4([1,2,3,4,5])"
   ]
  },
  {
   "cell_type": "code",
   "execution_count": 10,
   "metadata": {},
   "outputs": [
    {
     "data": {
      "text/plain": [
       "[1, 4, 9, 16]"
      ]
     },
     "execution_count": 10,
     "metadata": {},
     "output_type": "execute_result"
    }
   ],
   "source": [
    "f5([1,2,3,4])"
   ]
  },
  {
   "cell_type": "code",
   "execution_count": 11,
   "metadata": {},
   "outputs": [
    {
     "data": {
      "text/plain": [
       "[1, 4, 9, 16, 25]"
      ]
     },
     "execution_count": 11,
     "metadata": {},
     "output_type": "execute_result"
    }
   ],
   "source": [
    "f5([1,2,3,4,5])"
   ]
  },
  {
   "cell_type": "code",
   "execution_count": 12,
   "metadata": {},
   "outputs": [
    {
     "data": {
      "text/plain": [
       "4"
      ]
     },
     "execution_count": 12,
     "metadata": {},
     "output_type": "execute_result"
    }
   ],
   "source": [
    "f6([1,2,3,4])"
   ]
  },
  {
   "cell_type": "code",
   "execution_count": 13,
   "metadata": {},
   "outputs": [
    {
     "data": {
      "text/plain": [
       "5"
      ]
     },
     "execution_count": 13,
     "metadata": {},
     "output_type": "execute_result"
    }
   ],
   "source": [
    "f6([1,2,3,4,5])"
   ]
  },
  {
   "cell_type": "code",
   "execution_count": 14,
   "metadata": {},
   "outputs": [
    {
     "data": {
      "text/plain": [
       "2.5"
      ]
     },
     "execution_count": 14,
     "metadata": {},
     "output_type": "execute_result"
    }
   ],
   "source": [
    "f7([1,2,3,4])"
   ]
  },
  {
   "cell_type": "code",
   "execution_count": 15,
   "metadata": {},
   "outputs": [
    {
     "data": {
      "text/plain": [
       "3.0"
      ]
     },
     "execution_count": 15,
     "metadata": {},
     "output_type": "execute_result"
    }
   ],
   "source": [
    "f7([1,2,3,4,5])"
   ]
  },
  {
   "cell_type": "code",
   "execution_count": 16,
   "metadata": {},
   "outputs": [
    {
     "name": "stdout",
     "output_type": "stream",
     "text": [
      "2\n",
      "4\n",
      "6\n",
      "8\n",
      "10\n"
     ]
    }
   ],
   "source": [
    "f8(1,10,2)"
   ]
  },
  {
   "cell_type": "code",
   "execution_count": 17,
   "metadata": {},
   "outputs": [],
   "source": [
    "f8(1,10,11)"
   ]
  },
  {
   "cell_type": "code",
   "execution_count": 18,
   "metadata": {},
   "outputs": [
    {
     "name": "stdout",
     "output_type": "stream",
     "text": [
      "7\n"
     ]
    }
   ],
   "source": [
    "f8(1,10,7)"
   ]
  },
  {
   "cell_type": "code",
   "execution_count": 19,
   "metadata": {},
   "outputs": [],
   "source": [
    "f9(0,1)"
   ]
  },
  {
   "cell_type": "code",
   "execution_count": 20,
   "metadata": {},
   "outputs": [],
   "source": [
    "f9(10,0)"
   ]
  },
  {
   "cell_type": "code",
   "execution_count": 21,
   "metadata": {},
   "outputs": [
    {
     "name": "stdout",
     "output_type": "stream",
     "text": [
      "*\n"
     ]
    }
   ],
   "source": [
    "f9(1,1)"
   ]
  },
  {
   "cell_type": "code",
   "execution_count": 22,
   "metadata": {},
   "outputs": [
    {
     "name": "stdout",
     "output_type": "stream",
     "text": [
      "*\n",
      "*\n"
     ]
    }
   ],
   "source": [
    "f9(1,2)"
   ]
  },
  {
   "cell_type": "code",
   "execution_count": 23,
   "metadata": {},
   "outputs": [
    {
     "name": "stdout",
     "output_type": "stream",
     "text": [
      "*****\n",
      "*****\n",
      "*****\n",
      "*****\n",
      "*****\n"
     ]
    }
   ],
   "source": [
    "f9(5,5)"
   ]
  },
  {
   "cell_type": "code",
   "execution_count": 24,
   "metadata": {},
   "outputs": [
    {
     "name": "stdout",
     "output_type": "stream",
     "text": [
      "*\n"
     ]
    }
   ],
   "source": [
    "f10(1)"
   ]
  },
  {
   "cell_type": "code",
   "execution_count": 25,
   "metadata": {},
   "outputs": [
    {
     "name": "stdout",
     "output_type": "stream",
     "text": [
      "*\n",
      "**\n"
     ]
    }
   ],
   "source": [
    "f10(2)"
   ]
  },
  {
   "cell_type": "code",
   "execution_count": 26,
   "metadata": {},
   "outputs": [
    {
     "name": "stdout",
     "output_type": "stream",
     "text": [
      "*\n",
      "**\n",
      "***\n"
     ]
    }
   ],
   "source": [
    "f10(3)"
   ]
  },
  {
   "cell_type": "code",
   "execution_count": 27,
   "metadata": {},
   "outputs": [
    {
     "data": {
      "text/plain": [
       "True"
      ]
     },
     "execution_count": 27,
     "metadata": {},
     "output_type": "execute_result"
    }
   ],
   "source": [
    "f11({})"
   ]
  },
  {
   "cell_type": "code",
   "execution_count": 28,
   "metadata": {},
   "outputs": [
    {
     "data": {
      "text/plain": [
       "True"
      ]
     },
     "execution_count": 28,
     "metadata": {},
     "output_type": "execute_result"
    }
   ],
   "source": [
    "f11([5,4,3,2,1])"
   ]
  },
  {
   "cell_type": "code",
   "execution_count": 29,
   "metadata": {},
   "outputs": [
    {
     "data": {
      "text/plain": [
       "True"
      ]
     },
     "execution_count": 29,
     "metadata": {},
     "output_type": "execute_result"
    }
   ],
   "source": [
    "f11([5,4,3,2,0])"
   ]
  },
  {
   "cell_type": "code",
   "execution_count": 30,
   "metadata": {},
   "outputs": [
    {
     "data": {
      "text/plain": [
       "False"
      ]
     },
     "execution_count": 30,
     "metadata": {},
     "output_type": "execute_result"
    }
   ],
   "source": [
    "f11([5,4,5,2])"
   ]
  },
  {
   "cell_type": "code",
   "execution_count": 31,
   "metadata": {},
   "outputs": [
    {
     "data": {
      "text/plain": [
       "True"
      ]
     },
     "execution_count": 31,
     "metadata": {},
     "output_type": "execute_result"
    }
   ],
   "source": [
    "f12([])"
   ]
  },
  {
   "cell_type": "code",
   "execution_count": 32,
   "metadata": {},
   "outputs": [
    {
     "data": {
      "text/plain": [
       "False"
      ]
     },
     "execution_count": 32,
     "metadata": {},
     "output_type": "execute_result"
    }
   ],
   "source": [
    "f12([-1,-2,-3,-4,5])"
   ]
  },
  {
   "cell_type": "code",
   "execution_count": 33,
   "metadata": {},
   "outputs": [
    {
     "data": {
      "text/plain": [
       "False"
      ]
     },
     "execution_count": 33,
     "metadata": {},
     "output_type": "execute_result"
    }
   ],
   "source": [
    "f12([1,2,3,4,5])"
   ]
  },
  {
   "cell_type": "code",
   "execution_count": 34,
   "metadata": {},
   "outputs": [
    {
     "data": {
      "text/plain": [
       "True"
      ]
     },
     "execution_count": 34,
     "metadata": {},
     "output_type": "execute_result"
    }
   ],
   "source": [
    "f12([-1,-2,-3])"
   ]
  },
  {
   "cell_type": "code",
   "execution_count": 35,
   "metadata": {},
   "outputs": [
    {
     "data": {
      "text/plain": [
       "2"
      ]
     },
     "execution_count": 35,
     "metadata": {},
     "output_type": "execute_result"
    }
   ],
   "source": [
    "f13([1,2,3],3)"
   ]
  },
  {
   "cell_type": "code",
   "execution_count": 36,
   "metadata": {},
   "outputs": [
    {
     "data": {
      "text/plain": [
       "5"
      ]
     },
     "execution_count": 36,
     "metadata": {},
     "output_type": "execute_result"
    }
   ],
   "source": [
    "f13([1,2,3,1,2,3],3)"
   ]
  },
  {
   "cell_type": "code",
   "execution_count": 37,
   "metadata": {},
   "outputs": [
    {
     "data": {
      "text/plain": [
       "3"
      ]
     },
     "execution_count": 37,
     "metadata": {},
     "output_type": "execute_result"
    }
   ],
   "source": [
    "f13([1,1,1,1],1)"
   ]
  },
  {
   "cell_type": "code",
   "execution_count": 38,
   "metadata": {},
   "outputs": [
    {
     "data": {
      "text/plain": [
       "2"
      ]
     },
     "execution_count": 38,
     "metadata": {},
     "output_type": "execute_result"
    }
   ],
   "source": [
    "f14([1,2,-3])"
   ]
  },
  {
   "cell_type": "code",
   "execution_count": 39,
   "metadata": {},
   "outputs": [
    {
     "data": {
      "text/plain": [
       "5"
      ]
     },
     "execution_count": 39,
     "metadata": {},
     "output_type": "execute_result"
    }
   ],
   "source": [
    "f14([1,-2,-3,1,-2,-3])"
   ]
  },
  {
   "cell_type": "code",
   "execution_count": 40,
   "metadata": {},
   "outputs": [
    {
     "data": {
      "text/plain": [
       "0"
      ]
     },
     "execution_count": 40,
     "metadata": {},
     "output_type": "execute_result"
    }
   ],
   "source": [
    "f14([-1,1,1,1])"
   ]
  },
  {
   "cell_type": "code",
   "execution_count": 41,
   "metadata": {},
   "outputs": [
    {
     "data": {
      "text/plain": [
       "-2"
      ]
     },
     "execution_count": 41,
     "metadata": {},
     "output_type": "execute_result"
    }
   ],
   "source": [
    "f15([1,2,-3])"
   ]
  },
  {
   "cell_type": "code",
   "execution_count": 42,
   "metadata": {},
   "outputs": [
    {
     "data": {
      "text/plain": [
       "-4"
      ]
     },
     "execution_count": 42,
     "metadata": {},
     "output_type": "execute_result"
    }
   ],
   "source": [
    "f15([1,-2,-3,1,-2,-3])"
   ]
  },
  {
   "cell_type": "code",
   "execution_count": 43,
   "metadata": {},
   "outputs": [
    {
     "data": {
      "text/plain": [
       "0"
      ]
     },
     "execution_count": 43,
     "metadata": {},
     "output_type": "execute_result"
    }
   ],
   "source": [
    "f15([-1,1,1,1])"
   ]
  },
  {
   "cell_type": "code",
   "execution_count": 44,
   "metadata": {},
   "outputs": [
    {
     "name": "stdout",
     "output_type": "stream",
     "text": [
      "***\n",
      "**\n",
      "*\n"
     ]
    }
   ],
   "source": [
    "f16(3)"
   ]
  },
  {
   "cell_type": "code",
   "execution_count": 45,
   "metadata": {},
   "outputs": [
    {
     "name": "stdout",
     "output_type": "stream",
     "text": [
      "**\n",
      "*\n"
     ]
    }
   ],
   "source": [
    "f16(2)"
   ]
  },
  {
   "cell_type": "code",
   "execution_count": 46,
   "metadata": {},
   "outputs": [
    {
     "name": "stdout",
     "output_type": "stream",
     "text": [
      "*\n"
     ]
    }
   ],
   "source": [
    "f16(1)"
   ]
  },
  {
   "cell_type": "code",
   "execution_count": 47,
   "metadata": {},
   "outputs": [
    {
     "name": "stdout",
     "output_type": "stream",
     "text": [
      "6\n",
      "4\n",
      "2\n"
     ]
    }
   ],
   "source": [
    "f17([1,2,3,4,5,6])"
   ]
  },
  {
   "cell_type": "code",
   "execution_count": 48,
   "metadata": {},
   "outputs": [
    {
     "name": "stdout",
     "output_type": "stream",
     "text": [
      "4\n",
      "2\n"
     ]
    }
   ],
   "source": [
    "f17([1,2,3,4])"
   ]
  },
  {
   "cell_type": "code",
   "execution_count": 49,
   "metadata": {},
   "outputs": [
    {
     "name": "stdout",
     "output_type": "stream",
     "text": [
      "1\n"
     ]
    }
   ],
   "source": [
    "f17([1])"
   ]
  },
  {
   "cell_type": "code",
   "execution_count": 50,
   "metadata": {},
   "outputs": [
    {
     "data": {
      "text/plain": [
       "1"
      ]
     },
     "execution_count": 50,
     "metadata": {},
     "output_type": "execute_result"
    }
   ],
   "source": [
    "f18(0)"
   ]
  },
  {
   "cell_type": "code",
   "execution_count": 51,
   "metadata": {},
   "outputs": [
    {
     "data": {
      "text/plain": [
       "2"
      ]
     },
     "execution_count": 51,
     "metadata": {},
     "output_type": "execute_result"
    }
   ],
   "source": [
    "f18(2)"
   ]
  },
  {
   "cell_type": "code",
   "execution_count": 52,
   "metadata": {},
   "outputs": [
    {
     "data": {
      "text/plain": [
       "6"
      ]
     },
     "execution_count": 52,
     "metadata": {},
     "output_type": "execute_result"
    }
   ],
   "source": [
    "f18(3)"
   ]
  },
  {
   "cell_type": "code",
   "execution_count": 53,
   "metadata": {},
   "outputs": [],
   "source": [
    "f19([])"
   ]
  },
  {
   "cell_type": "code",
   "execution_count": 54,
   "metadata": {},
   "outputs": [
    {
     "name": "stdout",
     "output_type": "stream",
     "text": [
      "1\n",
      "2\n",
      "6\n"
     ]
    }
   ],
   "source": [
    "f19([1,2,3])"
   ]
  },
  {
   "cell_type": "code",
   "execution_count": 55,
   "metadata": {},
   "outputs": [
    {
     "name": "stdout",
     "output_type": "stream",
     "text": [
      "1\n",
      "2\n",
      "6\n",
      "24\n"
     ]
    }
   ],
   "source": [
    "f19([1,2,3,4])"
   ]
  },
  {
   "cell_type": "code",
   "execution_count": 56,
   "metadata": {},
   "outputs": [],
   "source": [
    "f20([])"
   ]
  },
  {
   "cell_type": "code",
   "execution_count": 57,
   "metadata": {},
   "outputs": [
    {
     "name": "stdout",
     "output_type": "stream",
     "text": [
      "1 0 \n",
      "3 2 1 0 \n",
      "5 4 3 2 1 0 \n"
     ]
    }
   ],
   "source": [
    "f20([1,3,5])"
   ]
  },
  {
   "cell_type": "code",
   "execution_count": 58,
   "metadata": {},
   "outputs": [
    {
     "name": "stdout",
     "output_type": "stream",
     "text": [
      "5 4 3 2 1 0 \n",
      "3 2 1 0 \n",
      "6 5 4 3 2 1 0 \n",
      "2 1 0 \n"
     ]
    }
   ],
   "source": [
    "f20([5,3,6,2])"
   ]
  },
  {
   "cell_type": "code",
   "execution_count": 59,
   "metadata": {},
   "outputs": [
    {
     "data": {
      "text/plain": [
       "[]"
      ]
     },
     "execution_count": 59,
     "metadata": {},
     "output_type": "execute_result"
    }
   ],
   "source": [
    "f21([],[])"
   ]
  },
  {
   "cell_type": "code",
   "execution_count": 60,
   "metadata": {},
   "outputs": [
    {
     "data": {
      "text/plain": [
       "[2, 4, 6]"
      ]
     },
     "execution_count": 60,
     "metadata": {},
     "output_type": "execute_result"
    }
   ],
   "source": [
    "f21([1,2,3],[1,2,3])"
   ]
  },
  {
   "cell_type": "code",
   "execution_count": 61,
   "metadata": {},
   "outputs": [
    {
     "data": {
      "text/plain": [
       "[1, 2, 3]"
      ]
     },
     "execution_count": 61,
     "metadata": {},
     "output_type": "execute_result"
    }
   ],
   "source": [
    "f21([0,0,0],[1,2,3])"
   ]
  },
  {
   "cell_type": "code",
   "execution_count": 62,
   "metadata": {},
   "outputs": [
    {
     "name": "stdout",
     "output_type": "stream",
     "text": [
      "2\n",
      "3\n",
      "4\n",
      "6\n",
      "8\n",
      "9\n",
      "10\n"
     ]
    }
   ],
   "source": [
    "f22(10)"
   ]
  },
  {
   "cell_type": "code",
   "execution_count": 63,
   "metadata": {},
   "outputs": [],
   "source": [
    "f22(1)"
   ]
  },
  {
   "cell_type": "code",
   "execution_count": 64,
   "metadata": {},
   "outputs": [
    {
     "name": "stdout",
     "output_type": "stream",
     "text": [
      "2\n"
     ]
    }
   ],
   "source": [
    "f22(2)"
   ]
  },
  {
   "cell_type": "code",
   "execution_count": 65,
   "metadata": {},
   "outputs": [
    {
     "name": "stdout",
     "output_type": "stream",
     "text": [
      "2\n",
      "3\n"
     ]
    }
   ],
   "source": [
    "f22(3)"
   ]
  },
  {
   "cell_type": "code",
   "execution_count": 66,
   "metadata": {},
   "outputs": [
    {
     "data": {
      "text/plain": [
       "9"
      ]
     },
     "execution_count": 66,
     "metadata": {},
     "output_type": "execute_result"
    }
   ],
   "source": [
    "f23([[1,2,3],[4,5,6],[7,8,9]])"
   ]
  },
  {
   "cell_type": "code",
   "execution_count": 67,
   "metadata": {},
   "outputs": [
    {
     "data": {
      "text/plain": [
       "3"
      ]
     },
     "execution_count": 67,
     "metadata": {},
     "output_type": "execute_result"
    }
   ],
   "source": [
    "f23([[3,2,1],[0,-1,-2]])"
   ]
  },
  {
   "cell_type": "code",
   "execution_count": 68,
   "metadata": {},
   "outputs": [
    {
     "data": {
      "text/plain": [
       "67"
      ]
     },
     "execution_count": 68,
     "metadata": {},
     "output_type": "execute_result"
    }
   ],
   "source": [
    "f23([[1,2,3,4],[],[34],[],[],[56],[67]])"
   ]
  },
  {
   "cell_type": "code",
   "execution_count": 69,
   "metadata": {},
   "outputs": [
    {
     "data": {
      "text/plain": [
       "4"
      ]
     },
     "execution_count": 69,
     "metadata": {},
     "output_type": "execute_result"
    }
   ],
   "source": [
    "f24([1,4,3,2,5])"
   ]
  },
  {
   "cell_type": "code",
   "execution_count": 70,
   "metadata": {},
   "outputs": [
    {
     "data": {
      "text/plain": [
       "2"
      ]
     },
     "execution_count": 70,
     "metadata": {},
     "output_type": "execute_result"
    }
   ],
   "source": [
    "f24([3,2])"
   ]
  },
  {
   "cell_type": "code",
   "execution_count": 71,
   "metadata": {},
   "outputs": [
    {
     "data": {
      "text/plain": [
       "3"
      ]
     },
     "execution_count": 71,
     "metadata": {},
     "output_type": "execute_result"
    }
   ],
   "source": [
    "f24([3,4])"
   ]
  },
  {
   "cell_type": "code",
   "execution_count": 72,
   "metadata": {},
   "outputs": [
    {
     "name": "stdout",
     "output_type": "stream",
     "text": [
      "1\n"
     ]
    }
   ],
   "source": [
    "f25(1234)"
   ]
  },
  {
   "cell_type": "code",
   "execution_count": 73,
   "metadata": {},
   "outputs": [
    {
     "name": "stdout",
     "output_type": "stream",
     "text": [
      "4\n"
     ]
    }
   ],
   "source": [
    "f25(4321)"
   ]
  },
  {
   "cell_type": "code",
   "execution_count": 74,
   "metadata": {},
   "outputs": [
    {
     "name": "stdout",
     "output_type": "stream",
     "text": [
      "3\n"
     ]
    }
   ],
   "source": [
    "f25(3)"
   ]
  },
  {
   "cell_type": "code",
   "execution_count": 75,
   "metadata": {},
   "outputs": [
    {
     "name": "stdout",
     "output_type": "stream",
     "text": [
      "3\n",
      "6\n",
      "9\n"
     ]
    }
   ],
   "source": [
    "f26([[1,2,3],[4,5,6],[7,8,9]])"
   ]
  },
  {
   "cell_type": "code",
   "execution_count": 76,
   "metadata": {},
   "outputs": [
    {
     "name": "stdout",
     "output_type": "stream",
     "text": [
      "3\n",
      "0\n"
     ]
    }
   ],
   "source": [
    "f26([[3,2,1],[0,-1,-2]])"
   ]
  },
  {
   "cell_type": "code",
   "execution_count": 77,
   "metadata": {
    "scrolled": false
   },
   "outputs": [
    {
     "name": "stdout",
     "output_type": "stream",
     "text": [
      "4\n",
      "1\n",
      "34\n",
      "2\n",
      "3\n",
      "56\n",
      "67\n"
     ]
    }
   ],
   "source": [
    "f26([[1,2,3,4],[1],[34],[2],[3],[56],[67]])"
   ]
  },
  {
   "cell_type": "code",
   "execution_count": null,
   "metadata": {},
   "outputs": [],
   "source": []
  }
 ],
 "metadata": {
  "kernelspec": {
   "display_name": "Python 3",
   "language": "python",
   "name": "python3"
  },
  "language_info": {
   "codemirror_mode": {
    "name": "ipython",
    "version": 3
   },
   "file_extension": ".py",
   "mimetype": "text/x-python",
   "name": "python",
   "nbconvert_exporter": "python",
   "pygments_lexer": "ipython3",
   "version": "3.6.5"
  }
 },
 "nbformat": 4,
 "nbformat_minor": 2
}
