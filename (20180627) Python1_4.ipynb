{
 "cells": [
  {
   "cell_type": "raw",
   "metadata": {},
   "source": [
    "#ch3\n",
    "#numeric data type\n",
    "a=4.24E10\n",
    "b=4.24e-10\n",
    "a,b"
   ]
  },
  {
   "cell_type": "code",
   "execution_count": 1,
   "metadata": {},
   "outputs": [
    {
     "data": {
      "text/plain": [
       "2303"
      ]
     },
     "execution_count": 1,
     "metadata": {},
     "output_type": "execute_result"
    }
   ],
   "source": [
    "a=0x8ff\n",
    "a"
   ]
  },
  {
   "cell_type": "code",
   "execution_count": 2,
   "metadata": {},
   "outputs": [
    {
     "data": {
      "text/plain": [
       "127"
      ]
     },
     "execution_count": 2,
     "metadata": {},
     "output_type": "execute_result"
    }
   ],
   "source": [
    "a=0o177\n",
    "a"
   ]
  },
  {
   "cell_type": "code",
   "execution_count": 3,
   "metadata": {},
   "outputs": [
    {
     "data": {
      "text/plain": [
       "81"
      ]
     },
     "execution_count": 3,
     "metadata": {},
     "output_type": "execute_result"
    }
   ],
   "source": [
    "a=3\n",
    "b=4\n",
    "a**b"
   ]
  },
  {
   "cell_type": "code",
   "execution_count": 4,
   "metadata": {},
   "outputs": [
    {
     "data": {
      "text/plain": [
       "1"
      ]
     },
     "execution_count": 4,
     "metadata": {},
     "output_type": "execute_result"
    }
   ],
   "source": [
    "7%3"
   ]
  },
  {
   "cell_type": "code",
   "execution_count": 5,
   "metadata": {},
   "outputs": [
    {
     "data": {
      "text/plain": [
       "3"
      ]
     },
     "execution_count": 5,
     "metadata": {},
     "output_type": "execute_result"
    }
   ],
   "source": [
    "3%7"
   ]
  },
  {
   "cell_type": "code",
   "execution_count": 6,
   "metadata": {},
   "outputs": [
    {
     "data": {
      "text/plain": [
       "1.75"
      ]
     },
     "execution_count": 6,
     "metadata": {},
     "output_type": "execute_result"
    }
   ],
   "source": [
    "7/4"
   ]
  },
  {
   "cell_type": "code",
   "execution_count": 7,
   "metadata": {},
   "outputs": [
    {
     "data": {
      "text/plain": [
       "1"
      ]
     },
     "execution_count": 7,
     "metadata": {},
     "output_type": "execute_result"
    }
   ],
   "source": [
    "7//4"
   ]
  },
  {
   "cell_type": "code",
   "execution_count": 8,
   "metadata": {},
   "outputs": [
    {
     "data": {
      "text/plain": [
       "'Hello world'"
      ]
     },
     "execution_count": 8,
     "metadata": {},
     "output_type": "execute_result"
    }
   ],
   "source": [
    "#String data type\n",
    "\"Hello world\""
   ]
  },
  {
   "cell_type": "code",
   "execution_count": 9,
   "metadata": {},
   "outputs": [
    {
     "data": {
      "text/plain": [
       "'\\nLife is too short,\\nyou need python\\n'"
      ]
     },
     "execution_count": 9,
     "metadata": {},
     "output_type": "execute_result"
    }
   ],
   "source": [
    "\"\"\"\n",
    "Life is too short,\n",
    "you need python\n",
    "\"\"\""
   ]
  },
  {
   "cell_type": "code",
   "execution_count": 10,
   "metadata": {},
   "outputs": [
    {
     "data": {
      "text/plain": [
       "\"Python's favorite food is perl\""
      ]
     },
     "execution_count": 10,
     "metadata": {},
     "output_type": "execute_result"
    }
   ],
   "source": [
    "food=\"Python's favorite food is perl\"\n",
    "food"
   ]
  },
  {
   "cell_type": "code",
   "execution_count": 11,
   "metadata": {},
   "outputs": [],
   "source": [
    "food='Python\\'s favorite food is wow'"
   ]
  },
  {
   "cell_type": "code",
   "execution_count": 12,
   "metadata": {},
   "outputs": [
    {
     "data": {
      "text/plain": [
       "\"Python's favorite food is wow\""
      ]
     },
     "execution_count": 12,
     "metadata": {},
     "output_type": "execute_result"
    }
   ],
   "source": [
    "food"
   ]
  },
  {
   "cell_type": "code",
   "execution_count": 13,
   "metadata": {},
   "outputs": [
    {
     "data": {
      "text/plain": [
       "'Life is too short \\n you need python'"
      ]
     },
     "execution_count": 13,
     "metadata": {},
     "output_type": "execute_result"
    }
   ],
   "source": [
    "multiline=\"Life is too short \\n you need python\"\n",
    "multiline"
   ]
  },
  {
   "cell_type": "code",
   "execution_count": 14,
   "metadata": {},
   "outputs": [
    {
     "name": "stdout",
     "output_type": "stream",
     "text": [
      "Life is too short \n",
      " you need python\n"
     ]
    }
   ],
   "source": [
    "print(multiline)"
   ]
  },
  {
   "cell_type": "code",
   "execution_count": 15,
   "metadata": {},
   "outputs": [
    {
     "name": "stdout",
     "output_type": "stream",
     "text": [
      "ab\u0000cdef123\f",
      "abc\basdfaczxcv5555\r",
      "zcv\n"
     ]
    }
   ],
   "source": [
    "print(\"ab\\000cdef123\\fabc\\basdfaczxcv5555\\rzcv\")"
   ]
  },
  {
   "cell_type": "code",
   "execution_count": 16,
   "metadata": {},
   "outputs": [
    {
     "data": {
      "text/plain": [
       "'pythonis fun!'"
      ]
     },
     "execution_count": 16,
     "metadata": {},
     "output_type": "execute_result"
    }
   ],
   "source": [
    "head=\"python\"\n",
    "tail=\"is fun!\"\n",
    "head+tail"
   ]
  },
  {
   "cell_type": "code",
   "execution_count": 17,
   "metadata": {},
   "outputs": [
    {
     "name": "stdout",
     "output_type": "stream",
     "text": [
      "********************************************************************************\n"
     ]
    }
   ],
   "source": [
    "print('*'*80)"
   ]
  },
  {
   "cell_type": "code",
   "execution_count": 18,
   "metadata": {},
   "outputs": [
    {
     "data": {
      "text/plain": [
       "'   hi jane.'"
      ]
     },
     "execution_count": 18,
     "metadata": {},
     "output_type": "execute_result"
    }
   ],
   "source": [
    "\"%5s jane.\"%'hi'"
   ]
  },
  {
   "cell_type": "code",
   "execution_count": 19,
   "metadata": {},
   "outputs": [
    {
     "data": {
      "text/plain": [
       "[3, 5, 5, 4]"
      ]
     },
     "execution_count": 19,
     "metadata": {},
     "output_type": "execute_result"
    }
   ],
   "source": [
    "#Ch4.\n",
    "L=[3,5,5]\n",
    "L.append(4)\n",
    "L\n"
   ]
  },
  {
   "cell_type": "code",
   "execution_count": 20,
   "metadata": {},
   "outputs": [
    {
     "data": {
      "text/plain": [
       "{6, 7}"
      ]
     },
     "execution_count": 20,
     "metadata": {},
     "output_type": "execute_result"
    }
   ],
   "source": [
    "S={5,6,7}\n",
    "S.remove(5)\n",
    "S"
   ]
  },
  {
   "cell_type": "code",
   "execution_count": 21,
   "metadata": {},
   "outputs": [
    {
     "name": "stdout",
     "output_type": "stream",
     "text": [
      "7\n"
     ]
    }
   ],
   "source": [
    "def sum(a,b):\n",
    "    result=a+b\n",
    "    return result\n",
    "a=sum(3,4)\n",
    "print(a)"
   ]
  },
  {
   "cell_type": "code",
   "execution_count": 22,
   "metadata": {},
   "outputs": [
    {
     "data": {
      "text/plain": [
       "'Hi'"
      ]
     },
     "execution_count": 22,
     "metadata": {},
     "output_type": "execute_result"
    }
   ],
   "source": [
    "def say():\n",
    "    return 'Hi'\n",
    "say()"
   ]
  },
  {
   "cell_type": "code",
   "execution_count": 23,
   "metadata": {},
   "outputs": [
    {
     "name": "stdout",
     "output_type": "stream",
     "text": [
      "Hi\n"
     ]
    }
   ],
   "source": [
    "a=say()\n",
    "print(a)"
   ]
  },
  {
   "cell_type": "code",
   "execution_count": 24,
   "metadata": {},
   "outputs": [
    {
     "name": "stdout",
     "output_type": "stream",
     "text": [
      "1,2의 합은 3입니다\n"
     ]
    }
   ],
   "source": [
    "def sum(a,b):\n",
    "    print(\"%d,%d의 합은 %d입니다\"%(a,b,a+b))\n",
    "sum(1,2)"
   ]
  },
  {
   "cell_type": "code",
   "execution_count": 25,
   "metadata": {},
   "outputs": [
    {
     "name": "stdout",
     "output_type": "stream",
     "text": [
      "나의 이름은 castiel 입니다.\n",
      "나이는 25살 입니다.\n",
      "남자입니다\n"
     ]
    }
   ],
   "source": [
    "#default value를 미리 설정하기.\n",
    "def say_myself(name, old, man=True) : \n",
    "    \"\"\"\n",
    "    man파라미터는 있어도 그만 없어도 그만인데, 앞에 인자 두개는 반드시 값을 주어야한다.\n",
    "    default value는 뒤에 써야한다.\n",
    "    예를들면 def say_myself(man=True,name,old) 하면 오류낸다.\n",
    "    man은 optional parameter다.\n",
    "    \"\"\"\n",
    "    print(\"나의 이름은 %s 입니다.\"%name)\n",
    "    print(\"나이는 %d살 입니다.\"%old)\n",
    "    if man:\n",
    "        print(\"남자입니다\")\n",
    "    else:\n",
    "        print(\"여자입니다\")\n",
    "a=say_myself('castiel',25)"
   ]
  },
  {
   "cell_type": "code",
   "execution_count": 26,
   "metadata": {},
   "outputs": [
    {
     "data": {
      "text/plain": [
       "15"
      ]
     },
     "execution_count": 26,
     "metadata": {},
     "output_type": "execute_result"
    }
   ],
   "source": [
    "#인자 = parameter = argument\n",
    "#여러개의 입력 값을 받는 함수\n",
    "def sum_many(*args):\n",
    "    sum=0\n",
    "    for i in args:\n",
    "        sum += i\n",
    "    return sum\n",
    "result= sum_many(1,2,3,4,5)\n",
    "result"
   ]
  },
  {
   "cell_type": "code",
   "execution_count": 27,
   "metadata": {},
   "outputs": [
    {
     "name": "stdout",
     "output_type": "stream",
     "text": [
      "55\n"
     ]
    }
   ],
   "source": [
    "result= sum_many(1,2,3,4,5,6,7,8,9,10)\n",
    "print(result)"
   ]
  },
  {
   "cell_type": "code",
   "execution_count": 28,
   "metadata": {},
   "outputs": [
    {
     "data": {
      "text/plain": [
       "15"
      ]
     },
     "execution_count": 28,
     "metadata": {},
     "output_type": "execute_result"
    }
   ],
   "source": [
    "#여러개의 입력 값을 받는 함수 (2)\n",
    "def sum_mul(choice, *args):\n",
    "    if choice =='sum':\n",
    "        result=0\n",
    "        for i in args:\n",
    "            result +=i\n",
    "    elif choice==\"mul\":\n",
    "        result=1\n",
    "        for i in args:\n",
    "            result *= i\n",
    "    return result\n",
    "result= sum_mul('sum',1,2,3,4,5)\n",
    "result"
   ]
  },
  {
   "cell_type": "code",
   "execution_count": 29,
   "metadata": {},
   "outputs": [
    {
     "name": "stdout",
     "output_type": "stream",
     "text": [
      "5040\n"
     ]
    }
   ],
   "source": [
    "result= sum_mul('mul',1,2,3,4,5,6,7)\n",
    "print(result)\n",
    "def foo():\n",
    "    asdfadsf\n",
    "    return result,ans #하게되면\n",
    "#x,y=foo() 하면 x가 result가 되고 y가 ans가 된다."
   ]
  },
  {
   "cell_type": "code",
   "execution_count": 30,
   "metadata": {},
   "outputs": [
    {
     "name": "stdout",
     "output_type": "stream",
     "text": [
      "15\n",
      "-15\n"
     ]
    }
   ],
   "source": [
    "#optional parameter \n",
    "#neg=True, a=False,c=10 일적에는 이런식으로 표현합니다. **표현\n",
    "def sum(*values, **options): \n",
    "    #여러개의 parameter = value 형태로 들어오는 것을 기대한다. (optional parameter)\n",
    "    s=0\n",
    "    for i in values:\n",
    "        s +=i\n",
    "    if \"neg\" in options:\n",
    "        if options[\"neg\"]:\n",
    "            s=-s\n",
    "    return s\n",
    "s1 = sum(1,2,3,4,5)\n",
    "s2=sum(1,2,3,4,5,neg=True)\n",
    "print(s1)\n",
    "print(s2)"
   ]
  },
  {
   "cell_type": "code",
   "execution_count": 31,
   "metadata": {},
   "outputs": [
    {
     "name": "stdout",
     "output_type": "stream",
     "text": [
      "(7, 12)\n"
     ]
    },
    {
     "data": {
      "text/plain": [
       "tuple"
      ]
     },
     "execution_count": 31,
     "metadata": {},
     "output_type": "execute_result"
    }
   ],
   "source": [
    "#함수의 결과값은 언제나 하나이다.\n",
    "#두개 이상으로 리턴값을 주면\n",
    "#튜플로 값을 return 합니다.\n",
    "def sum_and_mul(a,b):\n",
    "    return a+b, a*b\n",
    "result=sum_and_mul(3,4)\n",
    "print(result)#tuple\n",
    "type(result)"
   ]
  },
  {
   "cell_type": "code",
   "execution_count": 32,
   "metadata": {},
   "outputs": [
    {
     "name": "stdout",
     "output_type": "stream",
     "text": [
      "7\n",
      "12\n"
     ]
    }
   ],
   "source": [
    "sum,mul=sum_and_mul(3,4) #두개로 나뉘어서 잘 들어가준다? 개꿀!\n",
    "print(sum)\n",
    "print(mul)"
   ]
  },
  {
   "cell_type": "code",
   "execution_count": 33,
   "metadata": {},
   "outputs": [
    {
     "name": "stdout",
     "output_type": "stream",
     "text": [
      "2\n"
     ]
    }
   ],
   "source": [
    "#vartest_return.py\n",
    "a=1 #이 a랑 vartest안에있는 a랑은 아무 관련이 없습니다!\n",
    "#이 a는 global한 것입니다.\n",
    "def vartest(a): \n",
    "    \"\"\"\n",
    "    function definition 안에 있는 variable들은 자기네들끼리입니다\n",
    "    \n",
    "    \"\"\"\n",
    "    a+=1 #이 a는 local한 것이다.\n",
    "    return a\n",
    "a=vartest(a) #각각의 a가 무슨뜻인가를 이해하세요!\n",
    "print(a)"
   ]
  },
  {
   "cell_type": "code",
   "execution_count": 34,
   "metadata": {},
   "outputs": [
    {
     "name": "stdout",
     "output_type": "stream",
     "text": [
      "2\n"
     ]
    }
   ],
   "source": [
    "#함수 안에서 함수 밖의 변수를 변경하는 방법\n",
    "#vartest_global.py\n",
    "a=1\n",
    "def vartest():\n",
    "    \"\"\"\n",
    "    바깥에 있는 global a를 내가 사용할거야!가 global 문입니다.\n",
    "    이 함수를 실행하게되면 바깥에있는 a값을 가지고 이 안의 계산을 합니다.\n",
    "    \"\"\"\n",
    "    global a\n",
    "    a=a+1\n",
    "vartest()\n",
    "print(a)"
   ]
  },
  {
   "cell_type": "code",
   "execution_count": 35,
   "metadata": {},
   "outputs": [
    {
     "name": "stdout",
     "output_type": "stream",
     "text": [
      "Current glVar: -5\n",
      "Current glVar: 5\n"
     ]
    }
   ],
   "source": [
    "\"\"\"\n",
    "함수 바깥에있는걸 사용할수있는거긴한데 안쓰는게 좋다.\n",
    "내 함수 바깥에있는것을 고치기 시작하면, 프로그램이 아주 복잡해지면\n",
    "어떤 함수가 바깥에있는 global 변수를 고치는건지 알수가 없어\n",
    "어디서 값이 변경되는지를 찾아내기가 굉장히 어려울수가 있다.\n",
    "\"\"\"\n",
    "glVar=5\n",
    "def myFunc1():\n",
    "    global glVar #바깥에있는 변수를 사용하는겁니다\n",
    "    glVar= glVar-10\n",
    "    print(\"Current glVar:\",glVar)\n",
    "myFunc1()\n",
    "def myFunc2():\n",
    "    global glVar\n",
    "    glVar= glVar+10\n",
    "    print(\"Current glVar:\",glVar)\n",
    "myFunc2()\n",
    "#두 함수가 global variable을 공유하는 경우가 있지요"
   ]
  },
  {
   "cell_type": "code",
   "execution_count": 36,
   "metadata": {},
   "outputs": [
    {
     "name": "stdout",
     "output_type": "stream",
     "text": [
      "\n",
      "    나의 테스트 함수당!! \n",
      "    \n",
      "myFunc\n"
     ]
    }
   ],
   "source": [
    "#COMENT남기는 이유는 내가 프로그램 코드 볼때 코드만 보는것보다 옆에 설명 있는게 더 좋지 빨리 이해할수있으니까 중요하다\n",
    "\"\"\"\n",
    "Pyhton Special Variables\n",
    "__doc__\n",
    "__name__\n",
    "https://docs.python.org/2/reference/datamodel.html\n",
    "\"\"\"\n",
    "\n",
    "def myFunc(x):\n",
    "    \"\"\"\n",
    "    나의 테스트 함수당!! \n",
    "    \"\"\"\n",
    "    x=x+1\n",
    "    \n",
    "print(myFunc.__doc__)\n",
    "print(myFunc.__name__)"
   ]
  },
  {
   "cell_type": "code",
   "execution_count": 37,
   "metadata": {},
   "outputs": [
    {
     "data": {
      "text/plain": [
       "'math'"
      ]
     },
     "execution_count": 37,
     "metadata": {},
     "output_type": "execute_result"
    }
   ],
   "source": [
    "#special variable 혹은 magic variable\n",
    "\n",
    "\"\"\"\n",
    "우리가 만드는 변수가 아니라 파이썬이 몇개 배리어블에 대해서는 __ __ 를 갖고있는데\n",
    "현재 상황알려주는 종류의 변수들이다\n",
    "\n",
    "\"\"\"\n",
    "import math\n",
    "math.__name__"
   ]
  },
  {
   "cell_type": "code",
   "execution_count": 38,
   "metadata": {},
   "outputs": [
    {
     "data": {
      "text/plain": [
       "'__main__'"
      ]
     },
     "execution_count": 38,
     "metadata": {},
     "output_type": "execute_result"
    }
   ],
   "source": [
    "__name__ #현재 돌고있는 프로그램이 메인프로그램이야! 알려주죠"
   ]
  },
  {
   "cell_type": "code",
   "execution_count": 39,
   "metadata": {},
   "outputs": [
    {
     "data": {
      "text/plain": [
       "{'__name__': 'math',\n",
       " '__doc__': 'This module is always available.  It provides access to the\\nmathematical functions defined by the C standard.',\n",
       " '__package__': '',\n",
       " '__loader__': _frozen_importlib.BuiltinImporter,\n",
       " '__spec__': ModuleSpec(name='math', loader=<class '_frozen_importlib.BuiltinImporter'>, origin='built-in'),\n",
       " 'acos': <function math.acos>,\n",
       " 'acosh': <function math.acosh>,\n",
       " 'asin': <function math.asin>,\n",
       " 'asinh': <function math.asinh>,\n",
       " 'atan': <function math.atan>,\n",
       " 'atan2': <function math.atan2>,\n",
       " 'atanh': <function math.atanh>,\n",
       " 'ceil': <function math.ceil>,\n",
       " 'copysign': <function math.copysign>,\n",
       " 'cos': <function math.cos>,\n",
       " 'cosh': <function math.cosh>,\n",
       " 'degrees': <function math.degrees>,\n",
       " 'erf': <function math.erf>,\n",
       " 'erfc': <function math.erfc>,\n",
       " 'exp': <function math.exp>,\n",
       " 'expm1': <function math.expm1>,\n",
       " 'fabs': <function math.fabs>,\n",
       " 'factorial': <function math.factorial>,\n",
       " 'floor': <function math.floor>,\n",
       " 'fmod': <function math.fmod>,\n",
       " 'frexp': <function math.frexp>,\n",
       " 'fsum': <function math.fsum>,\n",
       " 'gamma': <function math.gamma>,\n",
       " 'gcd': <function math.gcd>,\n",
       " 'hypot': <function math.hypot>,\n",
       " 'isclose': <function math.isclose>,\n",
       " 'isfinite': <function math.isfinite>,\n",
       " 'isinf': <function math.isinf>,\n",
       " 'isnan': <function math.isnan>,\n",
       " 'ldexp': <function math.ldexp>,\n",
       " 'lgamma': <function math.lgamma>,\n",
       " 'log': <function math.log>,\n",
       " 'log1p': <function math.log1p>,\n",
       " 'log10': <function math.log10>,\n",
       " 'log2': <function math.log2>,\n",
       " 'modf': <function math.modf>,\n",
       " 'pow': <function math.pow>,\n",
       " 'radians': <function math.radians>,\n",
       " 'sin': <function math.sin>,\n",
       " 'sinh': <function math.sinh>,\n",
       " 'sqrt': <function math.sqrt>,\n",
       " 'tan': <function math.tan>,\n",
       " 'tanh': <function math.tanh>,\n",
       " 'trunc': <function math.trunc>,\n",
       " 'pi': 3.141592653589793,\n",
       " 'e': 2.718281828459045,\n",
       " 'tau': 6.283185307179586,\n",
       " 'inf': inf,\n",
       " 'nan': nan}"
      ]
     },
     "execution_count": 39,
     "metadata": {},
     "output_type": "execute_result"
    }
   ],
   "source": [
    "math.__dict__"
   ]
  },
  {
   "cell_type": "code",
   "execution_count": 40,
   "metadata": {},
   "outputs": [
    {
     "data": {
      "text/plain": [
       "'This module is always available.  It provides access to the\\nmathematical functions defined by the C standard.'"
      ]
     },
     "execution_count": 40,
     "metadata": {},
     "output_type": "execute_result"
    }
   ],
   "source": [
    "math.__doc__"
   ]
  },
  {
   "cell_type": "code",
   "execution_count": 41,
   "metadata": {},
   "outputs": [
    {
     "data": {
      "text/plain": [
       "<code object myFunc at 0x0000024785700390, file \"<ipython-input-36-d45454022994>\", line 9>"
      ]
     },
     "execution_count": 41,
     "metadata": {},
     "output_type": "execute_result"
    }
   ],
   "source": [
    "myFunc.__code__"
   ]
  },
  {
   "cell_type": "code",
   "execution_count": 42,
   "metadata": {},
   "outputs": [],
   "source": [
    "#숙제목적\n",
    "#function 인풋은 전부다 리스트만 받았지요\n",
    "#리스트 건드려보기\n",
    "#프로그램 흐름, 플로우에 관련해서 프로그램의 알고리즘\n",
    "#진행하는 스텝을 플로우라하는데 플로우를 조정하는 문장을\n",
    "#control state ment, if-else, for Loop, while 문, assignment\n",
    "#리스트 데이터 타입에 대해서 컨트롤 플로우를 반복할때 그 연습한거다\n",
    "\"\"\"\n",
    "화학의 분자식있으면 분자 질량 구하는거다. 공식임\n",
    "mol gram\n",
    "\n",
    "\"\"\"\n",
    "#Python Functions\n",
    "\n",
    "#Compute molecular weight\n",
    "#Here are basic weights\n",
    "#C->carbon:12.011, H->hydrogen:1.0079, O->oxygen:15.9994\n",
    "#use round(46.0688,2) ==>46.07 #round() is built in function\n",
    "\"\"\"\n",
    "def molecular_wight():\n",
    "    print(\"Please enter the number of each atom\")\n",
    "    C=input(\"carbon: \")\n",
    "    H=input(\"hydrogen: \")\n",
    "    O=input(\"oxygen: \")\n",
    "    W=C*12.011 + H*1.0079 + O*15.9994\n",
    "    print(\"The molecular weight of C\",C, \"H\",H,\"O\",O,\"is: \", round(W,2))\n",
    " 잘못되었다. eval이 없으면 input받은 입력값이 스트링으로 저장되어서 연산 불가능.\n",
    "\"\"\"\n",
    "def molecular_wight_correct():\n",
    "    print(\"Please enter the number of each atom\")\n",
    "    C=eval(input(\"carbon: \"))\n",
    "    H=eval(input(\"hydrogen: \"))\n",
    "    O=eval(input(\"oxygen: \"))\n",
    "    W=C*12.011 + H*1.0079 + O*15.9994\n",
    "    print(\"The molecular weight of C\",C, \"H\",H,\"O\",O,\"is: \", round(W,2)) \n",
    "    #round는 built-in func 소수 둘째 자리까지만, 셋째자리에서 반올림한다.    "
   ]
  },
  {
   "cell_type": "code",
   "execution_count": 43,
   "metadata": {},
   "outputs": [
    {
     "name": "stdout",
     "output_type": "stream",
     "text": [
      "Happy birthday to you!\n",
      "Happy birthday to you!\n",
      "Happy birthday, dear Kang Min.\n",
      "Happy birthday to you!\n"
     ]
    }
   ],
   "source": [
    "\"\"\"\n",
    "#Happy birth day song!\n",
    "#sing(\"Kang Min\")\n",
    "#Happy birthday to you!\n",
    "#Happy birthday to you!\n",
    "#Happy birthday, dear Kang Min.\n",
    "#Happy birthday to you!\n",
    "\"\"\"\n",
    "def sing(name):\n",
    "    print(\"Happy birthday to you!\")\n",
    "    print(\"Happy birthday to you!\")\n",
    "    print(\"Happy birthday, dear %s.\"%name) #string을 리포매팅 한다. %s에 name을 넣는다.\n",
    "    print(\"Happy birthday to you!\")\n",
    "    \n",
    "sing(\"Kang Min\")"
   ]
  },
  {
   "cell_type": "code",
   "execution_count": 44,
   "metadata": {},
   "outputs": [
    {
     "data": {
      "text/plain": [
       "4.25910788780937"
      ]
     },
     "execution_count": 44,
     "metadata": {},
     "output_type": "execute_result"
    }
   ],
   "source": [
    "import math \n",
    "\"\"\"\n",
    "standard library란 자주 사용되어서 분야별로 func을 미리 라이브러리로 만들어서 \n",
    "파이썬을 장착할때 자동적으로 함께 설치되는 종류의 라이브러리\n",
    "1991년도 파이썬\n",
    "\"\"\"\n",
    "def eucDist(n,p1,p2):\n",
    "    \"\"\"\n",
    "    #Euclidean Distance Computation\n",
    "    #Euclidean Distance란 직교 좌표계에서 두점의 거리를 나타냅니다\n",
    "    #함수가 받을 파라미터는 총 3개\n",
    "    #첫번째 파라미터 n은 차원수 ,p1 p2는 길이가 n인 리스트\n",
    "    \"\"\"\n",
    "    distance=0\n",
    "    for i in range(n):\n",
    "        distance +=(p2[i]-p1[i])**2\n",
    "        #\n",
    "    return math.sqrt(distance)\n",
    "p1=[2.0,4.0,6.0]\n",
    "p2=[1.5,4.5,10.2]\n",
    "eucDist(3,p1,p2)"
   ]
  },
  {
   "cell_type": "code",
   "execution_count": 45,
   "metadata": {},
   "outputs": [
    {
     "name": "stdout",
     "output_type": "stream",
     "text": [
      "ceil of a :  -3\n",
      "floor of a:  -4\n",
      "fabs of a:  3.123\n",
      "factorial of b :  40320\n",
      "fmod of b,c: 2.0\n"
     ]
    }
   ],
   "source": [
    "#Math Module\n",
    "#C에서 표현되었고 파이썬에서 불러온거다.\n",
    "a,b,c=-3.123,8,3\n",
    "print(\"ceil of a : \", math.ceil(a))\n",
    "print(\"floor of a: \", math.floor(a))\n",
    "print(\"fabs of a: \", math.fabs(a))\n",
    "print(\"factorial of b : \", math.factorial(b))\n",
    "print(\"fmod of b,c:\", math.fmod(b,c))"
   ]
  },
  {
   "cell_type": "code",
   "execution_count": 46,
   "metadata": {},
   "outputs": [
    {
     "name": "stdout",
     "output_type": "stream",
     "text": [
      "log a b :  0.5\n",
      "pow of a,b :  16.0\n",
      "sqrt of a :  5.0\n",
      "sin(pi) :  1.2246467991473532e-16\n",
      "cos(pi) :  -1.0\n",
      "tan(pi) :  -1.2246467991473532e-16\n"
     ]
    }
   ],
   "source": [
    "a,b,c =2,4,25\n",
    "print(\"log a b : \",math.log(a,b))\n",
    "print(\"pow of a,b : \", math.pow(a,b))\n",
    "print(\"sqrt of a : \",math.sqrt(c))\n",
    "print(\"sin(pi) : \", math.sin(math.pi))\n",
    "print(\"cos(pi) : \", math.cos(math.pi))\n",
    "print(\"tan(pi) : \", math.tan(math.pi))"
   ]
  },
  {
   "cell_type": "code",
   "execution_count": 47,
   "metadata": {},
   "outputs": [
    {
     "name": "stdout",
     "output_type": "stream",
     "text": [
      "degrees of pi :  180.0\n",
      "radians of 180 :  3.141592653589793\n",
      "sinh of pi 11.548739357257746\n",
      "cosh of pi 11.591953275521519\n",
      "tanh of pi 0.99627207622075\n"
     ]
    }
   ],
   "source": [
    "import math\n",
    "print(\"degrees of pi : \",math.degrees(math.pi))\n",
    "print(\"radians of 180 : \",math.radians(180))\n",
    "print(\"sinh of pi\", math.sinh(math.pi))\n",
    "print(\"cosh of pi\", math.cosh(math.pi))\n",
    "print(\"tanh of pi\", math.tanh(math.pi) )     "
   ]
  },
  {
   "cell_type": "code",
   "execution_count": 48,
   "metadata": {},
   "outputs": [
    {
     "name": "stdout",
     "output_type": "stream",
     "text": [
      "Type your temperature in string format: 105C\n",
      "Be careful!!\n"
     ]
    }
   ],
   "source": [
    "#Temperature Warning\n",
    "\"\"\"\n",
    "input은 '20..3F' '-10C' '32.5C' 와 같은 방식의 스트링으로 입력\n",
    "아웃풋은\n",
    "물의 끓는 점 이상일 경우 be careful!\n",
    "물이 어는 점 이하일 경우 Don't get frozen!!!\n",
    "#물 밀도가 가장 높은 점 (섭씨 3~5도 일경우) You will be fine!!\n",
    "\n",
    "\"\"\"\n",
    "def FtoC(F):\n",
    "    C=(F-32)*5/9\n",
    "    return C\n",
    "\n",
    "def TempOk(C):\n",
    "    if C>=100:\n",
    "        print(\"Be careful!!\")\n",
    "    if C<=0:\n",
    "        print(\"Dong't get frozen!!\")\n",
    "    if (C>=3) and (C<=5) :\n",
    "        print(\"You will be fine\")\n",
    "        \n",
    "def WeatherMessage():\n",
    "    temp = input(\"Type your temperature in string format: \")\n",
    "    if temp[-1]=='C': #마지막 문자가 C이면 TEMPOK에 섭씨로 넣어준다\n",
    "        Centi=float(temp[:-1])\n",
    "        TempOk(Centi)\n",
    "    elif temp[-1]=='F': #마지막 문자가 F면 화씨로 넣어준다\n",
    "        Fahren=float(temp[:-1])\n",
    "        TempOk(FtoC(Fahren))\n",
    "    else: print(\"Pardon?\") #??\n",
    "WeatherMessage()"
   ]
  },
  {
   "cell_type": "code",
   "execution_count": 49,
   "metadata": {},
   "outputs": [],
   "source": [
    "#Palindrome Checker\n",
    "\"\"\"\n",
    "뒤집어 놓아도 원래와 같은 문자열\n",
    "부호와 빈칸을 제외하고 대소문자 구분없이 알파벳이 대칭을 이루는 문장\n",
    "예를 들어, 'abcdcba'는 뒤집어도 똑같으므로 palindrome\n",
    "'Are we not drawn onward, we few, drawn onward to new era'\n",
    "\n",
    "pseudo code\n",
    "-> algorithme\n",
    "-> code\n",
    "#step1. User로부터 문자열 받는다\n",
    "#step2. 받아들인 문자열을 lower case로 바꾼다\n",
    "#step3. string의 첫번째 문자를 마지막 문자를 p1,p2로 정한다 ( 포인터, 위치 가리키는 p1,p2)\n",
    "#step4. p1<p2인 상태에서는 계속 아래 substep 수행\n",
    "        step3.1: p1과 p2가 가리키는 것이 alphabet이 아니면 전진한다\n",
    "        step3.2: p1과 p2가 가리키는 것이 같은 alphabet이면 step4로 간다.\n",
    "\"\"\"\n",
    "\n",
    "def palindrome_decider():\n",
    "    P_candidate= input(\"Type your palindrome candidiate: \")  #string으로 받는다 input함수는\n",
    "    print(\"Here is your palindrome candiate:\",P_candidate)\n",
    "    P_candidate= P_candidate.lower()                         #아직 모르니까 후보로 갖고있자! string\n",
    "    print(\"After lowering characters ==>\",P_candidate)       \n",
    "    \n",
    "    isPalindrome_candidate=True\n",
    "    \n",
    "    p1=0\n",
    "    p2=len(P_candidate)-1\n",
    "    \n",
    "    while isPalindrome_candidate and p1<p2:\n",
    "        if P_candidate[p1].isalpha():\n",
    "            if P_candidate[p2].isalpha():\n",
    "                if P_candidate[p1]==P_candidate[p2]:\n",
    "                    p1 +=1\n",
    "                    p2 -=1\n",
    "                    print(p1,p2)\n",
    "                else: isPalindrome_candidate=False\n",
    "            else:\n",
    "                p2-=1 #if not alphabet ==>move p2 to left \n",
    "                print(p2)\n",
    "        else: \n",
    "            p1 +=1# if not alphabet ==> move p1 to right\n",
    "            print(p1)\n",
    "            \n",
    "    if isPalindrome_candidate:\n",
    "        print(\"Yes, your pallindrome candiate\",P_candidate, \"is a real pallindrome!\")\n",
    "    else:\n",
    "        print(\"No, your pallindrome candiate\", P_candidate, \"is not a real pallindrome!\")"
   ]
  },
  {
   "cell_type": "code",
   "execution_count": 50,
   "metadata": {},
   "outputs": [
    {
     "name": "stdout",
     "output_type": "stream",
     "text": [
      "Type your palindrome candidiate: Are we not drawn onward, we few, drawn onward to new era\n",
      "Here is your palindrome candiate: Are we not drawn onward, we few, drawn onward to new era\n",
      "After lowering characters ==> are we not drawn onward, we few, drawn onward to new era\n",
      "1 54\n",
      "2 53\n",
      "3 52\n",
      "4\n",
      "51\n",
      "5 50\n",
      "6 49\n",
      "7\n",
      "8 48\n",
      "47\n",
      "9 46\n",
      "10 45\n",
      "11\n",
      "44\n",
      "12 43\n",
      "13 42\n",
      "14 41\n",
      "15 40\n",
      "16 39\n",
      "17\n",
      "18 38\n",
      "37\n",
      "19 36\n",
      "20 35\n",
      "21 34\n",
      "22 33\n",
      "23 32\n",
      "24\n",
      "25\n",
      "31\n",
      "30\n",
      "26 29\n",
      "27 28\n",
      "28\n",
      "Yes, your pallindrome candiate are we not drawn onward, we few, drawn onward to new era is a real pallindrome!\n"
     ]
    }
   ],
   "source": [
    " palindrome_decider()"
   ]
  },
  {
   "cell_type": "code",
   "execution_count": 51,
   "metadata": {},
   "outputs": [
    {
     "name": "stdout",
     "output_type": "stream",
     "text": [
      "Please type your year: 2018\n",
      "No, the year 2018 is not a leap year!\n"
     ]
    }
   ],
   "source": [
    "#Leap year checker\n",
    "\"\"\"\n",
    "윤년 1년이 366일인 날\n",
    "그후 그레고리오력에서는 다음과 같은 치윤법(置閏法)을 정하고 시행하였다. \n",
    "즉, ① 서력 기원 연수가 4로 나누어 떨어지는 해는 우선 윤년으로 하고, \n",
    "② 그 중에서 100으로 나누어 떨어지는 해는 평년으로 하며, \n",
    "③ 다만 400으로 나누어 떨어지는 해는 다시 윤년으로 정하였다. \n",
    "이로써 1년의 평균길이를 365.2425일로 정하여 역에 썼으므로 실제의 1년보다 0.0003일이 길다.\n",
    "[네이버 지식백과] 윤년 [leap year, 閏年] (두산백과)\n",
    "\"\"\"\n",
    "def yun_year_checker():\n",
    "    target_year= eval(input(\"Please type your year: \"))\n",
    "    yun_year = False\n",
    "    if target_year in [-45,-42,-39,-33,-30,-27,-24,-21,-18,-15,-12,-9,8,12]:\n",
    "        yun_year = True\n",
    "        \n",
    "    elif target_year > 12 and target_year%4==0:\n",
    "        yun_year=True\n",
    "        if target_year %100 ==0:\n",
    "            yun_year=False\n",
    "            if target_year%400 ==0:\n",
    "                yun_year=True\n",
    "    if yun_year: print(\"Yes, the tear\",target_year,\"is a leap year!\")\n",
    "    else: print(\"No, the year\",target_year,\"is not a leap year!\")\n",
    "yun_year_checker()"
   ]
  },
  {
   "cell_type": "code",
   "execution_count": 52,
   "metadata": {},
   "outputs": [],
   "source": [
    "def LeapYear(y):\n",
    "    \"\"\"\n",
    "    확인하고자 하는 연도 입력받는다\n",
    "    기원전, 기원후 초반 연도중 확인가능한것이 있는지 확인한후\n",
    "    year가 12보다 크고 4의 배수이면 윤년의 후보가 된다\n",
    "    4의배수이지만 100의 배수이면 윤년이 아닐수도 있으므로 체크한다\n",
    "    4의배수이고 100의배수인데 400의 배수이면 윤년이다.\n",
    "    \"\"\"\n",
    "    year=y                           \n",
    "    yun_year=False\n",
    "    if year in [-45,-42,-39,-33,-30,-27,-24,-21,-18,-15,-12,-9,8,12]:\n",
    "        yun_year=True\n",
    "    elif year>12 and year%4==0:\n",
    "        yun_year=True\n",
    "        if year%100==0:\n",
    "            yun_year=False\n",
    "            if year%400==0: yun_year=True\n",
    "    return yun_year\n",
    "\n",
    "def Month_LastDate(y,m):\n",
    "    \"\"\"\n",
    "    Year와 Month가 주어지면 그 달의 마지막 날짜를 return\n",
    "\n",
    "    \"\"\"    \n",
    "    if m in[1,3,5,7,8,10,12]:          # 1,3,5,7,8,10,12 월\n",
    "        return 31\n",
    "    elif m==2:                         #윤년인 2월 혹은 윤년아닌 2월\n",
    "        if LeapYear(y): return 29\n",
    "        else:           return 28\n",
    "    else:                            #나머지 평달\n",
    "        return 30"
   ]
  },
  {
   "cell_type": "code",
   "execution_count": 53,
   "metadata": {},
   "outputs": [
    {
     "data": {
      "text/plain": [
       "True"
      ]
     },
     "execution_count": 53,
     "metadata": {},
     "output_type": "execute_result"
    }
   ],
   "source": [
    "LeapYear(2000)"
   ]
  },
  {
   "cell_type": "code",
   "execution_count": 54,
   "metadata": {},
   "outputs": [],
   "source": [
    "def valid_date_checker():\n",
    "    Target_Date = input(\"Type your date in yyyy/mm/dd string format:\")\n",
    "    print(\"Your Target Date is:\", Target_Date)\n",
    "    \n",
    "    try:\n",
    "        date= Target_Date.split(\"/\")\n",
    "        print(\"Your typed date is:\",\"Year\",date[0],\"Month\",date[1],\"Day\",date[2])\n",
    "        if int(date[0])==0:\n",
    "            print(\"Your typed date is invalid\")\n",
    "        elif int( date[1]) in [1,2,3,4,5,6,7,8,9,10,11,12]:\n",
    "            daylist=[]\n",
    "            for i in range(Month_LastDate(int(date[0]),int(date[1]))):\n",
    "                daylist.append(i+1)\n",
    "            if int(date[2]) in daylist:\n",
    "                print(\"Your typed date is valid!\")\n",
    "            else: print(\"Your typed date is invalid!\")\n",
    "        else:\n",
    "            print(\"Your typed date is invalid\")\n",
    "    except:\n",
    "        print(\"Your typed date is invalid\")"
   ]
  },
  {
   "cell_type": "code",
   "execution_count": 55,
   "metadata": {},
   "outputs": [
    {
     "name": "stdout",
     "output_type": "stream",
     "text": [
      "Type your date in yyyy/mm/dd string format:2018/05/31\n",
      "Your Target Date is: 2018/05/31\n",
      "Your typed date is: Year 2018 Month 05 Day 31\n",
      "Your typed date is valid!\n"
     ]
    }
   ],
   "source": [
    "valid_date_checker()"
   ]
  },
  {
   "cell_type": "code",
   "execution_count": 56,
   "metadata": {},
   "outputs": [
    {
     "data": {
      "text/plain": [
       "[1, 2, 3, 4]"
      ]
     },
     "execution_count": 56,
     "metadata": {},
     "output_type": "execute_result"
    }
   ],
   "source": [
    "#Ch5 Matrix and Tree using List\n",
    "\"\"\"\n",
    "#Basic data type\n",
    "int, float, char, boolean\n",
    "\n",
    "#advanced data type\n",
    "list, set, tuple, dictionary\n",
    "\n",
    "data type = data structure 다 똑같은 말\n",
    "\n",
    "\"\"\"\n",
    "data= [[1,2,3,4],                   #한 줄이  row다\n",
    "       [5,6,7,8],\n",
    "       [9,10,11,12]\n",
    "      ]\n",
    "data[0] #첫행"
   ]
  },
  {
   "cell_type": "code",
   "execution_count": 57,
   "metadata": {},
   "outputs": [
    {
     "data": {
      "text/plain": [
       "7"
      ]
     },
     "execution_count": 57,
     "metadata": {},
     "output_type": "execute_result"
    }
   ],
   "source": [
    "data[1][2] # 1번째 행의 2번째 열의 원소가 무엇이냐\n",
    "#data[2][3] 이건 에러난다 왜냐면 3은 없거든!"
   ]
  },
  {
   "cell_type": "code",
   "execution_count": 58,
   "metadata": {},
   "outputs": [
    {
     "data": {
      "text/plain": [
       "78"
      ]
     },
     "execution_count": 58,
     "metadata": {},
     "output_type": "execute_result"
    }
   ],
   "source": [
    "def sum_matrix(table):\n",
    "    sum=0\n",
    "    for row in range(0,len(table)):  #for loop안에 for loop있는걸 nested loop 이라고 한다.\n",
    "        for col in range(0,len(table[row])):\n",
    "            sum+=table[row][col]\n",
    "    return sum\n",
    "sum_matrix(data)"
   ]
  },
  {
   "cell_type": "code",
   "execution_count": 59,
   "metadata": {},
   "outputs": [
    {
     "data": {
      "text/plain": [
       "5"
      ]
     },
     "execution_count": 59,
     "metadata": {},
     "output_type": "execute_result"
    }
   ],
   "source": [
    "#f24 조교풀이\n",
    "def f24(lst):\n",
    "    largest = max(lst[0],lst[1])\n",
    "    second_largest=min(lst[0],lst[1])\n",
    "    for i in range(2,len(lst)):\n",
    "        if lst[i] > largest:\n",
    "            second_largest=largest\n",
    "            largest=lst[i]\n",
    "        elif lst[i] > second_largest:\n",
    "            second_largest =lst[i]\n",
    "    return second_largest\n",
    "f24([3,10,5,2])"
   ]
  }
 ],
 "metadata": {
  "kernelspec": {
   "display_name": "Python 3",
   "language": "python",
   "name": "python3"
  },
  "language_info": {
   "codemirror_mode": {
    "name": "ipython",
    "version": 3
   },
   "file_extension": ".py",
   "mimetype": "text/x-python",
   "name": "python",
   "nbconvert_exporter": "python",
   "pygments_lexer": "ipython3",
   "version": "3.6.5"
  }
 },
 "nbformat": 4,
 "nbformat_minor": 2
}
