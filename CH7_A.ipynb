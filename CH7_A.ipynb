{
 "cells": [
  {
   "cell_type": "markdown",
   "metadata": {},
   "source": [
    "# (Ch 7- A) Recursion Practice"
   ]
  },
  {
   "cell_type": "markdown",
   "metadata": {},
   "source": [
    "## 1번 문제. \n",
    "recursive하게 합을 계산해서 리턴하시오"
   ]
  },
  {
   "cell_type": "code",
   "execution_count": 1,
   "metadata": {},
   "outputs": [],
   "source": [
    "def f1(lst):\n",
    "    if lst==[]:\n",
    "        return 0\n",
    "    else:\n",
    "        return lst[0]+f1(lst[1:])    "
   ]
  },
  {
   "cell_type": "markdown",
   "metadata": {},
   "source": [
    "### 1번 문제 조교선생님 풀이."
   ]
  },
  {
   "cell_type": "code",
   "execution_count": 2,
   "metadata": {},
   "outputs": [],
   "source": [
    "def f1(lst):\n",
    "    if lst==[]:\n",
    "        return 0\n",
    "    return lst[0] + f1(lst[1:])"
   ]
  },
  {
   "cell_type": "code",
   "execution_count": 3,
   "metadata": {},
   "outputs": [
    {
     "data": {
      "text/plain": [
       "10"
      ]
     },
     "execution_count": 3,
     "metadata": {},
     "output_type": "execute_result"
    }
   ],
   "source": [
    "f1([1,2,3,4])"
   ]
  },
  {
   "cell_type": "markdown",
   "metadata": {},
   "source": [
    "## 2번 문제.\n",
    "f(n) n이 짝수면 2로 나눠서 몫을 취해주고 홀수면 3n+1계산 취하는걸 반복합니다 1나오면 함수를 종료하고 총 몇번의 step을 했는지를 리턴합니다."
   ]
  },
  {
   "cell_type": "code",
   "execution_count": 4,
   "metadata": {},
   "outputs": [],
   "source": [
    "count =0\n",
    "def f2(n):\n",
    "    global count\n",
    "    if n==1:\n",
    "        count +=1\n",
    "        return 1\n",
    "    elif (n%2==0):\n",
    "        n=f2(n//2)    \n",
    "        count +=1\n",
    "    elif (n%2==1):\n",
    "        n=f2(3*n+1)\n",
    "        count +=1\n",
    "    return count"
   ]
  },
  {
   "cell_type": "code",
   "execution_count": 5,
   "metadata": {},
   "outputs": [
    {
     "data": {
      "text/plain": [
       "276"
      ]
     },
     "execution_count": 5,
     "metadata": {},
     "output_type": "execute_result"
    }
   ],
   "source": [
    "count=0\n",
    "f2(637228127)"
   ]
  },
  {
   "cell_type": "markdown",
   "metadata": {},
   "source": [
    "### 2번 문제 조교선생님 풀이."
   ]
  },
  {
   "cell_type": "code",
   "execution_count": 6,
   "metadata": {},
   "outputs": [],
   "source": [
    "def f2(n):\n",
    "    if n==1:\n",
    "        return 1\n",
    "    if n%2 ==0:\n",
    "        return 1+ f2(n//2)\n",
    "    else:\n",
    "        return 1+ f2(3*n+1)"
   ]
  },
  {
   "cell_type": "code",
   "execution_count": 7,
   "metadata": {},
   "outputs": [
    {
     "data": {
      "text/plain": [
       "276"
      ]
     },
     "execution_count": 7,
     "metadata": {},
     "output_type": "execute_result"
    }
   ],
   "source": [
    "f2(637228127)"
   ]
  },
  {
   "cell_type": "markdown",
   "metadata": {},
   "source": [
    "## 3번 문제.\n",
    "list를 입력받아서 역순으로 리턴합니다"
   ]
  },
  {
   "cell_type": "code",
   "execution_count": 8,
   "metadata": {},
   "outputs": [],
   "source": [
    "def f3(lst):\n",
    "    \n",
    "    if lst==[]:\n",
    "        return\n",
    "    return f3(lst[1:])"
   ]
  },
  {
   "cell_type": "markdown",
   "metadata": {},
   "source": [
    "### 3번 문제 조교선생님 풀이."
   ]
  },
  {
   "cell_type": "code",
   "execution_count": 9,
   "metadata": {},
   "outputs": [],
   "source": [
    "def f3_1(lst):\n",
    "    if lst==[]:\n",
    "        return\n",
    "    f3_1(lst[1:]) #점점 작게 잘라집니다\n",
    "    print(lst[0]) #잘라진 다음에 출력하면 되지.."
   ]
  },
  {
   "cell_type": "code",
   "execution_count": 10,
   "metadata": {},
   "outputs": [
    {
     "name": "stdout",
     "output_type": "stream",
     "text": [
      "4\n",
      "3\n",
      "2\n",
      "1\n"
     ]
    }
   ],
   "source": [
    "f3_1([1,2,3,4])"
   ]
  },
  {
   "cell_type": "code",
   "execution_count": 11,
   "metadata": {},
   "outputs": [],
   "source": [
    "f3_1([])"
   ]
  },
  {
   "cell_type": "code",
   "execution_count": 12,
   "metadata": {},
   "outputs": [],
   "source": [
    "#2번째방법\n",
    "def f3_2(lst):\n",
    "    if lst==[]:\n",
    "        return\n",
    "    print(lst[-1])\n",
    "    f3_2(lst[:-1])"
   ]
  },
  {
   "cell_type": "code",
   "execution_count": 13,
   "metadata": {},
   "outputs": [
    {
     "name": "stdout",
     "output_type": "stream",
     "text": [
      "4\n",
      "3\n",
      "2\n",
      "1\n"
     ]
    }
   ],
   "source": [
    "f3_2([1,2,3,4])"
   ]
  },
  {
   "cell_type": "markdown",
   "metadata": {},
   "source": [
    "## 4번 문제.\n",
    "Write a function f4(list) that multiplies \n",
    "all of the odd elements in the list by 3 and prints out each tripled element"
   ]
  },
  {
   "cell_type": "code",
   "execution_count": 14,
   "metadata": {},
   "outputs": [],
   "source": [
    "def f4(lst):\n",
    "    if lst==[]:\n",
    "        return \n",
    "    else:\n",
    "        if(lst[0]%2==1):\n",
    "            multiple=lst[0]*3\n",
    "            print(multiple)\n",
    "        return f4(lst[1:])"
   ]
  },
  {
   "cell_type": "code",
   "execution_count": 15,
   "metadata": {},
   "outputs": [
    {
     "name": "stdout",
     "output_type": "stream",
     "text": [
      "3\n",
      "9\n"
     ]
    }
   ],
   "source": [
    "f4([1,2,3,4])"
   ]
  },
  {
   "cell_type": "markdown",
   "metadata": {},
   "source": [
    "## 5번 문제.\n",
    "Write a function f5(list) that multiplies all of the odd elements in the list by 3\n",
    "and prints out each element of the modified list in reverse order"
   ]
  },
  {
   "cell_type": "code",
   "execution_count": 16,
   "metadata": {},
   "outputs": [],
   "source": [
    "def f5(lst):\n",
    "    if lst==[]:\n",
    "        return\n",
    "    elif (lst[-1]%2==1):\n",
    "        multiple=lst[-1]*3\n",
    "        print(multiple)\n",
    "        return f5(lst[:-1])\n",
    "    else: \n",
    "        print(lst[-1])\n",
    "        return f5(lst[:-1])"
   ]
  },
  {
   "cell_type": "code",
   "execution_count": 17,
   "metadata": {},
   "outputs": [
    {
     "name": "stdout",
     "output_type": "stream",
     "text": [
      "4\n",
      "9\n",
      "2\n",
      "3\n"
     ]
    }
   ],
   "source": [
    "f5([1,2,3,4])"
   ]
  },
  {
   "cell_type": "markdown",
   "metadata": {},
   "source": [
    "## 6번 문제.\n",
    "문제는 받아들이는 nested list들을 펴주는거다. flatening 하기\n",
    "base case는 empty list를 보면 된다\n",
    "숫자형, 문자형일때를 구분해줘야합니다."
   ]
  },
  {
   "cell_type": "markdown",
   "metadata": {},
   "source": [
    "### 6번문제 조교선생님 풀이"
   ]
  },
  {
   "cell_type": "code",
   "execution_count": 18,
   "metadata": {},
   "outputs": [],
   "source": [
    "def f6(lst):\n",
    "    if lst==[]:\n",
    "        return lst\n",
    "    if type(lst[0]) !=list:\n",
    "        return [lst[0]] + f6(lst[1:])\n",
    "    else:\n",
    "        return f6(lst[0]) + f6(lst[1:])"
   ]
  },
  {
   "cell_type": "code",
   "execution_count": 19,
   "metadata": {},
   "outputs": [
    {
     "data": {
      "text/plain": [
       "[1, 2, 3, 4, 5, 6, 7, 8, 9, 10, 1, 2, 3, 4, 5, 6]"
      ]
     },
     "execution_count": 19,
     "metadata": {},
     "output_type": "execute_result"
    }
   ],
   "source": [
    "f6([1,2,3,4,[5,6,7,8,[9,10],1,2,3,4],5,6])"
   ]
  },
  {
   "cell_type": "markdown",
   "metadata": {},
   "source": [
    "## 7번 문제.\n",
    "Consider a function Ln:\n",
    "\n",
    "-------------------------\n",
    "\n",
    "\n",
    "Ln= 2 if n=0  \n",
    ">    1 if n=1  \n",
    ">    Ln-1 +Ln-2 if n>1  \n",
    "Write a function f7(n) that calculates Ln"
   ]
  },
  {
   "cell_type": "code",
   "execution_count": 20,
   "metadata": {},
   "outputs": [],
   "source": [
    "def f7(n):\n",
    "    if n ==0:\n",
    "        return 2\n",
    "    elif n==1:\n",
    "        return 1\n",
    "    else: \n",
    "        return f7(n-1)+f7(n-2)"
   ]
  },
  {
   "cell_type": "code",
   "execution_count": 21,
   "metadata": {},
   "outputs": [
    {
     "data": {
      "text/plain": [
       "11"
      ]
     },
     "execution_count": 21,
     "metadata": {},
     "output_type": "execute_result"
    }
   ],
   "source": [
    "f7(5)"
   ]
  },
  {
   "cell_type": "markdown",
   "metadata": {},
   "source": [
    "## 8번 문제.\n",
    "Write a function f8(s) that returns True if s is a palindrome, and False otherwise"
   ]
  },
  {
   "cell_type": "code",
   "execution_count": 22,
   "metadata": {},
   "outputs": [],
   "source": [
    "def f8(s):\n",
    "    if s== \"\":\n",
    "        return True\n",
    "    else:\n",
    "        s=s.strip()\n",
    "        if s[0]==s[-1]:\n",
    "            return f8(s[1:-1])\n",
    "        else: \n",
    "            return False\n",
    "        "
   ]
  },
  {
   "cell_type": "code",
   "execution_count": 23,
   "metadata": {},
   "outputs": [
    {
     "data": {
      "text/plain": [
       "True"
      ]
     },
     "execution_count": 23,
     "metadata": {},
     "output_type": "execute_result"
    }
   ],
   "source": [
    "f8(\"ao a\")"
   ]
  },
  {
   "cell_type": "code",
   "execution_count": 24,
   "metadata": {},
   "outputs": [
    {
     "data": {
      "text/plain": [
       "'kaya'"
      ]
     },
     "execution_count": 24,
     "metadata": {},
     "output_type": "execute_result"
    }
   ],
   "source": [
    "' kayak'[1:-1]"
   ]
  },
  {
   "cell_type": "markdown",
   "metadata": {},
   "source": [
    "## 9번 문제.\n",
    "Write a funtion f9(n) that returns n!"
   ]
  },
  {
   "cell_type": "code",
   "execution_count": 25,
   "metadata": {},
   "outputs": [],
   "source": [
    "def f9(n):\n",
    "    if n==0 | n==1 :\n",
    "        return 1\n",
    "    else:\n",
    "        return n*f9(n-1)"
   ]
  },
  {
   "cell_type": "code",
   "execution_count": 26,
   "metadata": {},
   "outputs": [
    {
     "data": {
      "text/plain": [
       "5040"
      ]
     },
     "execution_count": 26,
     "metadata": {},
     "output_type": "execute_result"
    }
   ],
   "source": [
    "f9(7)"
   ]
  },
  {
   "cell_type": "markdown",
   "metadata": {},
   "source": [
    "## 10번 문제.\n",
    "Write a function f10(list) that returns len(list) ???"
   ]
  },
  {
   "cell_type": "code",
   "execution_count": 27,
   "metadata": {},
   "outputs": [],
   "source": [
    "def f10(lst):\n",
    "    if lst==[]:\n",
    "        return 0\n",
    "    else:\n",
    "        return 1+f10(lst[1:])"
   ]
  },
  {
   "cell_type": "code",
   "execution_count": 28,
   "metadata": {},
   "outputs": [
    {
     "data": {
      "text/plain": [
       "3"
      ]
     },
     "execution_count": 28,
     "metadata": {},
     "output_type": "execute_result"
    }
   ],
   "source": [
    "f10([1,2,3])"
   ]
  },
  {
   "cell_type": "markdown",
   "metadata": {},
   "source": [
    "## 11번 문제.\n",
    "Write a function f11(list) that returns the last element in the list."
   ]
  },
  {
   "cell_type": "code",
   "execution_count": 29,
   "metadata": {},
   "outputs": [],
   "source": [
    "def f11(lst):\n",
    "    if lst==[]:\n",
    "        return \n",
    "    else:\n",
    "        if len(lst)==1:\n",
    "            print(lst[0])\n",
    "        return f11(lst[1:])"
   ]
  },
  {
   "cell_type": "code",
   "execution_count": 30,
   "metadata": {},
   "outputs": [
    {
     "name": "stdout",
     "output_type": "stream",
     "text": [
      "3\n"
     ]
    }
   ],
   "source": [
    "f11([1,2,3])"
   ]
  },
  {
   "cell_type": "markdown",
   "metadata": {},
   "source": [
    "## 12번 문제.\n",
    "Write a function f12(n) that prints the numbers n through 1 in descending order."
   ]
  },
  {
   "cell_type": "code",
   "execution_count": 31,
   "metadata": {},
   "outputs": [],
   "source": [
    "def f12(n):\n",
    "    if n==0:\n",
    "        return\n",
    "    else:\n",
    "        print(n)\n",
    "        return f12(n-1)"
   ]
  },
  {
   "cell_type": "code",
   "execution_count": 32,
   "metadata": {},
   "outputs": [
    {
     "name": "stdout",
     "output_type": "stream",
     "text": [
      "2\n",
      "1\n"
     ]
    }
   ],
   "source": [
    "\n",
    "f12(2)"
   ]
  },
  {
   "cell_type": "markdown",
   "metadata": {},
   "source": [
    "## 13번 문제.\n",
    "Write a function f13(n) that returns the number of digits in n.\n",
    "you may assume n is a positive integer"
   ]
  },
  {
   "cell_type": "code",
   "execution_count": 33,
   "metadata": {},
   "outputs": [],
   "source": [
    "#자리수가 하나면 무조건 1을 리턴한다.\n",
    "def f13(n):\n",
    "    \n",
    "    if n<10:\n",
    "        return 1\n",
    "    else:\n",
    "        return 1+ f13(n//10)"
   ]
  },
  {
   "cell_type": "code",
   "execution_count": 34,
   "metadata": {},
   "outputs": [
    {
     "data": {
      "text/plain": [
       "1"
      ]
     },
     "execution_count": 34,
     "metadata": {},
     "output_type": "execute_result"
    }
   ],
   "source": [
    "f13(0)"
   ]
  },
  {
   "cell_type": "markdown",
   "metadata": {},
   "source": [
    "## 14번 문제.\n",
    "첫번째로 보이는 홀수를 return하는 문제입니다."
   ]
  },
  {
   "cell_type": "code",
   "execution_count": 35,
   "metadata": {},
   "outputs": [],
   "source": [
    "def f14(lst):\n",
    "    if lst==[]:\n",
    "        return None\n",
    "    elif (lst[0]%2 !=1):\n",
    "        return f14(lst[1:])\n",
    "    else:\n",
    "        return print(lst[0])"
   ]
  },
  {
   "cell_type": "code",
   "execution_count": 36,
   "metadata": {},
   "outputs": [
    {
     "name": "stdout",
     "output_type": "stream",
     "text": [
      "1\n",
      "3\n"
     ]
    }
   ],
   "source": [
    "f14([1,2,3])\n",
    "f14([2,4])\n",
    "f14([2,4,6,8,10,3])"
   ]
  },
  {
   "cell_type": "markdown",
   "metadata": {},
   "source": [
    "### 14번 문제 조교선생님 풀이."
   ]
  },
  {
   "cell_type": "code",
   "execution_count": 37,
   "metadata": {},
   "outputs": [],
   "source": [
    "def f14(lst):\n",
    "    if lst ==[]:\n",
    "        return None\n",
    "    if lst[0]%2==1:\n",
    "        return lst[0]\n",
    "    return f14(lst[1:])\n"
   ]
  },
  {
   "cell_type": "code",
   "execution_count": 38,
   "metadata": {},
   "outputs": [
    {
     "data": {
      "text/plain": [
       "1"
      ]
     },
     "execution_count": 38,
     "metadata": {},
     "output_type": "execute_result"
    }
   ],
   "source": [
    "f14([1,2,3])"
   ]
  },
  {
   "cell_type": "code",
   "execution_count": 39,
   "metadata": {},
   "outputs": [
    {
     "data": {
      "text/plain": [
       "3"
      ]
     },
     "execution_count": 39,
     "metadata": {},
     "output_type": "execute_result"
    }
   ],
   "source": [
    "f14([2,4,6,8,10,3])"
   ]
  },
  {
   "cell_type": "markdown",
   "metadata": {},
   "source": [
    "## 15번 문제.\n",
    "홀수들의 합을 구해라 리스트 받아서"
   ]
  },
  {
   "cell_type": "code",
   "execution_count": 40,
   "metadata": {},
   "outputs": [],
   "source": [
    "def f15(lst):\n",
    "    if lst==[]:\n",
    "        return 0\n",
    "    else:\n",
    "        if lst[0]%2==1:\n",
    "            return lst[0]+f15(lst[1:])\n",
    "        else:\n",
    "            return f15(lst[1:])"
   ]
  },
  {
   "cell_type": "code",
   "execution_count": 41,
   "metadata": {},
   "outputs": [
    {
     "data": {
      "text/plain": [
       "0"
      ]
     },
     "execution_count": 41,
     "metadata": {},
     "output_type": "execute_result"
    }
   ],
   "source": [
    "f15([2])"
   ]
  },
  {
   "cell_type": "markdown",
   "metadata": {},
   "source": [
    "## 16번 문제.\n",
    "리스트 받아서 홀수들만 모아서 홀수 출력"
   ]
  },
  {
   "cell_type": "code",
   "execution_count": 42,
   "metadata": {},
   "outputs": [
    {
     "data": {
      "text/plain": [
       "[1, 2]"
      ]
     },
     "execution_count": 42,
     "metadata": {},
     "output_type": "execute_result"
    }
   ],
   "source": [
    "def f16(lst):\n",
    "    if lst==[]:\n",
    "        return lst\n",
    "    else:\n",
    "        if lst[0]%2==1:\n",
    "            return [lst[0]] + f16(lst[1:])\n",
    "        else:\n",
    "            return f16(lst[1:])\n",
    "[1]+[2]"
   ]
  },
  {
   "cell_type": "code",
   "execution_count": 43,
   "metadata": {},
   "outputs": [
    {
     "data": {
      "text/plain": [
       "[1, 3, 5]"
      ]
     },
     "execution_count": 43,
     "metadata": {},
     "output_type": "execute_result"
    }
   ],
   "source": [
    "f16([1,2,3,4,5])"
   ]
  },
  {
   "cell_type": "markdown",
   "metadata": {},
   "source": [
    "## 17번 문제.\n",
    "리스트받아서 뒤에서 두번째면 리턴해라"
   ]
  },
  {
   "cell_type": "code",
   "execution_count": 44,
   "metadata": {},
   "outputs": [],
   "source": [
    "def f17(lst):\n",
    "    if len(lst)==2:\n",
    "        return lst[0]\n",
    "    else:\n",
    "        return f17(lst[1:])"
   ]
  },
  {
   "cell_type": "code",
   "execution_count": 45,
   "metadata": {},
   "outputs": [
    {
     "data": {
      "text/plain": [
       "4"
      ]
     },
     "execution_count": 45,
     "metadata": {},
     "output_type": "execute_result"
    }
   ],
   "source": [
    "f17([1,2,3,4,5])"
   ]
  },
  {
   "cell_type": "code",
   "execution_count": 46,
   "metadata": {},
   "outputs": [
    {
     "data": {
      "text/plain": [
       "1"
      ]
     },
     "execution_count": 46,
     "metadata": {},
     "output_type": "execute_result"
    }
   ],
   "source": [
    "f17([1,2])"
   ]
  },
  {
   "cell_type": "markdown",
   "metadata": {},
   "source": [
    "## 18번 문제.\n",
    "a와 b의 제일 작은 공약수를 구하여라"
   ]
  },
  {
   "cell_type": "code",
   "execution_count": 47,
   "metadata": {},
   "outputs": [],
   "source": [
    "def f18(a,b):\n",
    "    if(a<b):\n",
    "        a,b=b,a        \n",
    "    else:\n",
    "        if(a%b==0):\n",
    "            return b\n",
    "        else:\n",
    "            return f18(b,a%b)\n",
    "    return f18(a,b)"
   ]
  },
  {
   "cell_type": "code",
   "execution_count": 48,
   "metadata": {},
   "outputs": [
    {
     "data": {
      "text/plain": [
       "10"
      ]
     },
     "execution_count": 48,
     "metadata": {},
     "output_type": "execute_result"
    }
   ],
   "source": [
    "f18(10,90)"
   ]
  },
  {
   "cell_type": "markdown",
   "metadata": {},
   "source": [
    "## 19번 문제.\n",
    "lst1 과 lst2를 입력받아서 오름차순으로 합쳐라 list1과 list2는 이미 sorted 되어있다고 가정한다."
   ]
  },
  {
   "cell_type": "code",
   "execution_count": 49,
   "metadata": {},
   "outputs": [],
   "source": [
    "def f19(lst1,lst2):\n",
    "    if lst1==[]:\n",
    "        return lst2\n",
    "    if lst2==[]:\n",
    "        return lst1\n",
    "    \n",
    "    if lst1[0]<lst2[0]:\n",
    "        return [lst1[0]]+f19(lst1[1:],lst2)\n",
    "    if lst1[0]>lst2[0]:\n",
    "        return [lst2[0]]+f19(lst1,lst2[1:])"
   ]
  },
  {
   "cell_type": "code",
   "execution_count": 50,
   "metadata": {},
   "outputs": [
    {
     "data": {
      "text/plain": [
       "[1, 2, 3, 4, 5, 6]"
      ]
     },
     "execution_count": 50,
     "metadata": {},
     "output_type": "execute_result"
    }
   ],
   "source": [
    "f19([1,3,5],[2,4,6])"
   ]
  },
  {
   "cell_type": "code",
   "execution_count": 51,
   "metadata": {},
   "outputs": [
    {
     "data": {
      "text/plain": [
       "[1, 2, 3, 5, 7, 8]"
      ]
     },
     "execution_count": 51,
     "metadata": {},
     "output_type": "execute_result"
    }
   ],
   "source": [
    "f19([1,3,5],[2,7,8])"
   ]
  },
  {
   "cell_type": "code",
   "execution_count": 52,
   "metadata": {},
   "outputs": [
    {
     "data": {
      "text/plain": [
       "[1, 2, 3, 4, 5]"
      ]
     },
     "execution_count": 52,
     "metadata": {},
     "output_type": "execute_result"
    }
   ],
   "source": [
    "f19([4,5],[1,2,3])"
   ]
  },
  {
   "cell_type": "markdown",
   "metadata": {},
   "source": [
    "## 20번 문제.\n",
    "리스트 입력받아서 f19사용해서 merge sort 실행하세요\n",
    "\n",
    "f19는 리스트 두개 입력받아서 오름차순으로 합치는 함수"
   ]
  },
  {
   "cell_type": "code",
   "execution_count": 53,
   "metadata": {},
   "outputs": [],
   "source": [
    "def f20(lst):\n",
    "    if len(lst)==1:\n",
    "        return lst\n",
    "    elif lst==[]:\n",
    "        return []\n",
    "    else:\n",
    "        length=int(len(lst)/2)\n",
    "        lst1=lst[0:length]\n",
    "        lst2=lst[length:]\n",
    "        return f19(f20(lst1),f20(lst2))\n",
    "    "
   ]
  },
  {
   "cell_type": "code",
   "execution_count": 54,
   "metadata": {},
   "outputs": [
    {
     "data": {
      "text/plain": [
       "[1, 2, 3, 4, 6, 7]"
      ]
     },
     "execution_count": 54,
     "metadata": {},
     "output_type": "execute_result"
    }
   ],
   "source": [
    "f20([6,4,7,2,3,1])"
   ]
  }
 ],
 "metadata": {
  "kernelspec": {
   "display_name": "Python 3",
   "language": "python",
   "name": "python3"
  },
  "language_info": {
   "codemirror_mode": {
    "name": "ipython",
    "version": 3
   },
   "file_extension": ".py",
   "mimetype": "text/x-python",
   "name": "python",
   "nbconvert_exporter": "python",
   "pygments_lexer": "ipython3",
   "version": "3.6.5"
  }
 },
 "nbformat": 4,
 "nbformat_minor": 2
}
