{
 "cells": [
  {
   "cell_type": "code",
   "execution_count": 1,
   "metadata": {},
   "outputs": [],
   "source": [
    "#(20180620)\n",
    "#control structures\n",
    "#for loop\n",
    "# (if statement)\n",
    "#if then else elif\n",
    "#x=3(assignment)"
   ]
  },
  {
   "cell_type": "code",
   "execution_count": 2,
   "metadata": {},
   "outputs": [
    {
     "name": "stdout",
     "output_type": "stream",
     "text": [
      "no mail:(\n"
     ]
    }
   ],
   "source": [
    "##Python Control Structures\n",
    "mail=0\n",
    "if mail:\n",
    "    print('mail time')\n",
    "else:\n",
    "    print('no mail:(')"
   ]
  },
  {
   "cell_type": "code",
   "execution_count": 3,
   "metadata": {},
   "outputs": [
    {
     "name": "stdout",
     "output_type": "stream",
     "text": [
      "7 is greater than 6\n"
     ]
    }
   ],
   "source": [
    "if( 7<=6):\n",
    "    print(\"whaaaaa\")\n",
    "else:\n",
    "    print(\"7 is greater than 6\")"
   ]
  },
  {
   "cell_type": "code",
   "execution_count": 4,
   "metadata": {},
   "outputs": [
    {
     "name": "stdout",
     "output_type": "stream",
     "text": [
      "yep\n"
     ]
    }
   ],
   "source": [
    "if (7) and (6):\n",
    "    print('yep')"
   ]
  },
  {
   "cell_type": "code",
   "execution_count": 5,
   "metadata": {},
   "outputs": [],
   "source": [
    "if(0) and (4): #0이 False니까 프린트 실행안되겠지\n",
    "    print('sahaaa')"
   ]
  },
  {
   "cell_type": "code",
   "execution_count": 6,
   "metadata": {},
   "outputs": [
    {
     "name": "stdout",
     "output_type": "stream",
     "text": [
      "yep\n"
     ]
    }
   ],
   "source": [
    "if not(0):\n",
    "    print('yep')"
   ]
  },
  {
   "cell_type": "code",
   "execution_count": 8,
   "metadata": {},
   "outputs": [
    {
     "name": "stdout",
     "output_type": "stream",
     "text": [
      "what is the Celsius temperature?28\n",
      "The temperature is 82.4  degrees Fahrenheits. \n"
     ]
    }
   ],
   "source": [
    "#convert2.py\n",
    "# a program to convert celsius temps to fahrenheit.\n",
    "#this version issues heat and cold warnings.\n",
    "def main():\n",
    "    celsius = eval(input(\"what is the Celsius temperature?\"))\n",
    "    fahrenheit = (9/5)* celsius +32\n",
    "    print(\"The temperature is\",fahrenheit,\" degrees Fahrenheits. \")\n",
    "\n",
    "    if fahrenheit >=90:\n",
    "        print(\"it's really hot out there, be careful!\")\n",
    "\n",
    "    if fahrenheit <-30:\n",
    "        print(\"Brrrrr. Be sure to dress warmly\")\n",
    "\n",
    "main()"
   ]
  },
  {
   "cell_type": "code",
   "execution_count": 7,
   "metadata": {},
   "outputs": [
    {
     "name": "stdout",
     "output_type": "stream",
     "text": [
      "This program finds the real solutions to a quadratic\n",
      "\n",
      "Please enter the coefficients (a,b,c): 1,2,1\n",
      "\n",
      "The solutions are: -1.0 -1.0\n"
     ]
    }
   ],
   "source": [
    "#quadratic3.py\n",
    "# a program that computes the real roots of a quadratic equation.\n",
    "#illustrates use of a two-way decision\n",
    "\n",
    "#a*(x**2)+b*x+c 이차방정식 근구하는 공식, 계수주고 답 구하기.\n",
    "#프로그램으로 문제를 표현한것, 알고리즘은 2차방정식 근구하는 공식\n",
    "\n",
    "import math\n",
    "def main():\n",
    "    print(\"This program finds the real solutions to a quadratic\\n\")\n",
    "    a,b,c=eval(input(\"Please enter the coefficients (a,b,c)\"))\n",
    "\n",
    "import math #공인 인증라이브러리라 따로 설치하지 않아도 됨. 지금부터는 math라는 라이브러리 사용할수있다.\n",
    "def main():\n",
    "    print(\"This program finds the real solutions to a quadratic\\n\")\n",
    "    a, b, c= eval(input(\"Please enter the coefficients (a,b,c): \"))\n",
    "\n",
    "    discrim=b*b-4*a*c\n",
    "    if discrim <0: #주의할것은 sqrt안의 값이 음수가되면 안되니까\n",
    "        print(\"\\n The equation has no real roots!\")\n",
    "    else:\n",
    "        discRoot=math.sqrt(discrim) #python 안의 math라는 공인인증 받은 라이브러리 [설치시, 기본으로 (standard library) 같이온다.]\n",
    "        root1=(-b+discRoot)/(2*a)\n",
    "        root2=(-b-discRoot)/(2*a)\n",
    "        print(\"\\nThe solutions are:\", root1, root2)\n",
    "main()"
   ]
  },
  {
   "cell_type": "code",
   "execution_count": 9,
   "metadata": {},
   "outputs": [
    {
     "name": "stdout",
     "output_type": "stream",
     "text": [
      "0\n",
      "1\n",
      "2\n",
      "3\n",
      "4\n",
      "5\n",
      "6\n",
      "7\n",
      "8\n",
      "9\n",
      "10\n"
     ]
    }
   ],
   "source": [
    "#Loop Structures\n",
    "#for loop, while loop\n",
    "i=0\n",
    "while i<=10: #i=0 들어가고 10보다 작은지 확인, 프린트함수 실행, i에 1더한 다음 i가 10보다 작은지 확인의 반복, i가 11이되면 종료\n",
    "    print(i)\n",
    "    i += 1"
   ]
  },
  {
   "cell_type": "code",
   "execution_count": 10,
   "metadata": {},
   "outputs": [
    {
     "name": "stdout",
     "output_type": "stream",
     "text": [
      "0\n",
      "1\n",
      "2\n",
      "3\n",
      "4\n",
      "5\n",
      "6\n",
      "7\n",
      "8\n",
      "9\n",
      "10\n"
     ]
    }
   ],
   "source": [
    "for i in range(11):\n",
    "    print(i)"
   ]
  },
  {
   "cell_type": "code",
   "execution_count": 11,
   "metadata": {},
   "outputs": [
    {
     "name": "stdout",
     "output_type": "stream",
     "text": [
      "10\n",
      "12\n",
      "14\n",
      "16\n",
      "18\n",
      "20\n",
      "22\n",
      "24\n",
      "26\n",
      "28\n"
     ]
    }
   ],
   "source": [
    "#range 함수\n",
    "#range( Number ) Number만큼의 갯수를 준다\n",
    "#range(start,end,jump) 3개 파라미터줄경우 시작점, 끝점, 점프는 얼마만큼하는지를 준경우입니다.\n",
    "for i in range(10,30,2): #10에서 30까지, 2씩 더하면서\n",
    "    print(i)"
   ]
  },
  {
   "cell_type": "code",
   "execution_count": 12,
   "metadata": {},
   "outputs": [
    {
     "name": "stdout",
     "output_type": "stream",
     "text": [
      "1\n",
      "2\n",
      "4\n",
      "5\n",
      "7\n",
      "8\n",
      "10\n",
      "11\n",
      "13\n",
      "14\n",
      "16\n",
      "17\n",
      "19\n",
      "20\n",
      "22\n",
      "23\n",
      "25\n",
      "26\n",
      "28\n",
      "29\n"
     ]
    }
   ],
   "source": [
    "for i in range(30):\n",
    "    if not(i%3):  #3의 배수이면 i%3 = 0이 되면서, False가 된다. \n",
    "                  #if not(False) = if True, continue문 실행한다.\n",
    "        continue\n",
    "    print(i)"
   ]
  },
  {
   "cell_type": "code",
   "execution_count": 13,
   "metadata": {},
   "outputs": [
    {
     "name": "stdout",
     "output_type": "stream",
     "text": [
      "1 2\n",
      "2 4\n",
      "3 6\n",
      "4 8\n"
     ]
    },
    {
     "data": {
      "text/plain": [
       "(4, 8)"
      ]
     },
     "execution_count": 13,
     "metadata": {},
     "output_type": "execute_result"
    }
   ],
   "source": [
    "# +=연산자는 무엇일까?\n",
    "# x = x+1 같은 표현식의 경우 x += 1 이라고 표현\n",
    "# y = y+3 은 y+=3 이라고 표현\n",
    "x,y=0,0                 #simultanous assignment\n",
    "while(True):           #while, true, if, break는 reserved word 입니다.\n",
    "    x+=1               \n",
    "    y+=2\n",
    "    print(x,y)\n",
    "    if(x+y > 10):\n",
    "        break\n",
    "x,y"
   ]
  },
  {
   "cell_type": "code",
   "execution_count": 14,
   "metadata": {},
   "outputs": [
    {
     "name": "stdout",
     "output_type": "stream",
     "text": [
      "Enter a number: 30\n",
      "More numbers (yes or no)?yes\n",
      "Enter a number: 50\n",
      "More numbers (yes or no)?yes\n",
      "Enter a number: 38\n",
      "More numbers (yes or no)?yup\n",
      "Enter a number: 45\n",
      "More numbers (yes or no)?yes\n",
      "Enter a number: 58\n",
      "More numbers (yes or no)?no\n",
      "\n",
      "The average of the numbers is 44.2\n"
     ]
    }
   ],
   "source": [
    "#indefinite loops : warning 무한루프의 늪.\n",
    "#i=0\n",
    "#while i <=10:\n",
    "#     print(i)\n",
    "\n",
    "#Basic pseudocode 말로 표현해놓은거 모델링할때 써놓은거\n",
    "#set moredata to \"yes\"\n",
    "#while moredata is \"yes\"\n",
    "#    get the next data item\n",
    "#    process the item\n",
    "#    ask user if there is moredata\n",
    "\n",
    "#Avg_computation\n",
    "def main():\n",
    "    moredata=\"yes\" #일단 while문을 시작하기위해 yes 로 할당\n",
    "    sum=0.0        #sum  초기화\n",
    "    count=0        #count 초기화\n",
    "    while moredata[0] =='y':    #moredata 입력받은 것의 0번째가 y이느냐, moredata입력이 y로 시작하느냐? 를 묻는것 \n",
    "                                #언제끝날지 모르는경우에는 for문으로 표현불가능, while로 가능\n",
    "        x=eval(input(\"Enter a number: \")) #인풋함수는 문자열로 받았기때문에,  eval로 숫자로 형변환\n",
    "        sum += x\n",
    "        count += 1\n",
    "        moredata=input(\"More numbers (yes or no)?\")\n",
    "    print(\"\\nThe average of the numbers is\",sum/count) #마지막 number는 더하지 않는다. \n",
    "main()"
   ]
  },
  {
   "cell_type": "code",
   "execution_count": 15,
   "metadata": {},
   "outputs": [
    {
     "name": "stdout",
     "output_type": "stream",
     "text": [
      "Enter a number ( negative to quit) >> 1\n",
      "Enter a number ( negative to quit) >> 2\n",
      "Enter a number ( negative to quit) >> 3\n",
      "Enter a number ( negative to quit) >> 4\n",
      "Enter a number ( negative to quit) >> 5\n",
      "Enter a number ( negative to quit) >> -1\n",
      "\n",
      " The average of the numbers is 3.0\n"
     ]
    }
   ],
   "source": [
    "69#Sentinel Loops\n",
    "#avg3.py\n",
    "# a program to avg a set of numbers\n",
    "#illustrates sentinel loop using neg input as sentinel\n",
    "\n",
    "def main():\n",
    "    sum=0.0\n",
    "    count=0\n",
    "    x=eval(input(\"Enter a number ( negative to quit) >> \")) #음수가 나오면 멈추는것, 이런 것을 sentinel 보초, 파수병이라 한다\n",
    "    while x>=0: #sentinel, 내가 원하는 조건 제대로 쓰는게 중요한거지 이게 sentinel인지는 그닥 안중요\n",
    "        sum=sum+x\n",
    "        count+= 1\n",
    "        x=eval(input(\"Enter a number ( negative to quit) >> \"))\n",
    "    print(\"\\n The average of the numbers is\", sum/count)\n",
    "main()"
   ]
  },
  {
   "cell_type": "code",
   "execution_count": 16,
   "metadata": {},
   "outputs": [
    {
     "name": "stdout",
     "output_type": "stream",
     "text": [
      "Enter a number(<Enter> to quit) >> 50\n",
      "Enter a number(<Enter> to quit) >> 51\n",
      "Enter a number(<Enter> to quit) >> 52\n",
      "Enter a number(<Enter> to quit) >> 53\n",
      "Enter a number(<Enter> to quit) >> 54\n",
      "Enter a number(<Enter> to quit) >> 55\n",
      "Enter a number(<Enter> to quit) >> \n",
      "\n",
      " The average of the numbers is 52.5\n"
     ]
    }
   ],
   "source": [
    "#avg4.py\n",
    "# a program to avg a set of numbers\n",
    "# illustrates sentinel loop using empty string as sentinel\n",
    "\n",
    "def main():\n",
    "    sum=0.0\n",
    "    count=0\n",
    "    xStr=input(\"Enter a number(<Enter> to quit) >> \")\n",
    "    while xStr !=\"\": #빈 문자열 넣으면 끝낸다.\n",
    "        x=eval(xStr)\n",
    "        sum=sum+x\n",
    "        count+=1\n",
    "        xStr=input(\"Enter a number(<Enter> to quit) >> \")\n",
    "    print(\"\\n The average of the numbers is\", sum/count)\n",
    "\n",
    "main()"
   ]
  },
  {
   "cell_type": "code",
   "execution_count": 17,
   "metadata": {},
   "outputs": [
    {
     "name": "stdout",
     "output_type": "stream",
     "text": [
      "what file are the numbers in? score.txt\n",
      "\n",
      " The avg of the numbers is 47.5\n"
     ]
    }
   ],
   "source": [
    "#Loop with readline( ) through a File: Example\n",
    "#워드나 한글 파일은 모양을 만들기위해 보이지않게 투입한 명령어들이(글자 크기, 모양 등등)\n",
    "#숨어있기때문에 원활한 처리가 어렵다\n",
    "#그래서 오픈하는 file은 대부분 txt파일 혹은 excel 파일이다.\n",
    "#데이터를 ,로 분리한 엑셀파일을 csv (comma seperated value) 라고 한다.\n",
    "\n",
    "#avg6.py\n",
    "#Computes the avg of numbers listed in a file.\n",
    "def main():\n",
    "    fileName= input(\"what file are the numbers in? \")\n",
    "    infile= open(fileName,'r')#open이라는 bulit-in은 파일 여는거다.\n",
    "                              #읽으려면 r, 쓰려면 w 2주뒤에 file.io 배울거다.\n",
    "    sum=0.0\n",
    "    count=0\n",
    "    line=infile.readline()#한줄 읽는거 \n",
    "    while line !=\"\":\n",
    "        sum +=eval(line)\n",
    "        count +=1\n",
    "        line=infile.readline()\n",
    "    \n",
    "    print(\"\\n The avg of the numbers is\", sum/count)\n",
    "    infile.close()#없어도된다. 한줄 씩읽어서 그냥 다 더한거니까.\n",
    "main()"
   ]
  },
  {
   "cell_type": "code",
   "execution_count": 18,
   "metadata": {},
   "outputs": [
    {
     "name": "stdout",
     "output_type": "stream",
     "text": [
      "what file are the numbers in? score.txt\n",
      "\n",
      " The avg of the numbers is 47.5\n"
     ]
    }
   ],
   "source": [
    "#Nested Loops in reading lines though a file\n",
    "\n",
    "#avg7.py\n",
    "# computes the avg of numbers listed in a file.\n",
    "#works with multiple numbers on a line.\n",
    "import string\n",
    "def main():\n",
    "    fileName= input(\"what file are the numbers in? \")\n",
    "    infile= open(fileName,'r')\n",
    "    sum=0.0\n",
    "    count=0\n",
    "    line=infile.readline()\n",
    "    while line !=\"\":\n",
    "        for xStr in line.split(\",\"):\n",
    "            sum+=eval(xStr)\n",
    "            count+=1\n",
    "        line=infile.readline()\n",
    "    print(\"\\n The avg of the numbers is\", sum/count)   \n",
    "main()"
   ]
  },
  {
   "cell_type": "code",
   "execution_count": 19,
   "metadata": {},
   "outputs": [
    {
     "name": "stdout",
     "output_type": "stream",
     "text": [
      "Enter a positive number: 5\n"
     ]
    }
   ],
   "source": [
    "#Post-Test Loops\n",
    "#조건이 Loop 맨 마지막에 오는 경우\n",
    "\n",
    "number=-1\n",
    "while number <0 :\n",
    "    number = eval(input(\"Enter a positive number: \" ))\n",
    "\n",
    "#number를 먼저 -1로 셋팅해서, 루프의 몸통이 적어도 한번은 돌아가도록 강제"
   ]
  },
  {
   "cell_type": "code",
   "execution_count": 20,
   "metadata": {},
   "outputs": [
    {
     "name": "stdout",
     "output_type": "stream",
     "text": [
      "Enter a positive number: 501\n"
     ]
    }
   ],
   "source": [
    "while True:\n",
    "    number = eval(input(\"Enter a positive number: \"))\n",
    "    if number >=0: break"
   ]
  },
  {
   "cell_type": "code",
   "execution_count": 21,
   "metadata": {},
   "outputs": [
    {
     "name": "stdout",
     "output_type": "stream",
     "text": [
      "25\n",
      "26\n",
      "54\n",
      "59\n",
      "89\n"
     ]
    }
   ],
   "source": [
    "#Looping readline() through Files\n",
    "myfile=open(\"score.txt\",\"r\")\n",
    "for i in range(5): #5줄까지만 읽자\n",
    "    line = myfile.readline() #한줄 읽어서 line에 저장\n",
    "    print(line[:-1])          #읽은줄 프린팅하기\n",
    "    \n",
    "    "
   ]
  },
  {
   "cell_type": "code",
   "execution_count": 22,
   "metadata": {},
   "outputs": [],
   "source": [
    "#Writing a File\n",
    "outfile=open(\"abc.txt\",'w') #w가 쓰기모드\n",
    "#만약 파일이 이미 존재할경우 파일이 전부다 지워지고 빈상태로 다시 써진다 주의해야함\n",
    "#만약 파일이 존재하지않으면 새로 생긴다\n",
    "outfile.write(\"new sample contents\\n\")\n",
    "outfile.close()"
   ]
  },
  {
   "cell_type": "code",
   "execution_count": 23,
   "metadata": {},
   "outputs": [
    {
     "data": {
      "text/plain": [
       "1.7320508075688772"
      ]
     },
     "execution_count": 23,
     "metadata": {},
     "output_type": "execute_result"
    }
   ],
   "source": [
    "##Python Functions and Modules 파이썬 함수와 모듈들\n",
    "#function에 크게 6개로 나눌수있다.\n",
    "\n",
    "#Built in function\n",
    "\n",
    "#User defined function\n",
    "\n",
    "#Data type에 속한 function\n",
    "#(list 혹은 set에 귀속된 function이 또 있다 예를들어 List.append(), Set.remove())\n",
    "\n",
    "#OOP 할때 사용자가 필요한 데이터타입을 만드는것 Class라고 한다.\n",
    "\n",
    "#Library(modules)는 함수들이 모여있는곳, library로부터 불러와서 쓴다.\n",
    "\n",
    "#Standard Library 인증받으려면 사람들이 좋아하고 이건 에러가없어야하고 보편적인, 쓰임새가 다양한가\n",
    "\n",
    "import math\n",
    "math.sqrt(3)"
   ]
  },
  {
   "cell_type": "code",
   "execution_count": 24,
   "metadata": {},
   "outputs": [
    {
     "data": {
      "text/plain": [
       "<function math.cos>"
      ]
     },
     "execution_count": 24,
     "metadata": {},
     "output_type": "execute_result"
    }
   ],
   "source": [
    "math.cos"
   ]
  },
  {
   "cell_type": "code",
   "execution_count": 25,
   "metadata": {},
   "outputs": [],
   "source": [
    "from math import cos,pi"
   ]
  },
  {
   "cell_type": "code",
   "execution_count": 26,
   "metadata": {},
   "outputs": [
    {
     "data": {
      "text/plain": [
       "3.141592653589793"
      ]
     },
     "execution_count": 26,
     "metadata": {},
     "output_type": "execute_result"
    }
   ],
   "source": [
    "pi"
   ]
  },
  {
   "cell_type": "code",
   "execution_count": 27,
   "metadata": {},
   "outputs": [],
   "source": [
    "from math import*"
   ]
  },
  {
   "cell_type": "code",
   "execution_count": 28,
   "metadata": {},
   "outputs": [
    {
     "data": {
      "text/plain": [
       "<function math.cos>"
      ]
     },
     "execution_count": 28,
     "metadata": {},
     "output_type": "execute_result"
    }
   ],
   "source": [
    "cos"
   ]
  },
  {
   "cell_type": "code",
   "execution_count": 29,
   "metadata": {},
   "outputs": [
    {
     "data": {
      "text/plain": [
       "3.141592653589793"
      ]
     },
     "execution_count": 29,
     "metadata": {},
     "output_type": "execute_result"
    }
   ],
   "source": [
    "math.pi"
   ]
  },
  {
   "cell_type": "code",
   "execution_count": 30,
   "metadata": {},
   "outputs": [
    {
     "data": {
      "text/plain": [
       "1.0"
      ]
     },
     "execution_count": 30,
     "metadata": {},
     "output_type": "execute_result"
    }
   ],
   "source": [
    "math.cos(0)"
   ]
  },
  {
   "cell_type": "code",
   "execution_count": 31,
   "metadata": {},
   "outputs": [],
   "source": [
    "#우리도 func 만들수있다\n",
    "#script file \"hello.py\"를 만들고나서\n",
    "def sample_func():\n",
    "    print(\"Hello World\")\n",
    "#이라고 만들어준다.\n",
    "\n",
    "#그다음에  다른 스크립트에서 import hello 한다음 Hello.sample_func() 하면 된다."
   ]
  },
  {
   "cell_type": "code",
   "execution_count": 32,
   "metadata": {},
   "outputs": [
    {
     "data": {
      "text/plain": [
       "(42400000000.0, 4.24e-10)"
      ]
     },
     "execution_count": 32,
     "metadata": {},
     "output_type": "execute_result"
    }
   ],
   "source": [
    "##Chap3 Basic Data Type\n",
    "#numeric data type\n",
    "#정수, 실수, 8진수, 16진수\n",
    "#e, E는 지수표현 방식 (부동소수점, 지수포ㅛ현방식)\n",
    "a,b= 4.24E10, 4.24e-10\n",
    "a,b"
   ]
  },
  {
   "cell_type": "code",
   "execution_count": 33,
   "metadata": {},
   "outputs": [],
   "source": [
    "#8진수 만들때는 숫자시작할때 0o 로 시작한다 octal의 의미\n",
    "#16진수 만들때는 숫자시작할때 0x로 시작 hexa 10~15는 A부터 E로 표현한다.\n",
    "\n",
    "#X**Y는 X의 Y승\n",
    "#%연산자 modulo\n",
    "#//연산자 integer division\n",
    "\n",
    "#이렇게쓰면 보기 매우 불편\n",
    "multiline=\"Life is too short\\n You need python\"\n",
    "#쿼테이션 3개써서 여러줄로 보기 편하게 할수있다.\n",
    "multiline='''\n",
    "life is too short\n",
    "you need python\n",
    "'''"
   ]
  },
  {
   "cell_type": "code",
   "execution_count": 34,
   "metadata": {},
   "outputs": [
    {
     "data": {
      "text/plain": [
       "'You need Python'"
      ]
     },
     "execution_count": 34,
     "metadata": {},
     "output_type": "execute_result"
    }
   ],
   "source": [
    "a=\"Life is too short, You need Python\"\n",
    "a[19:]"
   ]
  },
  {
   "cell_type": "code",
   "execution_count": 35,
   "metadata": {},
   "outputs": [
    {
     "data": {
      "text/plain": [
       "'I have 3 apples'"
      ]
     },
     "execution_count": 35,
     "metadata": {},
     "output_type": "execute_result"
    }
   ],
   "source": [
    "\"I have %s apples\"%3"
   ]
  },
  {
   "cell_type": "code",
   "execution_count": 36,
   "metadata": {},
   "outputs": [
    {
     "data": {
      "text/plain": [
       "'Error is 98%.'"
      ]
     },
     "execution_count": 36,
     "metadata": {},
     "output_type": "execute_result"
    }
   ],
   "source": [
    "\"Error is %d%%.\"%98 "
   ]
  },
  {
   "cell_type": "code",
   "execution_count": 37,
   "metadata": {},
   "outputs": [
    {
     "data": {
      "text/plain": [
       "2"
      ]
     },
     "execution_count": 37,
     "metadata": {},
     "output_type": "execute_result"
    }
   ],
   "source": [
    "#count func\n",
    "a=\"hobby\"\n",
    "a.count('b')"
   ]
  },
  {
   "cell_type": "code",
   "execution_count": 38,
   "metadata": {},
   "outputs": [
    {
     "data": {
      "text/plain": [
       "10"
      ]
     },
     "execution_count": 38,
     "metadata": {},
     "output_type": "execute_result"
    }
   ],
   "source": [
    "#위치 알려주기\n",
    "a=\"Python is best choice\"\n",
    "a.find('b')"
   ]
  },
  {
   "cell_type": "code",
   "execution_count": 39,
   "metadata": {},
   "outputs": [
    {
     "data": {
      "text/plain": [
       "'HI'"
      ]
     },
     "execution_count": 39,
     "metadata": {},
     "output_type": "execute_result"
    }
   ],
   "source": [
    "a=\"hi\"\n",
    "a.upper() #대문자"
   ]
  },
  {
   "cell_type": "code",
   "execution_count": 40,
   "metadata": {},
   "outputs": [
    {
     "data": {
      "text/plain": [
       "'hi'"
      ]
     },
     "execution_count": 40,
     "metadata": {},
     "output_type": "execute_result"
    }
   ],
   "source": [
    "a.lower() #소문자로"
   ]
  },
  {
   "cell_type": "code",
   "execution_count": 41,
   "metadata": {},
   "outputs": [
    {
     "data": {
      "text/plain": [
       "'hi '"
      ]
     },
     "execution_count": 41,
     "metadata": {},
     "output_type": "execute_result"
    }
   ],
   "source": [
    "a= ' hi '\n",
    "a.lstrip()#왼쪽 공백지우기"
   ]
  },
  {
   "cell_type": "code",
   "execution_count": 42,
   "metadata": {},
   "outputs": [
    {
     "data": {
      "text/plain": [
       "'i    hi '"
      ]
     },
     "execution_count": 42,
     "metadata": {},
     "output_type": "execute_result"
    }
   ],
   "source": [
    "a= '      i    hi '\n",
    "a.lstrip()"
   ]
  },
  {
   "cell_type": "code",
   "execution_count": 43,
   "metadata": {},
   "outputs": [
    {
     "data": {
      "text/plain": [
       "' hi'"
      ]
     },
     "execution_count": 43,
     "metadata": {},
     "output_type": "execute_result"
    }
   ],
   "source": [
    "a= ' hi '\n",
    "a.rstrip()#오른쪽 공백 지우기"
   ]
  },
  {
   "cell_type": "code",
   "execution_count": 44,
   "metadata": {},
   "outputs": [
    {
     "data": {
      "text/plain": [
       "'hi'"
      ]
     },
     "execution_count": 44,
     "metadata": {},
     "output_type": "execute_result"
    }
   ],
   "source": [
    "a= ' hi '\n",
    "a.strip()#양쪽 공백지우기"
   ]
  },
  {
   "cell_type": "code",
   "execution_count": 45,
   "metadata": {},
   "outputs": [
    {
     "data": {
      "text/plain": [
       "(65, 98)"
      ]
     },
     "execution_count": 45,
     "metadata": {},
     "output_type": "execute_result"
    }
   ],
   "source": [
    "#ord func/ chr func\n",
    "#ord함수는 아스키코드에서 위치를 찾아준다. \n",
    "ord(\"A\") , ord(\"b\") \n",
    "#코드테이블에서 A가 65번재에, b는 98번째 위치에 존재함을 보여준다.\n",
    "#chr함수는 몇번째에 있는 글자가 뭐야를 찾아주는거다."
   ]
  },
  {
   "cell_type": "code",
   "execution_count": 46,
   "metadata": {},
   "outputs": [],
   "source": [
    "a,b='a','b'"
   ]
  },
  {
   "cell_type": "code",
   "execution_count": 47,
   "metadata": {},
   "outputs": [
    {
     "data": {
      "text/plain": [
       "str"
      ]
     },
     "execution_count": 47,
     "metadata": {},
     "output_type": "execute_result"
    }
   ],
   "source": [
    "type(a)"
   ]
  },
  {
   "cell_type": "code",
   "execution_count": 48,
   "metadata": {},
   "outputs": [
    {
     "data": {
      "text/plain": [
       "(4, 3)"
      ]
     },
     "execution_count": 48,
     "metadata": {},
     "output_type": "execute_result"
    }
   ],
   "source": [
    "a=3\n",
    "b=a\n",
    "a=4\n",
    "#(int,float,char, string, boolean)와 같은 Basic data type의 값들은\n",
    "#Deep Copy가 된다 (깊은 복사)\n",
    "a,b"
   ]
  },
  {
   "cell_type": "code",
   "execution_count": 49,
   "metadata": {},
   "outputs": [
    {
     "data": {
      "text/plain": [
       "([1, 4, 3], [1, 4, 3])"
      ]
     },
     "execution_count": 49,
     "metadata": {},
     "output_type": "execute_result"
    }
   ],
   "source": [
    "#shallow copy\n",
    "#alliasing 논리복제 / 객체가 이름이 두개인거다.\n",
    "#advanced data type( list, set, dictionary, tuple 등등) 값들은\n",
    "#x=y 형태의 할당에서 논리적인 복제를 한다.\n",
    "#같은 객체를 가지고 있게 한다.\n",
    "a=[1,2,3]\n",
    "b=a\n",
    "a[1]=4\n",
    "a,b\n",
    "#a를 바꿨는데 b도 바뀌었지"
   ]
  },
  {
   "cell_type": "code",
   "execution_count": 50,
   "metadata": {},
   "outputs": [],
   "source": [
    "#advanced data type을 deep copy하려면\n",
    "#b=copy(a) 나 b=a[:] 같은 방식으로 사용"
   ]
  },
  {
   "cell_type": "code",
   "execution_count": 51,
   "metadata": {},
   "outputs": [],
   "source": [
    "def f1(lst):\n",
    "    count=0\n",
    "    for i in lst:\n",
    "        if (i%2 == 1):\n",
    "            count += 1\n",
    "\n",
    "    return count"
   ]
  },
  {
   "cell_type": "code",
   "execution_count": 52,
   "metadata": {},
   "outputs": [
    {
     "data": {
      "text/plain": [
       "2"
      ]
     },
     "execution_count": 52,
     "metadata": {},
     "output_type": "execute_result"
    }
   ],
   "source": [
    "f1([1,2,3,4])"
   ]
  },
  {
   "cell_type": "code",
   "execution_count": 53,
   "metadata": {},
   "outputs": [
    {
     "data": {
      "text/plain": [
       "3"
      ]
     },
     "execution_count": 53,
     "metadata": {},
     "output_type": "execute_result"
    }
   ],
   "source": [
    "f1([1,2,3,4,5])"
   ]
  },
  {
   "cell_type": "code",
   "execution_count": 55,
   "metadata": {},
   "outputs": [],
   "source": [
    "## chapter4\n",
    "#입력값이 없는 함수\n",
    "def say():\n",
    "    return 'Hi' \n",
    "\n",
    "#결과값이 없는 함수\n",
    "def sum(a,b):\n",
    "    print(\"%d,%d의 합은 %d 입니다\"%(a,b,a+b))"
   ]
  },
  {
   "cell_type": "code",
   "execution_count": 56,
   "metadata": {},
   "outputs": [
    {
     "name": "stdout",
     "output_type": "stream",
     "text": [
      "1,2의 합은 3 입니다\n"
     ]
    }
   ],
   "source": [
    "sum(1,2)"
   ]
  },
  {
   "cell_type": "code",
   "execution_count": 57,
   "metadata": {},
   "outputs": [],
   "source": [
    "#parameter의 default value 미리 설정\n",
    "def say_myself(name, old, man=True): \n",
    "    #man=True로 적은 것은, default value로 작동한다.\n",
    "    print(\"나의 이름은 %s 입니다.\"%name)\n",
    "    print(\"나이는 %d살입니다.\"%old)\n",
    "    if man:\n",
    "        print(\"남자입니다.\")\n",
    "    else:\n",
    "        print(\"여자입니다.\")"
   ]
  },
  {
   "cell_type": "code",
   "execution_count": 58,
   "metadata": {},
   "outputs": [
    {
     "name": "stdout",
     "output_type": "stream",
     "text": [
      "나의 이름은 이희준 입니다.\n",
      "나이는 28살입니다.\n",
      "남자입니다.\n"
     ]
    }
   ],
   "source": [
    "say_myself(\"이희준\",28)"
   ]
  },
  {
   "cell_type": "code",
   "execution_count": 59,
   "metadata": {},
   "outputs": [
    {
     "data": {
      "text/plain": [
       "20"
      ]
     },
     "execution_count": 59,
     "metadata": {},
     "output_type": "execute_result"
    }
   ],
   "source": [
    "def myFunc(var1,var2=3):\n",
    "    return var1 + var2\n",
    "\n",
    "myFunc(10,10)"
   ]
  },
  {
   "cell_type": "code",
   "execution_count": 60,
   "metadata": {},
   "outputs": [
    {
     "data": {
      "text/plain": [
       "13"
      ]
     },
     "execution_count": 60,
     "metadata": {},
     "output_type": "execute_result"
    }
   ],
   "source": [
    "myFunc(10) #var2=3으로 default value가 설정되어있으므로 10+3 계산해준다."
   ]
  },
  {
   "cell_type": "code",
   "execution_count": 61,
   "metadata": {},
   "outputs": [],
   "source": [
    "##Ch4-A Function Practice (print,range,len,append 까지만 사용가능)\n",
    "\n",
    "#f1\n",
    "#Write a function f1(list) that will return the number of odd elements in a given list.\n",
    "def f1(lst):\n",
    "    count=0\n",
    "    for i in lst:\n",
    "        if (i%2 == 1):\n",
    "            count += 1\n",
    "    return count #print도 가능\n",
    "\n",
    "#f2\n",
    "#Write a function f2(list) that will print each odd element in a given list\n",
    "#홀수 프린트하는 함수\n",
    "def f2(lst):\n",
    "    for i in lst:\n",
    "        if (i%2==1):\n",
    "            print(i)\n",
    "    \n",
    "#f3\n",
    "#Write a func f3(list) that will return the sum of all odd elements in a given list.\n",
    "#리스트 안에있는 홀수의 합을 구해라\n",
    "def f3(lst):\n",
    "    sums=0\n",
    "    for i in lst:\n",
    "        if(i%2 ==1):\n",
    "            sums = sums+ i\n",
    "    return sums #return () 하면 튜플로 반환함 괄호 없는게 맞는거다\n",
    "\n",
    "#f4\n",
    "#Write a func f4(list) that will return the sum of all the index positions\n",
    "#whose corresponding element is odd in a given list\n",
    "#홀수가 있는곳의 위치들의 합\n",
    "#조교님 풀이\n",
    "def f4_2(list1):\n",
    "    sums =0\n",
    "    for i in range(0,len(list1)):\n",
    "        if list1[i]%2==1:\n",
    "            sums=sums+i\n",
    "    return sums\n",
    "\n",
    "#f5\n",
    "#Write a function f5(list) that will return the same list\n",
    "#where each element has been squared\n",
    "#리스트 받아서 성분을 제곱한 리스트 반환하는 함수\n",
    "#조교님 풀이 \n",
    "def f5_2(lists):\n",
    "    for i in range(0,len(lists)):\n",
    "        lists[i]=lists[i]**2\n",
    "    return lists\n",
    "\n",
    "#f6\n",
    "#Write a function f6(list) that will return the largest number in a given list.\n",
    "#가장 큰 number를 리턴해라\n",
    "#조교님 풀이\n",
    "def f6_2(lst):\n",
    "    largest = lists[0]\n",
    "    for i in range(1,len(lists)):\n",
    "        if largest <lists[i]:\n",
    "            largest = lists[i]\n",
    "    return largest\n",
    "\n",
    "#f7\n",
    "#Write a function f7(list) that will return the avg of all the numbers in a given list.\n",
    "#조교님 풀이\n",
    "def f7_2(lists):\n",
    "    sums=0\n",
    "    for i in range(0,len(lists)):\n",
    "        sums=sums+lists[i]\n",
    "    return sums/len(lists)\n",
    "\n",
    "#f8\n",
    "#Write a function f8(a,b,n) that will print all the numbers divisible by n within\n",
    "#the range a and b inclusive. Assume n is positive\n",
    "#a부터 b까지 n으로 나눴을때 나머지가 0이되는숫자 프린트해라\n",
    "#조교님 답\n",
    "def f8_2(a,b,n):\n",
    "    for i in range(a,b+1):\n",
    "        if i%n==0:\n",
    "            print(i)"
   ]
  },
  {
   "cell_type": "code",
   "execution_count": null,
   "metadata": {},
   "outputs": [],
   "source": []
  }
 ],
 "metadata": {
  "kernelspec": {
   "display_name": "Python 3",
   "language": "python",
   "name": "python3"
  },
  "language_info": {
   "codemirror_mode": {
    "name": "ipython",
    "version": 3
   },
   "file_extension": ".py",
   "mimetype": "text/x-python",
   "name": "python",
   "nbconvert_exporter": "python",
   "pygments_lexer": "ipython3",
   "version": "3.6.5"
  }
 },
 "nbformat": 4,
 "nbformat_minor": 2
}
