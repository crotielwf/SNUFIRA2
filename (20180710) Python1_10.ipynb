{
 "cells": [
  {
   "cell_type": "markdown",
   "metadata": {},
   "source": [
    "# Ch-11_A Parameter Passing\n",
    "Parameter passing in python\n",
    "함수를 돌릴적에 값을 집어넣은 상태에서 function call을 하는데  \n",
    "그걸 파라미터 passing 이라고합니다  \n",
    "test함수 아무것도 하는거 없어요 값 들어오면 값을 4로밖에 바꾸는거 밖에없어요  \n",
    "그냥 t값 4로 바꿉니다\n"
   ]
  },
  {
   "cell_type": "code",
   "execution_count": 1,
   "metadata": {},
   "outputs": [
    {
     "name": "stdout",
     "output_type": "stream",
     "text": [
      "\n",
      " ****Before calling test_function: \n",
      "test_num\t= 10 \t\t id =  1793486176\n",
      "\n",
      " ****Calling test_function ***** \n",
      "\tNow, inside test_function: \n",
      "\tt_num\t =  10 \t\tid =  1793486176\n",
      "\n",
      "\tStill,inside test_function after changing valuese: \n",
      "\tt_num\t =  4 \t\tid =  1793485984\n",
      "\n",
      " ****After calling test_function:   \n",
      "test_num\t= 10 \t\tid =  1793486176\n"
     ]
    }
   ],
   "source": [
    "def test_function(t_num):\n",
    "    print(\"\\tNow, inside test_function: \")\n",
    "    print(\"\\tt_num\\t = \",t_num,\"\\t\\tid = \",id(t_num))\n",
    "    t_num=4\n",
    "    print(\"\\n\\tStill,inside test_function after changing valuese: \")\n",
    "    print(\"\\tt_num\\t = \",t_num,\"\\t\\tid = \",id(t_num))\n",
    "    \n",
    "def my_function():\n",
    "    test_num=10    \n",
    "    print(\"\\n ****Before calling test_function: \")\n",
    "    print(\"test_num\\t=\",test_num,\"\\t\\t id = \",id(test_num)) \n",
    "    #주소를 id로 갖고있어요 그래서 id도 찍어봅니다 궁금해서요\n",
    "    \n",
    "    print(\"\\n ****Calling test_function ***** \")\n",
    "    test_function(test_num)#여기서 tnum의 값이 4로 바꿉니다.\n",
    "    \n",
    "    print(\"\\n ****After calling test_function:   \")\n",
    "    print(\"test_num\\t=\",test_num,\"\\t\\tid = \",id(test_num))\n",
    "    \n",
    "#함수를 부를때 이런 현상이 있어요.\n",
    "#단순한 값을 집어넣으면요 integer ,float, bollean ,string같은 간단한거 집어넣으면요\n",
    "#단순한 값을 집어넣어서 함수안에 함수로 넘어갈때, test_num=10을 복사해서 보내요.\n",
    "#근데 금방 10을 갖고있다가 4로 바뀝니다.\n",
    "#바뀌던말던 my_function안에는 여전히 test_num은 10을 가지고 있어요.\n",
    "#string도 같습니다.\n",
    "#boolean도 다 마찬가지에요\n",
    "my_function()"
   ]
  },
  {
   "cell_type": "code",
   "execution_count": 2,
   "metadata": {
    "scrolled": true
   },
   "outputs": [
    {
     "name": "stdout",
     "output_type": "stream",
     "text": [
      "\n",
      " *** Before calling test_function: \n",
      "test_string = Korea            id = 2352899935680\n",
      "\n",
      " *** Calling test_function *****\n",
      "      Now, Inside test_function:\n",
      "\t t_string = Korea            id = 2352899935680\n",
      "\n",
      "    Still, Inside test_function after changing value: \n",
      "\t t_string = Japan            id = 2352899935960\n",
      "\n",
      " *** After calling test_function: \n",
      "\t test_string = Korea            id = 2352899935680\n"
     ]
    }
   ],
   "source": [
    "# Parameter Passing Case 2: Passing String\n",
    "def test_function(t_string):\n",
    "    print(\"      Now, Inside test_function:\")\n",
    "    print(\"\\t t_string =\", t_string, \"           id =\",id(t_string))\n",
    "    \n",
    "    t_string = \"Japan\"\n",
    "    \n",
    "    print(\"\\n    Still, Inside test_function after changing value: \")\n",
    "    print(\"\\t t_string =\", t_string, \"           id =\",id(t_string))\n",
    "    \n",
    "def my_function():\n",
    "    test_string = \"Korea\"\n",
    "    print(\"\\n *** Before calling test_function: \")\n",
    "    print(\"test_string =\", test_string, \"           id =\",id(test_string))\n",
    "    \n",
    "    print(\"\\n *** Calling test_function *****\")\n",
    "    test_function(test_string)\n",
    "    \n",
    "    print(\"\\n *** After calling test_function: \")\n",
    "    print(\"\\t test_string =\", test_string, \"           id =\",id(test_string))\n",
    "\n",
    "my_function()"
   ]
  },
  {
   "cell_type": "code",
   "execution_count": 3,
   "metadata": {
    "scrolled": true
   },
   "outputs": [
    {
     "name": "stdout",
     "output_type": "stream",
     "text": [
      "Before calling test_function : \n",
      "\t test_bool  =  True  id =  1792995488\n",
      "***** Now, inside test_function : \n",
      "\t t_bool =  True                 id=  1792995488\n",
      "\n",
      "***** still, inside test_function after changing values: \n",
      "\t t_bool   =  False              id =  1792995520\n",
      "After calling test_function : \n",
      "\t test_bool  =  True  id =  1792995488\n"
     ]
    }
   ],
   "source": [
    "def test_function(t_bool):\n",
    "    print(\"***** Now, inside test_function : \")\n",
    "    print(\"\\t t_bool = \",t_bool,\"                id= \",id(t_bool))\n",
    "\n",
    "    t_bool=False\n",
    "    print(\"\\n***** still, inside test_function after changing values: \")\n",
    "    print(\"\\t t_bool   = \",t_bool, \"             id = \",id(t_bool))\n",
    "\n",
    "\n",
    "def my_function():\n",
    "    test_bool = True\n",
    "    print(\"Before calling test_function : \")\n",
    "    print(\"\\t test_bool  = \",test_bool, \" id = \",id(test_bool))\n",
    "\n",
    "    test_function(test_bool)\n",
    "    print(\"After calling test_function : \")\n",
    "    print(\"\\t test_bool  = \",test_bool, \" id = \",id(test_bool))\n",
    "    \n",
    "my_function()"
   ]
  },
  {
   "cell_type": "markdown",
   "metadata": {},
   "source": [
    "우리가 앞으로 만들 data type(class)들은 funtion call 할때 변수에 담아서 넣으면  \n",
    "걔를 대충 복사해서 다음 함수로 던졌는데, 복잡한 애들은 주소를 줘버려요.  \n",
    "그래서 list의 주소를 아니까, 주소로 찾아가서 바로 바꿉니다.  \n",
    "  \n",
    "숫자와 같이 단순데이터들은 그냥 막 던져도 메모리 부담이 안가는데,  \n",
    "list와 같은 애들은 직접 복사해서 넘기는 것은 부담이 가니까, 그냥 주소를 바로 줘버리는 거에요.  \n",
    "  \n",
    "function call을 집어넣게되면 고놈의 데이터들의 시작하는 주소가 저쪽 함수로 넘어가서,  \n",
    "저쪽 함수는 그 주소를 가지고 시키는걸 막해요.  \n",
    "class는 다음에 좀더 자세히 다룹니다."
   ]
  },
  {
   "cell_type": "code",
   "execution_count": 4,
   "metadata": {},
   "outputs": [],
   "source": [
    "class FooClass():\n",
    "    def __init__(self):\n",
    "        self.test_var=0\n",
    "#우리가 만든 함수도 똑같이 주소를 가져다가 쓰는구나를 알면 되요!\n",
    "#값을 복사하는게 아닙니다"
   ]
  },
  {
   "cell_type": "markdown",
   "metadata": {},
   "source": [
    "다른 언어 중에는 주소를 직접 만지는 것도 가능합니다.(C)  \n",
    "포인터의 개념입니다. C언어, 혹은 그 전단계에 만들어진 언어들이 많이 어려운 이유에요  \n",
    "값이 앉아있는 주소를 표현하고, 그걸 어떤 변수에 넣어놓고 사용하고 해서, 어려웠던겁니다.  \n",
    "  \n",
    "Call-By-Value, Call-by-Reference  \n",
    "c++이후에는 그냥 포인터를 없애버리자 정했어요  \n",
    "  \n",
    "파이썬에서는 int나 boolean 같은 primitive type들에 대해서는 call-by-value라고 볼수있고,   \n",
    "non-primitive type(List, Set, User-Defined Class)은 call-by-reference로 사용합니다.  "
   ]
  },
  {
   "cell_type": "markdown",
   "metadata": {},
   "source": [
    "# Ch 11-B Implementation of Lists and Sets in Python:\n",
    "Alias, Shallow Copy, Deep Copy"
   ]
  },
  {
   "cell_type": "code",
   "execution_count": 5,
   "metadata": {},
   "outputs": [],
   "source": [
    "#List implementation\n",
    "L=[\"a\",\"bcde\",1,5]"
   ]
  },
  {
   "cell_type": "markdown",
   "metadata": {},
   "source": [
    "그런데 이렇게 하면 효과적이지 않고 부담스러운 상황들을 맞게됩니다.  \n",
    "같은 크기의 메모리를 할당하는데요\n",
    "\n",
    "List implementation에는 크게 두가지 경우가 있습니다.  \n",
    "Array-based implementation  \n",
    "Pointer-based implementation  \n",
    "(  linked list  )  \n",
    "\n",
    "Problem 1: 업데이트시 메모리 낭비가 발생하는 경우가 있습니다.  \n",
    "problem2: search inefficiency \n",
    "  \n",
    "뭐를 찾을때를 생각해보면, \n",
    "array-based 방식에서 찾으려면 처음부터 다 뒤져야해요  \n",
    "0번째꺼야 1번째꺼야 2번째꺼야 3번째꺼야 이런 계산을 다 실제로 해봐야합니다.   \n",
    "그런데 사용하고 있는 칸수가 다르니까, 몇번째라는걸 알기가 힘듭니다.  \n",
    "\n",
    "그런데,    \n",
    "포인터로다가 되어있는 각각 공간을 6 length로다가 되어있어요  \n",
    "값이 바뀌었을 적에도 부담이 없이 금방 찾기 수월하고 그래요  \n",
    "파이썬에는 이런식으로 (pointer식) 리스트를 파이썬에서 저장합니다  \n",
    "  \n",
    "그런데 list는 list안에 list가 있는것도 있어요  \n",
    "2-dimensional한거죠. nested-list라고 하지요  \n",
    "이건 파이썬에서 허락하는 겁니다.  \n",
    "메모리에서 어떻게 갖고있나 확인하면,\n",
    "포인터가 있고 또 리스트가 있는데 그안에 그걸 또 가리키는 포인터가 있습니다."
   ]
  },
  {
   "cell_type": "code",
   "execution_count": 6,
   "metadata": {},
   "outputs": [
    {
     "name": "stdout",
     "output_type": "stream",
     "text": [
      "L is:  [1, 2, 3]\n",
      "A is:  [1, 2, 3]\n",
      "S is:  [1, 2, 3]\n"
     ]
    },
    {
     "data": {
      "text/plain": [
       "(2352899589192, 2352899589192, 2352899700552)"
      ]
     },
     "execution_count": 6,
     "metadata": {},
     "output_type": "execute_result"
    }
   ],
   "source": [
    "#Aliasing, shadow copy, and deep copy\n",
    "import copy #standard library에요. import 바로 하시면됩니다.\n",
    "L=[1,2,3]\n",
    "A=L #Aliasing 이라고 합니다\n",
    "S=copy.copy(L)\n",
    "print(\"L is: \",L)\n",
    "print(\"A is: \",A)\n",
    "print(\"S is: \",S)\n",
    "\n",
    "#L과 A는 같은 주소를 공유합니다. S는 달라요\n",
    "id(L),id(A),id(S)"
   ]
  },
  {
   "cell_type": "markdown",
   "metadata": {},
   "source": [
    "집합은 set안에 set이 들어가는건 안됩니다. { {1},{2},3} 이런게 안되요.  \n",
    "Python set에서 안되는 거에요 구현이 안됩니다.  \n",
    "실제 집합론에서는 되는건데요.  \n",
    "\n",
    "Relation은 Set이에요. Relation의 수학적 성질은 Set이에요.  \n",
    "원소 하나하나가 Relation의 element에요.  \n",
    "순서가 없잖아요 레코드들이!(set 특징)\n",
    "\n",
    "근데 관계형 DBMS에서는 R1 intersect R2 같은 것들에서 중요한게 뭐냐면\n",
    "스키마(구조)가 같아야해요.  \n",
    "스키마가 다른놈은 집합연산으로 못해요.  \n",
    "에러가 막나와요 \"못해 못해\" 합니다.  \n",
    "\n",
    "파이썬에서는 {1,2} union {\"kim\"}이 가능해요.  \n",
    "데이터 타입도, 구조도 다른 애들인데 되거든요.  \n",
    "근데 DB에서 relation에서는 같은 Heading을 가지고 있어야한다가 정해져 있어요.\n",
    "DB끼리 룰이있고 파이썬은 파이썬대로의 룰이 있어요\n",
    "수학에서도 수학에서의 룰이 있는겁니다.\n",
    "전체적으로 비스름하지만 Syntax나 규칙은 다른시스템이니까 조금씩 다릅니다."
   ]
  },
  {
   "cell_type": "code",
   "execution_count": 7,
   "metadata": {},
   "outputs": [
    {
     "name": "stdout",
     "output_type": "stream",
     "text": [
      "################\n",
      "L is:  [1, 5, 3]\n",
      "A is:  [1, 5, 3]\n",
      "S is:  [1, 2, 3]\n"
     ]
    }
   ],
   "source": [
    "L[1]=5\n",
    "print(\"########\"*2)\n",
    "print(\"L is: \",L)\n",
    "print(\"A is: \",A)\n",
    "print(\"S is: \",S)\n",
    "#L과 A는 같이 바뀌고, S는 혼자 가만히 있죠 주소가 다르니까! 당연합니다."
   ]
  },
  {
   "cell_type": "code",
   "execution_count": 8,
   "metadata": {},
   "outputs": [
    {
     "name": "stdout",
     "output_type": "stream",
     "text": [
      "################\n",
      "L is:  [1, 5, 7]\n",
      "A is:  [1, 5, 7]\n",
      "S is:  [1, 2, 3]\n"
     ]
    }
   ],
   "source": [
    "A[2]=7\n",
    "print(\"########\"*2)\n",
    "print(\"L is: \",L)\n",
    "print(\"A is: \",A)\n",
    "print(\"S is: \",S)"
   ]
  },
  {
   "cell_type": "code",
   "execution_count": 9,
   "metadata": {},
   "outputs": [
    {
     "name": "stdout",
     "output_type": "stream",
     "text": [
      "2352899521800   2352899522120   2352899521608   2352899520392   2352899521160   2352899521224\n"
     ]
    }
   ],
   "source": [
    "#이 다섯가지 방법이 전부다 다른 것입니다.physical한 copy에요\n",
    "#여기에는 logical한 aliasing은 없어요 \n",
    "a=[1,5,9]\n",
    "b=copy.copy(a)\n",
    "c=copy.deepcopy(a)\n",
    "d=list(a)\n",
    "e=a+[]\n",
    "f=a[:]\n",
    "print(id(a),\" \",id(b),\" \",id(c),\" \",id(d),\" \",id(e),\" \",id(f)) # 다 다릅니다"
   ]
  },
  {
   "cell_type": "code",
   "execution_count": 10,
   "metadata": {},
   "outputs": [
    {
     "name": "stdout",
     "output_type": "stream",
     "text": [
      "[1, 5, 40] [1, 5, 9] [1, 5, 9] [1, 5, 9] [1, 5, 9] [1, 5, 9]\n"
     ]
    }
   ],
   "source": [
    "a[2]=40\n",
    "print(a,b,c,d,e,f)"
   ]
  },
  {
   "cell_type": "code",
   "execution_count": 11,
   "metadata": {},
   "outputs": [
    {
     "name": "stdout",
     "output_type": "stream",
     "text": [
      "L is:  [[1, 10, 3], [4, 5, 6]]\n",
      "A is:  [[1, 10, 3], [4, 5, 6]]\n",
      "S is:  [[1, 10, 3], [4, 5, 6]]\n",
      "D is:  [[1, 2, 3], [4, 5, 6]]\n"
     ]
    }
   ],
   "source": [
    "#shallow copy는 껍데기를 복사하는데 속으로 들어가는 복사를 안하고, 원본에 있는거를 가리켜요\n",
    "#Deep copy는 생짜로 다 복사해버려요\n",
    "L=[[1,2,3],[4,5,6]]\n",
    "A=L\n",
    "S=copy.copy(L)\n",
    "D=copy.deepcopy(L)\n",
    "\n",
    "L[0][1]=10\n",
    "print(\"L is: \",L)\n",
    "print(\"A is: \",A)\n",
    "print(\"S is: \",S)\n",
    "print(\"D is: \",D)"
   ]
  },
  {
   "cell_type": "code",
   "execution_count": 12,
   "metadata": {},
   "outputs": [
    {
     "name": "stdout",
     "output_type": "stream",
     "text": [
      "L is:  [1, [4, 5, 6]]\n",
      "A is:  [1, [4, 5, 6]]\n",
      "S is:  [1, [4, 5, 6]]\n",
      "D is:  [1, [4, 5, 6]]\n",
      "[1, [4, 5, 100]] [1, [4, 5, 100]] [1, [4, 5, 100]] [1, [4, 5, 6]]\n",
      "[1, [4, 5, 100]] [1, [4, 5, 100]] [9, [4, 5, 100]] [1, [4, 5, 6]]\n"
     ]
    }
   ],
   "source": [
    "L=[1,[4,5,6]]\n",
    "A=L\n",
    "S=copy.copy(L) #Shallow Copy\n",
    "D=copy.deepcopy(L)\n",
    "print(\"L is: \",L)\n",
    "print(\"A is: \",A)\n",
    "print(\"S is: \",S)\n",
    "print(\"D is: \",D)\n",
    "\n",
    "A[1][2]=100\n",
    "print(L,A,S,D)\n",
    "S[0]=9\n",
    "print(L,A,S,D)"
   ]
  },
  {
   "cell_type": "markdown",
   "metadata": {},
   "source": [
    "## Sets in Python\n",
    "### +Dictionaries\n",
    "dictionary는 key자리에 hashable한 아이들이 들어가요, "
   ]
  },
  {
   "cell_type": "code",
   "execution_count": 13,
   "metadata": {},
   "outputs": [
    {
     "data": {
      "text/plain": [
       "-2017941889361404073"
      ]
     },
     "execution_count": 13,
     "metadata": {},
     "output_type": "execute_result"
    }
   ],
   "source": [
    "a={\"kim\",3,200}\n",
    "#H(\"kim\") 을하면 H는 hash function입니다. \n",
    "#큰 숫자 리턴합니다\n",
    "#set 구현할때 버켓이 0번부터 100번까지 있었다면 여기서 돌아나오는 값을다가  modulo를 해서 100으로 모듈로 해요\n",
    "#나머지는 0~99숫자가 나와요. 그럼 그게 'kim'이 들어가있을 자리에요 ㄷㄷ?\n",
    "hash(\"kim\")"
   ]
  },
  {
   "cell_type": "code",
   "execution_count": 14,
   "metadata": {},
   "outputs": [
    {
     "name": "stdout",
     "output_type": "stream",
     "text": [
      "파이썬에서는 set 안에 set 못넣습니다.\n",
      "{8, 1, 10, 5}\n",
      "{8, 1, 10, 5}\n",
      "True\n",
      "False\n"
     ]
    }
   ],
   "source": [
    "try:\n",
    "    {2,3,{4,6}}\n",
    "except:\n",
    "    print(\"파이썬에서는 set 안에 set 못넣습니다.\")\n",
    "#Sets are unordered\n",
    "s=set([1,10,5,8])\n",
    "print(s)\n",
    "\n",
    "#Elements are unique\n",
    "s=set([1,1,10,10,5,5,8,8]) #중복 안되요\n",
    "print(s)\n",
    "\n",
    "#Elements must be immutable\n",
    "#SET 안에 있는 element의 위치를 pointing 할수가 없습니다. 바꿀수가없어요\n",
    "#제거하고 다시 삽입하는건 가능합니다.\n",
    "#Sets are more efficient that lists\n",
    "s={1,2,3,4}\n",
    "print(1 in s)\n",
    "print(10 in s)"
   ]
  },
  {
   "cell_type": "code",
   "execution_count": 15,
   "metadata": {},
   "outputs": [
    {
     "name": "stdout",
     "output_type": "stream",
     "text": [
      "For a list, count= 15000  and time = 3.157083 seconds\n",
      "For a set, count= 15000  and time = 0.000000000000000000 seconds\n"
     ]
    }
   ],
   "source": [
    "import time\n",
    "L=[]\n",
    "s= set()\n",
    "for n in range(2,30001,2):\n",
    "    L.append(n)\n",
    "    s.add(n)\n",
    "    \n",
    "start=time.time()\n",
    "count=0\n",
    "for x in range(30001):\n",
    "    if x in L:\n",
    "        count+=1\n",
    "end= time.time()\n",
    "listTime=end-start\n",
    "print(\"For a list, count=\", count,\" and time = %0.6f seconds\" % listTime)\n",
    "\n",
    "\n",
    "start=time.time()\n",
    "count=0\n",
    "for x in range(30001):\n",
    "    if x in s:\n",
    "        count+=1\n",
    "end= time.time()\n",
    "setTime=end-start\n",
    "print(\"For a set, count=\", count,\" and time = %0.18f seconds\" % setTime)\n"
   ]
  },
  {
   "cell_type": "code",
   "execution_count": 16,
   "metadata": {},
   "outputs": [
    {
     "name": "stdout",
     "output_type": "stream",
     "text": [
      "Original s is  {1, 2, 3}\n",
      "Alias a is  {1, 2, 3}\n",
      "Copy c i s  {1, 2, 3}\n"
     ]
    }
   ],
   "source": [
    "import copy\n",
    "s={1,2,3}\n",
    "# a is an alias, and c is a copy of s\n",
    "a=s\n",
    "c=copy.copy(s)\n",
    "print(\"Original s is \",s)\n",
    "print(\"Alias a is \",a)\n",
    "print(\"Copy c i s \",c)"
   ]
  },
  {
   "cell_type": "markdown",
   "metadata": {},
   "source": [
    "# Ch12. Sorting Algorithms\n",
    "selection, insertion, bubble, merge, quick sort"
   ]
  },
  {
   "cell_type": "code",
   "execution_count": 17,
   "metadata": {},
   "outputs": [],
   "source": [
    "#Selection Sort\n",
    "def selSort(nums):\n",
    "    n=len(nums)\n",
    "    for bottom in range(n-1):\n",
    "        mp=bottom\n",
    "        for i in range(bottom+1,n):\n",
    "            if nums[i] < nums[mp]:\n",
    "                mp=i                \n",
    "        nums[bottom],nums[mp]= nums[mp],nums[bottom]\n",
    "    return nums"
   ]
  },
  {
   "cell_type": "code",
   "execution_count": 18,
   "metadata": {},
   "outputs": [
    {
     "data": {
      "text/plain": [
       "[1, 2, 3]"
      ]
     },
     "execution_count": 18,
     "metadata": {},
     "output_type": "execute_result"
    }
   ],
   "source": [
    "selSort([3,2,1])"
   ]
  },
  {
   "cell_type": "code",
   "execution_count": 19,
   "metadata": {},
   "outputs": [],
   "source": [
    "#Insertion Sort\n",
    "def insertion_sort(items):\n",
    "    for i in range(1,len(items)):\n",
    "        j=i\n",
    "        while j>0 and items[j] < items[j-1]:\n",
    "            items[j],items[j-1]=items[j-1],items[j]\n",
    "            j-=1\n",
    "    return items"
   ]
  },
  {
   "cell_type": "code",
   "execution_count": 20,
   "metadata": {},
   "outputs": [
    {
     "data": {
      "text/plain": [
       "[1, 2, 3]"
      ]
     },
     "execution_count": 20,
     "metadata": {},
     "output_type": "execute_result"
    }
   ],
   "source": [
    "insertion_sort([3,2,1])"
   ]
  },
  {
   "cell_type": "code",
   "execution_count": 21,
   "metadata": {},
   "outputs": [],
   "source": [
    "#Bubble Sort\n",
    "def bubble_sort(items):\n",
    "    for i in range(len(items)):\n",
    "        for j in range(len(items)-1-i):\n",
    "            if items[j]>items[j+1]:\n",
    "                items[j],items[j+1] = items[j+1],items[j] #Swap!\n",
    "    return items"
   ]
  },
  {
   "cell_type": "code",
   "execution_count": 22,
   "metadata": {},
   "outputs": [
    {
     "data": {
      "text/plain": [
       "[1, 3, 5]"
      ]
     },
     "execution_count": 22,
     "metadata": {},
     "output_type": "execute_result"
    }
   ],
   "source": [
    "bubble_sort([3,5,1])"
   ]
  },
  {
   "cell_type": "code",
   "execution_count": 23,
   "metadata": {},
   "outputs": [],
   "source": [
    "#Merge Sort\n",
    "def msort(list):\n",
    "    if len(list) ==0 or len(list)==1:\n",
    "        return list[:len(list)]\n",
    "    halfway=len(list)//2\n",
    "    list1=list[0:halfway]\n",
    "    list2=list[halfway:len(list)]\n",
    "    newlist1=msort(list1)\n",
    "    newlist2=msort(list2)\n",
    "    newlist=merge(newlist1,newlist2)\n",
    "    return newlist\n",
    "\n",
    "def merge(a,b):\n",
    "    index_a=0\n",
    "    index_b=0\n",
    "    c=[]\n",
    "    while index_a < len(a) and index_b < len(b):\n",
    "        if a[index_a] <=b[index_b]:\n",
    "            c.append(a[index_a])\n",
    "            index_a=index_a+1\n",
    "        else:\n",
    "            c.append(b[index_b])\n",
    "            index_b=index_b+1\n",
    "    c.extend(a[index_a:])\n",
    "    c.extend(b[index_b:])\n",
    "    return c"
   ]
  },
  {
   "cell_type": "code",
   "execution_count": 24,
   "metadata": {},
   "outputs": [
    {
     "data": {
      "text/plain": [
       "[1, 3, 5]"
      ]
     },
     "execution_count": 24,
     "metadata": {},
     "output_type": "execute_result"
    }
   ],
   "source": [
    "msort([1,5,3])"
   ]
  },
  {
   "cell_type": "code",
   "execution_count": 25,
   "metadata": {},
   "outputs": [],
   "source": [
    "def quick_sort(items):\n",
    "    if len(items)>1:\n",
    "        pivot_index= len(items)//2\n",
    "        smaller_items=[]\n",
    "        larger_items=[]\n",
    "        for i, val in enumerate(items):\n",
    "            if i!=pivot_index:\n",
    "                if val< items[pivot_index]:\n",
    "                    smaller_items.append(val)\n",
    "                else:\n",
    "                    larger_items.append(val)\n",
    "        quick_sort(smaller_items)\n",
    "        quick_sort(larger_items)\n",
    "        items[:]= smaller_items + [items[pivot_index]]+larger_items\n",
    "    return list(items)"
   ]
  },
  {
   "cell_type": "code",
   "execution_count": 26,
   "metadata": {},
   "outputs": [
    {
     "data": {
      "text/plain": [
       "[0, 1, 2, 3, 4, 5, 6, 7, 8, 9, 10]"
      ]
     },
     "execution_count": 26,
     "metadata": {},
     "output_type": "execute_result"
    }
   ],
   "source": [
    "quick_sort(list(range(10,-1,-1)))"
   ]
  },
  {
   "cell_type": "markdown",
   "metadata": {},
   "source": [
    "# Ch13. Search"
   ]
  },
  {
   "cell_type": "markdown",
   "metadata": {},
   "source": [
    "## Binary Search\n",
    "Ordering이 되어있는 리스트를 반씩 쪼개면서 어디에있을까를 중간값을 디비 찾으면서 한쪽을 버리고 택하고  \n",
    "또 중간값을 택하고 반쪽은 버리고 반쪽은 택하고를 반복하다보면 찾게됩니다.  \n",
    "계산량의 차이가 n과 log(n)의 차이라고 볼수있지요"
   ]
  },
  {
   "cell_type": "code",
   "execution_count": 27,
   "metadata": {},
   "outputs": [],
   "source": [
    "def bsearch(items,key):\n",
    "    return bs_helper(items,key,-1,len(items))\n",
    "\n",
    "def bs_helper(items, key, lower, upper):\n",
    "    if lower+1==upper:\n",
    "        return None\n",
    "    mid=(lower+upper)//2\n",
    "    if key==items[mid]:\n",
    "        return mid\n",
    "    if key<items[mid]:\n",
    "        return bs_helper(items,key,lower,mid)\n",
    "    else:\n",
    "        return bs_helper(items, key, mid, upper)"
   ]
  },
  {
   "cell_type": "code",
   "execution_count": 28,
   "metadata": {
    "scrolled": true
   },
   "outputs": [
    {
     "data": {
      "text/plain": [
       "11"
      ]
     },
     "execution_count": 28,
     "metadata": {},
     "output_type": "execute_result"
    }
   ],
   "source": [
    "bsearch([1,4,5,6,7,8,9,11,15,17,19,22,29,32],22)"
   ]
  },
  {
   "cell_type": "markdown",
   "metadata": {},
   "source": [
    "이걸 언제쓸까? 를 생각해보면  \n",
    "단순히 한두개 찾으려면 그냥 n번 확인하는게 낫습니다.  \n",
    "근데 굉장히 빈번히 찾으려면!! 그러면 이런 알고리즘을 쓰는게 낫지요  \n",
    "log(n)으로 줄어드니까요."
   ]
  },
  {
   "cell_type": "markdown",
   "metadata": {},
   "source": [
    "## Binary Tree\n",
    "자손이 2개 이하일때 Binary tree 라고해요  \n",
    "  \n",
    "full binary tree는 자손이 1개있는 경우는 없고  \n",
    "자손이 있으면 두개만 있고 없으면 아예없는 경우입니다  \n",
    "\n",
    "complete binary tree는 끝난 부분을 제외하고는 잘 쌓여있는 트리입니다.  \n",
    "  \n",
    "## Binary Search Tree\n",
    "BST는 Ordered list와 비슷합니다. "
   ]
  }
 ],
 "metadata": {
  "kernelspec": {
   "display_name": "Python 3",
   "language": "python",
   "name": "python3"
  },
  "language_info": {
   "codemirror_mode": {
    "name": "ipython",
    "version": 3
   },
   "file_extension": ".py",
   "mimetype": "text/x-python",
   "name": "python",
   "nbconvert_exporter": "python",
   "pygments_lexer": "ipython3",
   "version": "3.6.5"
  }
 },
 "nbformat": 4,
 "nbformat_minor": 2
}
