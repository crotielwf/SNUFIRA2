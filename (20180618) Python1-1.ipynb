{
 "cells": [
  {
   "cell_type": "code",
   "execution_count": 45,
   "metadata": {},
   "outputs": [],
   "source": [
    "#OT 및 10페이지까지 수업.\n",
    "#프로그래밍이란 뭘까요?\n",
    "#자동차 안 공간 구하고 싶으면 가로,세로, 높이만 있으면 됩니다\n",
    "#실제 문제를 프로그램으로 보이는것\n",
    "#problem representation 하고싶을때 데이터 타입이 정말 중요하다.\n",
    "#데이터타입의 잔치!\n",
    "#파이썬에서 쓰는 데이터타입은 크게 4가지가 있다.\n",
    "#Basic data type, Advanced Data type, User-Defined Data Type(class), Library\n",
    "#파이썬은 Interpreter 언어다.\n",
    "#IDE란, Interactive Development Environment 의 약자이다.\n",
    "#이것은 어려운 프로그래밍 하는 과정을 사람의 눈에 좀더 쉽게 만들어준 인터페이스라고 보면 된다\n",
    "#파이썬에는 다양한 IDE가 있는데, 우리가 처음 쓰는건 IDLE, 쥬피터노트, 파이참 등등 존재한다.\n"
   ]
  },
  {
   "cell_type": "code",
   "execution_count": 31,
   "metadata": {
    "scrolled": true
   },
   "outputs": [
    {
     "name": "stdout",
     "output_type": "stream",
     "text": [
      "hell, world!\n"
     ]
    }
   ],
   "source": [
    "def foo():\n",
    "\tprint(\"hell, world!\")\n",
    "foo\n",
    "foo()\n",
    "\n",
    "#함수 생성 및 바탕화면 저장, 불러오기, 파이썬 DLE 사용법, 실행단축키 F5(PYTHON IDLE)\n"
   ]
  },
  {
   "cell_type": "code",
   "execution_count": 44,
   "metadata": {},
   "outputs": [
    {
     "name": "stdout",
     "output_type": "stream",
     "text": [
      "what is the Celsius temperature?5\n",
      "The temperature is 41.0  degrees Fahrenheits. \n"
     ]
    }
   ],
   "source": [
    "def main():\n",
    "    celsius = eval(input(\"what is the Celsius temperature?\"))\n",
    "    #보라색 표현은 파이썬 언어에서 프로그램할때 잘해라 하고\n",
    "    #만들어놓은 빌트인 함수다.프로그램 할적에 매우 기본적인거라서 만들어 놓은겁니다.\n",
    "    #input 함수는 숫자를 (30으로) 치더라도 무엇이든 \"String\" 으로 받아들입니다.\n",
    "    #그래서 eval함수로 숫자의 역할로 바꿔주는겁니다.\n",
    "    fahrenheit = (9/5)* celsius + 32\n",
    "    print(\"The temperature is\",fahrenheit,\" degrees Fahrenheits. \")\n",
    "    #String자료형은 쿼테이션(\"\")으로 표현해요. 초록색으로 표현해주는거다.\n",
    "    #물론 색깔은 IDE마다 달라요.\n",
    "\n",
    "\n",
    "main()#5\n",
    "\n",
    "#보라색은 시스템이 만들어놓은 빌트인 펑션\n",
    "#프로그램이 이미 준 리졸브드 워드, 키워드는 파이썬이 우리한테 쓰라고 준 키워드입니다\n",
    "#함수를 만들때는 def를 맨앞에 쓰라는 겁니다. 주황색!\n",
    "#빌트인 펑션과 키워드는 파이썬에서 주는거!\n",
    "\n",
    "#배운거!! \n",
    "#variable, bulit-in function, user defined function, keyword\n"
   ]
  },
  {
   "cell_type": "code",
   "execution_count": 37,
   "metadata": {},
   "outputs": [
    {
     "name": "stdout",
     "output_type": "stream",
     "text": [
      "5\n"
     ]
    }
   ],
   "source": [
    "a=input() #5"
   ]
  },
  {
   "cell_type": "code",
   "execution_count": 38,
   "metadata": {},
   "outputs": [
    {
     "data": {
      "text/plain": [
       "'5'"
      ]
     },
     "execution_count": 38,
     "metadata": {},
     "output_type": "execute_result"
    }
   ],
   "source": [
    "a"
   ]
  },
  {
   "cell_type": "code",
   "execution_count": 39,
   "metadata": {},
   "outputs": [
    {
     "name": "stdout",
     "output_type": "stream",
     "text": [
      "Life is too short, you need python\n"
     ]
    }
   ],
   "source": [
    "a=input() #Life is too short, you need python"
   ]
  },
  {
   "cell_type": "code",
   "execution_count": 40,
   "metadata": {},
   "outputs": [
    {
     "data": {
      "text/plain": [
       "'Life is too short, you need python'"
      ]
     },
     "execution_count": 40,
     "metadata": {},
     "output_type": "execute_result"
    }
   ],
   "source": [
    "a"
   ]
  },
  {
   "cell_type": "code",
   "execution_count": 42,
   "metadata": {},
   "outputs": [
    {
     "name": "stdout",
     "output_type": "stream",
     "text": [
      "숫자를 입력하세요 : 3\n"
     ]
    }
   ],
   "source": [
    "number= input(\"숫자를 입력하세요 : \")"
   ]
  },
  {
   "cell_type": "code",
   "execution_count": 43,
   "metadata": {},
   "outputs": [
    {
     "name": "stdout",
     "output_type": "stream",
     "text": [
      "3\n"
     ]
    }
   ],
   "source": [
    "print(number)"
   ]
  },
  {
   "cell_type": "code",
   "execution_count": 25,
   "metadata": {},
   "outputs": [
    {
     "data": {
      "text/plain": [
       "20"
      ]
     },
     "execution_count": 25,
     "metadata": {},
     "output_type": "execute_result"
    }
   ],
   "source": [
    "#expressions\n",
    "x=5\n",
    "x\n",
    "y=x*2+10\n",
    "y"
   ]
  },
  {
   "cell_type": "code",
   "execution_count": 26,
   "metadata": {},
   "outputs": [
    {
     "name": "stdout",
     "output_type": "stream",
     "text": [
      "123\n"
     ]
    },
    {
     "data": {
      "text/plain": [
       "int"
      ]
     },
     "execution_count": 26,
     "metadata": {},
     "output_type": "execute_result"
    }
   ],
   "source": [
    "a=123\n",
    "print(a)\n",
    "type(a)"
   ]
  },
  {
   "cell_type": "code",
   "execution_count": 27,
   "metadata": {},
   "outputs": [
    {
     "name": "stdout",
     "output_type": "stream",
     "text": [
      "Python\n"
     ]
    },
    {
     "data": {
      "text/plain": [
       "str"
      ]
     },
     "execution_count": 27,
     "metadata": {},
     "output_type": "execute_result"
    }
   ],
   "source": [
    "a=\"Python\"\n",
    "print(a)\n",
    "type(a)\n"
   ]
  },
  {
   "cell_type": "code",
   "execution_count": 28,
   "metadata": {},
   "outputs": [
    {
     "name": "stdout",
     "output_type": "stream",
     "text": [
      "[1, 2, 3]\n"
     ]
    },
    {
     "data": {
      "text/plain": [
       "list"
      ]
     },
     "execution_count": 28,
     "metadata": {},
     "output_type": "execute_result"
    }
   ],
   "source": [
    "a=[1,2,3]\n",
    "print(a)\n",
    "type(a)"
   ]
  },
  {
   "cell_type": "code",
   "execution_count": 47,
   "metadata": {
    "scrolled": true
   },
   "outputs": [
    {
     "name": "stdout",
     "output_type": "stream",
     "text": [
      "lifeistoo short\n",
      "lifeistoo short\n"
     ]
    }
   ],
   "source": [
    "print(\"life\"\"is\"\"too short\") #\"\"로 둘러싸인 문자열은 +연산과 동일하다 \n",
    "print(\"life\"+\"is\"+\"too short\")\n"
   ]
  },
  {
   "cell_type": "code",
   "execution_count": 48,
   "metadata": {},
   "outputs": [
    {
     "name": "stdout",
     "output_type": "stream",
     "text": [
      "life is too short\n"
     ]
    }
   ],
   "source": [
    "print(\"life\",\"is\",\"too short\")#문자열 띄어쓰기는 콤마로 한다"
   ]
  },
  {
   "cell_type": "code",
   "execution_count": 29,
   "metadata": {},
   "outputs": [
    {
     "name": "stdout",
     "output_type": "stream",
     "text": [
      "0 1 2 3 4 5 6 7 8 9 "
     ]
    }
   ],
   "source": [
    "for i in range(10): #range 함수는 0부터 시작! \n",
    "    print(i, end=' ') #end를 왜쓴거냐면 줄바꿈 없이 만들려고 비교해보쟈!"
   ]
  },
  {
   "cell_type": "code",
   "execution_count": 49,
   "metadata": {},
   "outputs": [
    {
     "name": "stdout",
     "output_type": "stream",
     "text": [
      "0\n",
      "1\n",
      "2\n",
      "3\n",
      "4\n",
      "5\n",
      "6\n",
      "7\n",
      "8\n",
      "9\n"
     ]
    }
   ],
   "source": [
    "for i in range(10):\n",
    "    print(i)"
   ]
  },
  {
   "cell_type": "code",
   "execution_count": 50,
   "metadata": {
    "scrolled": true
   },
   "outputs": [
    {
     "name": "stdout",
     "output_type": "stream",
     "text": [
      "7\n"
     ]
    }
   ],
   "source": [
    "print(3+4)"
   ]
  },
  {
   "cell_type": "code",
   "execution_count": 51,
   "metadata": {},
   "outputs": [
    {
     "name": "stdout",
     "output_type": "stream",
     "text": [
      "3 4 7\n"
     ]
    }
   ],
   "source": [
    "print(3,4,3+4)"
   ]
  },
  {
   "cell_type": "code",
   "execution_count": 52,
   "metadata": {
    "scrolled": true
   },
   "outputs": [
    {
     "name": "stdout",
     "output_type": "stream",
     "text": [
      "\n"
     ]
    }
   ],
   "source": [
    "print()"
   ]
  },
  {
   "cell_type": "code",
   "execution_count": 53,
   "metadata": {
    "scrolled": true
   },
   "outputs": [
    {
     "name": "stdout",
     "output_type": "stream",
     "text": [
      "The answer:  7\n"
     ]
    }
   ],
   "source": [
    "print(\"The answer: \",3+4)"
   ]
  },
  {
   "cell_type": "code",
   "execution_count": null,
   "metadata": {},
   "outputs": [],
   "source": []
  }
 ],
 "metadata": {
  "kernelspec": {
   "display_name": "Python 3",
   "language": "python",
   "name": "python3"
  },
  "language_info": {
   "codemirror_mode": {
    "name": "ipython",
    "version": 3
   },
   "file_extension": ".py",
   "mimetype": "text/x-python",
   "name": "python",
   "nbconvert_exporter": "python",
   "pygments_lexer": "ipython3",
   "version": "3.6.5"
  }
 },
 "nbformat": 4,
 "nbformat_minor": 2
}
