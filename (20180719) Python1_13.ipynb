{
 "cells": [
  {
   "cell_type": "markdown",
   "metadata": {},
   "source": [
    "# Ch15 지난시간 Review\n",
    "## Our Primary Concern\n",
    "주관심사 - instance Variable, instance Functions  \n",
    "  \n",
    "class variable 과 class function은 나중에 배우고  \n",
    "가장 주요한것은 instance Variable, instance Functions입니다.  \n",
    "왜 instance냐면 클래스에서 생기는 오브젝트들 그것들을 instance라고 합니다.  \n",
    "_ _ int _ _ 로 들어가요. variable 앞에 self를 붙이는 거는 이게 우리가 OOP배우기전에 일반적인 함수나 그런거할때는 안했어요  \n",
    "OOP안에 들어와서 클래스 속에있는 놈이라는걸 표시하기 위해서 self를 붙입니다  \n",
    "  \n",
    "instance는 생성될때마다 다른값을 가져요 각자가!  "
   ]
  },
  {
   "cell_type": "code",
   "execution_count": 2,
   "metadata": {},
   "outputs": [],
   "source": [
    "class Service:\n",
    "    secret='영구는 배꼽이 두 개다.' #유용한 정보 \n",
    "    def sum(self, a,b): #더하기 서비스\n",
    "        result = a+ b\n",
    "        print(\"%s + %s = %s 입니다.\"%(a,b,result))\n",
    "#Instance variable 없는 클래스입니다\n",
    "#다양한 경우가 있습니다. 둘다 없는 클래스도 있고, 둘다있는 클래스도 있고 함수만 없는 클래스도 있고 다양합니다."
   ]
  },
  {
   "cell_type": "code",
   "execution_count": 3,
   "metadata": {},
   "outputs": [],
   "source": [
    "#개선한 Service\n",
    "class Service:\n",
    "    secret = \"영구는 배꼽이 두 개다\"\n",
    "    def __init__(self,name): #이름이 생겼어요\n",
    "        self.name=name #self.name object creation, Object Initialization\n",
    "    def sum(self,a,b):\n",
    "        result= a+b\n",
    "        print(\"%s님 %s + %s = %s입니다\"%(self.name,a,b,result))"
   ]
  },
  {
   "cell_type": "code",
   "execution_count": 4,
   "metadata": {},
   "outputs": [],
   "source": [
    "pey=Service(\"홍길동\")\n",
    "#__ 붙은 아이들은 클래스에서 오브젝트 하나 생성되서 저장되잖아요?\n",
    "#오브젝트가 하나 생성될대 __Init__가 있으면 자동적으로 수행이되요\n",
    "#없으면 수행안되요. 있으면! 수행됩니다 반드시!\n",
    "#__init__이 왜수행되냐면 거기에 variable이 있기때문입니다! 생산하는 순간에 variable이 생깁니다."
   ]
  },
  {
   "cell_type": "code",
   "execution_count": 5,
   "metadata": {},
   "outputs": [
    {
     "name": "stdout",
     "output_type": "stream",
     "text": [
      "<__main__.Service object at 0x0000029E3F8D5710>\n"
     ]
    }
   ],
   "source": [
    "print(pey) #이상한 숫자가 잔뜩 나온다? 메모리 어딘가에 앉아있는 메모리 address입니다"
   ]
  },
  {
   "cell_type": "markdown",
   "metadata": {},
   "source": [
    "# Ch15 \n",
    "## Motivation behind OOP\n",
    "\n",
    "실세계 전체를 가지고 올수가 없으니까  \n",
    "관심있는 것만 축약해서 들여온다 는 Abstraction 추상화, 축약이라고 했지요  \n"
   ]
  },
  {
   "cell_type": "code",
   "execution_count": 6,
   "metadata": {},
   "outputs": [],
   "source": [
    "#우리가 여태까지 한것들.\n",
    "def volume_compute(x,y,z):\n",
    "    return x*y*z\n",
    "def volume_compute1(x,y,z,l):\n",
    "    return x*y*z+l\n",
    "\n",
    "def Test():\n",
    "    print(\"My Automobile's volume is:\",volume_compute(10,15,25))\n",
    "    print(\"Your PickupTruck's Volume is:\", volume_compute1(10,15,25,1000))"
   ]
  },
  {
   "cell_type": "code",
   "execution_count": 7,
   "metadata": {},
   "outputs": [],
   "source": [
    "class Automobile(object):\n",
    "    def __init__(self,width,height,length):\n",
    "        self.width=width\n",
    "        self.height=height\n",
    "        self.length=length\n",
    "        print(\"A new Automobile instance is allocated\")\n",
    "    def compute_volume(self):\n",
    "        return self.width*self.height*self.length"
   ]
  },
  {
   "cell_type": "code",
   "execution_count": 8,
   "metadata": {
    "cell_style": "center"
   },
   "outputs": [],
   "source": [
    "class Pickup_Truck(Automobile): #Pickup_Truck은 Automobile의 Subclass 입니다.\n",
    "    \n",
    "    def __init__(self, width,height,length, loading_area): \n",
    "        #Automobile 에 있는 __init__은 못내려오게 막습니다. Pickup_Truck에서 만든 __init__이 우선순위 가져갑니다\n",
    "        \n",
    "        Automobile.__init__(self,width,height,length) \n",
    "        #위에있는거 그대로 받아와서 쓰고싶어서 가지고 온겁니다. 이렇게 구체적으로 명시해줘야합니다.\n",
    "        \n",
    "        self.loading_area=loading_area\n",
    "    def compute_volume1(self):\n",
    "        return self.width*self.height*self.length + self.loading_area"
   ]
  },
  {
   "cell_type": "code",
   "execution_count": 9,
   "metadata": {},
   "outputs": [
    {
     "name": "stdout",
     "output_type": "stream",
     "text": [
      "A new Automobile instance is allocated\n",
      "My car's volume is  3750\n",
      "A new Automobile instance is allocated\n",
      "Yourcar's volume is  3750\n",
      "Yourcar's volume with loading section is  4750\n"
     ]
    }
   ],
   "source": [
    "def test():\n",
    "    mycar=Automobile(10,15,25)\n",
    "    print(\"My car\\'s volume is \",mycar.compute_volume())\n",
    "    yourcar=Pickup_Truck(10,15,25,1000)\n",
    "    print(\"Yourcar\\'s volume is \",yourcar.compute_volume())\n",
    "    print(\"Yourcar\\'s volume with loading section is \", yourcar.compute_volume1())\n",
    "test()"
   ]
  },
  {
   "cell_type": "code",
   "execution_count": 10,
   "metadata": {},
   "outputs": [],
   "source": [
    "balance=0\n",
    "def deposit(amount):\n",
    "    global balance\n",
    "    balance+=amount\n",
    "    return balance\n",
    "\n",
    "def withdraw(amout):\n",
    "    global balance\n",
    "    balance-=amount\n",
    "    return balance\n",
    "#은행에서 손님올때마다 계좌만들고 이런식으로 되면 우리가 결국 필요한 것은 계좌의 데이터 타입이 필요합니다\n",
    "#계좌의 Class가 필요해집니다!"
   ]
  },
  {
   "cell_type": "code",
   "execution_count": 12,
   "metadata": {},
   "outputs": [],
   "source": [
    "#dictionary를 써도 문제 해결이 안된다 입니다.\n",
    "def makee_account():\n",
    "    return {'balance':0}\n",
    "def deposit(account,amount):\n",
    "        pass"
   ]
  },
  {
   "cell_type": "code",
   "execution_count": 13,
   "metadata": {},
   "outputs": [],
   "source": [
    "class BankAccount:\n",
    "    def __init__(self):\n",
    "        self.balance=0\n",
    "    def withdraw(self,amount):\n",
    "        self.balance -=amount\n",
    "        return self.balance\n",
    "        \n",
    "    def deposit(self, amount):\n",
    "        self.balance +=amount\n",
    "        return self.balance"
   ]
  },
  {
   "cell_type": "code",
   "execution_count": 14,
   "metadata": {},
   "outputs": [
    {
     "data": {
      "text/plain": [
       "90"
      ]
     },
     "execution_count": 14,
     "metadata": {},
     "output_type": "execute_result"
    }
   ],
   "source": [
    "a=BankAccount()\n",
    "b=BankAccount()\n",
    "a.deposit(100)\n",
    "b.deposit(50)\n",
    "b.withdraw(10)\n",
    "a.withdraw(10)"
   ]
  },
  {
   "cell_type": "code",
   "execution_count": 15,
   "metadata": {},
   "outputs": [
    {
     "name": "stdout",
     "output_type": "stream",
     "text": [
      "7\n"
     ]
    }
   ],
   "source": [
    "a=3\n",
    "b=4\n",
    "print(a+b)"
   ]
  },
  {
   "cell_type": "code",
   "execution_count": 16,
   "metadata": {},
   "outputs": [
    {
     "name": "stdout",
     "output_type": "stream",
     "text": [
      "SNUUniv\n"
     ]
    }
   ],
   "source": [
    "A=\"SNU\"#Object 탄생\n",
    "B=\"Univ\"\n",
    "print(A+B)\n",
    "del A #Object 죽이기"
   ]
  },
  {
   "cell_type": "markdown",
   "metadata": {},
   "source": [
    "Object Constructor   \n",
    "오브젝트간의 연산   \n",
    "    \n",
    "Object Destructor(del)   \n",
    "  \n",
    "오브젝트 안에 _ _ init _ _ 도 함수입니다.        \n",
    "special function이라고 부르지만 인스턴트를 생산하게 하는 consturct function입니다        \n",
    "delete의 del도 그래요 (destruct function)         \n",
    "\n",
    "object 다음에 필요한 연산입니다        \n",
    "object를 가지고 operand를 하던지 가지고 놀다가 공식적으로 죽을수도 있고          \n",
    "혹은 생산되었던 오브젝트가 메모리에서 날아가면 다 사라집니다.        \n",
    "근데 이게 오브젝트에서만 그런게 아니라        \n",
    "우리가 했던 계산들도 다 그렇습니다          \n",
    "다 오브젝트에요        \n",
    "일반계산에 있던 것들도 전부다 class로 만들어져있던거에요          \n",
    "전부다 Object 안에 있는겁니다        \n",
    "integer 3을 생성한거고 integer 4도 생성한거에요   \n",
    "bank account도 써줘야 태어나는 겁니다         \n",
    "\n",
    "원래는 int(3)으로 명시하는 그게 맞아요         \n",
    "그냥 3,4 하는 이유가 뭘까요?        \n",
    "우리가 실제로 a=3, b=3 a+b 하는 이유는 훨씬 간편하기 때문입니다.           \n",
    "귀찮으니까 int(3)+int(4) 안쓰는 겁니다        \n",
    "\n",
    "hierarchy 의 특성을 이용하는 것은 상속도 있지만,        \n",
    "유사한 데이터타입을 만들어내기위해서입니다 아주 좋은 특성이지요!      "
   ]
  },
  {
   "cell_type": "code",
   "execution_count": 17,
   "metadata": {},
   "outputs": [],
   "source": [
    "#Calculator"
   ]
  },
  {
   "cell_type": "code",
   "execution_count": 18,
   "metadata": {},
   "outputs": [
    {
     "name": "stdout",
     "output_type": "stream",
     "text": [
      "3\n",
      "7\n"
     ]
    }
   ],
   "source": [
    "result=0\n",
    "def adder(num):\n",
    "    global result\n",
    "    result+=num\n",
    "    return result\n",
    "print(adder(3))\n",
    "print(adder(4))"
   ]
  },
  {
   "cell_type": "code",
   "execution_count": 19,
   "metadata": {},
   "outputs": [
    {
     "name": "stdout",
     "output_type": "stream",
     "text": [
      "3\n",
      "7\n",
      "3\n",
      "10\n"
     ]
    }
   ],
   "source": [
    "result1=0\n",
    "result2=0\n",
    "\n",
    "def adder1(num):\n",
    "    global result1\n",
    "    result1+=num\n",
    "    return result1\n",
    "def adder2(num):\n",
    "    global result2\n",
    "    result2 += num\n",
    "    return result2\n",
    "\n",
    "print(adder1(3))\n",
    "print(adder1(4))\n",
    "print(adder2(3))\n",
    "print(adder2(7))"
   ]
  },
  {
   "cell_type": "code",
   "execution_count": 21,
   "metadata": {},
   "outputs": [],
   "source": [
    "class Calculator:\n",
    "    def __init__(self):\n",
    "        self.result=0\n",
    "    \n",
    "    def adder(self,num):\n",
    "        self.result +=num\n",
    "        return self.result\n",
    "    \n",
    "cal1= Calculator()\n",
    "cal2= Calculator()"
   ]
  },
  {
   "cell_type": "code",
   "execution_count": 22,
   "metadata": {},
   "outputs": [
    {
     "name": "stdout",
     "output_type": "stream",
     "text": [
      "3\n",
      "7\n",
      "3\n",
      "10\n"
     ]
    }
   ],
   "source": [
    "print(cal1.adder(3))\n",
    "print(cal1.adder(4))\n",
    "print(cal2.adder(3))\n",
    "print(cal2.adder(7))"
   ]
  },
  {
   "cell_type": "code",
   "execution_count": 23,
   "metadata": {},
   "outputs": [],
   "source": [
    "class FourCal:\n",
    "    def setdata(self,first,second):\n",
    "        self.first =first\n",
    "        self.second = second\n",
    "    def sum(self):\n",
    "        result= self.first+self.second\n",
    "        return result\n",
    "    def mul(self):\n",
    "        result =self.first * self.second\n",
    "        return result\n",
    "    def sub(self):\n",
    "        result = self.first - self.second\n",
    "        return result\n",
    "    def div(self):\n",
    "        result = self.first / self.second\n",
    "        return result\n",
    "    "
   ]
  },
  {
   "cell_type": "code",
   "execution_count": 24,
   "metadata": {},
   "outputs": [
    {
     "data": {
      "text/plain": [
       "6"
      ]
     },
     "execution_count": 24,
     "metadata": {},
     "output_type": "execute_result"
    }
   ],
   "source": [
    "a=FourCal()\n",
    "b=FourCal()\n",
    "a.setdata(4,2)\n",
    "b.setdata(3,7)\n",
    "a.sum()"
   ]
  },
  {
   "cell_type": "code",
   "execution_count": 25,
   "metadata": {},
   "outputs": [
    {
     "data": {
      "text/plain": [
       "8"
      ]
     },
     "execution_count": 25,
     "metadata": {},
     "output_type": "execute_result"
    }
   ],
   "source": [
    "a.mul()"
   ]
  },
  {
   "cell_type": "code",
   "execution_count": 26,
   "metadata": {},
   "outputs": [
    {
     "data": {
      "text/plain": [
       "2"
      ]
     },
     "execution_count": 26,
     "metadata": {},
     "output_type": "execute_result"
    }
   ],
   "source": [
    "a.sub()"
   ]
  },
  {
   "cell_type": "code",
   "execution_count": 27,
   "metadata": {},
   "outputs": [
    {
     "data": {
      "text/plain": [
       "2.0"
      ]
     },
     "execution_count": 27,
     "metadata": {},
     "output_type": "execute_result"
    }
   ],
   "source": [
    "a.div()"
   ]
  },
  {
   "cell_type": "code",
   "execution_count": 28,
   "metadata": {},
   "outputs": [
    {
     "data": {
      "text/plain": [
       "10"
      ]
     },
     "execution_count": 28,
     "metadata": {},
     "output_type": "execute_result"
    }
   ],
   "source": [
    "b.sum()"
   ]
  },
  {
   "cell_type": "code",
   "execution_count": 29,
   "metadata": {},
   "outputs": [
    {
     "data": {
      "text/plain": [
       "21"
      ]
     },
     "execution_count": 29,
     "metadata": {},
     "output_type": "execute_result"
    }
   ],
   "source": [
    "b.mul()"
   ]
  },
  {
   "cell_type": "code",
   "execution_count": 30,
   "metadata": {},
   "outputs": [
    {
     "data": {
      "text/plain": [
       "-4"
      ]
     },
     "execution_count": 30,
     "metadata": {},
     "output_type": "execute_result"
    }
   ],
   "source": [
    "b.sub()"
   ]
  },
  {
   "cell_type": "code",
   "execution_count": 31,
   "metadata": {},
   "outputs": [
    {
     "data": {
      "text/plain": [
       "0.42857142857142855"
      ]
     },
     "execution_count": 31,
     "metadata": {},
     "output_type": "execute_result"
    }
   ],
   "source": [
    "b.div()"
   ]
  },
  {
   "cell_type": "code",
   "execution_count": 32,
   "metadata": {},
   "outputs": [
    {
     "data": {
      "text/plain": [
       "100"
      ]
     },
     "execution_count": 32,
     "metadata": {},
     "output_type": "execute_result"
    }
   ],
   "source": [
    "class Foo(object):\n",
    "    def __init__(self):\n",
    "        self.health=100\n",
    "\n",
    "class SubFoo(Foo):\n",
    "    pass\n",
    "\n",
    "\n",
    "testobj=SubFoo()\n",
    "testobj.health"
   ]
  },
  {
   "cell_type": "code",
   "execution_count": 33,
   "metadata": {},
   "outputs": [
    {
     "data": {
      "text/plain": [
       "200"
      ]
     },
     "execution_count": 33,
     "metadata": {},
     "output_type": "execute_result"
    }
   ],
   "source": [
    "#SubFoo class에서는 Foo class의 instance variable을 inherit 함\n",
    "class Foo(object):\n",
    "    def __init__(self):\n",
    "        self.health=100\n",
    "\n",
    "#SubFoo class에서는 Foo class의 instance variable을 inherit 안함\n",
    "#SubFoo와 Foo에 같은 이름의 __init__함수가 있으므로 subclass에서 __init__을 상속받지 않습니다.\n",
    "#health는 SubFoo밑에 없습니다.\n",
    "class SubFoo(Foo):\n",
    "    def __init__(self):\n",
    "        self.muscle=200\n",
    "\n",
    "testobj=SubFoo()\n",
    "#testobj.health\n",
    "testobj.muscle"
   ]
  },
  {
   "cell_type": "code",
   "execution_count": 34,
   "metadata": {},
   "outputs": [
    {
     "data": {
      "text/plain": [
       "200"
      ]
     },
     "execution_count": 34,
     "metadata": {},
     "output_type": "execute_result"
    }
   ],
   "source": [
    "class Foo(object):\n",
    "    def __init__(self):\n",
    "        self.health=100\n",
    "class SubFoo(Foo):\n",
    "    def __init__(self):\n",
    "        super().__init__()          #여기서 health도 가지고 오는겁니다. SubFoo안에 health도 들어가네요! \n",
    "                                    #instance variable이 두개인겁니다\n",
    "                                    #Foo.__init__(self) 같은 의미에요\n",
    "        self.muscle=200\n",
    "\n",
    "testobj=SubFoo()\n",
    "testobj.health\n",
    "testobj.muscle\n",
    "#SubFoo class 에서는 Foo class의 instance variable을 inherit 받고\n",
    "#자체적인 instance variable도 선언."
   ]
  },
  {
   "cell_type": "code",
   "execution_count": 35,
   "metadata": {},
   "outputs": [
    {
     "name": "stdout",
     "output_type": "stream",
     "text": [
      "hammer time\n"
     ]
    }
   ],
   "source": [
    "class BaseClass(object):\n",
    "    def test(self):\n",
    "        print(\"ham\")\n",
    "\n",
    "class InClass(BaseClass):\n",
    "    def test(self):\n",
    "        print(\"hammer time\") \n",
    "#CLASS 상속 그림 그려주세요\n",
    "\n",
    "i= InClass()\n",
    "i.test()\n",
    "\n",
    "#InClass class에 test()가 있어서\n",
    "#BaseClass class의 test()를 override하므로 BaseClass의 test()는 inherit 안됨."
   ]
  },
  {
   "cell_type": "code",
   "execution_count": 36,
   "metadata": {},
   "outputs": [
    {
     "name": "stdout",
     "output_type": "stream",
     "text": [
      "Object i's lnherited variable: 100\n",
      "Object i's locally defined variable: 200\n"
     ]
    }
   ],
   "source": [
    "class BaseClass(object):\n",
    "    def __init__(self):\n",
    "        self.x=100\n",
    "class InClass(BaseClass):\n",
    "    def __init__(self):\n",
    "        super().__init__()\n",
    "        self.y=200\n",
    "        \n",
    "i=InClass()\n",
    "print(\"Object i's lnherited variable:\",i.x)\n",
    "print(\"Object i's locally defined variable:\",i.y)"
   ]
  },
  {
   "cell_type": "code",
   "execution_count": 39,
   "metadata": {},
   "outputs": [
    {
     "name": "stdout",
     "output_type": "stream",
     "text": [
      "[<class '__main__.InClass'>]\n",
      "hammer time\n"
     ]
    },
    {
     "data": {
      "text/plain": [
       "[__main__.InClass]"
      ]
     },
     "execution_count": 39,
     "metadata": {},
     "output_type": "execute_result"
    }
   ],
   "source": [
    "class BaseClass(object):\n",
    "    def test(self):\n",
    "        print(\"ham\")\n",
    "\n",
    "class InClass(BaseClass):\n",
    "    def test(self):\n",
    "        print(\"hammer time\")\n",
    "\n",
    "print(BaseClass.__subclasses__())#서브 클래스가 뭐가있나요 보는겁니다.\n",
    "\n",
    "A=InClass()\n",
    "A.test()\n",
    "BaseClass.__subclasses__()\n",
    "#InClass.__superclasses__() 이건 없는 함수에요"
   ]
  },
  {
   "cell_type": "code",
   "execution_count": 40,
   "metadata": {},
   "outputs": [],
   "source": [
    "#1/5\n",
    "class HousePark:\n",
    "    lastname =\"박\"\n",
    "    def __init__(self,name):\n",
    "        #이름정보를 주면 위에있는 lastname과 받은 이름을 가지고 이름을 만들어놓자! 입니다.\n",
    "        #전체 풀네임 오브젝트 생성\n",
    "        self.fullname=self.lastname+name\n",
    "    def travel(self,where):\n",
    "        print(\"%s, %s여행을 가다.\" %(self.fullname,where))\n",
    "#pey=HousePark()# Type에러가 나옵니다.\n",
    "#__init__() takes exactly 2 arguments (1 given)\n",
    "#self 옆에 name이라는 파라미터가 있기때문에 함수 부를적에 같이 줘야합니다\n",
    "#함수 부를적에 줘야하는 변수 안주면 오류나는게 당연합니다\n",
    "#class 인스턴스를 만드려면 __init__을 반드시 실행 해야합니다. 근데 못하기때문에 오류가 나는겁니다."
   ]
  },
  {
   "cell_type": "code",
   "execution_count": 41,
   "metadata": {},
   "outputs": [
    {
     "name": "stdout",
     "output_type": "stream",
     "text": [
      "박응용, 태국여행을 가다.\n"
     ]
    }
   ],
   "source": [
    "pey=HousePark(\"응용\")\n",
    "pey.travel(\"태국\")"
   ]
  },
  {
   "cell_type": "code",
   "execution_count": 42,
   "metadata": {},
   "outputs": [
    {
     "name": "stdout",
     "output_type": "stream",
     "text": [
      "김줄리엣, 독도여행을 가다.\n"
     ]
    }
   ],
   "source": [
    "#2/5\n",
    "class HousePark:\n",
    "    lastname =\"박\"\n",
    "    def __init__(self,name):\n",
    "        self.fullname=self.lastname+name\n",
    "    def travel(self,where):\n",
    "        print(\"%s, %s여행을 가다.\" %(self.fullname,where))\n",
    "        \n",
    "class HouseKim(HousePark):\n",
    "    lastname=\"김\"\n",
    "juliet=HouseKim(\"줄리엣\")\n",
    "juliet.travel(\"독도\")"
   ]
  },
  {
   "cell_type": "code",
   "execution_count": 43,
   "metadata": {},
   "outputs": [
    {
     "name": "stdout",
     "output_type": "stream",
     "text": [
      "김줄리엣, 독도여행 3일 가네.\n"
     ]
    }
   ],
   "source": [
    "#3/5\n",
    "class HousePark:\n",
    "    lastname =\"박\"\n",
    "    def __init__(self,name):\n",
    "        self.fullname=self.lastname+name\n",
    "    def travel(self,where):\n",
    "        print(\"%s, %s여행을 가다.\" %(self.fullname,where))\n",
    "        \n",
    "class HouseKim(HousePark):\n",
    "    lastname=\"김\"\n",
    "    def travel(self, where, day):\n",
    "        print(\"%s, %s여행 %d일 가네.\" %(self.fullname , where, day))\n",
    "juliet=HouseKim(\"줄리엣\")\n",
    "juliet.travel(\"독도\",3)"
   ]
  },
  {
   "cell_type": "code",
   "execution_count": 44,
   "metadata": {},
   "outputs": [
    {
     "name": "stdout",
     "output_type": "stream",
     "text": [
      "박응용, 김줄리엣 결혼했네\n"
     ]
    }
   ],
   "source": [
    "#3/5\n",
    "class HousePark:\n",
    "    lastname =\"박\"\n",
    "    def __init__(self,name):\n",
    "        self.fullname=self.lastname+name\n",
    "    def travel(self,where):\n",
    "        print(\"%s, %s여행을 가다.\" %(self.fullname,where))\n",
    "    def love(self,other):\n",
    "        print(\"%s, %s 사랑에 빠졌네\"%(self.fullname, other.fullname))\n",
    "    def __add__(self,other):\n",
    "        print(\"%s, %s 결혼했네\" %(self.fullname,other.fullname))\n",
    "        \n",
    "class HouseKim(HousePark):\n",
    "    lastname=\"김\"\n",
    "    def travel(self, where, day):\n",
    "        print(\"%s, %s여행 %d일 가네.\" %(self.fullname , where, day))\n",
    "pey=HousePark(\"응용\")\n",
    "juliet=HouseKim(\"줄리엣\")\n",
    "pey+juliet#__add__가 +기호가 된다! "
   ]
  },
  {
   "cell_type": "code",
   "execution_count": 45,
   "metadata": {},
   "outputs": [
    {
     "name": "stdout",
     "output_type": "stream",
     "text": [
      "박응용, 김줄리엣 사랑에 빠졌네\n",
      "박응용, 김줄리엣 결혼했네\n"
     ]
    }
   ],
   "source": [
    "pey=HousePark(\"응용\")\n",
    "juliet=HouseKim(\"줄리엣\")\n",
    "pey.love(juliet)\n",
    "pey+juliet"
   ]
  },
  {
   "cell_type": "code",
   "execution_count": 46,
   "metadata": {},
   "outputs": [
    {
     "name": "stdout",
     "output_type": "stream",
     "text": [
      "김냥냥, 김멍멍 결혼했네\n"
     ]
    }
   ],
   "source": [
    "a=HouseKim(\"냥냥\")\n",
    "b=HouseKim(\"멍멍\")\n",
    "a+b"
   ]
  },
  {
   "cell_type": "code",
   "execution_count": 47,
   "metadata": {},
   "outputs": [
    {
     "name": "stdout",
     "output_type": "stream",
     "text": [
      "박응용, 부산여행을 가다.\n",
      "김줄리엣, 부산여행 3일 가네.\n",
      "박응용, 김줄리엣 사랑에 빠졌네\n",
      "박응용, 김줄리엣 결혼했네\n",
      "박응용, 김줄리엣 싸우네\n",
      "박응용, 김줄리엣 이혼했네\n"
     ]
    }
   ],
   "source": [
    "#3/5\n",
    "class HousePark:\n",
    "    lastname =\"박\"\n",
    "    def __init__(self,name):\n",
    "        self.fullname=self.lastname+name\n",
    "    def travel(self,where):\n",
    "        print(\"%s, %s여행을 가다.\" %(self.fullname,where))\n",
    "    def love(self,other):\n",
    "        print(\"%s, %s 사랑에 빠졌네\"%(self.fullname, other.fullname))\n",
    "    def fight(self, other):\n",
    "        print(\"%s, %s 싸우네\" % (self.fullname, other.fullname))\n",
    "    def __add__(self,other):\n",
    "        print(\"%s, %s 결혼했네\" %(self.fullname,other.fullname))\n",
    "    def __sub__(self, other):\n",
    "        print(\"%s, %s 이혼했네\" %(self.fullname, other.fullname))\n",
    "        \n",
    "class HouseKim(HousePark):\n",
    "    lastname=\"김\"\n",
    "    def travel(self, where, day):\n",
    "        print(\"%s, %s여행 %d일 가네.\" %(self.fullname , where, day))\n",
    "        \n",
    "        \n",
    "pey=HousePark(\"응용\")\n",
    "juliet=HouseKim(\"줄리엣\")\n",
    "pey.travel(\"부산\")\n",
    "juliet.travel(\"부산\",3)\n",
    "pey.love(juliet)\n",
    "pey + juliet\n",
    "pey.fight(juliet)\n",
    "pey - juliet"
   ]
  },
  {
   "cell_type": "code",
   "execution_count": 48,
   "metadata": {},
   "outputs": [
    {
     "data": {
      "text/plain": [
       "100"
      ]
     },
     "execution_count": 48,
     "metadata": {},
     "output_type": "execute_result"
    }
   ],
   "source": [
    "class Foo(object):\n",
    "    def __init__(self):\n",
    "        self.health=100\n",
    "class SubFoo(Foo):\n",
    "    pass\n",
    "\n",
    "testobj=SubFoo()\n",
    "testobj.health"
   ]
  },
  {
   "cell_type": "code",
   "execution_count": 49,
   "metadata": {},
   "outputs": [
    {
     "data": {
      "text/plain": [
       "100"
      ]
     },
     "execution_count": 49,
     "metadata": {},
     "output_type": "execute_result"
    }
   ],
   "source": [
    "class Foo():\n",
    "    def __init__(self):\n",
    "        self.health=100\n",
    "\n",
    "class SubFoo(Foo):\n",
    "    pass\n",
    "\n",
    "testobj=SubFoo()\n",
    "testobj.health"
   ]
  },
  {
   "cell_type": "markdown",
   "metadata": {},
   "source": [
    "김씨가 박씨가 아니기때문에 is-a 관계가 아니에요.  \n",
    "원래 서브클래스는 is-a 관계로만 만듭니다 superclass와요  \n",
    "여기서 한 예제들은 사실 엉터리라고 할수있습니다  \n",
    "subclass is a superclass 입니다가 되야해요    \n",
    "subclass에서 superclass에 없는 걸 만들어내고 inherit 막 시키는건 좋지 않은 예입니다.    "
   ]
  },
  {
   "cell_type": "code",
   "execution_count": 50,
   "metadata": {},
   "outputs": [
    {
     "name": "stdout",
     "output_type": "stream",
     "text": [
      "A B\n",
      "A B\n"
     ]
    }
   ],
   "source": [
    "class A:\n",
    "    def f(self):\n",
    "        return self.g()\n",
    "    def g(self):\n",
    "        return 'A'\n",
    "class B(A):\n",
    "    def g(self):\n",
    "        return 'B'\n",
    "\n",
    "a=A()\n",
    "b=B()\n",
    "print(a.f(), b.f())\n",
    "print(a.g(), b.g())"
   ]
  },
  {
   "cell_type": "code",
   "execution_count": 51,
   "metadata": {},
   "outputs": [
    {
     "data": {
      "text/plain": [
       "['__class__',\n",
       " '__delattr__',\n",
       " '__dir__',\n",
       " '__doc__',\n",
       " '__eq__',\n",
       " '__format__',\n",
       " '__ge__',\n",
       " '__getattribute__',\n",
       " '__gt__',\n",
       " '__hash__',\n",
       " '__init__',\n",
       " '__init_subclass__',\n",
       " '__le__',\n",
       " '__lt__',\n",
       " '__ne__',\n",
       " '__new__',\n",
       " '__reduce__',\n",
       " '__reduce_ex__',\n",
       " '__repr__',\n",
       " '__setattr__',\n",
       " '__sizeof__',\n",
       " '__str__',\n",
       " '__subclasshook__']"
      ]
     },
     "execution_count": 51,
     "metadata": {},
     "output_type": "execute_result"
    }
   ],
   "source": [
    "#Type hireachy 의 Root에 앉아있는 가장 기본적인 아이들이 Object에요\n",
    "dir(object)"
   ]
  },
  {
   "cell_type": "markdown",
   "metadata": {},
   "source": [
    "간단한 숫자나 커다란 오브젝트나 할거없이 걔네들을  가리키고있는 variable들이 있으면  \n",
    "몇개가 가리키고 있는지 일일이 다 기억하고있어요  \n",
    "\n",
    "만약 A,B,C가 다 D(하나)를 가리키고 있으면요 파이썬이 D를 가리키는 것이 몇개인지 다 세고 있습니다.  \n",
    "가리키고 있는 아이는 3개야 를 기억하고있어요  \n",
    "A삭제하면 A만 삭제됩니다.  \n",
    "\n",
    "만약 D를 삭제하던 아이들 A,B,C를 모두 삭제하면    \n",
    "얘를 가리키는 variable의 갯수가 0이됩니다.    \n",
    "그러면 그때 _ _ del _ _ 이 작동합니다.  \n",
    "아무도 안가리키고있는 가리키고있는 게 0이라면 _ _ del _ _ 이 작동해서 메모리에서 지워줍니다    \n",
    "del A를 하면 0이 되는 순간에 쟤가 지워지고 variable 숫자는 이제 0이야 합니다.    \n",
    "저승사자에요. Garvage collector 입니다. 잡아가면서 같이 수행되는게 _ _ del _ _ 입니다.    \n",
    "    \n",
    "_ _ del _ _ 을 Destructor Function이라고 합니다.    \n",
    "여러개 가리키고 있던 Variable들 다 사라지면 (Reference Count가 0이되면) 메모리에서 지우는겁니다    \n",
    "  \n",
    "Reference Count 가 있는지 알고 싶으면    \n",
    "import sys 해보십시오    "
   ]
  },
  {
   "cell_type": "code",
   "execution_count": 52,
   "metadata": {},
   "outputs": [
    {
     "data": {
      "text/plain": [
       "587"
      ]
     },
     "execution_count": 52,
     "metadata": {},
     "output_type": "execute_result"
    }
   ],
   "source": [
    "import sys\n",
    "sys.getrefcount(3)"
   ]
  },
  {
   "cell_type": "code",
   "execution_count": 63,
   "metadata": {},
   "outputs": [],
   "source": [
    "#__del__ 설명하고자합니다.\n",
    "class Person:\n",
    "    def __init__(self,name):\n",
    "        self.name = name\n",
    "    def Sayhello(self):\n",
    "        print(\"Hello,my name is\", self.name)\n",
    "    \n",
    "    def __del__(self):  #메모리에서 지우면서 실행해줘! \n",
    "        print(\"%s says bye.\" %self.name)"
   ]
  },
  {
   "cell_type": "code",
   "execution_count": 60,
   "metadata": {},
   "outputs": [],
   "source": [
    "A=Person('메롱메롱')"
   ]
  },
  {
   "cell_type": "code",
   "execution_count": 61,
   "metadata": {},
   "outputs": [
    {
     "name": "stdout",
     "output_type": "stream",
     "text": [
      "메롱메롱 says bye.\n"
     ]
    }
   ],
   "source": [
    "del A"
   ]
  },
  {
   "cell_type": "code",
   "execution_count": null,
   "metadata": {},
   "outputs": [],
   "source": []
  }
 ],
 "metadata": {
  "kernelspec": {
   "display_name": "Python 3",
   "language": "python",
   "name": "python3"
  },
  "language_info": {
   "codemirror_mode": {
    "name": "ipython",
    "version": 3
   },
   "file_extension": ".py",
   "mimetype": "text/x-python",
   "name": "python",
   "nbconvert_exporter": "python",
   "pygments_lexer": "ipython3",
   "version": "3.6.5"
  },
  "varInspector": {
   "cols": {
    "lenName": 16,
    "lenType": 16,
    "lenVar": 40
   },
   "kernels_config": {
    "python": {
     "delete_cmd_postfix": "",
     "delete_cmd_prefix": "del ",
     "library": "var_list.py",
     "varRefreshCmd": "print(var_dic_list())"
    },
    "r": {
     "delete_cmd_postfix": ") ",
     "delete_cmd_prefix": "rm(",
     "library": "var_list.r",
     "varRefreshCmd": "cat(var_dic_list()) "
    }
   },
   "types_to_exclude": [
    "module",
    "function",
    "builtin_function_or_method",
    "instance",
    "_Feature"
   ],
   "window_display": false
  }
 },
 "nbformat": 4,
 "nbformat_minor": 2
}
