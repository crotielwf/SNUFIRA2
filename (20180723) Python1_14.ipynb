{
 "cells": [
  {
   "cell_type": "code",
   "execution_count": 1,
   "metadata": {},
   "outputs": [],
   "source": [
    "class Person :\n",
    "    def __init__(self,name):  #constructor function\n",
    "        self.name=name\n",
    "    def Sayhello(self):\n",
    "        print(\"Hello my name is \",self.name)\n",
    "    def __del__(self):   #destructor function\n",
    "        print(\"%s says bye. \"%self.name)"
   ]
  },
  {
   "cell_type": "code",
   "execution_count": 2,
   "metadata": {},
   "outputs": [],
   "source": [
    "a=Person(\"Lee\")"
   ]
  },
  {
   "cell_type": "code",
   "execution_count": 3,
   "metadata": {},
   "outputs": [
    {
     "name": "stdout",
     "output_type": "stream",
     "text": [
      "Hello my name is  Lee\n"
     ]
    }
   ],
   "source": [
    "a.Sayhello()\n"
   ]
  },
  {
   "cell_type": "code",
   "execution_count": 4,
   "metadata": {},
   "outputs": [
    {
     "name": "stdout",
     "output_type": "stream",
     "text": [
      "Lee says bye. \n"
     ]
    }
   ],
   "source": [
    "del a\n"
   ]
  },
  {
   "cell_type": "code",
   "execution_count": 5,
   "metadata": {},
   "outputs": [
    {
     "name": "stdout",
     "output_type": "stream",
     "text": [
      "1824300475728 1824300475728 1824300475728\n",
      "6\n",
      "6\n",
      "6\n",
      "Point destroyed\n",
      "5\n"
     ]
    }
   ],
   "source": [
    "import sys\n",
    "class Point :\n",
    "    def __init__(self,x=0,y=0):  #0,0 은 디폴트 value\n",
    "        self.x=x\n",
    "        self.y=y\n",
    "    def __del__(self):\n",
    "        class_name=self.__class__.__name__\n",
    "        print(class_name,\"destroyed\")\n",
    "pt1=Point()\n",
    "pt2=pt1\n",
    "pt3=pt1\n",
    "print(id(pt1),id(pt2),id(pt3))  #아이디 동일\n",
    "print(sys.getrefcount(Point))\n",
    "del pt1\n",
    "print(sys.getrefcount(Point))\n",
    "del pt2\n",
    "print(sys.getrefcount(Point))\n",
    "del pt3  #reference count =0\n",
    "print(sys.getrefcount(Point))"
   ]
  },
  {
   "cell_type": "code",
   "execution_count": 6,
   "metadata": {},
   "outputs": [
    {
     "name": "stdout",
     "output_type": "stream",
     "text": [
      "580\n",
      "581\n"
     ]
    }
   ],
   "source": [
    "import sys   \n",
    "print(sys.getrefcount(3))\n",
    "a=3\n",
    "print(sys.getrefcount(3))  #1증가\n",
    "#모든 object들의 refcount 다 세고있음."
   ]
  },
  {
   "cell_type": "code",
   "execution_count": null,
   "metadata": {},
   "outputs": [],
   "source": []
  },
  {
   "cell_type": "markdown",
   "metadata": {},
   "source": [
    "## Class Inheritance"
   ]
  },
  {
   "cell_type": "code",
   "execution_count": 1,
   "metadata": {},
   "outputs": [],
   "source": [
    "class Person:\n",
    "    def speak(self):\n",
    "        print('I can speak!')\n",
    "class Man(Person):\n",
    "    def wear(self):\n",
    "        print('I wear shirt')\n",
    "class Woman(Person):\n",
    "    def wear(self):\n",
    "        print('I wear Skirt')"
   ]
  },
  {
   "cell_type": "code",
   "execution_count": 2,
   "metadata": {},
   "outputs": [
    {
     "name": "stdout",
     "output_type": "stream",
     "text": [
      "I can speak!\n",
      "I wear shirt\n"
     ]
    }
   ],
   "source": [
    "man=Man()\n",
    "man.speak()\n",
    "man.wear()"
   ]
  },
  {
   "cell_type": "code",
   "execution_count": 3,
   "metadata": {},
   "outputs": [
    {
     "name": "stdout",
     "output_type": "stream",
     "text": [
      "Calling child method\n"
     ]
    }
   ],
   "source": [
    "class Parent:\n",
    "    def myMethod(self):\n",
    "        print('Calling parent method')\n",
    "class Child(Parent):\n",
    "    def myMethod(self):\n",
    "        print(\"Calling child method\")\n",
    "\n",
    "c=Child()\n",
    "c.myMethod()"
   ]
  },
  {
   "cell_type": "code",
   "execution_count": 4,
   "metadata": {},
   "outputs": [],
   "source": [
    "class A(object):\n",
    "    def __init__(self,x):\n",
    "        self.x=x\n",
    "    def f(self):\n",
    "        return 10*self.x\n",
    "    \n",
    "class B(A):\n",
    "    def g(self):\n",
    "        return 1000*self.x"
   ]
  },
  {
   "cell_type": "code",
   "execution_count": 5,
   "metadata": {},
   "outputs": [
    {
     "name": "stdout",
     "output_type": "stream",
     "text": [
      "50\n"
     ]
    }
   ],
   "source": [
    "print(A(5).f())"
   ]
  },
  {
   "cell_type": "code",
   "execution_count": 6,
   "metadata": {},
   "outputs": [
    {
     "name": "stdout",
     "output_type": "stream",
     "text": [
      "7000\n"
     ]
    }
   ],
   "source": [
    "print(B(7).g())"
   ]
  },
  {
   "cell_type": "code",
   "execution_count": 7,
   "metadata": {},
   "outputs": [
    {
     "name": "stdout",
     "output_type": "stream",
     "text": [
      "70\n"
     ]
    }
   ],
   "source": [
    "print(B(7).f())\n",
    "#print(A(5).g())# 당연히 안되요 A에는 B의 메소드인 g가 없으니까요"
   ]
  },
  {
   "cell_type": "code",
   "execution_count": 8,
   "metadata": {},
   "outputs": [],
   "source": [
    "class A(object):\n",
    "    def __init__(self,x):\n",
    "        self.x=x\n",
    "    def f(self):\n",
    "        return 10*self.x\n",
    "    def g(self):\n",
    "        return 100*self.x\n",
    "    \n",
    "class B(A):\n",
    "    def __init__(self,x=42,y=99):\n",
    "        super().__init__(x)\n",
    "        self.y=y\n",
    "    def f(self):\n",
    "        return 1000*self.x\n",
    "    def g(self):\n",
    "        return (super().g(),self.y)"
   ]
  },
  {
   "cell_type": "code",
   "execution_count": 9,
   "metadata": {},
   "outputs": [],
   "source": [
    "a=A(5)\n",
    "b=B(7)"
   ]
  },
  {
   "cell_type": "code",
   "execution_count": 10,
   "metadata": {},
   "outputs": [
    {
     "name": "stdout",
     "output_type": "stream",
     "text": [
      "50\n",
      "500\n",
      "7000\n",
      "(700, 99)\n"
     ]
    }
   ],
   "source": [
    "print(a.f())\n",
    "print(a.g())\n",
    "print(b.f())\n",
    "print(b.g())"
   ]
  },
  {
   "cell_type": "code",
   "execution_count": 11,
   "metadata": {},
   "outputs": [],
   "source": [
    "class A(object):pass\n",
    "class B(A): pass"
   ]
  },
  {
   "cell_type": "code",
   "execution_count": 12,
   "metadata": {},
   "outputs": [
    {
     "name": "stdout",
     "output_type": "stream",
     "text": [
      "True\n",
      "False\n",
      "False\n",
      "True\n",
      "\n",
      "True\n",
      "True\n",
      "False\n",
      "True\n"
     ]
    }
   ],
   "source": [
    "a=A()\n",
    "b=B()\n",
    "print(type(a)==A)\n",
    "print(type(b)==A)\n",
    "print(type(a)==B)\n",
    "print(type(b)==B)\n",
    "print()\n",
    "print(isinstance(a,A))\n",
    "print(isinstance(b,A))\n",
    "print(isinstance(a,B))\n",
    "print(isinstance(b,B))"
   ]
  },
  {
   "cell_type": "code",
   "execution_count": 13,
   "metadata": {},
   "outputs": [],
   "source": [
    "class A:\n",
    "    def A(self):\n",
    "        print('I am A')\n",
    "class B:\n",
    "    def A(self):\n",
    "        print('I am a')\n",
    "    def B(self):\n",
    "        print('I am B')\n",
    "class C(B,A):\n",
    "    def C(self):\n",
    "        print('I am C')"
   ]
  },
  {
   "cell_type": "code",
   "execution_count": 14,
   "metadata": {},
   "outputs": [],
   "source": [
    "C=C()"
   ]
  },
  {
   "cell_type": "code",
   "execution_count": 15,
   "metadata": {},
   "outputs": [
    {
     "name": "stdout",
     "output_type": "stream",
     "text": [
      "I am a\n",
      "I am B\n",
      "I am C\n"
     ]
    }
   ],
   "source": [
    "C.A()\n",
    "C.B()\n",
    "C.C()"
   ]
  },
  {
   "cell_type": "code",
   "execution_count": 8,
   "metadata": {},
   "outputs": [
    {
     "name": "stdout",
     "output_type": "stream",
     "text": [
      "1\n",
      "2\n"
     ]
    }
   ],
   "source": [
    "class JustCounter:\n",
    "    __secretCount=0  #__variable 은 해당 클래스 안에서만 접근 가능  ->private variable\n",
    "    def count(self):\n",
    "        self.__secretCount +=1\n",
    "        print(self.__secretCount)\n",
    "counter=JustCounter()\n",
    "counter.count()\n",
    "counter.count()\n",
    "#counter.__secretCount   #class 밖에서 접근하려는 시도는 에러!\n",
    "#보통의 변수(class 외부에서도 접근 가능한 ->public variable)\n",
    "#__function 도 가능 private function"
   ]
  },
  {
   "cell_type": "code",
   "execution_count": 9,
   "metadata": {},
   "outputs": [
    {
     "name": "stdout",
     "output_type": "stream",
     "text": [
      "3\n"
     ]
    }
   ],
   "source": [
    "counter.count()#count()를 통해서 실행할때는 __secretCount의 값이 access 입니다"
   ]
  },
  {
   "cell_type": "code",
   "execution_count": 10,
   "metadata": {},
   "outputs": [
    {
     "ename": "AttributeError",
     "evalue": "'JustCounter' object has no attribute '__secretCount'",
     "output_type": "error",
     "traceback": [
      "\u001b[1;31m---------------------------------------------------------------------------\u001b[0m",
      "\u001b[1;31mAttributeError\u001b[0m                            Traceback (most recent call last)",
      "\u001b[1;32m<ipython-input-10-abd608043fe5>\u001b[0m in \u001b[0;36m<module>\u001b[1;34m()\u001b[0m\n\u001b[1;32m----> 1\u001b[1;33m \u001b[0mprint\u001b[0m\u001b[1;33m(\u001b[0m\u001b[0mcounter\u001b[0m\u001b[1;33m.\u001b[0m\u001b[0m__secretCount\u001b[0m\u001b[1;33m)\u001b[0m \u001b[1;31m# counter object를 통해서 __secretCount는 ACCESS 금지입니다\u001b[0m\u001b[1;33m\u001b[0m\u001b[0m\n\u001b[0m",
      "\u001b[1;31mAttributeError\u001b[0m: 'JustCounter' object has no attribute '__secretCount'"
     ]
    }
   ],
   "source": [
    "print(counter.__secretCount) # counter object를 통해서 __secretCount는 ACCESS 금지입니다"
   ]
  },
  {
   "cell_type": "code",
   "execution_count": 22,
   "metadata": {},
   "outputs": [
    {
     "name": "stdout",
     "output_type": "stream",
     "text": [
      "2\n"
     ]
    }
   ],
   "source": [
    "print(counter._JustCounter__secretCount)\n",
    "#object._className__attrName \n",
    "#access is aloowed\n",
    "#이렇게해야지 접근이 가능합니다."
   ]
  },
  {
   "cell_type": "code",
   "execution_count": 23,
   "metadata": {},
   "outputs": [],
   "source": [
    "class Person:\n",
    "    def __init__(self):\n",
    "        self.A='Yang Li'       #Public Variable\n",
    "        self.__B='Yingying Gu' #Private Variable\n",
    "    def PrintName(self):\n",
    "        print(self.A)\n",
    "        print(self.__B)"
   ]
  },
  {
   "cell_type": "code",
   "execution_count": 24,
   "metadata": {},
   "outputs": [],
   "source": [
    "P=Person()"
   ]
  },
  {
   "cell_type": "code",
   "execution_count": 25,
   "metadata": {},
   "outputs": [
    {
     "name": "stdout",
     "output_type": "stream",
     "text": [
      "Yang Li\n",
      "Yingying Gu\n"
     ]
    }
   ],
   "source": [
    "print(P.A)\n",
    "#P.__B는 오류나요\n",
    "print(P._Person__B)"
   ]
  },
  {
   "cell_type": "code",
   "execution_count": 26,
   "metadata": {},
   "outputs": [
    {
     "name": "stdout",
     "output_type": "stream",
     "text": [
      "Yang Li\n",
      "Yingying Gu\n"
     ]
    }
   ],
   "source": [
    "P.PrintName()"
   ]
  },
  {
   "cell_type": "code",
   "execution_count": 27,
   "metadata": {},
   "outputs": [],
   "source": [
    "class AAA_Club:\n",
    "    club_name=\"American Auto Association\" #Class Variable\n",
    "    \n",
    "    def __init__(self,name,num):\n",
    "        self.name=name     #instance Variable\n",
    "        self.member_id=num #instance Variable"
   ]
  },
  {
   "cell_type": "code",
   "execution_count": 28,
   "metadata": {},
   "outputs": [
    {
     "name": "stdout",
     "output_type": "stream",
     "text": [
      "American Auto Association\n",
      "John\n",
      "124\n"
     ]
    }
   ],
   "source": [
    "John=AAA_Club(\"John\",123)\n",
    "Bob=AAA_Club(\"Bob\",124)\n",
    "print(AAA_Club.club_name) #className.classVar\n",
    "print(John.name)          \n",
    "print(Bob.member_id) #object.instance Var"
   ]
  },
  {
   "cell_type": "code",
   "execution_count": 12,
   "metadata": {},
   "outputs": [],
   "source": [
    "class A(object):\n",
    "    def foo(self):\n",
    "        print('executing foo')\n",
    "    \n",
    "    @classmethod\n",
    "    def class_foo(cls):\n",
    "        print(\"executing class_foo\")"
   ]
  },
  {
   "cell_type": "code",
   "execution_count": 13,
   "metadata": {},
   "outputs": [
    {
     "name": "stdout",
     "output_type": "stream",
     "text": [
      "executing class_foo\n",
      "executing class_foo\n",
      "executing foo\n",
      "executing class_foo\n"
     ]
    }
   ],
   "source": [
    "a=A()\n",
    "#A.foo()   #error instance func이니까\n",
    "A.class_foo() #class 이름으로 접근가능\n",
    "A.class_foo() #Class-Method class_foo()를 class A에서 콜\n",
    "a.foo() #Instance-Method foo()를 a에서 call\n",
    "a.class_foo()#Class-Method class_foo()를 instance a에서 call"
   ]
  },
  {
   "cell_type": "code",
   "execution_count": 40,
   "metadata": {},
   "outputs": [],
   "source": [
    "class Employee:\n",
    "    'Common base class for all employees'\n",
    "    empCount=0\n",
    "    \n",
    "    def __init__(self,name,salary):\n",
    "        self.name= name\n",
    "        self.salary=salary\n",
    "        Employee.empCount +=1\n",
    "    def displayCount(self):\n",
    "        print(\"Total Employee %d\"%Employee.empCount)\n",
    "    def displayEmployee(self):\n",
    "        print(\"Name : \",self.name ,   \", Salary: \", self.salary)"
   ]
  },
  {
   "cell_type": "code",
   "execution_count": 41,
   "metadata": {},
   "outputs": [
    {
     "name": "stdout",
     "output_type": "stream",
     "text": [
      "Name :  Zara , Salary:  2000\n",
      "Name :  Manni , Salary:  5000\n"
     ]
    }
   ],
   "source": [
    "emp1=Employee(\"Zara\",2000)\n",
    "emp2=Employee(\"Manni\",5000)\n",
    "emp1.displayEmployee()\n",
    "emp2.displayEmployee()"
   ]
  },
  {
   "cell_type": "code",
   "execution_count": 42,
   "metadata": {},
   "outputs": [
    {
     "name": "stdout",
     "output_type": "stream",
     "text": [
      "Total Employee 2\n"
     ]
    }
   ],
   "source": [
    "print(\"Total Employee %d\"%Employee.empCount)"
   ]
  },
  {
   "cell_type": "code",
   "execution_count": 44,
   "metadata": {},
   "outputs": [
    {
     "name": "stdout",
     "output_type": "stream",
     "text": [
      "Employee.__doc__: Common base class for all employees\n",
      "Employee.__name__: Employee\n",
      "Employee.__module__: __main__\n",
      "Employee.__bases__: (<class 'object'>,)\n"
     ]
    }
   ],
   "source": [
    "print(\"Employee.__doc__:\", Employee.__doc__)\n",
    "print(\"Employee.__name__:\", Employee.__name__)\n",
    "print(\"Employee.__module__:\", Employee.__module__)\n",
    "print(\"Employee.__bases__:\", Employee.__bases__)"
   ]
  },
  {
   "cell_type": "code",
   "execution_count": 45,
   "metadata": {},
   "outputs": [
    {
     "name": "stdout",
     "output_type": "stream",
     "text": [
      "Employee.__dict__: {'__module__': '__main__', '__doc__': 'Common base class for all employees', 'empCount': 2, '__init__': <function Employee.__init__ at 0x0000018C348C0B70>, 'displayCount': <function Employee.displayCount at 0x0000018C348C0AE8>, 'displayEmployee': <function Employee.displayEmployee at 0x0000018C330FC488>, '__dict__': <attribute '__dict__' of 'Employee' objects>, '__weakref__': <attribute '__weakref__' of 'Employee' objects>}\n"
     ]
    }
   ],
   "source": [
    "print(\"Employee.__dict__:\", Employee.__dict__)#이 프로그램 안에 있는 모든 심볼"
   ]
  },
  {
   "cell_type": "code",
   "execution_count": 46,
   "metadata": {},
   "outputs": [],
   "source": [
    "emp1.age=7 #Add an 'age' attribute"
   ]
  },
  {
   "cell_type": "code",
   "execution_count": 47,
   "metadata": {},
   "outputs": [],
   "source": [
    "emp1.age=8#Modify an 'age' attribute\n",
    "del emp1.age#Delete an 'age' attribute"
   ]
  },
  {
   "cell_type": "code",
   "execution_count": 48,
   "metadata": {},
   "outputs": [
    {
     "data": {
      "text/plain": [
       "False"
      ]
     },
     "execution_count": 48,
     "metadata": {},
     "output_type": "execute_result"
    }
   ],
   "source": [
    "hasattr(emp1,'age')#Returns True if 'age' attribute exists"
   ]
  },
  {
   "cell_type": "code",
   "execution_count": 50,
   "metadata": {},
   "outputs": [],
   "source": [
    "#getattr(emp1,'age')#Returns Value of 'age' attribute "
   ]
  },
  {
   "cell_type": "code",
   "execution_count": 51,
   "metadata": {},
   "outputs": [],
   "source": [
    "setattr(emp1,'age',8) #Set 'age' at 8"
   ]
  },
  {
   "cell_type": "code",
   "execution_count": 52,
   "metadata": {},
   "outputs": [],
   "source": [
    "delattr(emp1,'age') #Delete 'age'"
   ]
  },
  {
   "cell_type": "code",
   "execution_count": 53,
   "metadata": {},
   "outputs": [],
   "source": [
    "class Person:\n",
    "    age=23\n",
    "    name=\"Adam\""
   ]
  },
  {
   "cell_type": "code",
   "execution_count": 54,
   "metadata": {},
   "outputs": [],
   "source": [
    "person=Person()"
   ]
  },
  {
   "cell_type": "code",
   "execution_count": 55,
   "metadata": {},
   "outputs": [
    {
     "name": "stdout",
     "output_type": "stream",
     "text": [
      "The age is: 23\n"
     ]
    }
   ],
   "source": [
    "print(\"The age is:\", getattr(person,'age'))"
   ]
  },
  {
   "cell_type": "code",
   "execution_count": 56,
   "metadata": {},
   "outputs": [
    {
     "name": "stdout",
     "output_type": "stream",
     "text": [
      "The age is: 23\n"
     ]
    }
   ],
   "source": [
    "print(\"The age is:\", person.age)"
   ]
  },
  {
   "cell_type": "code",
   "execution_count": 57,
   "metadata": {},
   "outputs": [
    {
     "name": "stdout",
     "output_type": "stream",
     "text": [
      "The Sex is : Male\n"
     ]
    }
   ],
   "source": [
    "class Person:\n",
    "    age=23\n",
    "    name=\"Adam\"\n",
    "    \n",
    "person=Person()\n",
    "print(\"The Sex is :\", getattr(person, 'sex','Male'))\n",
    "\n",
    "#print(\"The sex is:\", getattr(person,'sex')) #에러납니다"
   ]
  },
  {
   "cell_type": "code",
   "execution_count": 58,
   "metadata": {},
   "outputs": [
    {
     "name": "stdout",
     "output_type": "stream",
     "text": [
      "Before modification: Adam\n",
      "After modification: John\n"
     ]
    }
   ],
   "source": [
    "class Person:\n",
    "    name='Adam'\n",
    "p=Person()\n",
    "print('Before modification:', p.name)\n",
    "setattr(p,'name','John')\n",
    "print('After modification:', p.name)\n"
   ]
  },
  {
   "cell_type": "code",
   "execution_count": 59,
   "metadata": {},
   "outputs": [
    {
     "name": "stdout",
     "output_type": "stream",
     "text": [
      "Name is: Adam\n"
     ]
    }
   ],
   "source": [
    "class Person:\n",
    "    name='Adam'\n",
    "\n",
    "p=Person()\n",
    "print('Name is:', p.name)"
   ]
  },
  {
   "cell_type": "code",
   "execution_count": 60,
   "metadata": {},
   "outputs": [
    {
     "name": "stdout",
     "output_type": "stream",
     "text": [
      "Age is  23\n"
     ]
    }
   ],
   "source": [
    "setattr(p,'age',23)\n",
    "print('Age is ', p.age)"
   ]
  },
  {
   "cell_type": "code",
   "execution_count": 61,
   "metadata": {},
   "outputs": [],
   "source": [
    "class Parent:\n",
    "    parentAttr=100\n",
    "    def __init__(self):\n",
    "        print(\"Calling parent constructor\")\n",
    "    def parentMethod(self):\n",
    "        print(\"Calling parent method\")\n",
    "    def setAttr(self,attr):\n",
    "        Parent.parentAttr=attr\n",
    "    def getAttr(self):\n",
    "        print(\"Parent attribute :\", Parent.parentAttr)\n",
    "\n",
    "class Child(Parent): #define child class\n",
    "    def __init__(self):\n",
    "        print(\"Callling child constructor\")\n",
    "    def childMethod(self):\n",
    "        print(\"Calling child method\")"
   ]
  },
  {
   "cell_type": "code",
   "execution_count": 62,
   "metadata": {},
   "outputs": [
    {
     "name": "stdout",
     "output_type": "stream",
     "text": [
      "Callling child constructor\n",
      "Calling child method\n",
      "Calling parent method\n",
      "Parent attribute : 200\n"
     ]
    }
   ],
   "source": [
    "c=Child()\n",
    "c.childMethod()\n",
    "c.parentMethod()\n",
    "c.setAttr(200)\n",
    "c.getAttr()"
   ]
  },
  {
   "cell_type": "code",
   "execution_count": 64,
   "metadata": {},
   "outputs": [
    {
     "name": "stdout",
     "output_type": "stream",
     "text": [
      "{'y': 99}\n",
      "{'__module__': '__main__', 'x': 42, '__init__': <function A.__init__ at 0x0000018C348BF0D0>, '__dict__': <attribute '__dict__' of 'A' objects>, '__weakref__': <attribute '__weakref__' of 'A' objects>, '__doc__': None}\n"
     ]
    }
   ],
   "source": [
    "class A(object):\n",
    "    x=42\n",
    "    def __init__(self,y):\n",
    "        self.y=y\n",
    "a=A(99)\n",
    "print(a.__dict__)\n",
    "print(A.__dict__)"
   ]
  },
  {
   "cell_type": "code",
   "execution_count": 65,
   "metadata": {},
   "outputs": [
    {
     "name": "stdout",
     "output_type": "stream",
     "text": [
      "100\n"
     ]
    }
   ],
   "source": [
    "a.__dict__['y']=100\n",
    "print(a.y)#\n",
    "#print(a.__name__)"
   ]
  },
  {
   "cell_type": "code",
   "execution_count": 14,
   "metadata": {},
   "outputs": [],
   "source": [
    "class Vector:\n",
    "    def __init__(self,a,b):\n",
    "        self.a=a\n",
    "        self.b=b        \n",
    "    def __str__(self):  #어떤 object를 print()하기 위해서는 __str__ 가 호출 됨. (str 형태로 반환) ->object를 어떻게 print할지\n",
    "        return 'Vector (%d, %d)' % (self.a, self.b)\n",
    "    def __add__(self,other):\n",
    "        return Vector(self.a+other.a, self.b+other.b)\n",
    "v1=Vector(2,10)\n",
    "v2=Vector(5,-2)\n",
    "# __str__()정의안하고 print()하면 <__main__.Vector object at 0x000001BD3F3FA908> 로 출력됨... 정의가 안됐으니까!"
   ]
  },
  {
   "cell_type": "code",
   "execution_count": 15,
   "metadata": {},
   "outputs": [
    {
     "name": "stdout",
     "output_type": "stream",
     "text": [
      "Vector (7, 8)\n"
     ]
    }
   ],
   "source": [
    "print(v1+v2)"
   ]
  },
  {
   "cell_type": "code",
   "execution_count": 16,
   "metadata": {},
   "outputs": [
    {
     "name": "stdout",
     "output_type": "stream",
     "text": [
      "4/6\n",
      "9/15\n"
     ]
    }
   ],
   "source": [
    "class Fraction(object):\n",
    "    def __init__(self,num,den):\n",
    "        self.num=num\n",
    "        self.den=den\n",
    "    def toString(self):\n",
    "        return str(self.num)+\"/\"+str(self.den)\n",
    "    def add(self,other):\n",
    "        return Fraction(self.num+other.num,self.den+other.den)   #Fraction object로 return\n",
    "f1=Fraction(4,6)   \n",
    "f2=Fraction(5,9)\n",
    "#print(f1)  #__str__ 정의하지 않았으니까 <__main__.Fraction object at 0x000001BD3F4006D8>  출력\n",
    "#print(f1.__str__())\n",
    "print(f1.toString())\n",
    "print(f1.add(f2).toString())"
   ]
  },
  {
   "cell_type": "code",
   "execution_count": 17,
   "metadata": {},
   "outputs": [
    {
     "name": "stdout",
     "output_type": "stream",
     "text": [
      "4/6\n",
      "9/15\n"
     ]
    }
   ],
   "source": [
    "class Fraction(object):\n",
    "    def __init__(self,num,den):\n",
    "        self.num=num\n",
    "        self.den=den\n",
    "    def __str__(self):\n",
    "        return str(self.num)+\"/\"+str(self.den)\n",
    "    def add(self,other):\n",
    "        return Fraction(self.num+other.num,self.den+other.den)   #Fraction object로 return\n",
    "    def __eq__(self,other):  #equality test  ->내가 만든 class 니까 정의가 필요.\n",
    "        return((isinstance(other,Fraction)) and (self.num==other.num) and (self.den==other.den))\n",
    "    def __hash__(self):\n",
    "        hashables=(self.num,self.den)\n",
    "        return hash(hashables)\n",
    "f1=Fraction(4,6)   \n",
    "f2=Fraction(5,9)\n",
    "print(f1)  #OK\n",
    "print(f1.add(f2))\n",
    "f1.__eq__(Fraction(4,6))\n",
    "test=set()\n",
    "test.add(f1)  #OK"
   ]
  },
  {
   "cell_type": "code",
   "execution_count": 18,
   "metadata": {},
   "outputs": [],
   "source": [
    "class Fraction(object):\n",
    "    def __init__(self,num,den):\n",
    "        self.num=num\n",
    "        self.den=den\n",
    "        self.simplify()\n",
    "    \n",
    "    def simplify(self):\n",
    "        g=gcd(self.num,self.den)\n",
    "        self.num=self.num//g\n",
    "        self.den=self.den//g\n",
    "    @staticmethod   \n",
    "    def gcd(a,b):\n",
    "        while(b!=0):\n",
    "            (a,b)=(b,a%b)\n",
    "        return a    "
   ]
  },
  {
   "cell_type": "code",
   "execution_count": 71,
   "metadata": {},
   "outputs": [],
   "source": [
    "class TClass(object):\n",
    "    def __init__(self,x,y):\n",
    "        self.x=x\n",
    "        self.y=y\n",
    "    def foo(self):\n",
    "        return self.x+self.y\n",
    "    def __str__(self):\n",
    "        return (\"Printing the testobject:\\n       object with\"\n",
    "               \" (x: \" + str(self.x) + \" , \" + \"y: \" + str(self.y) + \")\")\n",
    "    def __repr__(self):\n",
    "        return \"Tclass (x = %s, y= %s)\" %(self.x, self.y)"
   ]
  },
  {
   "cell_type": "code",
   "execution_count": 72,
   "metadata": {},
   "outputs": [
    {
     "name": "stdout",
     "output_type": "stream",
     "text": [
      "Printing the testobject:\n",
      "       object with (x: 10 , y: 10)\n"
     ]
    }
   ],
   "source": [
    "testobject=TClass(10,10)\n",
    "print(testobject)"
   ]
  },
  {
   "cell_type": "code",
   "execution_count": 73,
   "metadata": {},
   "outputs": [],
   "source": [
    "class TClass(object):\n",
    "    def __init__(self,x,y):\n",
    "        self.x=x\n",
    "        self.y=y\n",
    "    def foo(self):\n",
    "        return self.x+self.y\n",
    "#    def __str__(self):\n",
    "#        return (\"Printing the testobject:\\n       object with\"\n",
    "#               \" (x: \" + str(self.x) + \" , \" + \"y: \" + str(self.y) + \")\")\n",
    "    def __repr__(self):\n",
    "        return \"Tclass (x = %s, y= %s)\" %(self.x, self.y)"
   ]
  },
  {
   "cell_type": "code",
   "execution_count": 74,
   "metadata": {},
   "outputs": [
    {
     "name": "stdout",
     "output_type": "stream",
     "text": [
      "Tclass (x = 10, y= 10)\n"
     ]
    }
   ],
   "source": [
    "testobject=TClass(10,10)\n",
    "print(testobject)"
   ]
  },
  {
   "cell_type": "code",
   "execution_count": 76,
   "metadata": {},
   "outputs": [
    {
     "name": "stdout",
     "output_type": "stream",
     "text": [
      "4\n",
      "7\n",
      "0\n",
      "3\n"
     ]
    }
   ],
   "source": [
    "my_list=[4,7,0,3]\n",
    "my_iter=iter(my_list)\n",
    "print(next(my_iter))\n",
    "print(next(my_iter))\n",
    "print(my_iter.__next__())\n",
    "print(my_iter.__next__())"
   ]
  },
  {
   "cell_type": "code",
   "execution_count": 78,
   "metadata": {},
   "outputs": [
    {
     "ename": "StopIteration",
     "evalue": "",
     "output_type": "error",
     "traceback": [
      "\u001b[1;31m---------------------------------------------------------------------------\u001b[0m",
      "\u001b[1;31mStopIteration\u001b[0m                             Traceback (most recent call last)",
      "\u001b[1;32m<ipython-input-78-b8e570a56331>\u001b[0m in \u001b[0;36m<module>\u001b[1;34m()\u001b[0m\n\u001b[1;32m----> 1\u001b[1;33m \u001b[0mnext\u001b[0m\u001b[1;33m(\u001b[0m\u001b[0mmy_iter\u001b[0m\u001b[1;33m)\u001b[0m\u001b[1;31m#오류납니다. my_list 이미 다 돌았어요!\u001b[0m\u001b[1;33m\u001b[0m\u001b[0m\n\u001b[0m",
      "\u001b[1;31mStopIteration\u001b[0m: "
     ]
    }
   ],
   "source": [
    "next(my_iter)#오류납니다. my_list 이미 다 돌았어요!"
   ]
  },
  {
   "cell_type": "code",
   "execution_count": 20,
   "metadata": {},
   "outputs": [
    {
     "ename": "TypeError",
     "evalue": "'MyCollection' object is not iterable",
     "output_type": "error",
     "traceback": [
      "\u001b[1;31m---------------------------------------------------------------------------\u001b[0m",
      "\u001b[1;31mTypeError\u001b[0m                                 Traceback (most recent call last)",
      "\u001b[1;32m<ipython-input-20-5fb8a81f5a13>\u001b[0m in \u001b[0;36m<module>\u001b[1;34m()\u001b[0m\n\u001b[0;32m      4\u001b[0m         \u001b[0mself\u001b[0m\u001b[1;33m.\u001b[0m\u001b[0mdata\u001b[0m\u001b[1;33m=\u001b[0m\u001b[0mlist\u001b[0m\u001b[1;33m(\u001b[0m\u001b[0mrange\u001b[0m\u001b[1;33m(\u001b[0m\u001b[0mself\u001b[0m\u001b[1;33m.\u001b[0m\u001b[0msize\u001b[0m\u001b[1;33m)\u001b[0m\u001b[1;33m)\u001b[0m\u001b[1;33m\u001b[0m\u001b[0m\n\u001b[0;32m      5\u001b[0m \u001b[0mcoll\u001b[0m\u001b[1;33m=\u001b[0m\u001b[0mMyCollection\u001b[0m\u001b[1;33m(\u001b[0m\u001b[1;33m)\u001b[0m\u001b[1;33m\u001b[0m\u001b[0m\n\u001b[1;32m----> 6\u001b[1;33m \u001b[1;32mfor\u001b[0m \u001b[0mx\u001b[0m \u001b[1;32min\u001b[0m \u001b[0mcoll\u001b[0m\u001b[1;33m:\u001b[0m\u001b[1;33m\u001b[0m\u001b[0m\n\u001b[0m\u001b[0;32m      7\u001b[0m     \u001b[0mprint\u001b[0m\u001b[1;33m(\u001b[0m\u001b[0mx\u001b[0m\u001b[1;33m)\u001b[0m   \u001b[1;31m#errer : 'MyCollection' object is not iterable\u001b[0m\u001b[1;33m\u001b[0m\u001b[0m\n",
      "\u001b[1;31mTypeError\u001b[0m: 'MyCollection' object is not iterable"
     ]
    }
   ],
   "source": [
    "class MyCollection:\n",
    "    def __init__(self):\n",
    "        self.size=10\n",
    "        self.data=list(range(self.size))\n",
    "coll=MyCollection()\n",
    "for x in coll:\n",
    "    print(x)   #errer : 'MyCollection' object is not iterable"
   ]
  },
  {
   "cell_type": "code",
   "execution_count": 21,
   "metadata": {},
   "outputs": [
    {
     "name": "stdout",
     "output_type": "stream",
     "text": [
      "0\n",
      "1\n",
      "2\n",
      "3\n",
      "4\n",
      "5\n",
      "6\n",
      "7\n",
      "8\n",
      "9\n"
     ]
    }
   ],
   "source": [
    "class MyCollection:\n",
    "    def __init__(self):\n",
    "        self.size=10\n",
    "        self.data=list(range(self.size))\n",
    "    def __iter__(self):\n",
    "        self.index=0\n",
    "        return self\n",
    "    def __next__(self):\n",
    "        if self.index>=self.size:\n",
    "            raise StopIteration\n",
    "        n=self.data[self.index]\n",
    "        self.index+=1\n",
    "        return n\n",
    "    \n",
    "coll=MyCollection()\n",
    "for x in coll:\n",
    "    print(x)   #OK"
   ]
  },
  {
   "cell_type": "code",
   "execution_count": 22,
   "metadata": {},
   "outputs": [
    {
     "data": {
      "text/plain": [
       "0"
      ]
     },
     "execution_count": 22,
     "metadata": {},
     "output_type": "execute_result"
    }
   ],
   "source": [
    "foo=iter(coll)\n",
    "next(foo)"
   ]
  }
 ],
 "metadata": {
  "kernelspec": {
   "display_name": "Python 3",
   "language": "python",
   "name": "python3"
  },
  "language_info": {
   "codemirror_mode": {
    "name": "ipython",
    "version": 3
   },
   "file_extension": ".py",
   "mimetype": "text/x-python",
   "name": "python",
   "nbconvert_exporter": "python",
   "pygments_lexer": "ipython3",
   "version": "3.6.5"
  },
  "varInspector": {
   "cols": {
    "lenName": 16,
    "lenType": 16,
    "lenVar": 40
   },
   "kernels_config": {
    "python": {
     "delete_cmd_postfix": "",
     "delete_cmd_prefix": "del ",
     "library": "var_list.py",
     "varRefreshCmd": "print(var_dic_list())"
    },
    "r": {
     "delete_cmd_postfix": ") ",
     "delete_cmd_prefix": "rm(",
     "library": "var_list.r",
     "varRefreshCmd": "cat(var_dic_list()) "
    }
   },
   "types_to_exclude": [
    "module",
    "function",
    "builtin_function_or_method",
    "instance",
    "_Feature"
   ],
   "window_display": false
  }
 },
 "nbformat": 4,
 "nbformat_minor": 2
}
