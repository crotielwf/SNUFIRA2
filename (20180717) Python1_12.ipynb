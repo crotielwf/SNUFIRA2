{
 "cells": [
  {
   "cell_type": "markdown",
   "metadata": {},
   "source": [
    "# Ch15 Python Object-Oriented Programming\n",
    "- OOP개념과 Python OOP  \n",
    "- Histroy of Programming Languages  \n",
    "- Abstract Data Type  \n",
    "- Python OOP Tutorial  \n",
    "- Motivation behind OOP  \n",
    "- More Formal Way of Python OOP  "
   ]
  },
  {
   "cell_type": "markdown",
   "metadata": {
    "cell_style": "center"
   },
   "source": [
    "### History  \n",
    "Control-oriented programming   \n",
    "1972년 유닉스, C언어 밸랩에서 발표!  \n",
    "\n",
    "83년도에 C++로 진화! 각각 10년씩 해먹다가 Python은 그 틈바구니 언저리인, 91년도에 나옵니다.  \n",
    "여러명이 같이 프로그램을 짤때 C가 문제가 있었기때문에 C++이 사용되었습니다.  \n",
    "문제라고 생각되는 부분들을 정리하고 개선하여 탄생했습니다. 여전히 C입니다.  \n",
    "\n",
    ">Requirements(요구사항)    OOP의 Primary Concer( Requirements~ Design)에 주로 시간을 씁니다.   \n",
    " <->Analysis      \n",
    " <->Design  \n",
    "\n",
    "> <->Programming          Control oriented programming(Programming~ Testing)에 주로 시간을 씁니다  \n",
    " <->Intergration    모아놓은 프로그램들을 합칩니다.     \n",
    " <->Testing     시스템이 다운은 안되는지 여러종류의 테스팅을 합니다.  \n",
    "\n",
    "In Capsulation : class를 만든다는 것입니다.데이터와 함수 같이 쓰기."
   ]
  },
  {
   "cell_type": "markdown",
   "metadata": {},
   "source": [
    "### Abstract Data Type\n",
    "Concept of Abstract Types   \n",
    "Class 잘만드는거, 문제에 필요한 데이터 타입이 뭔지를 아는것이 중요합니다.  \n",
    "\n",
    "data type말고, 옆에서 꿈지럭대는 애들  \n",
    "앞으로 다 같은 말로 사용할 겁니다.  \n",
    "Function= Procedure = Operation =  instance method = method = behavior(of object)  \n",
    "\n",
    "Class는 An abstract data type which define the representation and behavior of objects.   \n",
    "(Class에서 instance 만드는걸 Instantiations 라고 합니다.)   \n",
    "  \n",
    "Representation = Variable = Instance Variable = Structural Part  "
   ]
  },
  {
   "cell_type": "code",
   "execution_count": 1,
   "metadata": {
    "cell_style": "split"
   },
   "outputs": [
    {
     "data": {
      "text/plain": [
       "int"
      ]
     },
     "execution_count": 1,
     "metadata": {},
     "output_type": "execute_result"
    }
   ],
   "source": [
    "type(100)"
   ]
  },
  {
   "cell_type": "code",
   "execution_count": 2,
   "metadata": {
    "cell_style": "split"
   },
   "outputs": [],
   "source": [
    "#<<<<-class에서 object가 태어나는 것: instanciation"
   ]
  },
  {
   "cell_type": "code",
   "execution_count": 3,
   "metadata": {},
   "outputs": [],
   "source": [
    "X=23\n",
    "Y=int(-3)"
   ]
  },
  {
   "cell_type": "markdown",
   "metadata": {},
   "source": [
    "Class의 또다른 장점  \n",
    "Super class와 subclass로 구분하여 사용 가능해요.  \n",
    "  \n",
    "우리가 왜 Class가 필요하냐?  \n",
    "맨날 쓰는거 쓴다 입니다.  \n",
    "자동차 class 쓰는 사람은 자동차와 비슷한 일을 계속해요  \n",
    "  \n",
    "OOP가 나오기 전에는, 맨날 자기가 짜는 코드만 생각을 했었어요.\n",
    "근데 어짜피 몇달뒤건 몇주일 뒤건 간에 이 코드를 가지고 비슷한 일을 할거라면  \n",
    "이 코드를 재사용하는게 중요한데, 그 관점에서보면 C언어는 재사용과는 거의 관계가 없는 문제가 있는 겁니다  \n",
    "그래서 OOP에 코딩하는 행위가 Class를 만드는 것, data type을 만드는게 중요합니다   \n",
    "근데 그걸 재사용할수 있으면 자연스레 코드에다가 CODE re-use를 얻을수가 있구나 해요   \n",
    "  \n",
    "상속하고 상속 받아서 위에 있던 것들을 다 재사용할수있습니다.  \n",
    "필요하다면 subclass안에서 함수를 또 만들어서 사용할 수 있습니다  \n",
    "(상속받는 함수와 같은 이름으로 subclass 안에서 만들면 superclass의 함수는 상속 안 받고, subclass에서 만든걸 씁니다.  )\n",
    "\n",
    "is a 개념은 transitive합니다   \n",
    "A is a B , B is a C이면 A is a C    \n",
    "Class hierarchies(계급)     \n",
    "super Class에서 하나만 고치면 아래 class에서도 다 변경되어 적용됩니다. 편하죠!  \n",
    "  \n",
    "Attribute = variable = instance variable = representation = property = structural part    "
   ]
  },
  {
   "cell_type": "markdown",
   "metadata": {},
   "source": [
    "### Python OOP Tutorial\n"
   ]
  },
  {
   "cell_type": "code",
   "execution_count": 4,
   "metadata": {
    "cell_style": "split"
   },
   "outputs": [
    {
     "name": "stdout",
     "output_type": "stream",
     "text": [
      "ham\n"
     ]
    },
    {
     "data": {
      "text/plain": [
       "__main__.inheritingClass"
      ]
     },
     "execution_count": 4,
     "metadata": {},
     "output_type": "execute_result"
    }
   ],
   "source": [
    "class BaseClass(object):\n",
    "    def printHam(self): \n",
    "        print('ham')\n",
    "class inheritingClass(BaseClass):\n",
    "    pass\n",
    "x=inheritingClass()\n",
    "x.printHam()\n",
    "type(x)"
   ]
  },
  {
   "cell_type": "markdown",
   "metadata": {
    "cell_style": "split"
   },
   "source": [
    "#simple inheritance example\n",
    "\n",
    "나는 이 baseclass 안에서만 활용하는 놈이야! self 입니다  \n",
    "\n",
    "inhertting class는 BaseClass를 받는 아이입니다\n",
    "  \n",
    "일반적으로 Class이름은 첫글자 대문자로 쓰는게 대부분입니다.\n",
    "   \n",
    "        "
   ]
  },
  {
   "cell_type": "code",
   "execution_count": 5,
   "metadata": {
    "cell_style": "center"
   },
   "outputs": [],
   "source": [
    "class Test:\n",
    "    pass\n",
    "x=Test() #x가 앉아있는 위치의 맨 앞자리를 가지고있어요 "
   ]
  },
  {
   "cell_type": "code",
   "execution_count": 6,
   "metadata": {
    "cell_style": "split"
   },
   "outputs": [],
   "source": [
    "class Ph():\n",
    "    def printHam():\n",
    "        print('ham')"
   ]
  },
  {
   "cell_type": "markdown",
   "metadata": {
    "cell_style": "split"
   },
   "source": [
    " self가 없기때문에 x=Ph하고 x.printHam()하면 오류가나와요  \n",
    " self가 없기때문에 파이썬이 이해를 못해요  \n",
    " x라는 object에 있는 printHam을 수행하라인데 속해있는게 없어요.  \n",
    " self가 있어야 속해있다 라는 것이 표현 되는 겁니다.   \n",
    " \n",
    " class 안에 함수가 있는데  \n",
    " 함수 안에 클래스안에 다른변수들을 가리킬때  \n",
    "인스턴스를 만들면 그 안에 변수랑 함수가있는데   \n",
    "자기 자신 안에있는 다른 함수나 변수를 참조를 하려면   \n",
    "어디있는지를 모릅니다.  \n",
    "self를 붙이면 자기자신을 참조한다는 뜻이 됩니다.  \n",
    " "
   ]
  },
  {
   "cell_type": "code",
   "execution_count": 11,
   "metadata": {},
   "outputs": [],
   "source": [
    "class Ph():\n",
    "    def printHam(self) :\n",
    "        print('Ham')"
   ]
  },
  {
   "cell_type": "code",
   "execution_count": 13,
   "metadata": {
    "cell_style": "split"
   },
   "outputs": [
    {
     "name": "stdout",
     "output_type": "stream",
     "text": [
      "Ham\n"
     ]
    }
   ],
   "source": [
    "x=Ph()\n",
    "x.printHam()"
   ]
  },
  {
   "cell_type": "markdown",
   "metadata": {
    "cell_style": "split"
   },
   "source": [
    "인스턴스 생성 = Instanciation  \n",
    "Object에 속한 함수들의 선언에는  \n",
    "\"self\"가 1st Parameter로 있어야합니다.  "
   ]
  },
  {
   "cell_type": "code",
   "execution_count": 8,
   "metadata": {},
   "outputs": [
    {
     "name": "stdout",
     "output_type": "stream",
     "text": [
      "Ham\n",
      "5\n"
     ]
    }
   ],
   "source": [
    "class Ph():\n",
    "    def __init__(self):\n",
    "        self.y=5\n",
    "        z=5\n",
    "    def printHam(self):\n",
    "        print(\"Ham\")\n",
    "x=Ph()\n",
    "x.printHam()\n",
    "print(x.y)\n",
    "#print(x.z) 얘는 오류납니다."
   ]
  },
  {
   "cell_type": "code",
   "execution_count": 9,
   "metadata": {
    "cell_style": "split"
   },
   "outputs": [],
   "source": [
    "class Hero:\n",
    "    def __init__(self,name): \n",
    "        print(\"오예\")\n",
    "        self.name=name\n",
    "        self.health=100\n",
    "    def eat(self,food):\n",
    "        if(food=='apple'):\n",
    "            self.health-=100\n",
    "        elif(food=='ham'):\n",
    "            self.health +=20"
   ]
  },
  {
   "cell_type": "markdown",
   "metadata": {
    "cell_style": "split"
   },
   "source": [
    "Object에 속한 instance variable들의 선언은  \n",
    "_ _ init _ _ (self) function의 속에서 이루어져야 함.  \n",
    "\n",
    "_ _ init _ _ 에서 변수를 선언하는 경우가 많아요  \n",
    "class를 만들면 _ _ init _ _ 에 있는건 같이 동시에 만들어집니다.  \n",
    "꼭 필요한 것들은 클래스 생성과 동시에 같이 만들라는 겁니다.  \n",
    "같이 수행하라는 겁니다.  "
   ]
  },
  {
   "cell_type": "code",
   "execution_count": 10,
   "metadata": {
    "cell_style": "center"
   },
   "outputs": [
    {
     "name": "stdout",
     "output_type": "stream",
     "text": [
      "오예\n",
      "Bob\n",
      "100\n",
      "120\n",
      "20\n"
     ]
    }
   ],
   "source": [
    "Bob=Hero(\"Bob\")\n",
    "print(Bob.name)\n",
    "print(Bob.health)\n",
    "Bob.eat('ham')\n",
    "print(Bob.health)\n",
    "Bob.eat('apple')\n",
    "print(Bob.health)"
   ]
  },
  {
   "cell_type": "markdown",
   "metadata": {},
   "source": [
    "instance를 위한 함수다 해서 instance function이다 해요.   \n",
    "( . ) 붙여서 쓰는 함수요.  \n",
    "instance variable 이라고도 instance function이라고도 해요.\n",
    "(_ _ init _ _ 안에 들어가는 아이들)  \n",
    "  \n",
    "class function 혹은 \n",
    "class variable 이라고도 합니다.\n",
    "(class 속에 있는 변수들)"
   ]
  },
  {
   "cell_type": "code",
   "execution_count": 38,
   "metadata": {},
   "outputs": [],
   "source": [
    "class Service:\n",
    "    secret='영구는 배꼽이 두 개다.' #유용한 정보 \n",
    "    def sum(self, a,b): #더하기 서비스\n",
    "        result = a+ b\n",
    "        print(\"%s + %s = %s 입니다.\"%(a,b,result))#string reformatting (숫자를 문자로 바꿔줬어요)\n",
    "        \n",
    "#class 전체가 공유하고 있는 variable을 class variable이라고 해요\n",
    "#secret이 Class variable 입니다.\n",
    "#Question. __init__에 있는 아이들은 전체가 공유하지 않는건가요? 네 공유 안해요."
   ]
  },
  {
   "cell_type": "code",
   "execution_count": 25,
   "metadata": {},
   "outputs": [
    {
     "name": "stdout",
     "output_type": "stream",
     "text": [
      "5 + 7 = 12 입니다.\n"
     ]
    }
   ],
   "source": [
    "pey=Service()\n",
    "pey.sum(5,7)"
   ]
  },
  {
   "cell_type": "code",
   "execution_count": 37,
   "metadata": {},
   "outputs": [],
   "source": [
    "#개선한 Service\n",
    "class Service:\n",
    "    secret = \"영구는 배꼽이 두 개다\"\n",
    "    def __init__(self,name): #이름이 생겼어요\n",
    "        self.name=name\n",
    "    def sum(self,a,b):\n",
    "        result= a+b\n",
    "        print(\"%s님 %s + %s = %s입니다\"%(self.name,a,b,result))\n",
    "        \n",
    "#instance method = class function?? 다릅니다\n",
    "#class 함수는 이제부터 class함수 선언할거야 하고 만들어줍니다.\n",
    "#접근권한이 달라져요 instance 생성하고 부를수있는가 없는가가 정해집니다."
   ]
  },
  {
   "cell_type": "code",
   "execution_count": 29,
   "metadata": {},
   "outputs": [
    {
     "name": "stdout",
     "output_type": "stream",
     "text": [
      "홍길동님 1 + 1 = 2입니다\n"
     ]
    }
   ],
   "source": [
    "pey=Service(\"홍길동\")\n",
    "pey.sum(1,1)"
   ]
  },
  {
   "cell_type": "code",
   "execution_count": 30,
   "metadata": {},
   "outputs": [
    {
     "data": {
      "text/plain": [
       "'영구는 배꼽이 두 개다'"
      ]
     },
     "execution_count": 30,
     "metadata": {},
     "output_type": "execute_result"
    }
   ],
   "source": [
    "pey.secret"
   ]
  },
  {
   "cell_type": "code",
   "execution_count": 31,
   "metadata": {},
   "outputs": [
    {
     "data": {
      "text/plain": [
       "'홍길동'"
      ]
     },
     "execution_count": 31,
     "metadata": {},
     "output_type": "execute_result"
    }
   ],
   "source": [
    "pey.name"
   ]
  },
  {
   "cell_type": "code",
   "execution_count": 32,
   "metadata": {},
   "outputs": [
    {
     "data": {
      "text/plain": [
       "'영구는 배꼽이 두 개다'"
      ]
     },
     "execution_count": 32,
     "metadata": {},
     "output_type": "execute_result"
    }
   ],
   "source": [
    "Service.secret"
   ]
  },
  {
   "cell_type": "code",
   "execution_count": 34,
   "metadata": {},
   "outputs": [],
   "source": [
    "#Servuce.name  Not allowed"
   ]
  },
  {
   "cell_type": "code",
   "execution_count": 36,
   "metadata": {},
   "outputs": [
    {
     "data": {
      "text/plain": [
       "'영구는 배꼽이 세개다'"
      ]
     },
     "execution_count": 36,
     "metadata": {},
     "output_type": "execute_result"
    }
   ],
   "source": [
    "Service.secret='영구는 배꼽이 세개다'\n",
    "pey.secret \n",
    "#클래스변수는 instance가 여러개 생성되었을때 한번에 다루는 것이 가능하다.\n",
    "#이미 생성된 instance라도 같이 변한다."
   ]
  }
 ],
 "metadata": {
  "kernelspec": {
   "display_name": "Python 3",
   "language": "python",
   "name": "python3"
  },
  "language_info": {
   "codemirror_mode": {
    "name": "ipython",
    "version": 3
   },
   "file_extension": ".py",
   "mimetype": "text/x-python",
   "name": "python",
   "nbconvert_exporter": "python",
   "pygments_lexer": "ipython3",
   "version": "3.6.5"
  },
  "varInspector": {
   "cols": {
    "lenName": 16,
    "lenType": 16,
    "lenVar": 40
   },
   "kernels_config": {
    "python": {
     "delete_cmd_postfix": "",
     "delete_cmd_prefix": "del ",
     "library": "var_list.py",
     "varRefreshCmd": "print(var_dic_list())"
    },
    "r": {
     "delete_cmd_postfix": ") ",
     "delete_cmd_prefix": "rm(",
     "library": "var_list.r",
     "varRefreshCmd": "cat(var_dic_list()) "
    }
   },
   "oldHeight": 150.72,
   "position": {
    "height": "172px",
    "left": "772.34px",
    "right": "20px",
    "top": "108px",
    "width": "440px"
   },
   "types_to_exclude": [
    "module",
    "function",
    "builtin_function_or_method",
    "instance",
    "_Feature"
   ],
   "varInspector_section_display": "block",
   "window_display": false
  }
 },
 "nbformat": 4,
 "nbformat_minor": 2
}
